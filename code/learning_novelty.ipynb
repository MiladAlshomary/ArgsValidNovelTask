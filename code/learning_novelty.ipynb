{
 "cells": [
  {
   "cell_type": "markdown",
   "metadata": {},
   "source": [
    "### Baselines:\n",
    "- BERT-based classifier trained on the data\n",
    "- Some form of siamese-nn\n",
    "\n",
    "### Ideas:\n",
    "- ..."
   ]
  },
  {
   "cell_type": "code",
   "execution_count": 4,
   "metadata": {},
   "outputs": [],
   "source": [
    "import json\n",
    "import pandas as pd\n",
    "import numpy as np\n",
    "import sys\n",
    "\n",
    "pd.set_option('display.max_colwidth', None)\n",
    "sys.path.append('./src-py')"
   ]
  },
  {
   "cell_type": "code",
   "execution_count": 10,
   "metadata": {},
   "outputs": [],
   "source": [
    "import sbert_training\n",
    "from utils import *"
   ]
  },
  {
   "cell_type": "code",
   "execution_count": 7,
   "metadata": {},
   "outputs": [],
   "source": [
    "from datasets import load_dataset, load_metric, Dataset, Split\n",
    "from transformers import AutoModelForSeq2SeqLM, DataCollatorForSeq2Seq, Seq2SeqTrainingArguments, Seq2SeqTrainer, AutoTokenizer, AutoModelForSequenceClassification, TextClassificationPipeline, DebertaForSequenceClassification\n",
    "from transformers import TrainingArguments, Trainer\n",
    "import wandb\n",
    "import torch\n",
    "from tqdm import tqdm"
   ]
  },
  {
   "cell_type": "code",
   "execution_count": 8,
   "metadata": {},
   "outputs": [],
   "source": [
    "output_path = \"../../data-ceph/arguana/argmining22-sharedtask/models/\""
   ]
  },
  {
   "cell_type": "code",
   "execution_count": 5,
   "metadata": {},
   "outputs": [],
   "source": [
    "taska_training_df = pd.read_csv('../data/TaskA_train.csv')\n",
    "taska_valid_df = pd.read_csv('../data/TaskA_dev.csv')"
   ]
  },
  {
   "cell_type": "code",
   "execution_count": 6,
   "metadata": {},
   "outputs": [],
   "source": [
    "taska_training_df = taska_training_df[taska_training_df.Novelty != 0]\n",
    "taska_valid_df = taska_valid_df[taska_valid_df.Novelty != 0]"
   ]
  },
  {
   "cell_type": "code",
   "execution_count": 7,
   "metadata": {},
   "outputs": [],
   "source": [
    "taska_training_df['input_txt'] = taska_training_df.apply(lambda x: '<s> {}:{} </s></s> {} </s>'.format(x['topic'], x['Premise'], x['Conclusion']), axis=1)\n",
    "taska_valid_df['input_txt'] = taska_valid_df.apply(lambda x: '<s> {}:{} </s></s> {} </s>'.format(x['topic'], x['Premise'], x['Conclusion']), axis=1)"
   ]
  },
  {
   "cell_type": "code",
   "execution_count": 13,
   "metadata": {},
   "outputs": [
    {
     "data": {
      "text/plain": [
       "{'f1_validity': 0.6666666666666666,\n",
       " 'f1_novelty': 0.0,\n",
       " 'f1_valid_novel': 0.0,\n",
       " 'f1_valid_nonnovel': 0.6666666666666666,\n",
       " 'f1_nonvalid_novel': 0.0,\n",
       " 'f1_nonvalid_nonnovel': 0.0,\n",
       " 'f1_macro': 0.16666666666666666}"
      ]
     },
     "execution_count": 13,
     "metadata": {},
     "output_type": "execute_result"
    }
   ],
   "source": [
    "val_nov_metric(np.array([0.5, 0.5]), np.array([1,0]), np.array([0,0]), np.array([0,0]))"
   ]
  },
  {
   "cell_type": "markdown",
   "metadata": {
    "jp-MarkdownHeadingCollapsed": true,
    "tags": []
   },
   "source": [
    "## Fine-tune the NLI model on the training data:"
   ]
  },
  {
   "cell_type": "code",
   "execution_count": 8,
   "metadata": {
    "scrolled": true,
    "tags": []
   },
   "outputs": [
    {
     "name": "stderr",
     "output_type": "stream",
     "text": [
      "Some weights of the model checkpoint at microsoft/deberta-base-mnli were not used when initializing DebertaForSequenceClassification: ['config']\n",
      "- This IS expected if you are initializing DebertaForSequenceClassification from the checkpoint of a model trained on another task or with another architecture (e.g. initializing a BertForSequenceClassification model from a BertForPreTraining model).\n",
      "- This IS NOT expected if you are initializing DebertaForSequenceClassification from the checkpoint of a model that you expect to be exactly identical (initializing a BertForSequenceClassification model from a BertForSequenceClassification model).\n"
     ]
    }
   ],
   "source": [
    "nli_tokenizer = AutoTokenizer.from_pretrained('microsoft/deberta-base-mnli')\n",
    "nli_model     = AutoModelForSequenceClassification.from_pretrained('microsoft/deberta-base-mnli')\n",
    "arg_stance_pipeline = TextClassificationPipeline(model=nli_model, tokenizer=nli_tokenizer, framework='pt', task='validity_classifier', device=0)"
   ]
  },
  {
   "cell_type": "code",
   "execution_count": 9,
   "metadata": {},
   "outputs": [],
   "source": [
    "train_dataset = Dataset.from_pandas(taska_training_df)\n",
    "eval_dataset = Dataset.from_pandas(taska_valid_df)"
   ]
  },
  {
   "cell_type": "code",
   "execution_count": 10,
   "metadata": {},
   "outputs": [
    {
     "data": {
      "text/plain": [
       "{0: 'CONTRADICTION', 1: 'NEUTRAL', 2: 'ENTAILMENT'}"
      ]
     },
     "execution_count": 10,
     "metadata": {},
     "output_type": "execute_result"
    }
   ],
   "source": [
    "nli_model.config.id2label"
   ]
  },
  {
   "cell_type": "code",
   "execution_count": 11,
   "metadata": {},
   "outputs": [],
   "source": [
    "novelty_map = dict([\n",
    "    (1, 1), # if novel -> neutral label\n",
    "    (-1, 2) # not novel -> entailment label\n",
    "])"
   ]
  },
  {
   "cell_type": "code",
   "execution_count": 12,
   "metadata": {},
   "outputs": [],
   "source": [
    "inverse_novelty_map = dict([\n",
    "    (2,-1),\n",
    "    (1,1),\n",
    "    (0,1) \n",
    "])"
   ]
  },
  {
   "cell_type": "code",
   "execution_count": 13,
   "metadata": {},
   "outputs": [],
   "source": [
    "def preprocess(example):\n",
    "    inputs = nli_tokenizer(example[\"input_txt\"], add_special_tokens=False, padding=True, max_length=512)\n",
    "    inputs['labels'] = list(map(novelty_map.get, example['Novelty']))\n",
    "    return inputs"
   ]
  },
  {
   "cell_type": "code",
   "execution_count": 14,
   "metadata": {},
   "outputs": [
    {
     "name": "stdout",
     "output_type": "stream",
     "text": [
      "2022-07-20 15:52:34 - Parameter 'function'=<function preprocess at 0x7fbed775daf0> of the transform datasets.arrow_dataset.Dataset._map_single couldn't be hashed properly, a random hash was used instead. Make sure your transforms and parameters are serializable with pickle or dill for the dataset fingerprinting and caching to work. If you reuse this transform, the caching mechanism will consider it to be different from the previous calls and recompute everything. This warning is only showed once. Subsequent hashing failures won't be showed.\n"
     ]
    },
    {
     "data": {
      "application/vnd.jupyter.widget-view+json": {
       "model_id": "68214b9074cb4222adde45f5227ea65d",
       "version_major": 2,
       "version_minor": 0
      },
      "text/plain": [
       "  0%|          | 0/1 [00:00<?, ?ba/s]"
      ]
     },
     "metadata": {},
     "output_type": "display_data"
    },
    {
     "name": "stderr",
     "output_type": "stream",
     "text": [
      "/usr/local/lib/python3.8/dist-packages/transformers/tokenization_utils_base.py:2279: UserWarning: `max_length` is ignored when `padding`=`True` and there is no truncation strategy. To pad to max length, use `padding='max_length'`.\n",
      "  warnings.warn(\n"
     ]
    },
    {
     "data": {
      "application/vnd.jupyter.widget-view+json": {
       "model_id": "97f64442afaf4d208fef1724767f6449",
       "version_major": 2,
       "version_minor": 0
      },
      "text/plain": [
       "  0%|          | 0/1 [00:00<?, ?ba/s]"
      ]
     },
     "metadata": {},
     "output_type": "display_data"
    }
   ],
   "source": [
    "train_dataset = train_dataset.map(preprocess, batched=True)\n",
    "eval_dataset = eval_dataset.map(preprocess, batched=True)"
   ]
  },
  {
   "cell_type": "code",
   "execution_count": 15,
   "metadata": {},
   "outputs": [],
   "source": [
    "training_args = TrainingArguments(\n",
    "    output_dir= output_path + \"/task-A/novelty/classification/nli-model\", \n",
    "    report_to=\"wandb\",\n",
    "    overwrite_output_dir=True,\n",
    "    metric_for_best_model = 'f1',\n",
    "    evaluation_strategy = 'steps',          # check evaluation metrics at each epoch\n",
    "    learning_rate = 5e-5,                   # we can customize learning rate\n",
    "    max_steps = 200, # five epochs\n",
    "    logging_steps = 50,                    # we will log every 50 steps which is an epoch given the 700 examples and 16 batch size\n",
    "    eval_steps = 50,                      # we will perform evaluation every 500 steps\n",
    "    save_steps = 50,\n",
    "    load_best_model_at_end = True,\n",
    ")"
   ]
  },
  {
   "cell_type": "code",
   "execution_count": 16,
   "metadata": {},
   "outputs": [
    {
     "name": "stderr",
     "output_type": "stream",
     "text": [
      "max_steps is given, it will override any value given in num_train_epochs\n"
     ]
    }
   ],
   "source": [
    "trainer = Trainer(\n",
    "    model=nli_model,\n",
    "    args=training_args,\n",
    "    train_dataset=train_dataset,\n",
    "    eval_dataset=eval_dataset,\n",
    "    compute_metrics=compute_nli_metrics\n",
    ")"
   ]
  },
  {
   "cell_type": "code",
   "execution_count": 17,
   "metadata": {
    "scrolled": true,
    "tags": []
   },
   "outputs": [
    {
     "name": "stderr",
     "output_type": "stream",
     "text": [
      "The following columns in the training set  don't have a corresponding argument in `DebertaForSequenceClassification.forward` and have been ignored: Premise, topic, Validity-Confidence, Novelty-Confidence, input_txt, Novelty, __index_level_0__, Validity, Conclusion. If Premise, topic, Validity-Confidence, Novelty-Confidence, input_txt, Novelty, __index_level_0__, Validity, Conclusion are not expected by `DebertaForSequenceClassification.forward`,  you can safely ignore this message.\n",
      "/usr/local/lib/python3.8/dist-packages/transformers/optimization.py:306: FutureWarning: This implementation of AdamW is deprecated and will be removed in a future version. Use the PyTorch implementation torch.optim.AdamW instead, or set `no_deprecation_warning=True` to disable this warning\n",
      "  warnings.warn(\n",
      "***** Running training *****\n",
      "  Num examples = 718\n",
      "  Num Epochs = 5\n",
      "  Instantaneous batch size per device = 8\n",
      "  Total train batch size (w. parallel, distributed & accumulation) = 16\n",
      "  Gradient Accumulation steps = 1\n",
      "  Total optimization steps = 200\n",
      "Automatic Weights & Biases logging enabled, to disable set os.environ[\"WANDB_DISABLED\"] = \"true\"\n",
      "\u001b[34m\u001b[1mwandb\u001b[0m: Currently logged in as: \u001b[33mmiladalsh\u001b[0m. Use \u001b[1m`wandb login --relogin`\u001b[0m to force relogin\n"
     ]
    },
    {
     "data": {
      "text/html": [
       "wandb version 0.12.21 is available!  To upgrade, please run:\n",
       " $ pip install wandb --upgrade"
      ],
      "text/plain": [
       "<IPython.core.display.HTML object>"
      ]
     },
     "metadata": {},
     "output_type": "display_data"
    },
    {
     "data": {
      "text/html": [
       "Tracking run with wandb version 0.12.20"
      ],
      "text/plain": [
       "<IPython.core.display.HTML object>"
      ]
     },
     "metadata": {},
     "output_type": "display_data"
    },
    {
     "data": {
      "text/html": [
       "Run data is saved locally in <code>/home/sile2804/ArgsValidNovel/code/wandb/run-20220720_155235-34akua8a</code>"
      ],
      "text/plain": [
       "<IPython.core.display.HTML object>"
      ]
     },
     "metadata": {},
     "output_type": "display_data"
    },
    {
     "data": {
      "text/html": [
       "Syncing run <strong><a href=\"https://wandb.ai/miladalsh/huggingface/runs/34akua8a\" target=\"_blank\">../../data-ceph/arguana/argmining22-sharedtask/models//task-A/novelty/classification/nli-model</a></strong> to <a href=\"https://wandb.ai/miladalsh/huggingface\" target=\"_blank\">Weights & Biases</a> (<a href=\"https://wandb.me/run\" target=\"_blank\">docs</a>)<br/>"
      ],
      "text/plain": [
       "<IPython.core.display.HTML object>"
      ]
     },
     "metadata": {},
     "output_type": "display_data"
    },
    {
     "name": "stderr",
     "output_type": "stream",
     "text": [
      "/usr/local/lib/python3.8/dist-packages/torch/nn/parallel/_functions.py:68: UserWarning: Was asked to gather along dimension 0, but all input tensors were scalars; will instead unsqueeze and return a vector.\n",
      "  warnings.warn('Was asked to gather along dimension 0, but all '\n"
     ]
    },
    {
     "data": {
      "text/html": [
       "\n",
       "    <div>\n",
       "      \n",
       "      <progress value='200' max='200' style='width:300px; height:20px; vertical-align: middle;'></progress>\n",
       "      [200/200 00:31, Epoch 4/5]\n",
       "    </div>\n",
       "    <table border=\"1\" class=\"dataframe\">\n",
       "  <thead>\n",
       " <tr style=\"text-align: left;\">\n",
       "      <th>Step</th>\n",
       "      <th>Training Loss</th>\n",
       "      <th>Validation Loss</th>\n",
       "      <th>Recall</th>\n",
       "      <th>Precision</th>\n",
       "      <th>F1</th>\n",
       "    </tr>\n",
       "  </thead>\n",
       "  <tbody>\n",
       "    <tr>\n",
       "      <td>50</td>\n",
       "      <td>0.504500</td>\n",
       "      <td>0.597112</td>\n",
       "      <td>0.983051</td>\n",
       "      <td>0.651685</td>\n",
       "      <td>0.783784</td>\n",
       "    </tr>\n",
       "    <tr>\n",
       "      <td>100</td>\n",
       "      <td>0.317600</td>\n",
       "      <td>0.727261</td>\n",
       "      <td>0.906780</td>\n",
       "      <td>0.681529</td>\n",
       "      <td>0.778182</td>\n",
       "    </tr>\n",
       "    <tr>\n",
       "      <td>150</td>\n",
       "      <td>0.171500</td>\n",
       "      <td>1.678869</td>\n",
       "      <td>1.000000</td>\n",
       "      <td>0.627660</td>\n",
       "      <td>0.771242</td>\n",
       "    </tr>\n",
       "    <tr>\n",
       "      <td>200</td>\n",
       "      <td>0.072700</td>\n",
       "      <td>1.351955</td>\n",
       "      <td>0.957627</td>\n",
       "      <td>0.684848</td>\n",
       "      <td>0.798587</td>\n",
       "    </tr>\n",
       "  </tbody>\n",
       "</table><p>"
      ],
      "text/plain": [
       "<IPython.core.display.HTML object>"
      ]
     },
     "metadata": {},
     "output_type": "display_data"
    },
    {
     "name": "stderr",
     "output_type": "stream",
     "text": [
      "The following columns in the evaluation set  don't have a corresponding argument in `DebertaForSequenceClassification.forward` and have been ignored: Premise, topic, Validity-Confidence, Novelty-Confidence, input_txt, Novelty, __index_level_0__, Validity, Conclusion. If Premise, topic, Validity-Confidence, Novelty-Confidence, input_txt, Novelty, __index_level_0__, Validity, Conclusion are not expected by `DebertaForSequenceClassification.forward`,  you can safely ignore this message.\n",
      "***** Running Evaluation *****\n",
      "  Num examples = 200\n",
      "  Batch size = 8\n",
      "Saving model checkpoint to ../../data-ceph/arguana/argmining22-sharedtask/models//task-A/novelty/classification/nli-model/checkpoint-50\n",
      "Configuration saved in ../../data-ceph/arguana/argmining22-sharedtask/models//task-A/novelty/classification/nli-model/checkpoint-50/config.json\n",
      "Model weights saved in ../../data-ceph/arguana/argmining22-sharedtask/models//task-A/novelty/classification/nli-model/checkpoint-50/pytorch_model.bin\n",
      "/usr/local/lib/python3.8/dist-packages/torch/nn/parallel/_functions.py:68: UserWarning: Was asked to gather along dimension 0, but all input tensors were scalars; will instead unsqueeze and return a vector.\n",
      "  warnings.warn('Was asked to gather along dimension 0, but all '\n",
      "The following columns in the evaluation set  don't have a corresponding argument in `DebertaForSequenceClassification.forward` and have been ignored: Premise, topic, Validity-Confidence, Novelty-Confidence, input_txt, Novelty, __index_level_0__, Validity, Conclusion. If Premise, topic, Validity-Confidence, Novelty-Confidence, input_txt, Novelty, __index_level_0__, Validity, Conclusion are not expected by `DebertaForSequenceClassification.forward`,  you can safely ignore this message.\n",
      "***** Running Evaluation *****\n",
      "  Num examples = 200\n",
      "  Batch size = 8\n",
      "Saving model checkpoint to ../../data-ceph/arguana/argmining22-sharedtask/models//task-A/novelty/classification/nli-model/checkpoint-100\n",
      "Configuration saved in ../../data-ceph/arguana/argmining22-sharedtask/models//task-A/novelty/classification/nli-model/checkpoint-100/config.json\n",
      "Model weights saved in ../../data-ceph/arguana/argmining22-sharedtask/models//task-A/novelty/classification/nli-model/checkpoint-100/pytorch_model.bin\n",
      "/usr/local/lib/python3.8/dist-packages/torch/nn/parallel/_functions.py:68: UserWarning: Was asked to gather along dimension 0, but all input tensors were scalars; will instead unsqueeze and return a vector.\n",
      "  warnings.warn('Was asked to gather along dimension 0, but all '\n",
      "The following columns in the evaluation set  don't have a corresponding argument in `DebertaForSequenceClassification.forward` and have been ignored: Premise, topic, Validity-Confidence, Novelty-Confidence, input_txt, Novelty, __index_level_0__, Validity, Conclusion. If Premise, topic, Validity-Confidence, Novelty-Confidence, input_txt, Novelty, __index_level_0__, Validity, Conclusion are not expected by `DebertaForSequenceClassification.forward`,  you can safely ignore this message.\n",
      "***** Running Evaluation *****\n",
      "  Num examples = 200\n",
      "  Batch size = 8\n",
      "Saving model checkpoint to ../../data-ceph/arguana/argmining22-sharedtask/models//task-A/novelty/classification/nli-model/checkpoint-150\n",
      "Configuration saved in ../../data-ceph/arguana/argmining22-sharedtask/models//task-A/novelty/classification/nli-model/checkpoint-150/config.json\n",
      "Model weights saved in ../../data-ceph/arguana/argmining22-sharedtask/models//task-A/novelty/classification/nli-model/checkpoint-150/pytorch_model.bin\n",
      "/usr/local/lib/python3.8/dist-packages/torch/nn/parallel/_functions.py:68: UserWarning: Was asked to gather along dimension 0, but all input tensors were scalars; will instead unsqueeze and return a vector.\n",
      "  warnings.warn('Was asked to gather along dimension 0, but all '\n",
      "The following columns in the evaluation set  don't have a corresponding argument in `DebertaForSequenceClassification.forward` and have been ignored: Premise, topic, Validity-Confidence, Novelty-Confidence, input_txt, Novelty, __index_level_0__, Validity, Conclusion. If Premise, topic, Validity-Confidence, Novelty-Confidence, input_txt, Novelty, __index_level_0__, Validity, Conclusion are not expected by `DebertaForSequenceClassification.forward`,  you can safely ignore this message.\n",
      "***** Running Evaluation *****\n",
      "  Num examples = 200\n",
      "  Batch size = 8\n",
      "Saving model checkpoint to ../../data-ceph/arguana/argmining22-sharedtask/models//task-A/novelty/classification/nli-model/checkpoint-200\n",
      "Configuration saved in ../../data-ceph/arguana/argmining22-sharedtask/models//task-A/novelty/classification/nli-model/checkpoint-200/config.json\n",
      "Model weights saved in ../../data-ceph/arguana/argmining22-sharedtask/models//task-A/novelty/classification/nli-model/checkpoint-200/pytorch_model.bin\n",
      "\n",
      "\n",
      "Training completed. Do not forget to share your model on huggingface.co/models =)\n",
      "\n",
      "\n",
      "Loading best model from ../../data-ceph/arguana/argmining22-sharedtask/models//task-A/novelty/classification/nli-model/checkpoint-200 (score: 0.7985865724381626).\n"
     ]
    },
    {
     "data": {
      "text/plain": [
       "TrainOutput(global_step=200, training_loss=0.26656726002693176, metrics={'train_runtime': 37.5894, 'train_samples_per_second': 85.13, 'train_steps_per_second': 5.321, 'total_flos': 237020932814400.0, 'train_loss': 0.26656726002693176, 'epoch': 4.44})"
      ]
     },
     "execution_count": 17,
     "metadata": {},
     "output_type": "execute_result"
    }
   ],
   "source": [
    "trainer.train()"
   ]
  },
  {
   "cell_type": "code",
   "execution_count": 18,
   "metadata": {},
   "outputs": [
    {
     "name": "stderr",
     "output_type": "stream",
     "text": [
      "The following columns in the evaluation set  don't have a corresponding argument in `DebertaForSequenceClassification.forward` and have been ignored: Premise, topic, Validity-Confidence, Novelty-Confidence, input_txt, Novelty, __index_level_0__, Validity, Conclusion. If Premise, topic, Validity-Confidence, Novelty-Confidence, input_txt, Novelty, __index_level_0__, Validity, Conclusion are not expected by `DebertaForSequenceClassification.forward`,  you can safely ignore this message.\n",
      "***** Running Evaluation *****\n",
      "  Num examples = 200\n",
      "  Batch size = 8\n",
      "/usr/local/lib/python3.8/dist-packages/torch/nn/parallel/_functions.py:68: UserWarning: Was asked to gather along dimension 0, but all input tensors were scalars; will instead unsqueeze and return a vector.\n",
      "  warnings.warn('Was asked to gather along dimension 0, but all '\n"
     ]
    },
    {
     "data": {
      "text/html": [
       "\n",
       "    <div>\n",
       "      \n",
       "      <progress value='13' max='13' style='width:300px; height:20px; vertical-align: middle;'></progress>\n",
       "      [13/13 00:00]\n",
       "    </div>\n",
       "    "
      ],
      "text/plain": [
       "<IPython.core.display.HTML object>"
      ]
     },
     "metadata": {},
     "output_type": "display_data"
    },
    {
     "data": {
      "text/plain": [
       "{'eval_loss': 1.351954698562622,\n",
       " 'eval_recall': 0.9576271186440678,\n",
       " 'eval_precision': 0.6848484848484848,\n",
       " 'eval_f1': 0.7985865724381626,\n",
       " 'eval_runtime': 0.5363,\n",
       " 'eval_samples_per_second': 372.94,\n",
       " 'eval_steps_per_second': 24.241,\n",
       " 'epoch': 4.44}"
      ]
     },
     "execution_count": 18,
     "metadata": {},
     "output_type": "execute_result"
    }
   ],
   "source": [
    "trainer.evaluate()"
   ]
  },
  {
   "cell_type": "markdown",
   "metadata": {},
   "source": [
    "## Fine-tune simple BERT model on the training data:"
   ]
  },
  {
   "cell_type": "code",
   "execution_count": 8,
   "metadata": {
    "scrolled": true,
    "tags": []
   },
   "outputs": [],
   "source": [
    "bert_tokenizer = AutoTokenizer.from_pretrained('roberta-base')"
   ]
  },
  {
   "cell_type": "code",
   "execution_count": 9,
   "metadata": {},
   "outputs": [],
   "source": [
    "from torch import nn\n",
    "from transformers import Trainer\n",
    "\n",
    "\n",
    "class CustomTrainer(Trainer):\n",
    "    def compute_loss(self, model, inputs, return_outputs=False):\n",
    "        labels = inputs.get(\"labels\")\n",
    "        # forward pass\n",
    "        outputs = model(**inputs)\n",
    "        logits = outputs.get(\"logits\")\n",
    "        # compute custom loss (suppose one has 3 labels with different weights)\n",
    "        loss_fct = nn.CrossEntropyLoss(weight=torch.tensor([1.0, 1.0]).cuda())\n",
    "        loss = loss_fct(logits.view(-1, self.model.config.num_labels), labels.view(-1))\n",
    "        return (loss, outputs) if return_outputs else loss"
   ]
  },
  {
   "cell_type": "code",
   "execution_count": 10,
   "metadata": {},
   "outputs": [],
   "source": [
    "taska_training_df['input_txt'] = taska_training_df.apply(lambda x: '<s> {}:{} </s></s> {} </s>'.format(x['topic'], x['Premise'], x['Conclusion']), axis=1)\n",
    "taska_valid_df['input_txt'] = taska_valid_df.apply(lambda x: '<s> {}:{} </s></s> {} </s>'.format(x['topic'], x['Premise'], x['Conclusion']), axis=1)"
   ]
  },
  {
   "cell_type": "code",
   "execution_count": 11,
   "metadata": {},
   "outputs": [
    {
     "data": {
      "text/plain": [
       "Index(['topic', 'Premise', 'Conclusion', 'Validity', 'Validity-Confidence',\n",
       "       'Novelty', 'Novelty-Confidence', 'input_txt'],\n",
       "      dtype='object')"
      ]
     },
     "execution_count": 11,
     "metadata": {},
     "output_type": "execute_result"
    }
   ],
   "source": [
    "taska_training_df.columns"
   ]
  },
  {
   "cell_type": "code",
   "execution_count": 12,
   "metadata": {
    "scrolled": true,
    "tags": []
   },
   "outputs": [],
   "source": [
    "from imblearn.over_sampling import RandomOverSampler\n",
    "ros = RandomOverSampler(random_state=123)\n",
    "\n",
    "#Balancing the data\n",
    "taska_training_df, y = ros.fit_resample(taska_training_df, taska_training_df['Novelty'])\n",
    "taska_training_df['Novelty'] = y"
   ]
  },
  {
   "cell_type": "code",
   "execution_count": 13,
   "metadata": {},
   "outputs": [
    {
     "data": {
      "text/plain": [
       " 1    595\n",
       "-1    595\n",
       "Name: Novelty, dtype: int64"
      ]
     },
     "execution_count": 13,
     "metadata": {},
     "output_type": "execute_result"
    }
   ],
   "source": [
    "taska_training_df.Novelty.value_counts()"
   ]
  },
  {
   "cell_type": "code",
   "execution_count": 14,
   "metadata": {},
   "outputs": [],
   "source": [
    "train_dataset = Dataset.from_pandas(taska_training_df)\n",
    "eval_dataset = Dataset.from_pandas(taska_valid_df)"
   ]
  },
  {
   "cell_type": "code",
   "execution_count": 15,
   "metadata": {},
   "outputs": [],
   "source": [
    "novelty_map = dict([ # avoid negative labels\n",
    "    (1, 1), \n",
    "    (-1, 0)\n",
    "])"
   ]
  },
  {
   "cell_type": "code",
   "execution_count": 16,
   "metadata": {},
   "outputs": [],
   "source": [
    "def preprocess(example):\n",
    "    inputs = bert_tokenizer(example[\"input_txt\"], add_special_tokens=False, padding=True, truncation=True, max_length=512)\n",
    "    inputs['labels'] = list(map(novelty_map.get, example['Novelty']))\n",
    "    return inputs"
   ]
  },
  {
   "cell_type": "code",
   "execution_count": 17,
   "metadata": {},
   "outputs": [
    {
     "name": "stdout",
     "output_type": "stream",
     "text": [
      "2022-07-25 11:19:57 - Parameter 'function'=<function preprocess at 0x7fcd8f5f6dc0> of the transform datasets.arrow_dataset.Dataset._map_single couldn't be hashed properly, a random hash was used instead. Make sure your transforms and parameters are serializable with pickle or dill for the dataset fingerprinting and caching to work. If you reuse this transform, the caching mechanism will consider it to be different from the previous calls and recompute everything. This warning is only showed once. Subsequent hashing failures won't be showed.\n"
     ]
    },
    {
     "data": {
      "application/vnd.jupyter.widget-view+json": {
       "model_id": "b12e2b99ea204cf6b5dd3ae0d3c05e23",
       "version_major": 2,
       "version_minor": 0
      },
      "text/plain": [
       "  0%|          | 0/2 [00:00<?, ?ba/s]"
      ]
     },
     "metadata": {},
     "output_type": "display_data"
    },
    {
     "data": {
      "application/vnd.jupyter.widget-view+json": {
       "model_id": "b6bc0dc1535d4376a23e14497af1bf99",
       "version_major": 2,
       "version_minor": 0
      },
      "text/plain": [
       "  0%|          | 0/1 [00:00<?, ?ba/s]"
      ]
     },
     "metadata": {},
     "output_type": "display_data"
    }
   ],
   "source": [
    "train_dataset = train_dataset.map(preprocess, batched=True)\n",
    "eval_dataset = eval_dataset.map(preprocess, batched=True)"
   ]
  },
  {
   "cell_type": "code",
   "execution_count": 20,
   "metadata": {
    "scrolled": true,
    "tags": []
   },
   "outputs": [
    {
     "name": "stderr",
     "output_type": "stream",
     "text": [
      "loading configuration file https://huggingface.co/roberta-base/resolve/main/config.json from cache at /mnt/ceph/storage/data-tmp/current//sile2804/.cache/huggingface/transformers/733bade19e5f0ce98e6531021dd5180994bb2f7b8bd7e80c7968805834ba351e.35205c6cfc956461d8515139f0f8dd5d207a2f336c0c3a83b4bc8dca3518e37b\n",
      "Model config RobertaConfig {\n",
      "  \"_name_or_path\": \"roberta-base\",\n",
      "  \"architectures\": [\n",
      "    \"RobertaForMaskedLM\"\n",
      "  ],\n",
      "  \"attention_probs_dropout_prob\": 0.1,\n",
      "  \"bos_token_id\": 0,\n",
      "  \"classifier_dropout\": null,\n",
      "  \"eos_token_id\": 2,\n",
      "  \"hidden_act\": \"gelu\",\n",
      "  \"hidden_dropout_prob\": 0.1,\n",
      "  \"hidden_size\": 768,\n",
      "  \"initializer_range\": 0.02,\n",
      "  \"intermediate_size\": 3072,\n",
      "  \"layer_norm_eps\": 1e-05,\n",
      "  \"max_position_embeddings\": 514,\n",
      "  \"model_type\": \"roberta\",\n",
      "  \"num_attention_heads\": 12,\n",
      "  \"num_hidden_layers\": 12,\n",
      "  \"pad_token_id\": 1,\n",
      "  \"position_embedding_type\": \"absolute\",\n",
      "  \"transformers_version\": \"4.18.0\",\n",
      "  \"type_vocab_size\": 1,\n",
      "  \"use_cache\": true,\n",
      "  \"vocab_size\": 50265\n",
      "}\n",
      "\n",
      "loading weights file https://huggingface.co/roberta-base/resolve/main/pytorch_model.bin from cache at /mnt/ceph/storage/data-tmp/current//sile2804/.cache/huggingface/transformers/51ba668f7ff34e7cdfa9561e8361747738113878850a7d717dbc69de8683aaad.c7efaa30a0d80b2958b876969faa180e485944a849deee4ad482332de65365a7\n",
      "Some weights of the model checkpoint at roberta-base were not used when initializing RobertaForSequenceClassification: ['lm_head.dense.bias', 'lm_head.dense.weight', 'roberta.pooler.dense.weight', 'lm_head.layer_norm.weight', 'lm_head.decoder.weight', 'lm_head.bias', 'lm_head.layer_norm.bias', 'roberta.pooler.dense.bias']\n",
      "- This IS expected if you are initializing RobertaForSequenceClassification from the checkpoint of a model trained on another task or with another architecture (e.g. initializing a BertForSequenceClassification model from a BertForPreTraining model).\n",
      "- This IS NOT expected if you are initializing RobertaForSequenceClassification from the checkpoint of a model that you expect to be exactly identical (initializing a BertForSequenceClassification model from a BertForSequenceClassification model).\n",
      "Some weights of RobertaForSequenceClassification were not initialized from the model checkpoint at roberta-base and are newly initialized: ['classifier.dense.bias', 'classifier.out_proj.weight', 'classifier.dense.weight', 'classifier.out_proj.bias']\n",
      "You should probably TRAIN this model on a down-stream task to be able to use it for predictions and inference.\n",
      "PyTorch: setting up devices\n",
      "The default value for the training argument `--report_to` will change in v5 (from all installed integrations to none). In v5, you will need to use `--report_to all` to get the same behavior as now. You should start updating your code and make this info disappear :-).\n",
      "max_steps is given, it will override any value given in num_train_epochs\n"
     ]
    }
   ],
   "source": [
    "bert_model     = AutoModelForSequenceClassification.from_pretrained('roberta-base', num_labels=2)\n",
    "\n",
    "training_args = TrainingArguments(\n",
    "    output_dir= output_path + \"/task-A/novelty/classification/roberta\", \n",
    "    #report_to=\"wandb\",\n",
    "    logging_dir='/var/argmining-sharedtask/roberta-baseline-novelty',\n",
    "    overwrite_output_dir=True,\n",
    "    metric_for_best_model = 'f1',\n",
    "    evaluation_strategy = 'steps',          # check evaluation metrics at each epoch\n",
    "    learning_rate = 5e-6,                   # we can customize learning rate\n",
    "    max_steps = 600,\n",
    "    logging_steps = 50,                    # we will log every 50 steps which is an epoch given the 700 examples and 16 batch size\n",
    "    eval_steps = 50,                      # we will perform evaluation every 500 steps\n",
    "    save_steps = 50,\n",
    "    load_best_model_at_end = True,\n",
    ")\n",
    "\n",
    "trainer = Trainer(\n",
    "    model=bert_model,\n",
    "    args=training_args,\n",
    "    train_dataset=train_dataset,\n",
    "    eval_dataset=eval_dataset,\n",
    "    compute_metrics=lambda x: compute_metrics(x, average='macro')\n",
    ")"
   ]
  },
  {
   "cell_type": "code",
   "execution_count": 21,
   "metadata": {
    "scrolled": true,
    "tags": []
   },
   "outputs": [
    {
     "name": "stderr",
     "output_type": "stream",
     "text": [
      "The following columns in the training set  don't have a corresponding argument in `RobertaForSequenceClassification.forward` and have been ignored: Premise, Novelty, Conclusion, Validity, input_txt, Validity-Confidence, topic, Novelty-Confidence. If Premise, Novelty, Conclusion, Validity, input_txt, Validity-Confidence, topic, Novelty-Confidence are not expected by `RobertaForSequenceClassification.forward`,  you can safely ignore this message.\n",
      "/usr/local/lib/python3.8/dist-packages/transformers/optimization.py:306: FutureWarning: This implementation of AdamW is deprecated and will be removed in a future version. Use the PyTorch implementation torch.optim.AdamW instead, or set `no_deprecation_warning=True` to disable this warning\n",
      "  warnings.warn(\n",
      "***** Running training *****\n",
      "  Num examples = 1190\n",
      "  Num Epochs = 8\n",
      "  Instantaneous batch size per device = 8\n",
      "  Total train batch size (w. parallel, distributed & accumulation) = 16\n",
      "  Gradient Accumulation steps = 1\n",
      "  Total optimization steps = 600\n",
      "Automatic Weights & Biases logging enabled, to disable set os.environ[\"WANDB_DISABLED\"] = \"true\"\n",
      "/usr/local/lib/python3.8/dist-packages/torch/nn/parallel/_functions.py:68: UserWarning: Was asked to gather along dimension 0, but all input tensors were scalars; will instead unsqueeze and return a vector.\n",
      "  warnings.warn('Was asked to gather along dimension 0, but all '\n"
     ]
    },
    {
     "data": {
      "text/html": [
       "\n",
       "    <div>\n",
       "      \n",
       "      <progress value='600' max='600' style='width:300px; height:20px; vertical-align: middle;'></progress>\n",
       "      [600/600 01:10, Epoch 8/8]\n",
       "    </div>\n",
       "    <table border=\"1\" class=\"dataframe\">\n",
       "  <thead>\n",
       " <tr style=\"text-align: left;\">\n",
       "      <th>Step</th>\n",
       "      <th>Training Loss</th>\n",
       "      <th>Validation Loss</th>\n",
       "      <th>Recall</th>\n",
       "      <th>Precision</th>\n",
       "      <th>F1</th>\n",
       "    </tr>\n",
       "  </thead>\n",
       "  <tbody>\n",
       "    <tr>\n",
       "      <td>50</td>\n",
       "      <td>0.699300</td>\n",
       "      <td>0.699563</td>\n",
       "      <td>0.500000</td>\n",
       "      <td>0.205000</td>\n",
       "      <td>0.290780</td>\n",
       "    </tr>\n",
       "    <tr>\n",
       "      <td>100</td>\n",
       "      <td>0.688100</td>\n",
       "      <td>0.693160</td>\n",
       "      <td>0.478814</td>\n",
       "      <td>0.289744</td>\n",
       "      <td>0.361022</td>\n",
       "    </tr>\n",
       "    <tr>\n",
       "      <td>150</td>\n",
       "      <td>0.668200</td>\n",
       "      <td>0.782242</td>\n",
       "      <td>0.365957</td>\n",
       "      <td>0.366440</td>\n",
       "      <td>0.354984</td>\n",
       "    </tr>\n",
       "    <tr>\n",
       "      <td>200</td>\n",
       "      <td>0.554600</td>\n",
       "      <td>0.881463</td>\n",
       "      <td>0.432720</td>\n",
       "      <td>0.434103</td>\n",
       "      <td>0.424295</td>\n",
       "    </tr>\n",
       "    <tr>\n",
       "      <td>250</td>\n",
       "      <td>0.515500</td>\n",
       "      <td>0.902990</td>\n",
       "      <td>0.489045</td>\n",
       "      <td>0.488014</td>\n",
       "      <td>0.485199</td>\n",
       "    </tr>\n",
       "    <tr>\n",
       "      <td>300</td>\n",
       "      <td>0.458200</td>\n",
       "      <td>0.890255</td>\n",
       "      <td>0.554155</td>\n",
       "      <td>0.588753</td>\n",
       "      <td>0.531194</td>\n",
       "    </tr>\n",
       "    <tr>\n",
       "      <td>350</td>\n",
       "      <td>0.398700</td>\n",
       "      <td>0.934621</td>\n",
       "      <td>0.525837</td>\n",
       "      <td>0.533333</td>\n",
       "      <td>0.513795</td>\n",
       "    </tr>\n",
       "    <tr>\n",
       "      <td>400</td>\n",
       "      <td>0.388400</td>\n",
       "      <td>0.974252</td>\n",
       "      <td>0.550951</td>\n",
       "      <td>0.605545</td>\n",
       "      <td>0.514487</td>\n",
       "    </tr>\n",
       "    <tr>\n",
       "      <td>450</td>\n",
       "      <td>0.344000</td>\n",
       "      <td>1.033039</td>\n",
       "      <td>0.555705</td>\n",
       "      <td>0.643389</td>\n",
       "      <td>0.509660</td>\n",
       "    </tr>\n",
       "    <tr>\n",
       "      <td>500</td>\n",
       "      <td>0.346200</td>\n",
       "      <td>0.983595</td>\n",
       "      <td>0.532968</td>\n",
       "      <td>0.548934</td>\n",
       "      <td>0.512782</td>\n",
       "    </tr>\n",
       "    <tr>\n",
       "      <td>550</td>\n",
       "      <td>0.302600</td>\n",
       "      <td>1.047076</td>\n",
       "      <td>0.544853</td>\n",
       "      <td>0.595933</td>\n",
       "      <td>0.505327</td>\n",
       "    </tr>\n",
       "    <tr>\n",
       "      <td>600</td>\n",
       "      <td>0.299500</td>\n",
       "      <td>1.029398</td>\n",
       "      <td>0.537722</td>\n",
       "      <td>0.563203</td>\n",
       "      <td>0.510737</td>\n",
       "    </tr>\n",
       "  </tbody>\n",
       "</table><p>"
      ],
      "text/plain": [
       "<IPython.core.display.HTML object>"
      ]
     },
     "metadata": {},
     "output_type": "display_data"
    },
    {
     "name": "stderr",
     "output_type": "stream",
     "text": [
      "The following columns in the evaluation set  don't have a corresponding argument in `RobertaForSequenceClassification.forward` and have been ignored: Premise, Novelty, Conclusion, Validity, input_txt, Validity-Confidence, topic, __index_level_0__, Novelty-Confidence. If Premise, Novelty, Conclusion, Validity, input_txt, Validity-Confidence, topic, __index_level_0__, Novelty-Confidence are not expected by `RobertaForSequenceClassification.forward`,  you can safely ignore this message.\n",
      "***** Running Evaluation *****\n",
      "  Num examples = 200\n",
      "  Batch size = 8\n",
      "/usr/local/lib/python3.8/dist-packages/sklearn/metrics/_classification.py:1327: UndefinedMetricWarning: Precision and F-score are ill-defined and being set to 0.0 in labels with no predicted samples. Use `zero_division` parameter to control this behavior.\n",
      "  _warn_prf(average, modifier, msg_start, len(result))\n",
      "Saving model checkpoint to ../../data-ceph/arguana/argmining22-sharedtask/models//task-A/novelty/classification/roberta/checkpoint-50\n",
      "Configuration saved in ../../data-ceph/arguana/argmining22-sharedtask/models//task-A/novelty/classification/roberta/checkpoint-50/config.json\n",
      "Model weights saved in ../../data-ceph/arguana/argmining22-sharedtask/models//task-A/novelty/classification/roberta/checkpoint-50/pytorch_model.bin\n",
      "/usr/local/lib/python3.8/dist-packages/torch/nn/parallel/_functions.py:68: UserWarning: Was asked to gather along dimension 0, but all input tensors were scalars; will instead unsqueeze and return a vector.\n",
      "  warnings.warn('Was asked to gather along dimension 0, but all '\n",
      "The following columns in the evaluation set  don't have a corresponding argument in `RobertaForSequenceClassification.forward` and have been ignored: Premise, Novelty, Conclusion, Validity, input_txt, Validity-Confidence, topic, __index_level_0__, Novelty-Confidence. If Premise, Novelty, Conclusion, Validity, input_txt, Validity-Confidence, topic, __index_level_0__, Novelty-Confidence are not expected by `RobertaForSequenceClassification.forward`,  you can safely ignore this message.\n",
      "***** Running Evaluation *****\n",
      "  Num examples = 200\n",
      "  Batch size = 8\n",
      "Saving model checkpoint to ../../data-ceph/arguana/argmining22-sharedtask/models//task-A/novelty/classification/roberta/checkpoint-100\n",
      "Configuration saved in ../../data-ceph/arguana/argmining22-sharedtask/models//task-A/novelty/classification/roberta/checkpoint-100/config.json\n",
      "Model weights saved in ../../data-ceph/arguana/argmining22-sharedtask/models//task-A/novelty/classification/roberta/checkpoint-100/pytorch_model.bin\n",
      "/usr/local/lib/python3.8/dist-packages/torch/nn/parallel/_functions.py:68: UserWarning: Was asked to gather along dimension 0, but all input tensors were scalars; will instead unsqueeze and return a vector.\n",
      "  warnings.warn('Was asked to gather along dimension 0, but all '\n",
      "The following columns in the evaluation set  don't have a corresponding argument in `RobertaForSequenceClassification.forward` and have been ignored: Premise, Novelty, Conclusion, Validity, input_txt, Validity-Confidence, topic, __index_level_0__, Novelty-Confidence. If Premise, Novelty, Conclusion, Validity, input_txt, Validity-Confidence, topic, __index_level_0__, Novelty-Confidence are not expected by `RobertaForSequenceClassification.forward`,  you can safely ignore this message.\n",
      "***** Running Evaluation *****\n",
      "  Num examples = 200\n",
      "  Batch size = 8\n",
      "Saving model checkpoint to ../../data-ceph/arguana/argmining22-sharedtask/models//task-A/novelty/classification/roberta/checkpoint-150\n",
      "Configuration saved in ../../data-ceph/arguana/argmining22-sharedtask/models//task-A/novelty/classification/roberta/checkpoint-150/config.json\n",
      "Model weights saved in ../../data-ceph/arguana/argmining22-sharedtask/models//task-A/novelty/classification/roberta/checkpoint-150/pytorch_model.bin\n",
      "/usr/local/lib/python3.8/dist-packages/torch/nn/parallel/_functions.py:68: UserWarning: Was asked to gather along dimension 0, but all input tensors were scalars; will instead unsqueeze and return a vector.\n",
      "  warnings.warn('Was asked to gather along dimension 0, but all '\n",
      "The following columns in the evaluation set  don't have a corresponding argument in `RobertaForSequenceClassification.forward` and have been ignored: Premise, Novelty, Conclusion, Validity, input_txt, Validity-Confidence, topic, __index_level_0__, Novelty-Confidence. If Premise, Novelty, Conclusion, Validity, input_txt, Validity-Confidence, topic, __index_level_0__, Novelty-Confidence are not expected by `RobertaForSequenceClassification.forward`,  you can safely ignore this message.\n",
      "***** Running Evaluation *****\n",
      "  Num examples = 200\n",
      "  Batch size = 8\n",
      "Saving model checkpoint to ../../data-ceph/arguana/argmining22-sharedtask/models//task-A/novelty/classification/roberta/checkpoint-200\n",
      "Configuration saved in ../../data-ceph/arguana/argmining22-sharedtask/models//task-A/novelty/classification/roberta/checkpoint-200/config.json\n",
      "Model weights saved in ../../data-ceph/arguana/argmining22-sharedtask/models//task-A/novelty/classification/roberta/checkpoint-200/pytorch_model.bin\n",
      "/usr/local/lib/python3.8/dist-packages/torch/nn/parallel/_functions.py:68: UserWarning: Was asked to gather along dimension 0, but all input tensors were scalars; will instead unsqueeze and return a vector.\n",
      "  warnings.warn('Was asked to gather along dimension 0, but all '\n",
      "The following columns in the evaluation set  don't have a corresponding argument in `RobertaForSequenceClassification.forward` and have been ignored: Premise, Novelty, Conclusion, Validity, input_txt, Validity-Confidence, topic, __index_level_0__, Novelty-Confidence. If Premise, Novelty, Conclusion, Validity, input_txt, Validity-Confidence, topic, __index_level_0__, Novelty-Confidence are not expected by `RobertaForSequenceClassification.forward`,  you can safely ignore this message.\n",
      "***** Running Evaluation *****\n",
      "  Num examples = 200\n",
      "  Batch size = 8\n",
      "Saving model checkpoint to ../../data-ceph/arguana/argmining22-sharedtask/models//task-A/novelty/classification/roberta/checkpoint-250\n",
      "Configuration saved in ../../data-ceph/arguana/argmining22-sharedtask/models//task-A/novelty/classification/roberta/checkpoint-250/config.json\n",
      "Model weights saved in ../../data-ceph/arguana/argmining22-sharedtask/models//task-A/novelty/classification/roberta/checkpoint-250/pytorch_model.bin\n",
      "/usr/local/lib/python3.8/dist-packages/torch/nn/parallel/_functions.py:68: UserWarning: Was asked to gather along dimension 0, but all input tensors were scalars; will instead unsqueeze and return a vector.\n",
      "  warnings.warn('Was asked to gather along dimension 0, but all '\n",
      "The following columns in the evaluation set  don't have a corresponding argument in `RobertaForSequenceClassification.forward` and have been ignored: Premise, Novelty, Conclusion, Validity, input_txt, Validity-Confidence, topic, __index_level_0__, Novelty-Confidence. If Premise, Novelty, Conclusion, Validity, input_txt, Validity-Confidence, topic, __index_level_0__, Novelty-Confidence are not expected by `RobertaForSequenceClassification.forward`,  you can safely ignore this message.\n",
      "***** Running Evaluation *****\n",
      "  Num examples = 200\n",
      "  Batch size = 8\n",
      "Saving model checkpoint to ../../data-ceph/arguana/argmining22-sharedtask/models//task-A/novelty/classification/roberta/checkpoint-300\n",
      "Configuration saved in ../../data-ceph/arguana/argmining22-sharedtask/models//task-A/novelty/classification/roberta/checkpoint-300/config.json\n",
      "Model weights saved in ../../data-ceph/arguana/argmining22-sharedtask/models//task-A/novelty/classification/roberta/checkpoint-300/pytorch_model.bin\n",
      "/usr/local/lib/python3.8/dist-packages/torch/nn/parallel/_functions.py:68: UserWarning: Was asked to gather along dimension 0, but all input tensors were scalars; will instead unsqueeze and return a vector.\n",
      "  warnings.warn('Was asked to gather along dimension 0, but all '\n",
      "The following columns in the evaluation set  don't have a corresponding argument in `RobertaForSequenceClassification.forward` and have been ignored: Premise, Novelty, Conclusion, Validity, input_txt, Validity-Confidence, topic, __index_level_0__, Novelty-Confidence. If Premise, Novelty, Conclusion, Validity, input_txt, Validity-Confidence, topic, __index_level_0__, Novelty-Confidence are not expected by `RobertaForSequenceClassification.forward`,  you can safely ignore this message.\n",
      "***** Running Evaluation *****\n",
      "  Num examples = 200\n",
      "  Batch size = 8\n",
      "Saving model checkpoint to ../../data-ceph/arguana/argmining22-sharedtask/models//task-A/novelty/classification/roberta/checkpoint-350\n",
      "Configuration saved in ../../data-ceph/arguana/argmining22-sharedtask/models//task-A/novelty/classification/roberta/checkpoint-350/config.json\n",
      "Model weights saved in ../../data-ceph/arguana/argmining22-sharedtask/models//task-A/novelty/classification/roberta/checkpoint-350/pytorch_model.bin\n",
      "/usr/local/lib/python3.8/dist-packages/torch/nn/parallel/_functions.py:68: UserWarning: Was asked to gather along dimension 0, but all input tensors were scalars; will instead unsqueeze and return a vector.\n",
      "  warnings.warn('Was asked to gather along dimension 0, but all '\n",
      "The following columns in the evaluation set  don't have a corresponding argument in `RobertaForSequenceClassification.forward` and have been ignored: Premise, Novelty, Conclusion, Validity, input_txt, Validity-Confidence, topic, __index_level_0__, Novelty-Confidence. If Premise, Novelty, Conclusion, Validity, input_txt, Validity-Confidence, topic, __index_level_0__, Novelty-Confidence are not expected by `RobertaForSequenceClassification.forward`,  you can safely ignore this message.\n",
      "***** Running Evaluation *****\n",
      "  Num examples = 200\n",
      "  Batch size = 8\n",
      "Saving model checkpoint to ../../data-ceph/arguana/argmining22-sharedtask/models//task-A/novelty/classification/roberta/checkpoint-400\n",
      "Configuration saved in ../../data-ceph/arguana/argmining22-sharedtask/models//task-A/novelty/classification/roberta/checkpoint-400/config.json\n",
      "Model weights saved in ../../data-ceph/arguana/argmining22-sharedtask/models//task-A/novelty/classification/roberta/checkpoint-400/pytorch_model.bin\n",
      "/usr/local/lib/python3.8/dist-packages/torch/nn/parallel/_functions.py:68: UserWarning: Was asked to gather along dimension 0, but all input tensors were scalars; will instead unsqueeze and return a vector.\n",
      "  warnings.warn('Was asked to gather along dimension 0, but all '\n",
      "The following columns in the evaluation set  don't have a corresponding argument in `RobertaForSequenceClassification.forward` and have been ignored: Premise, Novelty, Conclusion, Validity, input_txt, Validity-Confidence, topic, __index_level_0__, Novelty-Confidence. If Premise, Novelty, Conclusion, Validity, input_txt, Validity-Confidence, topic, __index_level_0__, Novelty-Confidence are not expected by `RobertaForSequenceClassification.forward`,  you can safely ignore this message.\n",
      "***** Running Evaluation *****\n",
      "  Num examples = 200\n",
      "  Batch size = 8\n",
      "Saving model checkpoint to ../../data-ceph/arguana/argmining22-sharedtask/models//task-A/novelty/classification/roberta/checkpoint-450\n",
      "Configuration saved in ../../data-ceph/arguana/argmining22-sharedtask/models//task-A/novelty/classification/roberta/checkpoint-450/config.json\n",
      "Model weights saved in ../../data-ceph/arguana/argmining22-sharedtask/models//task-A/novelty/classification/roberta/checkpoint-450/pytorch_model.bin\n",
      "/usr/local/lib/python3.8/dist-packages/torch/nn/parallel/_functions.py:68: UserWarning: Was asked to gather along dimension 0, but all input tensors were scalars; will instead unsqueeze and return a vector.\n",
      "  warnings.warn('Was asked to gather along dimension 0, but all '\n",
      "The following columns in the evaluation set  don't have a corresponding argument in `RobertaForSequenceClassification.forward` and have been ignored: Premise, Novelty, Conclusion, Validity, input_txt, Validity-Confidence, topic, __index_level_0__, Novelty-Confidence. If Premise, Novelty, Conclusion, Validity, input_txt, Validity-Confidence, topic, __index_level_0__, Novelty-Confidence are not expected by `RobertaForSequenceClassification.forward`,  you can safely ignore this message.\n",
      "***** Running Evaluation *****\n",
      "  Num examples = 200\n",
      "  Batch size = 8\n",
      "Saving model checkpoint to ../../data-ceph/arguana/argmining22-sharedtask/models//task-A/novelty/classification/roberta/checkpoint-500\n",
      "Configuration saved in ../../data-ceph/arguana/argmining22-sharedtask/models//task-A/novelty/classification/roberta/checkpoint-500/config.json\n",
      "Model weights saved in ../../data-ceph/arguana/argmining22-sharedtask/models//task-A/novelty/classification/roberta/checkpoint-500/pytorch_model.bin\n",
      "/usr/local/lib/python3.8/dist-packages/torch/nn/parallel/_functions.py:68: UserWarning: Was asked to gather along dimension 0, but all input tensors were scalars; will instead unsqueeze and return a vector.\n",
      "  warnings.warn('Was asked to gather along dimension 0, but all '\n",
      "The following columns in the evaluation set  don't have a corresponding argument in `RobertaForSequenceClassification.forward` and have been ignored: Premise, Novelty, Conclusion, Validity, input_txt, Validity-Confidence, topic, __index_level_0__, Novelty-Confidence. If Premise, Novelty, Conclusion, Validity, input_txt, Validity-Confidence, topic, __index_level_0__, Novelty-Confidence are not expected by `RobertaForSequenceClassification.forward`,  you can safely ignore this message.\n",
      "***** Running Evaluation *****\n",
      "  Num examples = 200\n",
      "  Batch size = 8\n",
      "Saving model checkpoint to ../../data-ceph/arguana/argmining22-sharedtask/models//task-A/novelty/classification/roberta/checkpoint-550\n",
      "Configuration saved in ../../data-ceph/arguana/argmining22-sharedtask/models//task-A/novelty/classification/roberta/checkpoint-550/config.json\n",
      "Model weights saved in ../../data-ceph/arguana/argmining22-sharedtask/models//task-A/novelty/classification/roberta/checkpoint-550/pytorch_model.bin\n",
      "/usr/local/lib/python3.8/dist-packages/torch/nn/parallel/_functions.py:68: UserWarning: Was asked to gather along dimension 0, but all input tensors were scalars; will instead unsqueeze and return a vector.\n",
      "  warnings.warn('Was asked to gather along dimension 0, but all '\n",
      "The following columns in the evaluation set  don't have a corresponding argument in `RobertaForSequenceClassification.forward` and have been ignored: Premise, Novelty, Conclusion, Validity, input_txt, Validity-Confidence, topic, __index_level_0__, Novelty-Confidence. If Premise, Novelty, Conclusion, Validity, input_txt, Validity-Confidence, topic, __index_level_0__, Novelty-Confidence are not expected by `RobertaForSequenceClassification.forward`,  you can safely ignore this message.\n",
      "***** Running Evaluation *****\n",
      "  Num examples = 200\n",
      "  Batch size = 8\n",
      "Saving model checkpoint to ../../data-ceph/arguana/argmining22-sharedtask/models//task-A/novelty/classification/roberta/checkpoint-600\n",
      "Configuration saved in ../../data-ceph/arguana/argmining22-sharedtask/models//task-A/novelty/classification/roberta/checkpoint-600/config.json\n",
      "Model weights saved in ../../data-ceph/arguana/argmining22-sharedtask/models//task-A/novelty/classification/roberta/checkpoint-600/pytorch_model.bin\n",
      "\n",
      "\n",
      "Training completed. Do not forget to share your model on huggingface.co/models =)\n",
      "\n",
      "\n",
      "Loading best model from ../../data-ceph/arguana/argmining22-sharedtask/models//task-A/novelty/classification/roberta/checkpoint-300 (score: 0.5311936530833034).\n"
     ]
    },
    {
     "data": {
      "text/plain": [
       "TrainOutput(global_step=600, training_loss=0.4719393348693848, metrics={'train_runtime': 70.5678, 'train_samples_per_second': 136.039, 'train_steps_per_second': 8.502, 'total_flos': 611527648200000.0, 'train_loss': 0.4719393348693848, 'epoch': 8.0})"
      ]
     },
     "execution_count": 21,
     "metadata": {},
     "output_type": "execute_result"
    }
   ],
   "source": [
    "trainer.train()"
   ]
  },
  {
   "cell_type": "code",
   "execution_count": 22,
   "metadata": {},
   "outputs": [
    {
     "name": "stderr",
     "output_type": "stream",
     "text": [
      "The following columns in the evaluation set  don't have a corresponding argument in `RobertaForSequenceClassification.forward` and have been ignored: Premise, Novelty, Conclusion, Validity, input_txt, Validity-Confidence, topic, __index_level_0__, Novelty-Confidence. If Premise, Novelty, Conclusion, Validity, input_txt, Validity-Confidence, topic, __index_level_0__, Novelty-Confidence are not expected by `RobertaForSequenceClassification.forward`,  you can safely ignore this message.\n",
      "***** Running Evaluation *****\n",
      "  Num examples = 200\n",
      "  Batch size = 8\n",
      "/usr/local/lib/python3.8/dist-packages/torch/nn/parallel/_functions.py:68: UserWarning: Was asked to gather along dimension 0, but all input tensors were scalars; will instead unsqueeze and return a vector.\n",
      "  warnings.warn('Was asked to gather along dimension 0, but all '\n"
     ]
    },
    {
     "data": {
      "text/html": [
       "\n",
       "    <div>\n",
       "      \n",
       "      <progress value='13' max='13' style='width:300px; height:20px; vertical-align: middle;'></progress>\n",
       "      [13/13 00:00]\n",
       "    </div>\n",
       "    "
      ],
      "text/plain": [
       "<IPython.core.display.HTML object>"
      ]
     },
     "metadata": {},
     "output_type": "display_data"
    },
    {
     "data": {
      "text/plain": [
       "{'eval_loss': 0.890255331993103,\n",
       " 'eval_recall': 0.5541546093427037,\n",
       " 'eval_precision': 0.5887533875338753,\n",
       " 'eval_f1': 0.5311936530833034,\n",
       " 'eval_runtime': 0.3981,\n",
       " 'eval_samples_per_second': 502.351,\n",
       " 'eval_steps_per_second': 32.653,\n",
       " 'epoch': 8.0}"
      ]
     },
     "execution_count": 22,
     "metadata": {},
     "output_type": "execute_result"
    }
   ],
   "source": [
    "trainer.evaluate()"
   ]
  },
  {
   "cell_type": "code",
   "execution_count": null,
   "metadata": {},
   "outputs": [],
   "source": []
  }
 ],
 "metadata": {
  "kernelspec": {
   "display_name": "Python 3",
   "language": "python",
   "name": "python3"
  },
  "language_info": {
   "codemirror_mode": {
    "name": "ipython",
    "version": 3
   },
   "file_extension": ".py",
   "mimetype": "text/x-python",
   "name": "python",
   "nbconvert_exporter": "python",
   "pygments_lexer": "ipython3",
   "version": "3.8.10"
  }
 },
 "nbformat": 4,
 "nbformat_minor": 4
}
