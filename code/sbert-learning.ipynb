{
 "cells": [
  {
   "cell_type": "code",
   "execution_count": 1,
   "metadata": {},
   "outputs": [],
   "source": [
    "%load_ext autoreload"
   ]
  },
  {
   "cell_type": "code",
   "execution_count": 2,
   "metadata": {},
   "outputs": [],
   "source": [
    "import json\n",
    "import pandas as pd\n",
    "import numpy as np\n",
    "import sys\n",
    "\n",
    "pd.set_option('display.max_colwidth', None)\n",
    "sys.path.append('./src-py')"
   ]
  },
  {
   "cell_type": "code",
   "execution_count": 18,
   "metadata": {},
   "outputs": [],
   "source": [
    "%autoreload\n",
    "import sbert_training\n",
    "from sklearn.metrics import precision_recall_fscore_support"
   ]
  },
  {
   "cell_type": "code",
   "execution_count": 4,
   "metadata": {},
   "outputs": [],
   "source": [
    "from sentence_transformers import SentenceTransformer, InputExample, LoggingHandler, losses, models, util\n",
    "from sentence_transformers.evaluation import EmbeddingSimilarityEvaluator, BinaryClassificationEvaluator\n",
    "from torch.utils.data import DataLoader\n",
    "from sentence_transformers.evaluation import TripletEvaluator\n",
    "from datetime import datetime\n",
    "from sentence_transformers import util\n",
    "from zipfile import ZipFile\n",
    "from sentence_transformers.datasets import SentenceLabelDataset\n",
    "from sentence_transformers.datasets import NoDuplicatesDataLoader\n",
    "\n",
    "import logging\n",
    "\n",
    "logging.basicConfig(format='%(asctime)s - %(message)s',\n",
    "                    datefmt='%Y-%m-%d %H:%M:%S',\n",
    "                    level=logging.INFO,\n",
    "                    handlers=[LoggingHandler()])\n",
    "logger = logging.getLogger(__name__)"
   ]
  },
  {
   "cell_type": "code",
   "execution_count": 5,
   "metadata": {},
   "outputs": [],
   "source": [
    "output_path = \"../../data-ceph/arguana/argmining22-sharedtask/models/\""
   ]
  },
  {
   "cell_type": "code",
   "execution_count": 6,
   "metadata": {},
   "outputs": [],
   "source": [
    "taska_training_df = pd.read_csv('../data/TaskA_train.csv')\n",
    "taska_valid_df = pd.read_csv('../data/TaskA_dev.csv')\n",
    "\n",
    "taska_training_df['Premise'] = taska_training_df.apply(lambda x: x['topic'] + ' : ' +  x['Premise'], axis=1)\n",
    "taska_valid_df['Premise'] = taska_valid_df.apply(lambda x: x['topic'] + ' : ' +  x['Premise'], axis=1)\n",
    "\n",
    "taska_validity_train_df = taska_training_df[taska_training_df.Validity != 0].copy()\n",
    "taska_validity_valid_df = taska_valid_df[taska_valid_df.Validity != 0].copy()\n",
    "\n",
    "taska_validity_train_df['label'] = taska_validity_train_df.Validity.apply(lambda x : 1 if x == 1 else 0)\n",
    "taska_validity_valid_df['label'] = taska_validity_valid_df.Validity.apply(lambda x : 1 if x == 1 else 0)\n",
    "\n",
    "taska_novelty_train_df = taska_training_df[taska_training_df.Novelty != 0].copy()\n",
    "taska_novelty_valid_df = taska_valid_df[taska_valid_df.Novelty != 0].copy()\n",
    "\n",
    "taska_novelty_train_df['label'] = taska_novelty_train_df.Novelty.apply(lambda x : 1 if x == 1 else 0)\n",
    "taska_novelty_valid_df['label'] = taska_novelty_valid_df.Novelty.apply(lambda x : 1 if x == 1 else 0)"
   ]
  },
  {
   "cell_type": "code",
   "execution_count": 7,
   "metadata": {},
   "outputs": [
    {
     "data": {
      "text/plain": [
       "0    595\n",
       "1    123\n",
       "Name: label, dtype: int64"
      ]
     },
     "execution_count": 7,
     "metadata": {},
     "output_type": "execute_result"
    }
   ],
   "source": [
    "taska_novelty_train_df.label.value_counts()"
   ]
  },
  {
   "cell_type": "code",
   "execution_count": 8,
   "metadata": {},
   "outputs": [
    {
     "data": {
      "text/plain": [
       "1    401\n",
       "0    320\n",
       "Name: label, dtype: int64"
      ]
     },
     "execution_count": 8,
     "metadata": {},
     "output_type": "execute_result"
    }
   ],
   "source": [
    "taska_validity_train_df.label.value_counts()"
   ]
  },
  {
   "cell_type": "markdown",
   "metadata": {},
   "source": [
    "### Evaluate sbert on Validity:"
   ]
  },
  {
   "cell_type": "code",
   "execution_count": 9,
   "metadata": {},
   "outputs": [],
   "source": [
    "n=10"
   ]
  },
  {
   "cell_type": "code",
   "execution_count": 19,
   "metadata": {
    "scrolled": true,
    "tags": []
   },
   "outputs": [
    {
     "name": "stdout",
     "output_type": "stream",
     "text": [
      "2022-07-04 14:55:41 - Use pytorch device: cuda\n",
      "2022-07-04 14:55:41 - Read Triplet train dataset\n",
      "Len of training: 721\n",
      "Len of Dev: 199\n",
      "Evaluating before start learning.....\n",
      "2022-07-04 14:55:41 - Binary Accuracy Evaluation of the model on sts-dev dataset:\n",
      "2022-07-04 14:55:41 - Accuracy with Cosine-Similarity:           72.36\t(Threshold: 0.6503)\n",
      "2022-07-04 14:55:41 - F1 with Cosine-Similarity:                 80.69\t(Threshold: 0.5985)\n",
      "2022-07-04 14:55:41 - Precision with Cosine-Similarity:          70.91\n",
      "2022-07-04 14:55:41 - Recall with Cosine-Similarity:             93.60\n",
      "2022-07-04 14:55:41 - Average Precision with Cosine-Similarity:  82.54\n",
      "\n",
      "2022-07-04 14:55:41 - Accuracy with Manhatten-Distance:           72.36\t(Threshold: 646.3732)\n",
      "2022-07-04 14:55:41 - F1 with Manhatten-Distance:                 80.56\t(Threshold: 679.7071)\n",
      "2022-07-04 14:55:41 - Precision with Manhatten-Distance:          71.17\n",
      "2022-07-04 14:55:41 - Recall with Manhatten-Distance:             92.80\n",
      "2022-07-04 14:55:41 - Average Precision with Manhatten-Distance:  82.44\n",
      "\n",
      "2022-07-04 14:55:41 - Accuracy with Euclidean-Distance:           72.86\t(Threshold: 26.3806)\n",
      "2022-07-04 14:55:41 - F1 with Euclidean-Distance:                 80.71\t(Threshold: 26.3806)\n",
      "2022-07-04 14:55:41 - Precision with Euclidean-Distance:          72.90\n",
      "2022-07-04 14:55:41 - Recall with Euclidean-Distance:             90.40\n",
      "2022-07-04 14:55:41 - Average Precision with Euclidean-Distance:  82.79\n",
      "\n",
      "2022-07-04 14:55:41 - Accuracy with Dot-Product:           73.37\t(Threshold: 595.3230)\n",
      "2022-07-04 14:55:41 - F1 with Dot-Product:                 80.81\t(Threshold: 528.4840)\n",
      "2022-07-04 14:55:41 - Precision with Dot-Product:          69.77\n",
      "2022-07-04 14:55:41 - Recall with Dot-Product:             96.00\n",
      "2022-07-04 14:55:41 - Average Precision with Dot-Product:  81.82\n",
      "\n",
      "====== Start Training =======\n"
     ]
    },
    {
     "name": "stderr",
     "output_type": "stream",
     "text": [
      "/usr/local/lib/python3.8/dist-packages/transformers/optimization.py:306: FutureWarning: This implementation of AdamW is deprecated and will be removed in a future version. Use the PyTorch implementation torch.optim.AdamW instead, or set `no_deprecation_warning=True` to disable this warning\n",
      "  warnings.warn(\n"
     ]
    },
    {
     "data": {
      "application/vnd.jupyter.widget-view+json": {
       "model_id": "68c2e31d674e4af8be3cb4153473df01",
       "version_major": 2,
       "version_minor": 0
      },
      "text/plain": [
       "Epoch:   0%|          | 0/1 [00:00<?, ?it/s]"
      ]
     },
     "metadata": {},
     "output_type": "display_data"
    },
    {
     "data": {
      "application/vnd.jupyter.widget-view+json": {
       "model_id": "e26d64dd1c494a64863b35cac2a0058e",
       "version_major": 2,
       "version_minor": 0
      },
      "text/plain": [
       "Iteration:   0%|          | 0/23 [00:00<?, ?it/s]"
      ]
     },
     "metadata": {},
     "output_type": "display_data"
    },
    {
     "name": "stdout",
     "output_type": "stream",
     "text": [
      "2022-07-04 14:55:43 - Binary Accuracy Evaluation of the model on sts-dev dataset in epoch 0 after 10 steps:\n",
      "2022-07-04 14:55:43 - Accuracy with Cosine-Similarity:           73.37\t(Threshold: 0.7017)\n",
      "2022-07-04 14:55:43 - F1 with Cosine-Similarity:                 80.13\t(Threshold: 0.6247)\n",
      "2022-07-04 14:55:43 - Precision with Cosine-Similarity:          69.19\n",
      "2022-07-04 14:55:43 - Recall with Cosine-Similarity:             95.20\n",
      "2022-07-04 14:55:43 - Average Precision with Cosine-Similarity:  82.63\n",
      "\n",
      "2022-07-04 14:55:43 - Accuracy with Manhatten-Distance:           73.87\t(Threshold: 601.6650)\n",
      "2022-07-04 14:55:43 - F1 with Manhatten-Distance:                 80.43\t(Threshold: 625.3463)\n",
      "2022-07-04 14:55:43 - Precision with Manhatten-Distance:          72.44\n",
      "2022-07-04 14:55:43 - Recall with Manhatten-Distance:             90.40\n",
      "2022-07-04 14:55:43 - Average Precision with Manhatten-Distance:  82.47\n",
      "\n",
      "2022-07-04 14:55:43 - Accuracy with Euclidean-Distance:           73.37\t(Threshold: 24.0499)\n",
      "2022-07-04 14:55:43 - F1 with Euclidean-Distance:                 80.30\t(Threshold: 24.0499)\n",
      "2022-07-04 14:55:43 - Precision with Euclidean-Distance:          75.00\n",
      "2022-07-04 14:55:43 - Recall with Euclidean-Distance:             86.40\n",
      "2022-07-04 14:55:43 - Average Precision with Euclidean-Distance:  82.82\n",
      "\n",
      "2022-07-04 14:55:43 - Accuracy with Dot-Product:           74.37\t(Threshold: 636.2941)\n",
      "2022-07-04 14:55:43 - F1 with Dot-Product:                 80.26\t(Threshold: 552.5154)\n",
      "2022-07-04 14:55:43 - Precision with Dot-Product:          68.16\n",
      "2022-07-04 14:55:43 - Recall with Dot-Product:             97.60\n",
      "2022-07-04 14:55:43 - Average Precision with Dot-Product:  81.87\n",
      "\n",
      "2022-07-04 14:55:43 - Save model to ../../data-ceph/arguana/argmining22-sharedtask/models//task-A/validity/sbert/sentence-transformers/nli-roberta-large--2022-07-04_14-55-33\n",
      "2022-07-04 14:56:16 - Binary Accuracy Evaluation of the model on sts-dev dataset in epoch 0 after 20 steps:\n",
      "2022-07-04 14:56:16 - Accuracy with Cosine-Similarity:           75.38\t(Threshold: 0.7169)\n",
      "2022-07-04 14:56:16 - F1 with Cosine-Similarity:                 81.08\t(Threshold: 0.7169)\n",
      "2022-07-04 14:56:16 - Precision with Cosine-Similarity:          78.36\n",
      "2022-07-04 14:56:16 - Recall with Cosine-Similarity:             84.00\n",
      "2022-07-04 14:56:16 - Average Precision with Cosine-Similarity:  82.39\n",
      "\n",
      "2022-07-04 14:56:16 - Accuracy with Manhatten-Distance:           73.87\t(Threshold: 561.5571)\n",
      "2022-07-04 14:56:16 - F1 with Manhatten-Distance:                 80.45\t(Threshold: 582.0839)\n",
      "2022-07-04 14:56:16 - Precision with Manhatten-Distance:          75.89\n",
      "2022-07-04 14:56:16 - Recall with Manhatten-Distance:             85.60\n",
      "2022-07-04 14:56:16 - Average Precision with Manhatten-Distance:  82.50\n",
      "\n",
      "2022-07-04 14:56:16 - Accuracy with Euclidean-Distance:           73.37\t(Threshold: 22.7244)\n",
      "2022-07-04 14:56:16 - F1 with Euclidean-Distance:                 80.30\t(Threshold: 23.0833)\n",
      "2022-07-04 14:56:16 - Precision with Euclidean-Distance:          75.00\n",
      "2022-07-04 14:56:16 - Recall with Euclidean-Distance:             86.40\n",
      "2022-07-04 14:56:16 - Average Precision with Euclidean-Distance:  82.53\n",
      "\n",
      "2022-07-04 14:56:16 - Accuracy with Dot-Product:           73.37\t(Threshold: 655.3478)\n",
      "2022-07-04 14:56:16 - F1 with Dot-Product:                 80.66\t(Threshold: 577.9534)\n",
      "2022-07-04 14:56:16 - Precision with Dot-Product:          68.33\n",
      "2022-07-04 14:56:16 - Recall with Dot-Product:             98.40\n",
      "2022-07-04 14:56:16 - Average Precision with Dot-Product:  81.62\n",
      "\n",
      "2022-07-04 14:56:17 - Binary Accuracy Evaluation of the model on sts-dev dataset after epoch 0:\n",
      "2022-07-04 14:56:17 - Accuracy with Cosine-Similarity:           75.38\t(Threshold: 0.7188)\n",
      "2022-07-04 14:56:17 - F1 with Cosine-Similarity:                 81.08\t(Threshold: 0.7188)\n",
      "2022-07-04 14:56:17 - Precision with Cosine-Similarity:          78.36\n",
      "2022-07-04 14:56:17 - Recall with Cosine-Similarity:             84.00\n",
      "2022-07-04 14:56:17 - Average Precision with Cosine-Similarity:  82.38\n",
      "\n",
      "2022-07-04 14:56:17 - Accuracy with Manhatten-Distance:           73.87\t(Threshold: 559.7069)\n",
      "2022-07-04 14:56:17 - F1 with Manhatten-Distance:                 80.45\t(Threshold: 580.1786)\n",
      "2022-07-04 14:56:17 - Precision with Manhatten-Distance:          75.89\n",
      "2022-07-04 14:56:17 - Recall with Manhatten-Distance:             85.60\n",
      "2022-07-04 14:56:17 - Average Precision with Manhatten-Distance:  82.45\n",
      "\n",
      "2022-07-04 14:56:17 - Accuracy with Euclidean-Distance:           73.87\t(Threshold: 22.9467)\n",
      "2022-07-04 14:56:17 - F1 with Euclidean-Distance:                 80.45\t(Threshold: 22.9467)\n",
      "2022-07-04 14:56:17 - Precision with Euclidean-Distance:          75.89\n",
      "2022-07-04 14:56:17 - Recall with Euclidean-Distance:             85.60\n",
      "2022-07-04 14:56:17 - Average Precision with Euclidean-Distance:  82.53\n",
      "\n",
      "2022-07-04 14:56:17 - Accuracy with Dot-Product:           73.37\t(Threshold: 657.2734)\n",
      "2022-07-04 14:56:17 - F1 with Dot-Product:                 80.52\t(Threshold: 556.5243)\n",
      "2022-07-04 14:56:17 - Precision with Dot-Product:          67.76\n",
      "2022-07-04 14:56:17 - Recall with Dot-Product:             99.20\n",
      "2022-07-04 14:56:17 - Average Precision with Dot-Product:  81.55\n",
      "\n"
     ]
    },
    {
     "data": {
      "application/vnd.jupyter.widget-view+json": {
       "model_id": "d22b3d4884734464b0b8ddf68bf856b6",
       "version_major": 2,
       "version_minor": 0
      },
      "text/plain": [
       "Batches:   0%|          | 0/7 [00:00<?, ?it/s]"
      ]
     },
     "metadata": {},
     "output_type": "display_data"
    },
    {
     "data": {
      "application/vnd.jupyter.widget-view+json": {
       "model_id": "d9faa1234b10431c92714ebf7d7e3396",
       "version_major": 2,
       "version_minor": 0
      },
      "text/plain": [
       "Batches:   0%|          | 0/7 [00:00<?, ?it/s]"
      ]
     },
     "metadata": {},
     "output_type": "display_data"
    },
    {
     "name": "stdout",
     "output_type": "stream",
     "text": [
      "Precision: 0.6410256410256411, Recall 1.0, F1: 0.7812500000000001\n",
      "2022-07-04 14:56:25 - Use pytorch device: cuda\n",
      "2022-07-04 14:56:25 - Read Triplet train dataset\n",
      "Len of training: 721\n",
      "Len of Dev: 199\n",
      "Evaluating before start learning.....\n",
      "2022-07-04 14:56:25 - Binary Accuracy Evaluation of the model on sts-dev dataset:\n",
      "2022-07-04 14:56:25 - Accuracy with Cosine-Similarity:           72.36\t(Threshold: 0.6503)\n",
      "2022-07-04 14:56:25 - F1 with Cosine-Similarity:                 80.69\t(Threshold: 0.5985)\n",
      "2022-07-04 14:56:25 - Precision with Cosine-Similarity:          70.91\n",
      "2022-07-04 14:56:25 - Recall with Cosine-Similarity:             93.60\n",
      "2022-07-04 14:56:25 - Average Precision with Cosine-Similarity:  82.54\n",
      "\n",
      "2022-07-04 14:56:25 - Accuracy with Manhatten-Distance:           72.36\t(Threshold: 646.3732)\n",
      "2022-07-04 14:56:25 - F1 with Manhatten-Distance:                 80.56\t(Threshold: 679.7071)\n",
      "2022-07-04 14:56:25 - Precision with Manhatten-Distance:          71.17\n",
      "2022-07-04 14:56:25 - Recall with Manhatten-Distance:             92.80\n",
      "2022-07-04 14:56:25 - Average Precision with Manhatten-Distance:  82.44\n",
      "\n",
      "2022-07-04 14:56:25 - Accuracy with Euclidean-Distance:           72.86\t(Threshold: 26.3806)\n",
      "2022-07-04 14:56:25 - F1 with Euclidean-Distance:                 80.71\t(Threshold: 26.3806)\n",
      "2022-07-04 14:56:25 - Precision with Euclidean-Distance:          72.90\n",
      "2022-07-04 14:56:25 - Recall with Euclidean-Distance:             90.40\n",
      "2022-07-04 14:56:25 - Average Precision with Euclidean-Distance:  82.79\n",
      "\n",
      "2022-07-04 14:56:25 - Accuracy with Dot-Product:           73.37\t(Threshold: 595.3230)\n",
      "2022-07-04 14:56:25 - F1 with Dot-Product:                 80.81\t(Threshold: 528.4840)\n",
      "2022-07-04 14:56:25 - Precision with Dot-Product:          69.77\n",
      "2022-07-04 14:56:25 - Recall with Dot-Product:             96.00\n",
      "2022-07-04 14:56:25 - Average Precision with Dot-Product:  81.82\n",
      "\n",
      "====== Start Training =======\n"
     ]
    },
    {
     "name": "stderr",
     "output_type": "stream",
     "text": [
      "/usr/local/lib/python3.8/dist-packages/transformers/optimization.py:306: FutureWarning: This implementation of AdamW is deprecated and will be removed in a future version. Use the PyTorch implementation torch.optim.AdamW instead, or set `no_deprecation_warning=True` to disable this warning\n",
      "  warnings.warn(\n"
     ]
    },
    {
     "data": {
      "application/vnd.jupyter.widget-view+json": {
       "model_id": "5942395420584c0aabc05e1037e9b8a2",
       "version_major": 2,
       "version_minor": 0
      },
      "text/plain": [
       "Epoch:   0%|          | 0/1 [00:00<?, ?it/s]"
      ]
     },
     "metadata": {},
     "output_type": "display_data"
    },
    {
     "data": {
      "application/vnd.jupyter.widget-view+json": {
       "model_id": "00ad241ad16845b980eaa17ec68d4f00",
       "version_major": 2,
       "version_minor": 0
      },
      "text/plain": [
       "Iteration:   0%|          | 0/23 [00:00<?, ?it/s]"
      ]
     },
     "metadata": {},
     "output_type": "display_data"
    },
    {
     "name": "stdout",
     "output_type": "stream",
     "text": [
      "2022-07-04 14:56:27 - Binary Accuracy Evaluation of the model on sts-dev dataset in epoch 0 after 10 steps:\n",
      "2022-07-04 14:56:27 - Accuracy with Cosine-Similarity:           72.36\t(Threshold: 0.7092)\n",
      "2022-07-04 14:56:27 - F1 with Cosine-Similarity:                 80.29\t(Threshold: 0.6712)\n",
      "2022-07-04 14:56:27 - Precision with Cosine-Similarity:          72.73\n",
      "2022-07-04 14:56:27 - Recall with Cosine-Similarity:             89.60\n",
      "2022-07-04 14:56:27 - Average Precision with Cosine-Similarity:  82.13\n",
      "\n",
      "2022-07-04 14:56:27 - Accuracy with Manhatten-Distance:           72.86\t(Threshold: 597.1991)\n",
      "2022-07-04 14:56:27 - F1 with Manhatten-Distance:                 80.71\t(Threshold: 619.3949)\n",
      "2022-07-04 14:56:27 - Precision with Manhatten-Distance:          72.90\n",
      "2022-07-04 14:56:27 - Recall with Manhatten-Distance:             90.40\n",
      "2022-07-04 14:56:27 - Average Precision with Manhatten-Distance:  82.21\n",
      "\n",
      "2022-07-04 14:56:27 - Accuracy with Euclidean-Distance:           72.36\t(Threshold: 22.9859)\n",
      "2022-07-04 14:56:27 - F1 with Euclidean-Distance:                 80.41\t(Threshold: 26.0083)\n",
      "2022-07-04 14:56:27 - Precision with Euclidean-Distance:          69.59\n",
      "2022-07-04 14:56:27 - Recall with Euclidean-Distance:             95.20\n",
      "2022-07-04 14:56:27 - Average Precision with Euclidean-Distance:  82.31\n",
      "\n",
      "2022-07-04 14:56:28 - Accuracy with Dot-Product:           72.86\t(Threshold: 639.0154)\n",
      "2022-07-04 14:56:28 - F1 with Dot-Product:                 80.13\t(Threshold: 563.9755)\n",
      "2022-07-04 14:56:28 - Precision with Dot-Product:          68.36\n",
      "2022-07-04 14:56:28 - Recall with Dot-Product:             96.80\n",
      "2022-07-04 14:56:28 - Average Precision with Dot-Product:  81.39\n",
      "\n",
      "2022-07-04 14:56:28 - Save model to ../../data-ceph/arguana/argmining22-sharedtask/models//task-A/validity/sbert/sentence-transformers/nli-roberta-large--2022-07-04_14-56-18\n",
      "2022-07-04 14:56:57 - Binary Accuracy Evaluation of the model on sts-dev dataset in epoch 0 after 20 steps:\n",
      "2022-07-04 14:56:57 - Accuracy with Cosine-Similarity:           72.86\t(Threshold: 0.7294)\n",
      "2022-07-04 14:56:57 - F1 with Cosine-Similarity:                 80.14\t(Threshold: 0.7015)\n",
      "2022-07-04 14:56:57 - Precision with Cosine-Similarity:          73.03\n",
      "2022-07-04 14:56:57 - Recall with Cosine-Similarity:             88.80\n",
      "2022-07-04 14:56:57 - Average Precision with Cosine-Similarity:  82.12\n",
      "\n",
      "2022-07-04 14:56:57 - Accuracy with Manhatten-Distance:           72.36\t(Threshold: 566.0037)\n",
      "2022-07-04 14:56:57 - F1 with Manhatten-Distance:                 80.43\t(Threshold: 594.8845)\n",
      "2022-07-04 14:56:57 - Precision with Manhatten-Distance:          72.44\n",
      "2022-07-04 14:56:57 - Recall with Manhatten-Distance:             90.40\n",
      "2022-07-04 14:56:57 - Average Precision with Manhatten-Distance:  81.96\n",
      "\n",
      "2022-07-04 14:56:57 - Accuracy with Euclidean-Distance:           72.86\t(Threshold: 22.7527)\n",
      "2022-07-04 14:56:57 - F1 with Euclidean-Distance:                 80.13\t(Threshold: 25.0048)\n",
      "2022-07-04 14:56:57 - Precision with Euclidean-Distance:          69.19\n",
      "2022-07-04 14:56:57 - Recall with Euclidean-Distance:             95.20\n",
      "2022-07-04 14:56:57 - Average Precision with Euclidean-Distance:  82.23\n",
      "\n",
      "2022-07-04 14:56:57 - Accuracy with Dot-Product:           72.36\t(Threshold: 655.9794)\n",
      "2022-07-04 14:56:57 - F1 with Dot-Product:                 80.53\t(Threshold: 594.4567)\n",
      "2022-07-04 14:56:57 - Precision with Dot-Product:          68.54\n",
      "2022-07-04 14:56:57 - Recall with Dot-Product:             97.60\n",
      "2022-07-04 14:56:57 - Average Precision with Dot-Product:  81.21\n",
      "\n",
      "2022-07-04 14:56:58 - Binary Accuracy Evaluation of the model on sts-dev dataset after epoch 0:\n",
      "2022-07-04 14:56:58 - Accuracy with Cosine-Similarity:           72.86\t(Threshold: 0.7285)\n",
      "2022-07-04 14:56:58 - F1 with Cosine-Similarity:                 80.14\t(Threshold: 0.7030)\n",
      "2022-07-04 14:56:58 - Precision with Cosine-Similarity:          73.03\n",
      "2022-07-04 14:56:58 - Recall with Cosine-Similarity:             88.80\n",
      "2022-07-04 14:56:58 - Average Precision with Cosine-Similarity:  82.09\n",
      "\n",
      "2022-07-04 14:56:58 - Accuracy with Manhatten-Distance:           72.36\t(Threshold: 564.7850)\n",
      "2022-07-04 14:56:58 - F1 with Manhatten-Distance:                 80.43\t(Threshold: 593.5059)\n",
      "2022-07-04 14:56:58 - Precision with Manhatten-Distance:          72.44\n",
      "2022-07-04 14:56:58 - Recall with Manhatten-Distance:             90.40\n",
      "2022-07-04 14:56:58 - Average Precision with Manhatten-Distance:  81.90\n",
      "\n",
      "2022-07-04 14:56:58 - Accuracy with Euclidean-Distance:           72.86\t(Threshold: 22.7014)\n",
      "2022-07-04 14:56:58 - F1 with Euclidean-Distance:                 80.13\t(Threshold: 24.9469)\n",
      "2022-07-04 14:56:58 - Precision with Euclidean-Distance:          69.19\n",
      "2022-07-04 14:56:58 - Recall with Euclidean-Distance:             95.20\n",
      "2022-07-04 14:56:58 - Average Precision with Euclidean-Distance:  82.21\n",
      "\n",
      "2022-07-04 14:56:58 - Accuracy with Dot-Product:           72.36\t(Threshold: 657.2562)\n",
      "2022-07-04 14:56:58 - F1 with Dot-Product:                 80.53\t(Threshold: 596.4259)\n",
      "2022-07-04 14:56:58 - Precision with Dot-Product:          68.54\n",
      "2022-07-04 14:56:58 - Recall with Dot-Product:             97.60\n",
      "2022-07-04 14:56:58 - Average Precision with Dot-Product:  81.12\n",
      "\n"
     ]
    },
    {
     "data": {
      "application/vnd.jupyter.widget-view+json": {
       "model_id": "5caae9b56dde4cecbfecc6a20fafaf88",
       "version_major": 2,
       "version_minor": 0
      },
      "text/plain": [
       "Batches:   0%|          | 0/7 [00:00<?, ?it/s]"
      ]
     },
     "metadata": {},
     "output_type": "display_data"
    },
    {
     "data": {
      "application/vnd.jupyter.widget-view+json": {
       "model_id": "c8cf1f6eba204a72834a188fa174c3e3",
       "version_major": 2,
       "version_minor": 0
      },
      "text/plain": [
       "Batches:   0%|          | 0/7 [00:00<?, ?it/s]"
      ]
     },
     "metadata": {},
     "output_type": "display_data"
    },
    {
     "name": "stdout",
     "output_type": "stream",
     "text": [
      "Precision: 0.6410256410256411, Recall 1.0, F1: 0.7812500000000001\n",
      "2022-07-04 14:57:06 - Use pytorch device: cuda\n",
      "2022-07-04 14:57:06 - Read Triplet train dataset\n",
      "Len of training: 721\n",
      "Len of Dev: 199\n",
      "Evaluating before start learning.....\n",
      "2022-07-04 14:57:06 - Binary Accuracy Evaluation of the model on sts-dev dataset:\n",
      "2022-07-04 14:57:06 - Accuracy with Cosine-Similarity:           72.36\t(Threshold: 0.6503)\n",
      "2022-07-04 14:57:06 - F1 with Cosine-Similarity:                 80.69\t(Threshold: 0.5985)\n",
      "2022-07-04 14:57:06 - Precision with Cosine-Similarity:          70.91\n",
      "2022-07-04 14:57:06 - Recall with Cosine-Similarity:             93.60\n",
      "2022-07-04 14:57:06 - Average Precision with Cosine-Similarity:  82.54\n",
      "\n",
      "2022-07-04 14:57:06 - Accuracy with Manhatten-Distance:           72.36\t(Threshold: 646.3732)\n",
      "2022-07-04 14:57:06 - F1 with Manhatten-Distance:                 80.56\t(Threshold: 679.7071)\n",
      "2022-07-04 14:57:06 - Precision with Manhatten-Distance:          71.17\n",
      "2022-07-04 14:57:06 - Recall with Manhatten-Distance:             92.80\n",
      "2022-07-04 14:57:06 - Average Precision with Manhatten-Distance:  82.44\n",
      "\n",
      "2022-07-04 14:57:06 - Accuracy with Euclidean-Distance:           72.86\t(Threshold: 26.3806)\n",
      "2022-07-04 14:57:06 - F1 with Euclidean-Distance:                 80.71\t(Threshold: 26.3806)\n",
      "2022-07-04 14:57:06 - Precision with Euclidean-Distance:          72.90\n",
      "2022-07-04 14:57:06 - Recall with Euclidean-Distance:             90.40\n",
      "2022-07-04 14:57:06 - Average Precision with Euclidean-Distance:  82.79\n",
      "\n",
      "2022-07-04 14:57:06 - Accuracy with Dot-Product:           73.37\t(Threshold: 595.3230)\n",
      "2022-07-04 14:57:06 - F1 with Dot-Product:                 80.81\t(Threshold: 528.4840)\n",
      "2022-07-04 14:57:06 - Precision with Dot-Product:          69.77\n",
      "2022-07-04 14:57:06 - Recall with Dot-Product:             96.00\n",
      "2022-07-04 14:57:06 - Average Precision with Dot-Product:  81.82\n",
      "\n",
      "====== Start Training =======\n"
     ]
    },
    {
     "name": "stderr",
     "output_type": "stream",
     "text": [
      "/usr/local/lib/python3.8/dist-packages/transformers/optimization.py:306: FutureWarning: This implementation of AdamW is deprecated and will be removed in a future version. Use the PyTorch implementation torch.optim.AdamW instead, or set `no_deprecation_warning=True` to disable this warning\n",
      "  warnings.warn(\n"
     ]
    },
    {
     "data": {
      "application/vnd.jupyter.widget-view+json": {
       "model_id": "ea0e950caeb843a49bf0362bf10603c4",
       "version_major": 2,
       "version_minor": 0
      },
      "text/plain": [
       "Epoch:   0%|          | 0/1 [00:00<?, ?it/s]"
      ]
     },
     "metadata": {},
     "output_type": "display_data"
    },
    {
     "data": {
      "application/vnd.jupyter.widget-view+json": {
       "model_id": "5873622cca2c4d3f91ea94305a5192cd",
       "version_major": 2,
       "version_minor": 0
      },
      "text/plain": [
       "Iteration:   0%|          | 0/23 [00:00<?, ?it/s]"
      ]
     },
     "metadata": {},
     "output_type": "display_data"
    },
    {
     "name": "stdout",
     "output_type": "stream",
     "text": [
      "2022-07-04 14:57:08 - Binary Accuracy Evaluation of the model on sts-dev dataset in epoch 0 after 10 steps:\n",
      "2022-07-04 14:57:08 - Accuracy with Cosine-Similarity:           74.87\t(Threshold: 0.7105)\n",
      "2022-07-04 14:57:08 - F1 with Cosine-Similarity:                 80.16\t(Threshold: 0.7105)\n",
      "2022-07-04 14:57:08 - Precision with Cosine-Similarity:          79.53\n",
      "2022-07-04 14:57:08 - Recall with Cosine-Similarity:             80.80\n",
      "2022-07-04 14:57:08 - Average Precision with Cosine-Similarity:  82.56\n",
      "\n",
      "2022-07-04 14:57:08 - Accuracy with Manhatten-Distance:           73.37\t(Threshold: 576.7632)\n",
      "2022-07-04 14:57:08 - F1 with Manhatten-Distance:                 80.55\t(Threshold: 650.4788)\n",
      "2022-07-04 14:57:08 - Precision with Manhatten-Distance:          70.24\n",
      "2022-07-04 14:57:08 - Recall with Manhatten-Distance:             94.40\n",
      "2022-07-04 14:57:08 - Average Precision with Manhatten-Distance:  82.54\n",
      "\n",
      "2022-07-04 14:57:08 - Accuracy with Euclidean-Distance:           73.87\t(Threshold: 23.1577)\n",
      "2022-07-04 14:57:08 - F1 with Euclidean-Distance:                 80.14\t(Threshold: 24.3441)\n",
      "2022-07-04 14:57:08 - Precision with Euclidean-Distance:          73.03\n",
      "2022-07-04 14:57:08 - Recall with Euclidean-Distance:             88.80\n",
      "2022-07-04 14:57:08 - Average Precision with Euclidean-Distance:  82.76\n",
      "\n",
      "2022-07-04 14:57:08 - Accuracy with Dot-Product:           72.36\t(Threshold: 647.8761)\n",
      "2022-07-04 14:57:08 - F1 with Dot-Product:                 80.39\t(Threshold: 557.2285)\n",
      "2022-07-04 14:57:08 - Precision with Dot-Product:          67.96\n",
      "2022-07-04 14:57:08 - Recall with Dot-Product:             98.40\n",
      "2022-07-04 14:57:08 - Average Precision with Dot-Product:  81.63\n",
      "\n",
      "2022-07-04 14:57:08 - Save model to ../../data-ceph/arguana/argmining22-sharedtask/models//task-A/validity/sbert/sentence-transformers/nli-roberta-large--2022-07-04_14-56-58\n",
      "2022-07-04 14:57:39 - Binary Accuracy Evaluation of the model on sts-dev dataset in epoch 0 after 20 steps:\n",
      "2022-07-04 14:57:39 - Accuracy with Cosine-Similarity:           74.37\t(Threshold: 0.7278)\n",
      "2022-07-04 14:57:39 - F1 with Cosine-Similarity:                 80.31\t(Threshold: 0.7261)\n",
      "2022-07-04 14:57:39 - Precision with Cosine-Similarity:          77.61\n",
      "2022-07-04 14:57:39 - Recall with Cosine-Similarity:             83.20\n",
      "2022-07-04 14:57:39 - Average Precision with Cosine-Similarity:  82.42\n",
      "\n",
      "2022-07-04 14:57:39 - Accuracy with Manhatten-Distance:           72.86\t(Threshold: 557.2246)\n",
      "2022-07-04 14:57:39 - F1 with Manhatten-Distance:                 80.27\t(Threshold: 631.6035)\n",
      "2022-07-04 14:57:39 - Precision with Manhatten-Distance:          69.82\n",
      "2022-07-04 14:57:39 - Recall with Manhatten-Distance:             94.40\n",
      "2022-07-04 14:57:39 - Average Precision with Manhatten-Distance:  82.36\n",
      "\n",
      "2022-07-04 14:57:39 - Accuracy with Euclidean-Distance:           74.37\t(Threshold: 22.3457)\n",
      "2022-07-04 14:57:39 - F1 with Euclidean-Distance:                 80.29\t(Threshold: 23.0811)\n",
      "2022-07-04 14:57:39 - Precision with Euclidean-Distance:          73.83\n",
      "2022-07-04 14:57:39 - Recall with Euclidean-Distance:             88.00\n",
      "2022-07-04 14:57:39 - Average Precision with Euclidean-Distance:  82.55\n",
      "\n",
      "2022-07-04 14:57:39 - Accuracy with Dot-Product:           72.86\t(Threshold: 654.6133)\n",
      "2022-07-04 14:57:39 - F1 with Dot-Product:                 80.40\t(Threshold: 596.0323)\n",
      "2022-07-04 14:57:39 - Precision with Dot-Product:          68.75\n",
      "2022-07-04 14:57:39 - Recall with Dot-Product:             96.80\n",
      "2022-07-04 14:57:39 - Average Precision with Dot-Product:  81.59\n",
      "\n",
      "2022-07-04 14:57:39 - Binary Accuracy Evaluation of the model on sts-dev dataset after epoch 0:\n",
      "2022-07-04 14:57:40 - Accuracy with Cosine-Similarity:           74.37\t(Threshold: 0.7290)\n",
      "2022-07-04 14:57:40 - F1 with Cosine-Similarity:                 80.16\t(Threshold: 0.7290)\n",
      "2022-07-04 14:57:40 - Precision with Cosine-Similarity:          78.03\n",
      "2022-07-04 14:57:40 - Recall with Cosine-Similarity:             82.40\n",
      "2022-07-04 14:57:40 - Average Precision with Cosine-Similarity:  82.40\n",
      "\n",
      "2022-07-04 14:57:40 - Accuracy with Manhatten-Distance:           72.86\t(Threshold: 556.0773)\n",
      "2022-07-04 14:57:40 - F1 with Manhatten-Distance:                 80.27\t(Threshold: 630.0804)\n",
      "2022-07-04 14:57:40 - Precision with Manhatten-Distance:          69.82\n",
      "2022-07-04 14:57:40 - Recall with Manhatten-Distance:             94.40\n",
      "2022-07-04 14:57:40 - Average Precision with Manhatten-Distance:  82.29\n",
      "\n",
      "2022-07-04 14:57:40 - Accuracy with Euclidean-Distance:           74.37\t(Threshold: 22.2857)\n",
      "2022-07-04 14:57:40 - F1 with Euclidean-Distance:                 80.00\t(Threshold: 23.0465)\n",
      "2022-07-04 14:57:40 - Precision with Euclidean-Distance:          73.33\n",
      "2022-07-04 14:57:40 - Recall with Euclidean-Distance:             88.00\n",
      "2022-07-04 14:57:40 - Average Precision with Euclidean-Distance:  82.55\n",
      "\n",
      "2022-07-04 14:57:40 - Accuracy with Dot-Product:           72.86\t(Threshold: 656.1301)\n",
      "2022-07-04 14:57:40 - F1 with Dot-Product:                 80.40\t(Threshold: 597.8121)\n",
      "2022-07-04 14:57:40 - Precision with Dot-Product:          68.75\n",
      "2022-07-04 14:57:40 - Recall with Dot-Product:             96.80\n",
      "2022-07-04 14:57:40 - Average Precision with Dot-Product:  81.59\n",
      "\n"
     ]
    },
    {
     "data": {
      "application/vnd.jupyter.widget-view+json": {
       "model_id": "69563412db594d2ab85c212fb032179a",
       "version_major": 2,
       "version_minor": 0
      },
      "text/plain": [
       "Batches:   0%|          | 0/7 [00:00<?, ?it/s]"
      ]
     },
     "metadata": {},
     "output_type": "display_data"
    },
    {
     "data": {
      "application/vnd.jupyter.widget-view+json": {
       "model_id": "c855d2b9228a4c72968750d2aa9670ff",
       "version_major": 2,
       "version_minor": 0
      },
      "text/plain": [
       "Batches:   0%|          | 0/7 [00:00<?, ?it/s]"
      ]
     },
     "metadata": {},
     "output_type": "display_data"
    },
    {
     "name": "stdout",
     "output_type": "stream",
     "text": [
      "Precision: 0.6410256410256411, Recall 1.0, F1: 0.7812500000000001\n",
      "2022-07-04 14:57:47 - Use pytorch device: cuda\n",
      "2022-07-04 14:57:47 - Read Triplet train dataset\n",
      "Len of training: 721\n",
      "Len of Dev: 199\n",
      "Evaluating before start learning.....\n",
      "2022-07-04 14:57:47 - Binary Accuracy Evaluation of the model on sts-dev dataset:\n",
      "2022-07-04 14:57:48 - Accuracy with Cosine-Similarity:           72.36\t(Threshold: 0.6503)\n",
      "2022-07-04 14:57:48 - F1 with Cosine-Similarity:                 80.69\t(Threshold: 0.5985)\n",
      "2022-07-04 14:57:48 - Precision with Cosine-Similarity:          70.91\n",
      "2022-07-04 14:57:48 - Recall with Cosine-Similarity:             93.60\n",
      "2022-07-04 14:57:48 - Average Precision with Cosine-Similarity:  82.54\n",
      "\n",
      "2022-07-04 14:57:48 - Accuracy with Manhatten-Distance:           72.36\t(Threshold: 646.3732)\n",
      "2022-07-04 14:57:48 - F1 with Manhatten-Distance:                 80.56\t(Threshold: 679.7071)\n",
      "2022-07-04 14:57:48 - Precision with Manhatten-Distance:          71.17\n",
      "2022-07-04 14:57:48 - Recall with Manhatten-Distance:             92.80\n",
      "2022-07-04 14:57:48 - Average Precision with Manhatten-Distance:  82.44\n",
      "\n",
      "2022-07-04 14:57:48 - Accuracy with Euclidean-Distance:           72.86\t(Threshold: 26.3806)\n",
      "2022-07-04 14:57:48 - F1 with Euclidean-Distance:                 80.71\t(Threshold: 26.3806)\n",
      "2022-07-04 14:57:48 - Precision with Euclidean-Distance:          72.90\n",
      "2022-07-04 14:57:48 - Recall with Euclidean-Distance:             90.40\n",
      "2022-07-04 14:57:48 - Average Precision with Euclidean-Distance:  82.79\n",
      "\n",
      "2022-07-04 14:57:48 - Accuracy with Dot-Product:           73.37\t(Threshold: 595.3230)\n",
      "2022-07-04 14:57:48 - F1 with Dot-Product:                 80.81\t(Threshold: 528.4840)\n",
      "2022-07-04 14:57:48 - Precision with Dot-Product:          69.77\n",
      "2022-07-04 14:57:48 - Recall with Dot-Product:             96.00\n",
      "2022-07-04 14:57:48 - Average Precision with Dot-Product:  81.82\n",
      "\n",
      "====== Start Training =======\n"
     ]
    },
    {
     "name": "stderr",
     "output_type": "stream",
     "text": [
      "/usr/local/lib/python3.8/dist-packages/transformers/optimization.py:306: FutureWarning: This implementation of AdamW is deprecated and will be removed in a future version. Use the PyTorch implementation torch.optim.AdamW instead, or set `no_deprecation_warning=True` to disable this warning\n",
      "  warnings.warn(\n"
     ]
    },
    {
     "data": {
      "application/vnd.jupyter.widget-view+json": {
       "model_id": "6fb7588ac4ff4fd99e0b5b5d05a22023",
       "version_major": 2,
       "version_minor": 0
      },
      "text/plain": [
       "Epoch:   0%|          | 0/1 [00:00<?, ?it/s]"
      ]
     },
     "metadata": {},
     "output_type": "display_data"
    },
    {
     "data": {
      "application/vnd.jupyter.widget-view+json": {
       "model_id": "d8a3f334c6a74be7afccb696383d5142",
       "version_major": 2,
       "version_minor": 0
      },
      "text/plain": [
       "Iteration:   0%|          | 0/23 [00:00<?, ?it/s]"
      ]
     },
     "metadata": {},
     "output_type": "display_data"
    },
    {
     "name": "stdout",
     "output_type": "stream",
     "text": [
      "2022-07-04 14:57:50 - Binary Accuracy Evaluation of the model on sts-dev dataset in epoch 0 after 10 steps:\n",
      "2022-07-04 14:57:50 - Accuracy with Cosine-Similarity:           74.87\t(Threshold: 0.6960)\n",
      "2022-07-04 14:57:50 - F1 with Cosine-Similarity:                 80.41\t(Threshold: 0.6241)\n",
      "2022-07-04 14:57:50 - Precision with Cosine-Similarity:          69.59\n",
      "2022-07-04 14:57:50 - Recall with Cosine-Similarity:             95.20\n",
      "2022-07-04 14:57:50 - Average Precision with Cosine-Similarity:  82.56\n",
      "\n",
      "2022-07-04 14:57:50 - Accuracy with Manhatten-Distance:           74.37\t(Threshold: 583.0293)\n",
      "2022-07-04 14:57:50 - F1 with Manhatten-Distance:                 80.82\t(Threshold: 660.8470)\n",
      "2022-07-04 14:57:50 - Precision with Manhatten-Distance:          70.66\n",
      "2022-07-04 14:57:50 - Recall with Manhatten-Distance:             94.40\n",
      "2022-07-04 14:57:50 - Average Precision with Manhatten-Distance:  82.71\n",
      "\n",
      "2022-07-04 14:57:50 - Accuracy with Euclidean-Distance:           73.37\t(Threshold: 23.3999)\n",
      "2022-07-04 14:57:50 - F1 with Euclidean-Distance:                 80.58\t(Threshold: 24.9163)\n",
      "2022-07-04 14:57:50 - Precision with Euclidean-Distance:          73.20\n",
      "2022-07-04 14:57:50 - Recall with Euclidean-Distance:             89.60\n",
      "2022-07-04 14:57:50 - Average Precision with Euclidean-Distance:  82.85\n",
      "\n",
      "2022-07-04 14:57:50 - Accuracy with Dot-Product:           74.37\t(Threshold: 632.7089)\n",
      "2022-07-04 14:57:50 - F1 with Dot-Product:                 80.31\t(Threshold: 632.7089)\n",
      "2022-07-04 14:57:50 - Precision with Dot-Product:          77.61\n",
      "2022-07-04 14:57:50 - Recall with Dot-Product:             83.20\n",
      "2022-07-04 14:57:50 - Average Precision with Dot-Product:  81.94\n",
      "\n",
      "2022-07-04 14:57:50 - Save model to ../../data-ceph/arguana/argmining22-sharedtask/models//task-A/validity/sbert/sentence-transformers/nli-roberta-large--2022-07-04_14-57-40\n",
      "2022-07-04 14:58:25 - Binary Accuracy Evaluation of the model on sts-dev dataset in epoch 0 after 20 steps:\n",
      "2022-07-04 14:58:25 - Accuracy with Cosine-Similarity:           73.87\t(Threshold: 0.7243)\n",
      "2022-07-04 14:58:25 - F1 with Cosine-Similarity:                 80.73\t(Threshold: 0.6985)\n",
      "2022-07-04 14:58:25 - Precision with Cosine-Similarity:          74.00\n",
      "2022-07-04 14:58:25 - Recall with Cosine-Similarity:             88.80\n",
      "2022-07-04 14:58:25 - Average Precision with Cosine-Similarity:  82.41\n",
      "\n",
      "2022-07-04 14:58:25 - Accuracy with Manhatten-Distance:           74.37\t(Threshold: 567.6999)\n",
      "2022-07-04 14:58:25 - F1 with Manhatten-Distance:                 80.88\t(Threshold: 591.7427)\n",
      "2022-07-04 14:58:25 - Precision with Manhatten-Distance:          74.83\n",
      "2022-07-04 14:58:25 - Recall with Manhatten-Distance:             88.00\n",
      "2022-07-04 14:58:25 - Average Precision with Manhatten-Distance:  82.45\n",
      "\n",
      "2022-07-04 14:58:25 - Accuracy with Euclidean-Distance:           74.87\t(Threshold: 22.6897)\n",
      "2022-07-04 14:58:25 - F1 with Euclidean-Distance:                 80.59\t(Threshold: 23.3579)\n",
      "2022-07-04 14:58:25 - Precision with Euclidean-Distance:          74.32\n",
      "2022-07-04 14:58:25 - Recall with Euclidean-Distance:             88.00\n",
      "2022-07-04 14:58:25 - Average Precision with Euclidean-Distance:  82.72\n",
      "\n",
      "2022-07-04 14:58:25 - Accuracy with Dot-Product:           73.37\t(Threshold: 649.4968)\n",
      "2022-07-04 14:58:25 - F1 with Dot-Product:                 80.66\t(Threshold: 577.6833)\n",
      "2022-07-04 14:58:25 - Precision with Dot-Product:          68.33\n",
      "2022-07-04 14:58:25 - Recall with Dot-Product:             98.40\n",
      "2022-07-04 14:58:25 - Average Precision with Dot-Product:  81.69\n",
      "\n",
      "2022-07-04 14:58:25 - Binary Accuracy Evaluation of the model on sts-dev dataset after epoch 0:\n",
      "2022-07-04 14:58:26 - Accuracy with Cosine-Similarity:           73.87\t(Threshold: 0.7260)\n",
      "2022-07-04 14:58:26 - F1 with Cosine-Similarity:                 80.73\t(Threshold: 0.7004)\n",
      "2022-07-04 14:58:26 - Precision with Cosine-Similarity:          74.00\n",
      "2022-07-04 14:58:26 - Recall with Cosine-Similarity:             88.80\n",
      "2022-07-04 14:58:26 - Average Precision with Cosine-Similarity:  82.42\n",
      "\n",
      "2022-07-04 14:58:26 - Accuracy with Manhatten-Distance:           74.37\t(Threshold: 566.4001)\n",
      "2022-07-04 14:58:26 - F1 with Manhatten-Distance:                 80.71\t(Threshold: 598.8196)\n",
      "2022-07-04 14:58:26 - Precision with Manhatten-Distance:          72.90\n",
      "2022-07-04 14:58:26 - Recall with Manhatten-Distance:             90.40\n",
      "2022-07-04 14:58:26 - Average Precision with Manhatten-Distance:  82.45\n",
      "\n",
      "2022-07-04 14:58:26 - Accuracy with Euclidean-Distance:           74.87\t(Threshold: 22.6152)\n",
      "2022-07-04 14:58:26 - F1 with Euclidean-Distance:                 80.59\t(Threshold: 23.2996)\n",
      "2022-07-04 14:58:26 - Precision with Euclidean-Distance:          74.32\n",
      "2022-07-04 14:58:26 - Recall with Euclidean-Distance:             88.00\n",
      "2022-07-04 14:58:26 - Average Precision with Euclidean-Distance:  82.72\n",
      "\n",
      "2022-07-04 14:58:26 - Accuracy with Dot-Product:           73.37\t(Threshold: 651.2943)\n",
      "2022-07-04 14:58:26 - F1 with Dot-Product:                 80.66\t(Threshold: 579.7187)\n",
      "2022-07-04 14:58:26 - Precision with Dot-Product:          68.33\n",
      "2022-07-04 14:58:26 - Recall with Dot-Product:             98.40\n",
      "2022-07-04 14:58:26 - Average Precision with Dot-Product:  81.71\n",
      "\n"
     ]
    },
    {
     "data": {
      "application/vnd.jupyter.widget-view+json": {
       "model_id": "1d85c41d93a9422c974ba23edc1a5ae9",
       "version_major": 2,
       "version_minor": 0
      },
      "text/plain": [
       "Batches:   0%|          | 0/7 [00:00<?, ?it/s]"
      ]
     },
     "metadata": {},
     "output_type": "display_data"
    },
    {
     "data": {
      "application/vnd.jupyter.widget-view+json": {
       "model_id": "c198a90b1fd147dbb18f3d11294e7993",
       "version_major": 2,
       "version_minor": 0
      },
      "text/plain": [
       "Batches:   0%|          | 0/7 [00:00<?, ?it/s]"
      ]
     },
     "metadata": {},
     "output_type": "display_data"
    },
    {
     "name": "stdout",
     "output_type": "stream",
     "text": [
      "Precision: 0.6410256410256411, Recall 1.0, F1: 0.7812500000000001\n",
      "2022-07-04 14:58:34 - Use pytorch device: cuda\n",
      "2022-07-04 14:58:34 - Read Triplet train dataset\n",
      "Len of training: 721\n",
      "Len of Dev: 199\n",
      "Evaluating before start learning.....\n",
      "2022-07-04 14:58:34 - Binary Accuracy Evaluation of the model on sts-dev dataset:\n",
      "2022-07-04 14:58:34 - Accuracy with Cosine-Similarity:           72.36\t(Threshold: 0.6503)\n",
      "2022-07-04 14:58:34 - F1 with Cosine-Similarity:                 80.69\t(Threshold: 0.5985)\n",
      "2022-07-04 14:58:34 - Precision with Cosine-Similarity:          70.91\n",
      "2022-07-04 14:58:34 - Recall with Cosine-Similarity:             93.60\n",
      "2022-07-04 14:58:34 - Average Precision with Cosine-Similarity:  82.54\n",
      "\n",
      "2022-07-04 14:58:34 - Accuracy with Manhatten-Distance:           72.36\t(Threshold: 646.3732)\n",
      "2022-07-04 14:58:34 - F1 with Manhatten-Distance:                 80.56\t(Threshold: 679.7071)\n",
      "2022-07-04 14:58:34 - Precision with Manhatten-Distance:          71.17\n",
      "2022-07-04 14:58:34 - Recall with Manhatten-Distance:             92.80\n",
      "2022-07-04 14:58:34 - Average Precision with Manhatten-Distance:  82.44\n",
      "\n",
      "2022-07-04 14:58:34 - Accuracy with Euclidean-Distance:           72.86\t(Threshold: 26.3806)\n",
      "2022-07-04 14:58:34 - F1 with Euclidean-Distance:                 80.71\t(Threshold: 26.3806)\n",
      "2022-07-04 14:58:34 - Precision with Euclidean-Distance:          72.90\n",
      "2022-07-04 14:58:34 - Recall with Euclidean-Distance:             90.40\n",
      "2022-07-04 14:58:34 - Average Precision with Euclidean-Distance:  82.79\n",
      "\n",
      "2022-07-04 14:58:34 - Accuracy with Dot-Product:           73.37\t(Threshold: 595.3230)\n",
      "2022-07-04 14:58:34 - F1 with Dot-Product:                 80.81\t(Threshold: 528.4840)\n",
      "2022-07-04 14:58:34 - Precision with Dot-Product:          69.77\n",
      "2022-07-04 14:58:34 - Recall with Dot-Product:             96.00\n",
      "2022-07-04 14:58:34 - Average Precision with Dot-Product:  81.82\n",
      "\n",
      "====== Start Training =======\n"
     ]
    },
    {
     "name": "stderr",
     "output_type": "stream",
     "text": [
      "/usr/local/lib/python3.8/dist-packages/transformers/optimization.py:306: FutureWarning: This implementation of AdamW is deprecated and will be removed in a future version. Use the PyTorch implementation torch.optim.AdamW instead, or set `no_deprecation_warning=True` to disable this warning\n",
      "  warnings.warn(\n"
     ]
    },
    {
     "data": {
      "application/vnd.jupyter.widget-view+json": {
       "model_id": "24fd0395fd0940ea8e8d39f5444bec27",
       "version_major": 2,
       "version_minor": 0
      },
      "text/plain": [
       "Epoch:   0%|          | 0/1 [00:00<?, ?it/s]"
      ]
     },
     "metadata": {},
     "output_type": "display_data"
    },
    {
     "data": {
      "application/vnd.jupyter.widget-view+json": {
       "model_id": "0dd998dfd5df4298986ef9963fe55035",
       "version_major": 2,
       "version_minor": 0
      },
      "text/plain": [
       "Iteration:   0%|          | 0/23 [00:00<?, ?it/s]"
      ]
     },
     "metadata": {},
     "output_type": "display_data"
    },
    {
     "name": "stdout",
     "output_type": "stream",
     "text": [
      "2022-07-04 14:58:36 - Binary Accuracy Evaluation of the model on sts-dev dataset in epoch 0 after 10 steps:\n",
      "2022-07-04 14:58:36 - Accuracy with Cosine-Similarity:           73.87\t(Threshold: 0.7030)\n",
      "2022-07-04 14:58:36 - F1 with Cosine-Similarity:                 80.14\t(Threshold: 0.6740)\n",
      "2022-07-04 14:58:36 - Precision with Cosine-Similarity:          73.03\n",
      "2022-07-04 14:58:36 - Recall with Cosine-Similarity:             88.80\n",
      "2022-07-04 14:58:36 - Average Precision with Cosine-Similarity:  82.51\n",
      "\n",
      "2022-07-04 14:58:36 - Accuracy with Manhatten-Distance:           73.37\t(Threshold: 595.0889)\n",
      "2022-07-04 14:58:36 - F1 with Manhatten-Distance:                 80.43\t(Threshold: 620.3030)\n",
      "2022-07-04 14:58:36 - Precision with Manhatten-Distance:          72.44\n",
      "2022-07-04 14:58:36 - Recall with Manhatten-Distance:             90.40\n",
      "2022-07-04 14:58:36 - Average Precision with Manhatten-Distance:  82.50\n",
      "\n",
      "2022-07-04 14:58:36 - Accuracy with Euclidean-Distance:           72.86\t(Threshold: 22.6609)\n",
      "2022-07-04 14:58:36 - F1 with Euclidean-Distance:                 80.41\t(Threshold: 25.9534)\n",
      "2022-07-04 14:58:36 - Precision with Euclidean-Distance:          69.59\n",
      "2022-07-04 14:58:36 - Recall with Euclidean-Distance:             95.20\n",
      "2022-07-04 14:58:36 - Average Precision with Euclidean-Distance:  82.61\n",
      "\n",
      "2022-07-04 14:58:36 - Accuracy with Dot-Product:           73.37\t(Threshold: 645.2034)\n",
      "2022-07-04 14:58:36 - F1 with Dot-Product:                 80.27\t(Threshold: 570.8630)\n",
      "2022-07-04 14:58:36 - Precision with Dot-Product:          68.97\n",
      "2022-07-04 14:58:36 - Recall with Dot-Product:             96.00\n",
      "2022-07-04 14:58:36 - Average Precision with Dot-Product:  81.82\n",
      "\n",
      "2022-07-04 14:58:36 - Save model to ../../data-ceph/arguana/argmining22-sharedtask/models//task-A/validity/sbert/sentence-transformers/nli-roberta-large--2022-07-04_14-58-26\n",
      "2022-07-04 14:59:07 - Binary Accuracy Evaluation of the model on sts-dev dataset in epoch 0 after 20 steps:\n",
      "2022-07-04 14:59:07 - Accuracy with Cosine-Similarity:           74.37\t(Threshold: 0.7280)\n",
      "2022-07-04 14:59:07 - F1 with Cosine-Similarity:                 80.14\t(Threshold: 0.7006)\n",
      "2022-07-04 14:59:07 - Precision with Cosine-Similarity:          73.03\n",
      "2022-07-04 14:59:07 - Recall with Cosine-Similarity:             88.80\n",
      "2022-07-04 14:59:07 - Average Precision with Cosine-Similarity:  82.29\n",
      "\n",
      "2022-07-04 14:59:07 - Accuracy with Manhatten-Distance:           72.86\t(Threshold: 570.1610)\n",
      "2022-07-04 14:59:07 - F1 with Manhatten-Distance:                 80.43\t(Threshold: 596.3180)\n",
      "2022-07-04 14:59:07 - Precision with Manhatten-Distance:          72.44\n",
      "2022-07-04 14:59:07 - Recall with Manhatten-Distance:             90.40\n",
      "2022-07-04 14:59:07 - Average Precision with Manhatten-Distance:  82.24\n",
      "\n",
      "2022-07-04 14:59:07 - Accuracy with Euclidean-Distance:           72.86\t(Threshold: 22.3155)\n",
      "2022-07-04 14:59:07 - F1 with Euclidean-Distance:                 80.14\t(Threshold: 23.4506)\n",
      "2022-07-04 14:59:07 - Precision with Euclidean-Distance:          73.03\n",
      "2022-07-04 14:59:07 - Recall with Euclidean-Distance:             88.80\n",
      "2022-07-04 14:59:07 - Average Precision with Euclidean-Distance:  82.44\n",
      "\n",
      "2022-07-04 14:59:07 - Accuracy with Dot-Product:           72.36\t(Threshold: 661.4411)\n",
      "2022-07-04 14:59:07 - F1 with Dot-Product:                 80.79\t(Threshold: 593.5858)\n",
      "2022-07-04 14:59:07 - Precision with Dot-Product:          68.93\n",
      "2022-07-04 14:59:07 - Recall with Dot-Product:             97.60\n",
      "2022-07-04 14:59:07 - Average Precision with Dot-Product:  81.34\n",
      "\n",
      "2022-07-04 14:59:07 - Binary Accuracy Evaluation of the model on sts-dev dataset after epoch 0:\n",
      "2022-07-04 14:59:08 - Accuracy with Cosine-Similarity:           74.37\t(Threshold: 0.7298)\n",
      "2022-07-04 14:59:08 - F1 with Cosine-Similarity:                 80.14\t(Threshold: 0.7026)\n",
      "2022-07-04 14:59:08 - Precision with Cosine-Similarity:          73.03\n",
      "2022-07-04 14:59:08 - Recall with Cosine-Similarity:             88.80\n",
      "2022-07-04 14:59:08 - Average Precision with Cosine-Similarity:  82.30\n",
      "\n",
      "2022-07-04 14:59:08 - Accuracy with Manhatten-Distance:           72.86\t(Threshold: 568.2639)\n",
      "2022-07-04 14:59:08 - F1 with Manhatten-Distance:                 80.43\t(Threshold: 594.6090)\n",
      "2022-07-04 14:59:08 - Precision with Manhatten-Distance:          72.44\n",
      "2022-07-04 14:59:08 - Recall with Manhatten-Distance:             90.40\n",
      "2022-07-04 14:59:08 - Average Precision with Manhatten-Distance:  82.23\n",
      "\n",
      "2022-07-04 14:59:08 - Accuracy with Euclidean-Distance:           73.37\t(Threshold: 22.5179)\n",
      "2022-07-04 14:59:08 - F1 with Euclidean-Distance:                 80.14\t(Threshold: 23.3761)\n",
      "2022-07-04 14:59:08 - Precision with Euclidean-Distance:          73.03\n",
      "2022-07-04 14:59:08 - Recall with Euclidean-Distance:             88.80\n",
      "2022-07-04 14:59:08 - Average Precision with Euclidean-Distance:  82.43\n",
      "\n",
      "2022-07-04 14:59:08 - Accuracy with Dot-Product:           72.36\t(Threshold: 662.8734)\n",
      "2022-07-04 14:59:08 - F1 with Dot-Product:                 81.06\t(Threshold: 595.9960)\n",
      "2022-07-04 14:59:08 - Precision with Dot-Product:          69.32\n",
      "2022-07-04 14:59:08 - Recall with Dot-Product:             97.60\n",
      "2022-07-04 14:59:08 - Average Precision with Dot-Product:  81.30\n",
      "\n"
     ]
    },
    {
     "data": {
      "application/vnd.jupyter.widget-view+json": {
       "model_id": "de28a491e78e408ebbc74ddfbdf83a37",
       "version_major": 2,
       "version_minor": 0
      },
      "text/plain": [
       "Batches:   0%|          | 0/7 [00:00<?, ?it/s]"
      ]
     },
     "metadata": {},
     "output_type": "display_data"
    },
    {
     "data": {
      "application/vnd.jupyter.widget-view+json": {
       "model_id": "c384c26a698942d3ae5a0f75192ad725",
       "version_major": 2,
       "version_minor": 0
      },
      "text/plain": [
       "Batches:   0%|          | 0/7 [00:00<?, ?it/s]"
      ]
     },
     "metadata": {},
     "output_type": "display_data"
    },
    {
     "name": "stdout",
     "output_type": "stream",
     "text": [
      "Precision: 0.6410256410256411, Recall 1.0, F1: 0.7812500000000001\n",
      "2022-07-04 14:59:15 - Use pytorch device: cuda\n",
      "2022-07-04 14:59:15 - Read Triplet train dataset\n",
      "Len of training: 721\n",
      "Len of Dev: 199\n",
      "Evaluating before start learning.....\n",
      "2022-07-04 14:59:15 - Binary Accuracy Evaluation of the model on sts-dev dataset:\n",
      "2022-07-04 14:59:16 - Accuracy with Cosine-Similarity:           72.36\t(Threshold: 0.6503)\n",
      "2022-07-04 14:59:16 - F1 with Cosine-Similarity:                 80.69\t(Threshold: 0.5985)\n",
      "2022-07-04 14:59:16 - Precision with Cosine-Similarity:          70.91\n",
      "2022-07-04 14:59:16 - Recall with Cosine-Similarity:             93.60\n",
      "2022-07-04 14:59:16 - Average Precision with Cosine-Similarity:  82.54\n",
      "\n",
      "2022-07-04 14:59:16 - Accuracy with Manhatten-Distance:           72.36\t(Threshold: 646.3732)\n",
      "2022-07-04 14:59:16 - F1 with Manhatten-Distance:                 80.56\t(Threshold: 679.7071)\n",
      "2022-07-04 14:59:16 - Precision with Manhatten-Distance:          71.17\n",
      "2022-07-04 14:59:16 - Recall with Manhatten-Distance:             92.80\n",
      "2022-07-04 14:59:16 - Average Precision with Manhatten-Distance:  82.44\n",
      "\n",
      "2022-07-04 14:59:16 - Accuracy with Euclidean-Distance:           72.86\t(Threshold: 26.3806)\n",
      "2022-07-04 14:59:16 - F1 with Euclidean-Distance:                 80.71\t(Threshold: 26.3806)\n",
      "2022-07-04 14:59:16 - Precision with Euclidean-Distance:          72.90\n",
      "2022-07-04 14:59:16 - Recall with Euclidean-Distance:             90.40\n",
      "2022-07-04 14:59:16 - Average Precision with Euclidean-Distance:  82.79\n",
      "\n",
      "2022-07-04 14:59:16 - Accuracy with Dot-Product:           73.37\t(Threshold: 595.3230)\n",
      "2022-07-04 14:59:16 - F1 with Dot-Product:                 80.81\t(Threshold: 528.4840)\n",
      "2022-07-04 14:59:16 - Precision with Dot-Product:          69.77\n",
      "2022-07-04 14:59:16 - Recall with Dot-Product:             96.00\n",
      "2022-07-04 14:59:16 - Average Precision with Dot-Product:  81.82\n",
      "\n",
      "====== Start Training =======\n"
     ]
    },
    {
     "name": "stderr",
     "output_type": "stream",
     "text": [
      "/usr/local/lib/python3.8/dist-packages/transformers/optimization.py:306: FutureWarning: This implementation of AdamW is deprecated and will be removed in a future version. Use the PyTorch implementation torch.optim.AdamW instead, or set `no_deprecation_warning=True` to disable this warning\n",
      "  warnings.warn(\n"
     ]
    },
    {
     "data": {
      "application/vnd.jupyter.widget-view+json": {
       "model_id": "76167a3b2b174c4cacac767dab54265e",
       "version_major": 2,
       "version_minor": 0
      },
      "text/plain": [
       "Epoch:   0%|          | 0/1 [00:00<?, ?it/s]"
      ]
     },
     "metadata": {},
     "output_type": "display_data"
    },
    {
     "data": {
      "application/vnd.jupyter.widget-view+json": {
       "model_id": "eec3c96417f64e82b2f746bc432ee256",
       "version_major": 2,
       "version_minor": 0
      },
      "text/plain": [
       "Iteration:   0%|          | 0/23 [00:00<?, ?it/s]"
      ]
     },
     "metadata": {},
     "output_type": "display_data"
    },
    {
     "name": "stdout",
     "output_type": "stream",
     "text": [
      "2022-07-04 14:59:18 - Binary Accuracy Evaluation of the model on sts-dev dataset in epoch 0 after 10 steps:\n",
      "2022-07-04 14:59:18 - Accuracy with Cosine-Similarity:           72.86\t(Threshold: 0.6940)\n",
      "2022-07-04 14:59:18 - F1 with Cosine-Similarity:                 80.13\t(Threshold: 0.6263)\n",
      "2022-07-04 14:59:18 - Precision with Cosine-Similarity:          69.19\n",
      "2022-07-04 14:59:18 - Recall with Cosine-Similarity:             95.20\n",
      "2022-07-04 14:59:18 - Average Precision with Cosine-Similarity:  82.33\n",
      "\n",
      "2022-07-04 14:59:18 - Accuracy with Manhatten-Distance:           72.86\t(Threshold: 624.0936)\n",
      "2022-07-04 14:59:18 - F1 with Manhatten-Distance:                 80.71\t(Threshold: 624.0936)\n",
      "2022-07-04 14:59:18 - Precision with Manhatten-Distance:          72.90\n",
      "2022-07-04 14:59:18 - Recall with Manhatten-Distance:             90.40\n",
      "2022-07-04 14:59:18 - Average Precision with Manhatten-Distance:  82.30\n",
      "\n",
      "2022-07-04 14:59:18 - Accuracy with Euclidean-Distance:           72.36\t(Threshold: 23.9398)\n",
      "2022-07-04 14:59:18 - F1 with Euclidean-Distance:                 80.41\t(Threshold: 26.0881)\n",
      "2022-07-04 14:59:18 - Precision with Euclidean-Distance:          69.59\n",
      "2022-07-04 14:59:18 - Recall with Euclidean-Distance:             95.20\n",
      "2022-07-04 14:59:18 - Average Precision with Euclidean-Distance:  82.56\n",
      "\n",
      "2022-07-04 14:59:18 - Accuracy with Dot-Product:           72.36\t(Threshold: 643.7682)\n",
      "2022-07-04 14:59:18 - F1 with Dot-Product:                 80.53\t(Threshold: 558.4820)\n",
      "2022-07-04 14:59:18 - Precision with Dot-Product:          68.54\n",
      "2022-07-04 14:59:18 - Recall with Dot-Product:             97.60\n",
      "2022-07-04 14:59:18 - Average Precision with Dot-Product:  81.62\n",
      "\n",
      "2022-07-04 14:59:18 - Save model to ../../data-ceph/arguana/argmining22-sharedtask/models//task-A/validity/sbert/sentence-transformers/nli-roberta-large--2022-07-04_14-59-08\n",
      "2022-07-04 14:59:47 - Binary Accuracy Evaluation of the model on sts-dev dataset in epoch 0 after 20 steps:\n",
      "2022-07-04 14:59:47 - Accuracy with Cosine-Similarity:           73.37\t(Threshold: 0.7183)\n",
      "2022-07-04 14:59:47 - F1 with Cosine-Similarity:                 80.29\t(Threshold: 0.6916)\n",
      "2022-07-04 14:59:47 - Precision with Cosine-Similarity:          72.73\n",
      "2022-07-04 14:59:47 - Recall with Cosine-Similarity:             89.60\n",
      "2022-07-04 14:59:47 - Average Precision with Cosine-Similarity:  82.13\n",
      "\n",
      "2022-07-04 14:59:47 - Accuracy with Manhatten-Distance:           72.36\t(Threshold: 572.6548)\n",
      "2022-07-04 14:59:47 - F1 with Manhatten-Distance:                 80.43\t(Threshold: 599.6887)\n",
      "2022-07-04 14:59:47 - Precision with Manhatten-Distance:          72.44\n",
      "2022-07-04 14:59:47 - Recall with Manhatten-Distance:             90.40\n",
      "2022-07-04 14:59:47 - Average Precision with Manhatten-Distance:  82.23\n",
      "\n",
      "2022-07-04 14:59:47 - Accuracy with Euclidean-Distance:           72.86\t(Threshold: 22.4199)\n",
      "2022-07-04 14:59:47 - F1 with Euclidean-Distance:                 80.29\t(Threshold: 23.8718)\n",
      "2022-07-04 14:59:47 - Precision with Euclidean-Distance:          72.73\n",
      "2022-07-04 14:59:47 - Recall with Euclidean-Distance:             89.60\n",
      "2022-07-04 14:59:47 - Average Precision with Euclidean-Distance:  82.32\n",
      "\n",
      "2022-07-04 14:59:47 - Accuracy with Dot-Product:           72.86\t(Threshold: 652.2832)\n",
      "2022-07-04 14:59:47 - F1 with Dot-Product:                 80.53\t(Threshold: 588.1009)\n",
      "2022-07-04 14:59:47 - Precision with Dot-Product:          68.54\n",
      "2022-07-04 14:59:47 - Recall with Dot-Product:             97.60\n",
      "2022-07-04 14:59:47 - Average Precision with Dot-Product:  81.23\n",
      "\n",
      "2022-07-04 14:59:48 - Binary Accuracy Evaluation of the model on sts-dev dataset after epoch 0:\n",
      "2022-07-04 14:59:48 - Accuracy with Cosine-Similarity:           73.37\t(Threshold: 0.7201)\n",
      "2022-07-04 14:59:48 - F1 with Cosine-Similarity:                 80.29\t(Threshold: 0.6936)\n",
      "2022-07-04 14:59:48 - Precision with Cosine-Similarity:          72.73\n",
      "2022-07-04 14:59:48 - Recall with Cosine-Similarity:             89.60\n",
      "2022-07-04 14:59:48 - Average Precision with Cosine-Similarity:  82.13\n",
      "\n",
      "2022-07-04 14:59:48 - Accuracy with Manhatten-Distance:           72.36\t(Threshold: 571.1160)\n",
      "2022-07-04 14:59:48 - F1 with Manhatten-Distance:                 80.43\t(Threshold: 597.9349)\n",
      "2022-07-04 14:59:48 - Precision with Manhatten-Distance:          72.44\n",
      "2022-07-04 14:59:48 - Recall with Manhatten-Distance:             90.40\n",
      "2022-07-04 14:59:48 - Average Precision with Manhatten-Distance:  82.20\n",
      "\n",
      "2022-07-04 14:59:48 - Accuracy with Euclidean-Distance:           72.86\t(Threshold: 22.3573)\n",
      "2022-07-04 14:59:48 - F1 with Euclidean-Distance:                 80.29\t(Threshold: 23.8059)\n",
      "2022-07-04 14:59:48 - Precision with Euclidean-Distance:          72.73\n",
      "2022-07-04 14:59:48 - Recall with Euclidean-Distance:             89.60\n",
      "2022-07-04 14:59:48 - Average Precision with Euclidean-Distance:  82.31\n",
      "\n",
      "2022-07-04 14:59:48 - Accuracy with Dot-Product:           72.86\t(Threshold: 653.6473)\n",
      "2022-07-04 14:59:48 - F1 with Dot-Product:                 80.53\t(Threshold: 590.2626)\n",
      "2022-07-04 14:59:48 - Precision with Dot-Product:          68.54\n",
      "2022-07-04 14:59:48 - Recall with Dot-Product:             97.60\n",
      "2022-07-04 14:59:48 - Average Precision with Dot-Product:  81.26\n",
      "\n"
     ]
    },
    {
     "data": {
      "application/vnd.jupyter.widget-view+json": {
       "model_id": "ed24861619fa44579d7e82fa643ae4e8",
       "version_major": 2,
       "version_minor": 0
      },
      "text/plain": [
       "Batches:   0%|          | 0/7 [00:00<?, ?it/s]"
      ]
     },
     "metadata": {},
     "output_type": "display_data"
    },
    {
     "data": {
      "application/vnd.jupyter.widget-view+json": {
       "model_id": "4ab38f00413b4fd680a4d16aab1dbf3c",
       "version_major": 2,
       "version_minor": 0
      },
      "text/plain": [
       "Batches:   0%|          | 0/7 [00:00<?, ?it/s]"
      ]
     },
     "metadata": {},
     "output_type": "display_data"
    },
    {
     "name": "stdout",
     "output_type": "stream",
     "text": [
      "Precision: 0.6410256410256411, Recall 1.0, F1: 0.7812500000000001\n",
      "2022-07-04 14:59:56 - Use pytorch device: cuda\n",
      "2022-07-04 14:59:56 - Read Triplet train dataset\n",
      "Len of training: 721\n",
      "Len of Dev: 199\n",
      "Evaluating before start learning.....\n",
      "2022-07-04 14:59:56 - Binary Accuracy Evaluation of the model on sts-dev dataset:\n",
      "2022-07-04 14:59:56 - Accuracy with Cosine-Similarity:           72.36\t(Threshold: 0.6503)\n",
      "2022-07-04 14:59:56 - F1 with Cosine-Similarity:                 80.69\t(Threshold: 0.5985)\n",
      "2022-07-04 14:59:56 - Precision with Cosine-Similarity:          70.91\n",
      "2022-07-04 14:59:56 - Recall with Cosine-Similarity:             93.60\n",
      "2022-07-04 14:59:56 - Average Precision with Cosine-Similarity:  82.54\n",
      "\n",
      "2022-07-04 14:59:56 - Accuracy with Manhatten-Distance:           72.36\t(Threshold: 646.3732)\n",
      "2022-07-04 14:59:56 - F1 with Manhatten-Distance:                 80.56\t(Threshold: 679.7071)\n",
      "2022-07-04 14:59:56 - Precision with Manhatten-Distance:          71.17\n",
      "2022-07-04 14:59:56 - Recall with Manhatten-Distance:             92.80\n",
      "2022-07-04 14:59:56 - Average Precision with Manhatten-Distance:  82.44\n",
      "\n",
      "2022-07-04 14:59:56 - Accuracy with Euclidean-Distance:           72.86\t(Threshold: 26.3806)\n",
      "2022-07-04 14:59:56 - F1 with Euclidean-Distance:                 80.71\t(Threshold: 26.3806)\n",
      "2022-07-04 14:59:56 - Precision with Euclidean-Distance:          72.90\n",
      "2022-07-04 14:59:56 - Recall with Euclidean-Distance:             90.40\n",
      "2022-07-04 14:59:56 - Average Precision with Euclidean-Distance:  82.79\n",
      "\n",
      "2022-07-04 14:59:56 - Accuracy with Dot-Product:           73.37\t(Threshold: 595.3230)\n",
      "2022-07-04 14:59:56 - F1 with Dot-Product:                 80.81\t(Threshold: 528.4840)\n",
      "2022-07-04 14:59:56 - Precision with Dot-Product:          69.77\n",
      "2022-07-04 14:59:56 - Recall with Dot-Product:             96.00\n",
      "2022-07-04 14:59:56 - Average Precision with Dot-Product:  81.82\n",
      "\n",
      "====== Start Training =======\n"
     ]
    },
    {
     "name": "stderr",
     "output_type": "stream",
     "text": [
      "/usr/local/lib/python3.8/dist-packages/transformers/optimization.py:306: FutureWarning: This implementation of AdamW is deprecated and will be removed in a future version. Use the PyTorch implementation torch.optim.AdamW instead, or set `no_deprecation_warning=True` to disable this warning\n",
      "  warnings.warn(\n"
     ]
    },
    {
     "data": {
      "application/vnd.jupyter.widget-view+json": {
       "model_id": "8bb0687031c04c108298819ecf3fc307",
       "version_major": 2,
       "version_minor": 0
      },
      "text/plain": [
       "Epoch:   0%|          | 0/1 [00:00<?, ?it/s]"
      ]
     },
     "metadata": {},
     "output_type": "display_data"
    },
    {
     "data": {
      "application/vnd.jupyter.widget-view+json": {
       "model_id": "c48f947522714068b22d604378b0c1b8",
       "version_major": 2,
       "version_minor": 0
      },
      "text/plain": [
       "Iteration:   0%|          | 0/23 [00:00<?, ?it/s]"
      ]
     },
     "metadata": {},
     "output_type": "display_data"
    },
    {
     "name": "stdout",
     "output_type": "stream",
     "text": [
      "2022-07-04 14:59:58 - Binary Accuracy Evaluation of the model on sts-dev dataset in epoch 0 after 10 steps:\n",
      "2022-07-04 14:59:58 - Accuracy with Cosine-Similarity:           74.37\t(Threshold: 0.7074)\n",
      "2022-07-04 14:59:58 - F1 with Cosine-Similarity:                 80.41\t(Threshold: 0.6423)\n",
      "2022-07-04 14:59:58 - Precision with Cosine-Similarity:          69.59\n",
      "2022-07-04 14:59:58 - Recall with Cosine-Similarity:             95.20\n",
      "2022-07-04 14:59:58 - Average Precision with Cosine-Similarity:  82.45\n",
      "\n",
      "2022-07-04 14:59:58 - Accuracy with Manhatten-Distance:           73.37\t(Threshold: 575.3694)\n",
      "2022-07-04 14:59:58 - F1 with Manhatten-Distance:                 80.41\t(Threshold: 653.1539)\n",
      "2022-07-04 14:59:58 - Precision with Manhatten-Distance:          69.59\n",
      "2022-07-04 14:59:58 - Recall with Manhatten-Distance:             95.20\n",
      "2022-07-04 14:59:58 - Average Precision with Manhatten-Distance:  82.38\n",
      "\n",
      "2022-07-04 14:59:58 - Accuracy with Euclidean-Distance:           72.86\t(Threshold: 23.0154)\n",
      "2022-07-04 14:59:58 - F1 with Euclidean-Distance:                 80.41\t(Threshold: 25.6626)\n",
      "2022-07-04 14:59:58 - Precision with Euclidean-Distance:          69.59\n",
      "2022-07-04 14:59:58 - Recall with Euclidean-Distance:             95.20\n",
      "2022-07-04 14:59:58 - Average Precision with Euclidean-Distance:  82.55\n",
      "\n",
      "2022-07-04 14:59:58 - Accuracy with Dot-Product:           72.86\t(Threshold: 646.8206)\n",
      "2022-07-04 14:59:58 - F1 with Dot-Product:                 80.53\t(Threshold: 567.3636)\n",
      "2022-07-04 14:59:58 - Precision with Dot-Product:          68.54\n",
      "2022-07-04 14:59:58 - Recall with Dot-Product:             97.60\n",
      "2022-07-04 14:59:58 - Average Precision with Dot-Product:  81.58\n",
      "\n",
      "2022-07-04 14:59:58 - Save model to ../../data-ceph/arguana/argmining22-sharedtask/models//task-A/validity/sbert/sentence-transformers/nli-roberta-large--2022-07-04_14-59-48\n",
      "2022-07-04 15:00:30 - Binary Accuracy Evaluation of the model on sts-dev dataset in epoch 0 after 20 steps:\n",
      "2022-07-04 15:00:30 - Accuracy with Cosine-Similarity:           73.87\t(Threshold: 0.7290)\n",
      "2022-07-04 15:00:30 - F1 with Cosine-Similarity:                 80.29\t(Threshold: 0.7162)\n",
      "2022-07-04 15:00:30 - Precision with Cosine-Similarity:          73.83\n",
      "2022-07-04 15:00:30 - Recall with Cosine-Similarity:             88.00\n",
      "2022-07-04 15:00:30 - Average Precision with Cosine-Similarity:  82.17\n",
      "\n",
      "2022-07-04 15:00:30 - Accuracy with Manhatten-Distance:           72.86\t(Threshold: 566.7130)\n",
      "2022-07-04 15:00:30 - F1 with Manhatten-Distance:                 80.43\t(Threshold: 582.8727)\n",
      "2022-07-04 15:00:30 - Precision with Manhatten-Distance:          73.51\n",
      "2022-07-04 15:00:30 - Recall with Manhatten-Distance:             88.80\n",
      "2022-07-04 15:00:30 - Average Precision with Manhatten-Distance:  82.26\n",
      "\n",
      "2022-07-04 15:00:30 - Accuracy with Euclidean-Distance:           73.87\t(Threshold: 22.4816)\n",
      "2022-07-04 15:00:30 - F1 with Euclidean-Distance:                 80.74\t(Threshold: 22.6411)\n",
      "2022-07-04 15:00:30 - Precision with Euclidean-Distance:          75.17\n",
      "2022-07-04 15:00:30 - Recall with Euclidean-Distance:             87.20\n",
      "2022-07-04 15:00:30 - Average Precision with Euclidean-Distance:  82.41\n",
      "\n",
      "2022-07-04 15:00:30 - Accuracy with Dot-Product:           72.36\t(Threshold: 651.7177)\n",
      "2022-07-04 15:00:30 - F1 with Dot-Product:                 80.79\t(Threshold: 601.6199)\n",
      "2022-07-04 15:00:30 - Precision with Dot-Product:          68.93\n",
      "2022-07-04 15:00:30 - Recall with Dot-Product:             97.60\n",
      "2022-07-04 15:00:30 - Average Precision with Dot-Product:  81.34\n",
      "\n",
      "2022-07-04 15:00:30 - Binary Accuracy Evaluation of the model on sts-dev dataset after epoch 0:\n",
      "2022-07-04 15:00:31 - Accuracy with Cosine-Similarity:           73.87\t(Threshold: 0.7300)\n",
      "2022-07-04 15:00:31 - F1 with Cosine-Similarity:                 80.59\t(Threshold: 0.7174)\n",
      "2022-07-04 15:00:31 - Precision with Cosine-Similarity:          74.32\n",
      "2022-07-04 15:00:31 - Recall with Cosine-Similarity:             88.00\n",
      "2022-07-04 15:00:31 - Average Precision with Cosine-Similarity:  82.19\n",
      "\n",
      "2022-07-04 15:00:31 - Accuracy with Manhatten-Distance:           73.37\t(Threshold: 566.3728)\n",
      "2022-07-04 15:00:31 - F1 with Manhatten-Distance:                 80.43\t(Threshold: 581.3123)\n",
      "2022-07-04 15:00:31 - Precision with Manhatten-Distance:          73.51\n",
      "2022-07-04 15:00:31 - Recall with Manhatten-Distance:             88.80\n",
      "2022-07-04 15:00:31 - Average Precision with Manhatten-Distance:  82.28\n",
      "\n",
      "2022-07-04 15:00:31 - Accuracy with Euclidean-Distance:           73.87\t(Threshold: 22.4256)\n",
      "2022-07-04 15:00:31 - F1 with Euclidean-Distance:                 80.74\t(Threshold: 22.6159)\n",
      "2022-07-04 15:00:31 - Precision with Euclidean-Distance:          75.17\n",
      "2022-07-04 15:00:31 - Recall with Euclidean-Distance:             87.20\n",
      "2022-07-04 15:00:31 - Average Precision with Euclidean-Distance:  82.39\n",
      "\n",
      "2022-07-04 15:00:31 - Accuracy with Dot-Product:           72.36\t(Threshold: 652.9025)\n",
      "2022-07-04 15:00:31 - F1 with Dot-Product:                 80.79\t(Threshold: 602.9967)\n",
      "2022-07-04 15:00:31 - Precision with Dot-Product:          68.93\n",
      "2022-07-04 15:00:31 - Recall with Dot-Product:             97.60\n",
      "2022-07-04 15:00:31 - Average Precision with Dot-Product:  81.32\n",
      "\n"
     ]
    },
    {
     "data": {
      "application/vnd.jupyter.widget-view+json": {
       "model_id": "4de57487fd434d09a86f7f5a2769916b",
       "version_major": 2,
       "version_minor": 0
      },
      "text/plain": [
       "Batches:   0%|          | 0/7 [00:00<?, ?it/s]"
      ]
     },
     "metadata": {},
     "output_type": "display_data"
    },
    {
     "data": {
      "application/vnd.jupyter.widget-view+json": {
       "model_id": "1fb966b2884e42d1b7c28fa0d3d35cf0",
       "version_major": 2,
       "version_minor": 0
      },
      "text/plain": [
       "Batches:   0%|          | 0/7 [00:00<?, ?it/s]"
      ]
     },
     "metadata": {},
     "output_type": "display_data"
    },
    {
     "name": "stdout",
     "output_type": "stream",
     "text": [
      "Precision: 0.6410256410256411, Recall 1.0, F1: 0.7812500000000001\n",
      "2022-07-04 15:00:39 - Use pytorch device: cuda\n",
      "2022-07-04 15:00:39 - Read Triplet train dataset\n",
      "Len of training: 721\n",
      "Len of Dev: 199\n",
      "Evaluating before start learning.....\n",
      "2022-07-04 15:00:39 - Binary Accuracy Evaluation of the model on sts-dev dataset:\n",
      "2022-07-04 15:00:39 - Accuracy with Cosine-Similarity:           72.36\t(Threshold: 0.6503)\n",
      "2022-07-04 15:00:39 - F1 with Cosine-Similarity:                 80.69\t(Threshold: 0.5985)\n",
      "2022-07-04 15:00:39 - Precision with Cosine-Similarity:          70.91\n",
      "2022-07-04 15:00:39 - Recall with Cosine-Similarity:             93.60\n",
      "2022-07-04 15:00:39 - Average Precision with Cosine-Similarity:  82.54\n",
      "\n",
      "2022-07-04 15:00:39 - Accuracy with Manhatten-Distance:           72.36\t(Threshold: 646.3732)\n",
      "2022-07-04 15:00:39 - F1 with Manhatten-Distance:                 80.56\t(Threshold: 679.7071)\n",
      "2022-07-04 15:00:39 - Precision with Manhatten-Distance:          71.17\n",
      "2022-07-04 15:00:39 - Recall with Manhatten-Distance:             92.80\n",
      "2022-07-04 15:00:39 - Average Precision with Manhatten-Distance:  82.44\n",
      "\n",
      "2022-07-04 15:00:39 - Accuracy with Euclidean-Distance:           72.86\t(Threshold: 26.3806)\n",
      "2022-07-04 15:00:39 - F1 with Euclidean-Distance:                 80.71\t(Threshold: 26.3806)\n",
      "2022-07-04 15:00:39 - Precision with Euclidean-Distance:          72.90\n",
      "2022-07-04 15:00:39 - Recall with Euclidean-Distance:             90.40\n",
      "2022-07-04 15:00:39 - Average Precision with Euclidean-Distance:  82.79\n",
      "\n",
      "2022-07-04 15:00:39 - Accuracy with Dot-Product:           73.37\t(Threshold: 595.3230)\n",
      "2022-07-04 15:00:39 - F1 with Dot-Product:                 80.81\t(Threshold: 528.4840)\n",
      "2022-07-04 15:00:39 - Precision with Dot-Product:          69.77\n",
      "2022-07-04 15:00:39 - Recall with Dot-Product:             96.00\n",
      "2022-07-04 15:00:39 - Average Precision with Dot-Product:  81.82\n",
      "\n",
      "====== Start Training =======\n"
     ]
    },
    {
     "name": "stderr",
     "output_type": "stream",
     "text": [
      "/usr/local/lib/python3.8/dist-packages/transformers/optimization.py:306: FutureWarning: This implementation of AdamW is deprecated and will be removed in a future version. Use the PyTorch implementation torch.optim.AdamW instead, or set `no_deprecation_warning=True` to disable this warning\n",
      "  warnings.warn(\n"
     ]
    },
    {
     "data": {
      "application/vnd.jupyter.widget-view+json": {
       "model_id": "e05348beb27f442bacaad6082a8a7a7b",
       "version_major": 2,
       "version_minor": 0
      },
      "text/plain": [
       "Epoch:   0%|          | 0/1 [00:00<?, ?it/s]"
      ]
     },
     "metadata": {},
     "output_type": "display_data"
    },
    {
     "data": {
      "application/vnd.jupyter.widget-view+json": {
       "model_id": "e27b8634be624c1da6e7939ce43a5025",
       "version_major": 2,
       "version_minor": 0
      },
      "text/plain": [
       "Iteration:   0%|          | 0/23 [00:00<?, ?it/s]"
      ]
     },
     "metadata": {},
     "output_type": "display_data"
    },
    {
     "name": "stdout",
     "output_type": "stream",
     "text": [
      "2022-07-04 15:00:41 - Binary Accuracy Evaluation of the model on sts-dev dataset in epoch 0 after 10 steps:\n",
      "2022-07-04 15:00:41 - Accuracy with Cosine-Similarity:           72.36\t(Threshold: 0.7093)\n",
      "2022-07-04 15:00:41 - F1 with Cosine-Similarity:                 80.29\t(Threshold: 0.6698)\n",
      "2022-07-04 15:00:41 - Precision with Cosine-Similarity:          72.73\n",
      "2022-07-04 15:00:41 - Recall with Cosine-Similarity:             89.60\n",
      "2022-07-04 15:00:41 - Average Precision with Cosine-Similarity:  82.13\n",
      "\n",
      "2022-07-04 15:00:41 - Accuracy with Manhatten-Distance:           72.36\t(Threshold: 573.3354)\n",
      "2022-07-04 15:00:41 - F1 with Manhatten-Distance:                 80.28\t(Threshold: 625.2722)\n",
      "2022-07-04 15:00:41 - Precision with Manhatten-Distance:          71.70\n",
      "2022-07-04 15:00:41 - Recall with Manhatten-Distance:             91.20\n",
      "2022-07-04 15:00:41 - Average Precision with Manhatten-Distance:  82.17\n",
      "\n",
      "2022-07-04 15:00:41 - Accuracy with Euclidean-Distance:           72.86\t(Threshold: 22.5893)\n",
      "2022-07-04 15:00:41 - F1 with Euclidean-Distance:                 80.41\t(Threshold: 25.9639)\n",
      "2022-07-04 15:00:41 - Precision with Euclidean-Distance:          69.59\n",
      "2022-07-04 15:00:41 - Recall with Euclidean-Distance:             95.20\n",
      "2022-07-04 15:00:41 - Average Precision with Euclidean-Distance:  82.43\n",
      "\n",
      "2022-07-04 15:00:41 - Accuracy with Dot-Product:           72.86\t(Threshold: 636.2261)\n",
      "2022-07-04 15:00:41 - F1 with Dot-Product:                 80.26\t(Threshold: 558.8233)\n",
      "2022-07-04 15:00:41 - Precision with Dot-Product:          68.16\n",
      "2022-07-04 15:00:41 - Recall with Dot-Product:             97.60\n",
      "2022-07-04 15:00:41 - Average Precision with Dot-Product:  81.69\n",
      "\n",
      "2022-07-04 15:00:41 - Save model to ../../data-ceph/arguana/argmining22-sharedtask/models//task-A/validity/sbert/sentence-transformers/nli-roberta-large--2022-07-04_15-00-31\n",
      "2022-07-04 15:01:14 - Binary Accuracy Evaluation of the model on sts-dev dataset in epoch 0 after 20 steps:\n",
      "2022-07-04 15:01:14 - Accuracy with Cosine-Similarity:           72.36\t(Threshold: 0.7229)\n",
      "2022-07-04 15:01:14 - F1 with Cosine-Similarity:                 80.14\t(Threshold: 0.7007)\n",
      "2022-07-04 15:01:14 - Precision with Cosine-Similarity:          73.03\n",
      "2022-07-04 15:01:14 - Recall with Cosine-Similarity:             88.80\n",
      "2022-07-04 15:01:14 - Average Precision with Cosine-Similarity:  82.02\n",
      "\n",
      "2022-07-04 15:01:14 - Accuracy with Manhatten-Distance:           72.36\t(Threshold: 577.5685)\n",
      "2022-07-04 15:01:14 - F1 with Manhatten-Distance:                 80.43\t(Threshold: 594.8748)\n",
      "2022-07-04 15:01:14 - Precision with Manhatten-Distance:          72.44\n",
      "2022-07-04 15:01:14 - Recall with Manhatten-Distance:             90.40\n",
      "2022-07-04 15:01:14 - Average Precision with Manhatten-Distance:  82.04\n",
      "\n",
      "2022-07-04 15:01:14 - Accuracy with Euclidean-Distance:           72.36\t(Threshold: 22.0861)\n",
      "2022-07-04 15:01:14 - F1 with Euclidean-Distance:                 80.14\t(Threshold: 23.4564)\n",
      "2022-07-04 15:01:14 - Precision with Euclidean-Distance:          73.03\n",
      "2022-07-04 15:01:14 - Recall with Euclidean-Distance:             88.80\n",
      "2022-07-04 15:01:14 - Average Precision with Euclidean-Distance:  82.21\n",
      "\n",
      "2022-07-04 15:01:14 - Accuracy with Dot-Product:           72.36\t(Threshold: 646.1876)\n",
      "2022-07-04 15:01:14 - F1 with Dot-Product:                 80.53\t(Threshold: 594.3888)\n",
      "2022-07-04 15:01:14 - Precision with Dot-Product:          68.54\n",
      "2022-07-04 15:01:14 - Recall with Dot-Product:             97.60\n",
      "2022-07-04 15:01:14 - Average Precision with Dot-Product:  81.17\n",
      "\n",
      "2022-07-04 15:01:15 - Binary Accuracy Evaluation of the model on sts-dev dataset after epoch 0:\n",
      "2022-07-04 15:01:15 - Accuracy with Cosine-Similarity:           72.36\t(Threshold: 0.7244)\n",
      "2022-07-04 15:01:15 - F1 with Cosine-Similarity:                 80.14\t(Threshold: 0.7023)\n",
      "2022-07-04 15:01:15 - Precision with Cosine-Similarity:          73.03\n",
      "2022-07-04 15:01:15 - Recall with Cosine-Similarity:             88.80\n",
      "2022-07-04 15:01:15 - Average Precision with Cosine-Similarity:  82.03\n",
      "\n",
      "2022-07-04 15:01:15 - Accuracy with Manhatten-Distance:           72.36\t(Threshold: 576.1720)\n",
      "2022-07-04 15:01:15 - F1 with Manhatten-Distance:                 80.43\t(Threshold: 593.4671)\n",
      "2022-07-04 15:01:15 - Precision with Manhatten-Distance:          72.44\n",
      "2022-07-04 15:01:15 - Recall with Manhatten-Distance:             90.40\n",
      "2022-07-04 15:01:15 - Average Precision with Manhatten-Distance:  82.03\n",
      "\n",
      "2022-07-04 15:01:15 - Accuracy with Euclidean-Distance:           72.36\t(Threshold: 22.0298)\n",
      "2022-07-04 15:01:15 - F1 with Euclidean-Distance:                 80.14\t(Threshold: 23.3956)\n",
      "2022-07-04 15:01:15 - Precision with Euclidean-Distance:          73.03\n",
      "2022-07-04 15:01:15 - Recall with Euclidean-Distance:             88.80\n",
      "2022-07-04 15:01:15 - Average Precision with Euclidean-Distance:  82.21\n",
      "\n",
      "2022-07-04 15:01:15 - Accuracy with Dot-Product:           72.36\t(Threshold: 647.6190)\n",
      "2022-07-04 15:01:15 - F1 with Dot-Product:                 80.53\t(Threshold: 596.1226)\n",
      "2022-07-04 15:01:15 - Precision with Dot-Product:          68.54\n",
      "2022-07-04 15:01:15 - Recall with Dot-Product:             97.60\n",
      "2022-07-04 15:01:15 - Average Precision with Dot-Product:  81.17\n",
      "\n"
     ]
    },
    {
     "data": {
      "application/vnd.jupyter.widget-view+json": {
       "model_id": "e29ab2b2b68f41f4bd615c853b4e3723",
       "version_major": 2,
       "version_minor": 0
      },
      "text/plain": [
       "Batches:   0%|          | 0/7 [00:00<?, ?it/s]"
      ]
     },
     "metadata": {},
     "output_type": "display_data"
    },
    {
     "data": {
      "application/vnd.jupyter.widget-view+json": {
       "model_id": "cbbadca6cd184e1b97fd64d37d447109",
       "version_major": 2,
       "version_minor": 0
      },
      "text/plain": [
       "Batches:   0%|          | 0/7 [00:00<?, ?it/s]"
      ]
     },
     "metadata": {},
     "output_type": "display_data"
    },
    {
     "name": "stdout",
     "output_type": "stream",
     "text": [
      "Precision: 0.6410256410256411, Recall 1.0, F1: 0.7812500000000001\n",
      "2022-07-04 15:01:23 - Use pytorch device: cuda\n",
      "2022-07-04 15:01:23 - Read Triplet train dataset\n",
      "Len of training: 721\n",
      "Len of Dev: 199\n",
      "Evaluating before start learning.....\n",
      "2022-07-04 15:01:23 - Binary Accuracy Evaluation of the model on sts-dev dataset:\n",
      "2022-07-04 15:01:23 - Accuracy with Cosine-Similarity:           72.36\t(Threshold: 0.6503)\n",
      "2022-07-04 15:01:23 - F1 with Cosine-Similarity:                 80.69\t(Threshold: 0.5985)\n",
      "2022-07-04 15:01:23 - Precision with Cosine-Similarity:          70.91\n",
      "2022-07-04 15:01:23 - Recall with Cosine-Similarity:             93.60\n",
      "2022-07-04 15:01:23 - Average Precision with Cosine-Similarity:  82.54\n",
      "\n",
      "2022-07-04 15:01:23 - Accuracy with Manhatten-Distance:           72.36\t(Threshold: 646.3732)\n",
      "2022-07-04 15:01:23 - F1 with Manhatten-Distance:                 80.56\t(Threshold: 679.7071)\n",
      "2022-07-04 15:01:23 - Precision with Manhatten-Distance:          71.17\n",
      "2022-07-04 15:01:23 - Recall with Manhatten-Distance:             92.80\n",
      "2022-07-04 15:01:23 - Average Precision with Manhatten-Distance:  82.44\n",
      "\n",
      "2022-07-04 15:01:23 - Accuracy with Euclidean-Distance:           72.86\t(Threshold: 26.3806)\n",
      "2022-07-04 15:01:23 - F1 with Euclidean-Distance:                 80.71\t(Threshold: 26.3806)\n",
      "2022-07-04 15:01:23 - Precision with Euclidean-Distance:          72.90\n",
      "2022-07-04 15:01:23 - Recall with Euclidean-Distance:             90.40\n",
      "2022-07-04 15:01:23 - Average Precision with Euclidean-Distance:  82.79\n",
      "\n",
      "2022-07-04 15:01:23 - Accuracy with Dot-Product:           73.37\t(Threshold: 595.3230)\n",
      "2022-07-04 15:01:23 - F1 with Dot-Product:                 80.81\t(Threshold: 528.4840)\n",
      "2022-07-04 15:01:23 - Precision with Dot-Product:          69.77\n",
      "2022-07-04 15:01:23 - Recall with Dot-Product:             96.00\n",
      "2022-07-04 15:01:23 - Average Precision with Dot-Product:  81.82\n",
      "\n",
      "====== Start Training =======\n"
     ]
    },
    {
     "name": "stderr",
     "output_type": "stream",
     "text": [
      "/usr/local/lib/python3.8/dist-packages/transformers/optimization.py:306: FutureWarning: This implementation of AdamW is deprecated and will be removed in a future version. Use the PyTorch implementation torch.optim.AdamW instead, or set `no_deprecation_warning=True` to disable this warning\n",
      "  warnings.warn(\n"
     ]
    },
    {
     "data": {
      "application/vnd.jupyter.widget-view+json": {
       "model_id": "3aaa90c55e284355909e52a126b3e97a",
       "version_major": 2,
       "version_minor": 0
      },
      "text/plain": [
       "Epoch:   0%|          | 0/1 [00:00<?, ?it/s]"
      ]
     },
     "metadata": {},
     "output_type": "display_data"
    },
    {
     "data": {
      "application/vnd.jupyter.widget-view+json": {
       "model_id": "fdcf777e66c449818537d9dcb43768f6",
       "version_major": 2,
       "version_minor": 0
      },
      "text/plain": [
       "Iteration:   0%|          | 0/23 [00:00<?, ?it/s]"
      ]
     },
     "metadata": {},
     "output_type": "display_data"
    },
    {
     "name": "stdout",
     "output_type": "stream",
     "text": [
      "2022-07-04 15:01:25 - Binary Accuracy Evaluation of the model on sts-dev dataset in epoch 0 after 10 steps:\n",
      "2022-07-04 15:01:25 - Accuracy with Cosine-Similarity:           73.87\t(Threshold: 0.7043)\n",
      "2022-07-04 15:01:25 - F1 with Cosine-Similarity:                 80.58\t(Threshold: 0.6747)\n",
      "2022-07-04 15:01:25 - Precision with Cosine-Similarity:          73.20\n",
      "2022-07-04 15:01:25 - Recall with Cosine-Similarity:             89.60\n",
      "2022-07-04 15:01:25 - Average Precision with Cosine-Similarity:  82.43\n",
      "\n",
      "2022-07-04 15:01:25 - Accuracy with Manhatten-Distance:           73.37\t(Threshold: 593.6807)\n",
      "2022-07-04 15:01:25 - F1 with Manhatten-Distance:                 80.43\t(Threshold: 619.1473)\n",
      "2022-07-04 15:01:25 - Precision with Manhatten-Distance:          72.44\n",
      "2022-07-04 15:01:25 - Recall with Manhatten-Distance:             90.40\n",
      "2022-07-04 15:01:25 - Average Precision with Manhatten-Distance:  82.42\n",
      "\n",
      "2022-07-04 15:01:25 - Accuracy with Euclidean-Distance:           72.86\t(Threshold: 23.1316)\n",
      "2022-07-04 15:01:25 - F1 with Euclidean-Distance:                 80.41\t(Threshold: 25.8913)\n",
      "2022-07-04 15:01:25 - Precision with Euclidean-Distance:          69.59\n",
      "2022-07-04 15:01:25 - Recall with Euclidean-Distance:             95.20\n",
      "2022-07-04 15:01:25 - Average Precision with Euclidean-Distance:  82.51\n",
      "\n",
      "2022-07-04 15:01:25 - Accuracy with Dot-Product:           72.86\t(Threshold: 630.5044)\n",
      "2022-07-04 15:01:25 - F1 with Dot-Product:                 80.39\t(Threshold: 553.2531)\n",
      "2022-07-04 15:01:25 - Precision with Dot-Product:          67.96\n",
      "2022-07-04 15:01:25 - Recall with Dot-Product:             98.40\n",
      "2022-07-04 15:01:25 - Average Precision with Dot-Product:  81.69\n",
      "\n",
      "2022-07-04 15:01:25 - Save model to ../../data-ceph/arguana/argmining22-sharedtask/models//task-A/validity/sbert/sentence-transformers/nli-roberta-large--2022-07-04_15-01-15\n",
      "2022-07-04 15:01:56 - Binary Accuracy Evaluation of the model on sts-dev dataset in epoch 0 after 20 steps:\n",
      "2022-07-04 15:01:56 - Accuracy with Cosine-Similarity:           72.86\t(Threshold: 0.7312)\n",
      "2022-07-04 15:01:56 - F1 with Cosine-Similarity:                 80.15\t(Threshold: 0.7105)\n",
      "2022-07-04 15:01:56 - Precision with Cosine-Similarity:          74.15\n",
      "2022-07-04 15:01:56 - Recall with Cosine-Similarity:             87.20\n",
      "2022-07-04 15:01:56 - Average Precision with Cosine-Similarity:  82.13\n",
      "\n",
      "2022-07-04 15:01:56 - Accuracy with Manhatten-Distance:           72.86\t(Threshold: 571.2061)\n",
      "2022-07-04 15:01:56 - F1 with Manhatten-Distance:                 80.43\t(Threshold: 593.5029)\n",
      "2022-07-04 15:01:56 - Precision with Manhatten-Distance:          72.44\n",
      "2022-07-04 15:01:56 - Recall with Manhatten-Distance:             90.40\n",
      "2022-07-04 15:01:56 - Average Precision with Manhatten-Distance:  82.12\n",
      "\n",
      "2022-07-04 15:01:56 - Accuracy with Euclidean-Distance:           73.37\t(Threshold: 22.5898)\n",
      "2022-07-04 15:01:56 - F1 with Euclidean-Distance:                 80.13\t(Threshold: 25.0358)\n",
      "2022-07-04 15:01:56 - Precision with Euclidean-Distance:          69.19\n",
      "2022-07-04 15:01:56 - Recall with Euclidean-Distance:             95.20\n",
      "2022-07-04 15:01:56 - Average Precision with Euclidean-Distance:  82.35\n",
      "\n",
      "2022-07-04 15:01:56 - Accuracy with Dot-Product:           72.36\t(Threshold: 644.8395)\n",
      "2022-07-04 15:01:56 - F1 with Dot-Product:                 80.39\t(Threshold: 577.9666)\n",
      "2022-07-04 15:01:56 - Precision with Dot-Product:          67.96\n",
      "2022-07-04 15:01:56 - Recall with Dot-Product:             98.40\n",
      "2022-07-04 15:01:56 - Average Precision with Dot-Product:  81.39\n",
      "\n",
      "2022-07-04 15:01:57 - Binary Accuracy Evaluation of the model on sts-dev dataset after epoch 0:\n",
      "2022-07-04 15:01:57 - Accuracy with Cosine-Similarity:           72.86\t(Threshold: 0.7327)\n",
      "2022-07-04 15:01:57 - F1 with Cosine-Similarity:                 80.15\t(Threshold: 0.7120)\n",
      "2022-07-04 15:01:57 - Precision with Cosine-Similarity:          74.15\n",
      "2022-07-04 15:01:57 - Recall with Cosine-Similarity:             87.20\n",
      "2022-07-04 15:01:57 - Average Precision with Cosine-Similarity:  82.09\n",
      "\n",
      "2022-07-04 15:01:57 - Accuracy with Manhatten-Distance:           72.86\t(Threshold: 570.4109)\n",
      "2022-07-04 15:01:57 - F1 with Manhatten-Distance:                 80.43\t(Threshold: 591.9802)\n",
      "2022-07-04 15:01:57 - Precision with Manhatten-Distance:          72.44\n",
      "2022-07-04 15:01:57 - Recall with Manhatten-Distance:             90.40\n",
      "2022-07-04 15:01:57 - Average Precision with Manhatten-Distance:  82.13\n",
      "\n",
      "2022-07-04 15:01:57 - Accuracy with Euclidean-Distance:           73.37\t(Threshold: 22.6002)\n",
      "2022-07-04 15:01:57 - F1 with Euclidean-Distance:                 80.13\t(Threshold: 24.9860)\n",
      "2022-07-04 15:01:57 - Precision with Euclidean-Distance:          69.19\n",
      "2022-07-04 15:01:57 - Recall with Euclidean-Distance:             95.20\n",
      "2022-07-04 15:01:57 - Average Precision with Euclidean-Distance:  82.35\n",
      "\n",
      "2022-07-04 15:01:57 - Accuracy with Dot-Product:           72.36\t(Threshold: 646.7670)\n",
      "2022-07-04 15:01:57 - F1 with Dot-Product:                 80.53\t(Threshold: 594.1367)\n",
      "2022-07-04 15:01:57 - Precision with Dot-Product:          68.54\n",
      "2022-07-04 15:01:57 - Recall with Dot-Product:             97.60\n",
      "2022-07-04 15:01:57 - Average Precision with Dot-Product:  81.36\n",
      "\n"
     ]
    },
    {
     "data": {
      "application/vnd.jupyter.widget-view+json": {
       "model_id": "8d7c6a8238b746f3b9c92887a39b828d",
       "version_major": 2,
       "version_minor": 0
      },
      "text/plain": [
       "Batches:   0%|          | 0/7 [00:00<?, ?it/s]"
      ]
     },
     "metadata": {},
     "output_type": "display_data"
    },
    {
     "data": {
      "application/vnd.jupyter.widget-view+json": {
       "model_id": "2ec205df283145f3a38c6cd278ec1274",
       "version_major": 2,
       "version_minor": 0
      },
      "text/plain": [
       "Batches:   0%|          | 0/7 [00:00<?, ?it/s]"
      ]
     },
     "metadata": {},
     "output_type": "display_data"
    },
    {
     "name": "stdout",
     "output_type": "stream",
     "text": [
      "Precision: 0.6410256410256411, Recall 1.0, F1: 0.7812500000000001\n",
      "2022-07-04 15:02:05 - Use pytorch device: cuda\n",
      "2022-07-04 15:02:05 - Read Triplet train dataset\n",
      "Len of training: 721\n",
      "Len of Dev: 199\n",
      "Evaluating before start learning.....\n",
      "2022-07-04 15:02:05 - Binary Accuracy Evaluation of the model on sts-dev dataset:\n",
      "2022-07-04 15:02:05 - Accuracy with Cosine-Similarity:           72.36\t(Threshold: 0.6503)\n",
      "2022-07-04 15:02:05 - F1 with Cosine-Similarity:                 80.69\t(Threshold: 0.5985)\n",
      "2022-07-04 15:02:05 - Precision with Cosine-Similarity:          70.91\n",
      "2022-07-04 15:02:05 - Recall with Cosine-Similarity:             93.60\n",
      "2022-07-04 15:02:05 - Average Precision with Cosine-Similarity:  82.54\n",
      "\n",
      "2022-07-04 15:02:05 - Accuracy with Manhatten-Distance:           72.36\t(Threshold: 646.3732)\n",
      "2022-07-04 15:02:05 - F1 with Manhatten-Distance:                 80.56\t(Threshold: 679.7071)\n",
      "2022-07-04 15:02:05 - Precision with Manhatten-Distance:          71.17\n",
      "2022-07-04 15:02:05 - Recall with Manhatten-Distance:             92.80\n",
      "2022-07-04 15:02:05 - Average Precision with Manhatten-Distance:  82.44\n",
      "\n",
      "2022-07-04 15:02:05 - Accuracy with Euclidean-Distance:           72.86\t(Threshold: 26.3806)\n",
      "2022-07-04 15:02:05 - F1 with Euclidean-Distance:                 80.71\t(Threshold: 26.3806)\n",
      "2022-07-04 15:02:05 - Precision with Euclidean-Distance:          72.90\n",
      "2022-07-04 15:02:05 - Recall with Euclidean-Distance:             90.40\n",
      "2022-07-04 15:02:05 - Average Precision with Euclidean-Distance:  82.79\n",
      "\n",
      "2022-07-04 15:02:05 - Accuracy with Dot-Product:           73.37\t(Threshold: 595.3230)\n",
      "2022-07-04 15:02:05 - F1 with Dot-Product:                 80.81\t(Threshold: 528.4840)\n",
      "2022-07-04 15:02:05 - Precision with Dot-Product:          69.77\n",
      "2022-07-04 15:02:05 - Recall with Dot-Product:             96.00\n",
      "2022-07-04 15:02:05 - Average Precision with Dot-Product:  81.82\n",
      "\n",
      "====== Start Training =======\n"
     ]
    },
    {
     "name": "stderr",
     "output_type": "stream",
     "text": [
      "/usr/local/lib/python3.8/dist-packages/transformers/optimization.py:306: FutureWarning: This implementation of AdamW is deprecated and will be removed in a future version. Use the PyTorch implementation torch.optim.AdamW instead, or set `no_deprecation_warning=True` to disable this warning\n",
      "  warnings.warn(\n"
     ]
    },
    {
     "data": {
      "application/vnd.jupyter.widget-view+json": {
       "model_id": "8c9a14cab4524006a7cdfc5be17d77e0",
       "version_major": 2,
       "version_minor": 0
      },
      "text/plain": [
       "Epoch:   0%|          | 0/1 [00:00<?, ?it/s]"
      ]
     },
     "metadata": {},
     "output_type": "display_data"
    },
    {
     "data": {
      "application/vnd.jupyter.widget-view+json": {
       "model_id": "9e14d8554e6d4b4f9cd284be77976fc8",
       "version_major": 2,
       "version_minor": 0
      },
      "text/plain": [
       "Iteration:   0%|          | 0/23 [00:00<?, ?it/s]"
      ]
     },
     "metadata": {},
     "output_type": "display_data"
    },
    {
     "name": "stdout",
     "output_type": "stream",
     "text": [
      "2022-07-04 15:02:07 - Binary Accuracy Evaluation of the model on sts-dev dataset in epoch 0 after 10 steps:\n",
      "2022-07-04 15:02:07 - Accuracy with Cosine-Similarity:           72.86\t(Threshold: 0.7045)\n",
      "2022-07-04 15:02:07 - F1 with Cosine-Similarity:                 80.13\t(Threshold: 0.6373)\n",
      "2022-07-04 15:02:07 - Precision with Cosine-Similarity:          69.19\n",
      "2022-07-04 15:02:07 - Recall with Cosine-Similarity:             95.20\n",
      "2022-07-04 15:02:07 - Average Precision with Cosine-Similarity:  82.22\n",
      "\n",
      "2022-07-04 15:02:07 - Accuracy with Manhatten-Distance:           72.86\t(Threshold: 616.0450)\n",
      "2022-07-04 15:02:07 - F1 with Manhatten-Distance:                 80.71\t(Threshold: 616.0450)\n",
      "2022-07-04 15:02:07 - Precision with Manhatten-Distance:          72.90\n",
      "2022-07-04 15:02:07 - Recall with Manhatten-Distance:             90.40\n",
      "2022-07-04 15:02:07 - Average Precision with Manhatten-Distance:  82.26\n",
      "\n",
      "2022-07-04 15:02:07 - Accuracy with Euclidean-Distance:           72.36\t(Threshold: 23.1337)\n",
      "2022-07-04 15:02:07 - F1 with Euclidean-Distance:                 80.14\t(Threshold: 24.4580)\n",
      "2022-07-04 15:02:07 - Precision with Euclidean-Distance:          73.03\n",
      "2022-07-04 15:02:07 - Recall with Euclidean-Distance:             88.80\n",
      "2022-07-04 15:02:07 - Average Precision with Euclidean-Distance:  82.37\n",
      "\n",
      "2022-07-04 15:02:07 - Accuracy with Dot-Product:           72.36\t(Threshold: 637.6329)\n",
      "2022-07-04 15:02:07 - F1 with Dot-Product:                 80.67\t(Threshold: 572.9788)\n",
      "2022-07-04 15:02:07 - Precision with Dot-Product:          69.14\n",
      "2022-07-04 15:02:07 - Recall with Dot-Product:             96.80\n",
      "2022-07-04 15:02:07 - Average Precision with Dot-Product:  81.60\n",
      "\n",
      "2022-07-04 15:02:07 - Save model to ../../data-ceph/arguana/argmining22-sharedtask/models//task-A/validity/sbert/sentence-transformers/nli-roberta-large--2022-07-04_15-01-57\n",
      "2022-07-04 15:02:39 - Binary Accuracy Evaluation of the model on sts-dev dataset in epoch 0 after 20 steps:\n",
      "2022-07-04 15:02:39 - Accuracy with Cosine-Similarity:           74.37\t(Threshold: 0.7300)\n",
      "2022-07-04 15:02:39 - F1 with Cosine-Similarity:                 80.29\t(Threshold: 0.6967)\n",
      "2022-07-04 15:02:39 - Precision with Cosine-Similarity:          72.73\n",
      "2022-07-04 15:02:39 - Recall with Cosine-Similarity:             89.60\n",
      "2022-07-04 15:02:39 - Average Precision with Cosine-Similarity:  82.26\n",
      "\n",
      "2022-07-04 15:02:39 - Accuracy with Manhatten-Distance:           72.36\t(Threshold: 570.7942)\n",
      "2022-07-04 15:02:39 - F1 with Manhatten-Distance:                 80.28\t(Threshold: 600.3279)\n",
      "2022-07-04 15:02:39 - Precision with Manhatten-Distance:          71.70\n",
      "2022-07-04 15:02:39 - Recall with Manhatten-Distance:             91.20\n",
      "2022-07-04 15:02:39 - Average Precision with Manhatten-Distance:  82.15\n",
      "\n",
      "2022-07-04 15:02:39 - Accuracy with Euclidean-Distance:           72.86\t(Threshold: 22.3321)\n",
      "2022-07-04 15:02:39 - F1 with Euclidean-Distance:                 80.14\t(Threshold: 23.5328)\n",
      "2022-07-04 15:02:39 - Precision with Euclidean-Distance:          73.03\n",
      "2022-07-04 15:02:39 - Recall with Euclidean-Distance:             88.80\n",
      "2022-07-04 15:02:39 - Average Precision with Euclidean-Distance:  82.32\n",
      "\n",
      "2022-07-04 15:02:39 - Accuracy with Dot-Product:           72.36\t(Threshold: 662.2607)\n",
      "2022-07-04 15:02:39 - F1 with Dot-Product:                 81.06\t(Threshold: 598.6969)\n",
      "2022-07-04 15:02:39 - Precision with Dot-Product:          69.32\n",
      "2022-07-04 15:02:39 - Recall with Dot-Product:             97.60\n",
      "2022-07-04 15:02:39 - Average Precision with Dot-Product:  81.26\n",
      "\n",
      "2022-07-04 15:02:40 - Binary Accuracy Evaluation of the model on sts-dev dataset after epoch 0:\n",
      "2022-07-04 15:02:40 - Accuracy with Cosine-Similarity:           73.87\t(Threshold: 0.7316)\n",
      "2022-07-04 15:02:40 - F1 with Cosine-Similarity:                 80.29\t(Threshold: 0.6983)\n",
      "2022-07-04 15:02:40 - Precision with Cosine-Similarity:          72.73\n",
      "2022-07-04 15:02:40 - Recall with Cosine-Similarity:             89.60\n",
      "2022-07-04 15:02:40 - Average Precision with Cosine-Similarity:  82.25\n",
      "\n",
      "2022-07-04 15:02:40 - Accuracy with Manhatten-Distance:           72.36\t(Threshold: 569.7558)\n",
      "2022-07-04 15:02:40 - F1 with Manhatten-Distance:                 80.28\t(Threshold: 598.9428)\n",
      "2022-07-04 15:02:40 - Precision with Manhatten-Distance:          71.70\n",
      "2022-07-04 15:02:40 - Recall with Manhatten-Distance:             91.20\n",
      "2022-07-04 15:02:40 - Average Precision with Manhatten-Distance:  82.14\n",
      "\n",
      "2022-07-04 15:02:40 - Accuracy with Euclidean-Distance:           72.86\t(Threshold: 22.2740)\n",
      "2022-07-04 15:02:40 - F1 with Euclidean-Distance:                 80.14\t(Threshold: 23.4700)\n",
      "2022-07-04 15:02:40 - Precision with Euclidean-Distance:          73.03\n",
      "2022-07-04 15:02:40 - Recall with Euclidean-Distance:             88.80\n",
      "2022-07-04 15:02:40 - Average Precision with Euclidean-Distance:  82.29\n",
      "\n",
      "2022-07-04 15:02:40 - Accuracy with Dot-Product:           72.86\t(Threshold: 662.8815)\n",
      "2022-07-04 15:02:40 - F1 with Dot-Product:                 81.06\t(Threshold: 600.5024)\n",
      "2022-07-04 15:02:40 - Precision with Dot-Product:          69.32\n",
      "2022-07-04 15:02:40 - Recall with Dot-Product:             97.60\n",
      "2022-07-04 15:02:40 - Average Precision with Dot-Product:  81.24\n",
      "\n"
     ]
    },
    {
     "data": {
      "application/vnd.jupyter.widget-view+json": {
       "model_id": "088570ef6f194cdca6850baba22eab76",
       "version_major": 2,
       "version_minor": 0
      },
      "text/plain": [
       "Batches:   0%|          | 0/7 [00:00<?, ?it/s]"
      ]
     },
     "metadata": {},
     "output_type": "display_data"
    },
    {
     "data": {
      "application/vnd.jupyter.widget-view+json": {
       "model_id": "9e1c85a7198b47d081f46d14fa110359",
       "version_major": 2,
       "version_minor": 0
      },
      "text/plain": [
       "Batches:   0%|          | 0/7 [00:00<?, ?it/s]"
      ]
     },
     "metadata": {},
     "output_type": "display_data"
    },
    {
     "name": "stdout",
     "output_type": "stream",
     "text": [
      "Precision: 0.6410256410256411, Recall 1.0, F1: 0.7812500000000001\n"
     ]
    }
   ],
   "source": [
    "all_f1_scores = []\n",
    "for i in range(n):\n",
    "    trained_model, evaluator = sbert_training.train_model(taska_validity_train_df, taska_validity_valid_df, output_path + '/task-A/validity/sbert/', \n",
    "            'sentence-transformers/nli-roberta-large', \n",
    "            num_epochs=5, train_batch_size=32,\n",
    "            model_suffix='', max_seq_length=512, special_tokens=[], \n",
    "            loss='ContrastiveLoss', sentence_transformer=False, evaluation_steps=10)\n",
    "    \n",
    "    eval_df = sbert_training.predict_labels(taska_validity_valid_df, trained_model, 'Premise', 'Conclusion', 'pred_validity', 0.5)\n",
    "    \n",
    "    precision, recall, f1, _ = precision_recall_fscore_support(taska_validity_valid_df.Validity.tolist(), taska_validity_valid_df.pred_validity.tolist(), average='binary')\n",
    "    print('Precision: {}, Recall {}, F1: {}'.format(precision, recall, f1))\n",
    "    all_f1_scores.append(f1)"
   ]
  },
  {
   "cell_type": "code",
   "execution_count": 22,
   "metadata": {},
   "outputs": [
    {
     "name": "stdout",
     "output_type": "stream",
     "text": [
      "Average F1-score: 0.7812500000000001\n"
     ]
    }
   ],
   "source": [
    "print('Average F1-score: {}'.format(f1))"
   ]
  },
  {
   "cell_type": "markdown",
   "metadata": {},
   "source": [
    "### Evaluate sbert on Novelty:"
   ]
  },
  {
   "cell_type": "code",
   "execution_count": null,
   "metadata": {},
   "outputs": [],
   "source": [
    "all_f1_scores = []\n",
    "for i in range(n):\n",
    "    trained_model, evaluator = sbert_training.train_model(taska_validity_train_df, taska_validity_valid_df, output_path + '/task-A/validity/sbert/', \n",
    "            'sentence-transformers/nli-roberta-large', \n",
    "            num_epochs=5, train_batch_size=32,\n",
    "            model_suffix='', max_seq_length=512, special_tokens=[], \n",
    "            loss='ContrastiveLoss', sentence_transformer=False, evaluation_steps=10)\n",
    "    \n",
    "    eval_df = sbert_training.predict_labels(taska_validity_valid_df, trained_model, 'Premise', 'Conclusion', 'pred_validity', 0.5)\n",
    "    \n",
    "    precision, recall, f1, _ = precision_recall_fscore_support(taska_validity_valid_df.Validity.tolist(), taska_validity_valid_df.pred_validity.tolist(), average='binary')\n",
    "    print('Precision: {}, Recall {}, F1: {}'.format(precision, recall, f1))\n",
    "    all_f1_scores.append(f1)"
   ]
  }
 ],
 "metadata": {
  "kernelspec": {
   "display_name": "Python 3",
   "language": "python",
   "name": "python3"
  },
  "language_info": {
   "codemirror_mode": {
    "name": "ipython",
    "version": 3
   },
   "file_extension": ".py",
   "mimetype": "text/x-python",
   "name": "python",
   "nbconvert_exporter": "python",
   "pygments_lexer": "ipython3",
   "version": "3.8.10"
  }
 },
 "nbformat": 4,
 "nbformat_minor": 4
}
