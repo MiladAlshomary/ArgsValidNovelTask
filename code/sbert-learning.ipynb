{
 "cells": [
  {
   "cell_type": "code",
   "execution_count": 2,
   "metadata": {},
   "outputs": [],
   "source": [
    "import json\n",
    "import pandas as pd\n",
    "import numpy as np\n",
    "import sys\n",
    "\n",
    "pd.set_option('display.max_colwidth', None)\n",
    "sys.path.append('./src-py')"
   ]
  },
  {
   "cell_type": "code",
   "execution_count": 3,
   "metadata": {},
   "outputs": [],
   "source": [
    "import sbert_training"
   ]
  },
  {
   "cell_type": "code",
   "execution_count": 4,
   "metadata": {},
   "outputs": [],
   "source": [
    "from sentence_transformers import SentenceTransformer, InputExample, LoggingHandler, losses, models, util\n",
    "from sentence_transformers.evaluation import EmbeddingSimilarityEvaluator, BinaryClassificationEvaluator\n",
    "from torch.utils.data import DataLoader\n",
    "from sentence_transformers.evaluation import TripletEvaluator\n",
    "from datetime import datetime\n",
    "from zipfile import ZipFile\n",
    "\n",
    "from sentence_transformers.datasets import SentenceLabelDataset\n",
    "from sentence_transformers.datasets import NoDuplicatesDataLoader\n",
    "\n",
    "import logging\n",
    "\n",
    "logging.basicConfig(format='%(asctime)s - %(message)s',\n",
    "                    datefmt='%Y-%m-%d %H:%M:%S',\n",
    "                    level=logging.INFO,\n",
    "                    handlers=[LoggingHandler()])\n",
    "logger = logging.getLogger(__name__)"
   ]
  },
  {
   "cell_type": "code",
   "execution_count": 5,
   "metadata": {},
   "outputs": [],
   "source": [
    "taska_training_df = pd.read_csv('../data/TaskA_train.csv')\n",
    "taskb_training_df = pd.read_csv('../data/TaskB_train.csv')\n",
    "\n",
    "taska_valid_df = pd.read_csv('../data/TaskA_dev.csv')\n",
    "taskb_valid_df = pd.read_csv('../data/TaskB_dev.csv')"
   ]
  },
  {
   "cell_type": "code",
   "execution_count": 6,
   "metadata": {},
   "outputs": [],
   "source": [
    "#Mapping labels\n",
    "taska_training_df = taska_training_df[taska_training_df.Validity != 0]\n",
    "taska_valid_df    = taska_valid_df[taska_valid_df.Validity != 0]\n",
    "\n",
    "taska_training_df['label'] = taska_training_df.Validity.apply(lambda x : 1 if x == 1 else 0)\n",
    "taska_valid_df['label'] = taska_valid_df.Validity.apply(lambda x : 1 if x == 1 else 0)\n",
    "\n",
    "taska_training_df['Premise'] = taska_training_df.apply(lambda x: x['topic'] + ' : ' +  x['Premise'], axis=1)\n",
    "taska_valid_df['Premise'] = taska_valid_df.apply(lambda x: x['topic'] + ' : ' +  x['Premise'], axis=1)"
   ]
  },
  {
   "cell_type": "code",
   "execution_count": 7,
   "metadata": {},
   "outputs": [],
   "source": [
    "taska_training_df['input_txt'] = taska_training_df.apply(lambda x: '[CLS] {} [SEP] {} [SEP] {} [SEP]'.format(x['topic'], x['Premise'], x['Conclusion']), axis=1)"
   ]
  },
  {
   "cell_type": "code",
   "execution_count": 8,
   "metadata": {
    "scrolled": true,
    "tags": []
   },
   "outputs": [
    {
     "data": {
      "text/html": [
       "<div>\n",
       "<style scoped>\n",
       "    .dataframe tbody tr th:only-of-type {\n",
       "        vertical-align: middle;\n",
       "    }\n",
       "\n",
       "    .dataframe tbody tr th {\n",
       "        vertical-align: top;\n",
       "    }\n",
       "\n",
       "    .dataframe thead th {\n",
       "        text-align: right;\n",
       "    }\n",
       "</style>\n",
       "<table border=\"1\" class=\"dataframe\">\n",
       "  <thead>\n",
       "    <tr style=\"text-align: right;\">\n",
       "      <th></th>\n",
       "      <th>topic</th>\n",
       "      <th>Premise</th>\n",
       "      <th>Conclusion</th>\n",
       "      <th>Validity</th>\n",
       "      <th>Validity-Confidence</th>\n",
       "      <th>Novelty</th>\n",
       "      <th>Novelty-Confidence</th>\n",
       "      <th>label</th>\n",
       "      <th>input_txt</th>\n",
       "    </tr>\n",
       "  </thead>\n",
       "  <tbody>\n",
       "    <tr>\n",
       "      <th>0</th>\n",
       "      <td>TV viewing is harmful to children</td>\n",
       "      <td>TV viewing is harmful to children : The popularity of TV watching is among the reasons of this phenomenon. Violence, aggression, crimes and wars are broadcast through the daily news as well as in movies, showing dark pictures that encourage psychological tension, pessimism and negative emotions.</td>\n",
       "      <td>Depression is a well-known psychological problem of modern society that is partly caused by TV watching:</td>\n",
       "      <td>1</td>\n",
       "      <td>confident</td>\n",
       "      <td>1</td>\n",
       "      <td>confident</td>\n",
       "      <td>1</td>\n",
       "      <td>[CLS] TV viewing is harmful to children [SEP] TV viewing is harmful to children : The popularity of TV watching is among the reasons of this phenomenon. Violence, aggression, crimes and wars are broadcast through the daily news as well as in movies, showing dark pictures that encourage psychological tension, pessimism and negative emotions. [SEP] Depression is a well-known psychological problem of modern society that is partly caused by TV watching: [SEP]</td>\n",
       "    </tr>\n",
       "    <tr>\n",
       "      <th>1</th>\n",
       "      <td>TV viewing is harmful to children</td>\n",
       "      <td>TV viewing is harmful to children : The popularity of TV watching is among the reasons of this phenomenon. Violence, aggression, crimes and wars are broadcast through the daily news as well as in movies, showing dark pictures that encourage psychological tension, pessimism and negative emotions.</td>\n",
       "      <td>Children's TV viewing fosters negative emotions</td>\n",
       "      <td>1</td>\n",
       "      <td>very confident</td>\n",
       "      <td>-1</td>\n",
       "      <td>majority</td>\n",
       "      <td>1</td>\n",
       "      <td>[CLS] TV viewing is harmful to children [SEP] TV viewing is harmful to children : The popularity of TV watching is among the reasons of this phenomenon. Violence, aggression, crimes and wars are broadcast through the daily news as well as in movies, showing dark pictures that encourage psychological tension, pessimism and negative emotions. [SEP] Children's TV viewing fosters negative emotions [SEP]</td>\n",
       "    </tr>\n",
       "    <tr>\n",
       "      <th>2</th>\n",
       "      <td>TV viewing is harmful to children</td>\n",
       "      <td>TV viewing is harmful to children : The popularity of TV watching is among the reasons of this phenomenon. Violence, aggression, crimes and wars are broadcast through the daily news as well as in movies, showing dark pictures that encourage psychological tension, pessimism and negative emotions.</td>\n",
       "      <td>Popularity of TV is harmful to children</td>\n",
       "      <td>1</td>\n",
       "      <td>very confident</td>\n",
       "      <td>1</td>\n",
       "      <td>majority</td>\n",
       "      <td>1</td>\n",
       "      <td>[CLS] TV viewing is harmful to children [SEP] TV viewing is harmful to children : The popularity of TV watching is among the reasons of this phenomenon. Violence, aggression, crimes and wars are broadcast through the daily news as well as in movies, showing dark pictures that encourage psychological tension, pessimism and negative emotions. [SEP] Popularity of TV is harmful to children [SEP]</td>\n",
       "    </tr>\n",
       "    <tr>\n",
       "      <th>3</th>\n",
       "      <td>TV viewing is harmful to children</td>\n",
       "      <td>TV viewing is harmful to children : The popularity of TV watching is among the reasons of this phenomenon. Violence, aggression, crimes and wars are broadcast through the daily news as well as in movies, showing dark pictures that encourage psychological tension, pessimism and negative emotions.</td>\n",
       "      <td>Violence on TV and in movies encourages psychological stress</td>\n",
       "      <td>1</td>\n",
       "      <td>very confident</td>\n",
       "      <td>1</td>\n",
       "      <td>majority</td>\n",
       "      <td>1</td>\n",
       "      <td>[CLS] TV viewing is harmful to children [SEP] TV viewing is harmful to children : The popularity of TV watching is among the reasons of this phenomenon. Violence, aggression, crimes and wars are broadcast through the daily news as well as in movies, showing dark pictures that encourage psychological tension, pessimism and negative emotions. [SEP] Violence on TV and in movies encourages psychological stress [SEP]</td>\n",
       "    </tr>\n",
       "    <tr>\n",
       "      <th>4</th>\n",
       "      <td>TV viewing is harmful to children</td>\n",
       "      <td>TV viewing is harmful to children : The popularity of TV watching is among the reasons of this phenomenon. Violence, aggression, crimes and wars are broadcast through the daily news as well as in movies, showing dark pictures that encourage psychological tension, pessimism and negative emotions.</td>\n",
       "      <td>US-India deal does not cap or limit Indian fissile material production.</td>\n",
       "      <td>-1</td>\n",
       "      <td>very confident</td>\n",
       "      <td>-1</td>\n",
       "      <td>very confident</td>\n",
       "      <td>0</td>\n",
       "      <td>[CLS] TV viewing is harmful to children [SEP] TV viewing is harmful to children : The popularity of TV watching is among the reasons of this phenomenon. Violence, aggression, crimes and wars are broadcast through the daily news as well as in movies, showing dark pictures that encourage psychological tension, pessimism and negative emotions. [SEP] US-India deal does not cap or limit Indian fissile material production. [SEP]</td>\n",
       "    </tr>\n",
       "  </tbody>\n",
       "</table>\n",
       "</div>"
      ],
      "text/plain": [
       "                               topic  \\\n",
       "0  TV viewing is harmful to children   \n",
       "1  TV viewing is harmful to children   \n",
       "2  TV viewing is harmful to children   \n",
       "3  TV viewing is harmful to children   \n",
       "4  TV viewing is harmful to children   \n",
       "\n",
       "                                                                                                                                                                                                                                                                                                    Premise  \\\n",
       "0  TV viewing is harmful to children : The popularity of TV watching is among the reasons of this phenomenon. Violence, aggression, crimes and wars are broadcast through the daily news as well as in movies, showing dark pictures that encourage psychological tension, pessimism and negative emotions.   \n",
       "1  TV viewing is harmful to children : The popularity of TV watching is among the reasons of this phenomenon. Violence, aggression, crimes and wars are broadcast through the daily news as well as in movies, showing dark pictures that encourage psychological tension, pessimism and negative emotions.   \n",
       "2  TV viewing is harmful to children : The popularity of TV watching is among the reasons of this phenomenon. Violence, aggression, crimes and wars are broadcast through the daily news as well as in movies, showing dark pictures that encourage psychological tension, pessimism and negative emotions.   \n",
       "3  TV viewing is harmful to children : The popularity of TV watching is among the reasons of this phenomenon. Violence, aggression, crimes and wars are broadcast through the daily news as well as in movies, showing dark pictures that encourage psychological tension, pessimism and negative emotions.   \n",
       "4  TV viewing is harmful to children : The popularity of TV watching is among the reasons of this phenomenon. Violence, aggression, crimes and wars are broadcast through the daily news as well as in movies, showing dark pictures that encourage psychological tension, pessimism and negative emotions.   \n",
       "\n",
       "                                                                                                 Conclusion  \\\n",
       "0  Depression is a well-known psychological problem of modern society that is partly caused by TV watching:   \n",
       "1                                                           Children's TV viewing fosters negative emotions   \n",
       "2                                                                   Popularity of TV is harmful to children   \n",
       "3                                              Violence on TV and in movies encourages psychological stress   \n",
       "4                                   US-India deal does not cap or limit Indian fissile material production.   \n",
       "\n",
       "   Validity Validity-Confidence  Novelty Novelty-Confidence  label  \\\n",
       "0         1           confident        1          confident      1   \n",
       "1         1      very confident       -1           majority      1   \n",
       "2         1      very confident        1           majority      1   \n",
       "3         1      very confident        1           majority      1   \n",
       "4        -1      very confident       -1     very confident      0   \n",
       "\n",
       "                                                                                                                                                                                                                                                                                                                                                                                                                                                                     input_txt  \n",
       "0  [CLS] TV viewing is harmful to children [SEP] TV viewing is harmful to children : The popularity of TV watching is among the reasons of this phenomenon. Violence, aggression, crimes and wars are broadcast through the daily news as well as in movies, showing dark pictures that encourage psychological tension, pessimism and negative emotions. [SEP] Depression is a well-known psychological problem of modern society that is partly caused by TV watching: [SEP]  \n",
       "1                                                           [CLS] TV viewing is harmful to children [SEP] TV viewing is harmful to children : The popularity of TV watching is among the reasons of this phenomenon. Violence, aggression, crimes and wars are broadcast through the daily news as well as in movies, showing dark pictures that encourage psychological tension, pessimism and negative emotions. [SEP] Children's TV viewing fosters negative emotions [SEP]  \n",
       "2                                                                   [CLS] TV viewing is harmful to children [SEP] TV viewing is harmful to children : The popularity of TV watching is among the reasons of this phenomenon. Violence, aggression, crimes and wars are broadcast through the daily news as well as in movies, showing dark pictures that encourage psychological tension, pessimism and negative emotions. [SEP] Popularity of TV is harmful to children [SEP]  \n",
       "3                                              [CLS] TV viewing is harmful to children [SEP] TV viewing is harmful to children : The popularity of TV watching is among the reasons of this phenomenon. Violence, aggression, crimes and wars are broadcast through the daily news as well as in movies, showing dark pictures that encourage psychological tension, pessimism and negative emotions. [SEP] Violence on TV and in movies encourages psychological stress [SEP]  \n",
       "4                                   [CLS] TV viewing is harmful to children [SEP] TV viewing is harmful to children : The popularity of TV watching is among the reasons of this phenomenon. Violence, aggression, crimes and wars are broadcast through the daily news as well as in movies, showing dark pictures that encourage psychological tension, pessimism and negative emotions. [SEP] US-India deal does not cap or limit Indian fissile material production. [SEP]  "
      ]
     },
     "execution_count": 8,
     "metadata": {},
     "output_type": "execute_result"
    }
   ],
   "source": [
    "taska_training_df.head()"
   ]
  },
  {
   "cell_type": "code",
   "execution_count": 9,
   "metadata": {},
   "outputs": [
    {
     "data": {
      "text/plain": [
       "1    401\n",
       "0    320\n",
       "Name: label, dtype: int64"
      ]
     },
     "execution_count": 9,
     "metadata": {},
     "output_type": "execute_result"
    }
   ],
   "source": [
    "taska_training_df.label.value_counts()"
   ]
  },
  {
   "cell_type": "code",
   "execution_count": 10,
   "metadata": {},
   "outputs": [
    {
     "data": {
      "text/plain": [
       "1    125\n",
       "0     74\n",
       "Name: label, dtype: int64"
      ]
     },
     "execution_count": 10,
     "metadata": {},
     "output_type": "execute_result"
    }
   ],
   "source": [
    "taska_valid_df.label.value_counts()"
   ]
  },
  {
   "cell_type": "code",
   "execution_count": 27,
   "metadata": {},
   "outputs": [],
   "source": [
    "def get_training_examples(df, eval_df, loss):\n",
    "    \n",
    "    logger.info(\"Read Triplet train dataset\")\n",
    "    train_examples = []\n",
    "    for idx, row in df.iterrows():\n",
    "        if loss == 'ContrastiveLoss':\n",
    "            train_examples.append(InputExample(texts=[row['Premise'], row['Conclusion']], label=row['label']))\n",
    "        elif loss == 'MultipleNegativesRankingLoss':\n",
    "            if row['label'] == 1:\n",
    "                train_examples.append(InputExample(texts=[row['Premise'], row['Conclusion']], label=1))\n",
    "        else:\n",
    "            train_examples.append(InputExample(texts=[row['anchor'], row['pos'], row['neg']], label=0))\n",
    "            \n",
    "    \n",
    "    dev_samples = []\n",
    "    for idx, row in eval_df.iterrows():\n",
    "        dev_samples.append(InputExample(texts=[row['Premise'], row['Conclusion']], label=row['label']))\n",
    "    \n",
    "    return train_examples, dev_samples\n",
    "\n",
    "            \n",
    "def train_model(df, eval_df, output_path, model_name, num_epochs=3, train_batch_size=16, model_suffix='', \\\n",
    "                data_file_suffix='', max_seq_length=256, \n",
    "                special_tokens=[], loss='Triplet', sentence_transformer=False):\n",
    "    \n",
    "    output_path = output_path + model_name+ \"-\" + model_suffix + \"-\"+datetime.now().strftime(\"%Y-%m-%d_%H-%M-%S\")\n",
    "\n",
    "    if sentence_transformer:\n",
    "        word_embedding_model = SentenceTransformer(model_name)\n",
    "        word_embedding_model.max_seq_length = max_seq_length\n",
    "    else:\n",
    "        word_embedding_model = models.Transformer(model_name)\n",
    "        word_embedding_model.max_seq_length = max_seq_length\n",
    "    \n",
    "    \n",
    "    if len(special_tokens) > 0:\n",
    "        word_embedding_model.tokenizer.add_tokens(special_tokens, special_tokens=True)\n",
    "        word_embedding_model.resize_token_embeddings(len(word_embedding_model.tokenizer))\n",
    "        \n",
    "    # Apply mean pooling to get one fixed sized sentence vector\n",
    "    pooling_model = models.Pooling(word_embedding_model.get_word_embedding_dimension(),\n",
    "                                   pooling_mode_mean_tokens=True,\n",
    "                                   pooling_mode_cls_token=False,\n",
    "                                   pooling_mode_max_tokens=False)\n",
    "\n",
    "    model = SentenceTransformer(modules=[word_embedding_model, pooling_model])\n",
    "\n",
    "\n",
    "    train_examples, dev_samples = get_training_examples(df, eval_df, loss)\n",
    "\n",
    "    print('Len of training: {}'.format(len(train_examples)))\n",
    "    print('Len of Dev: {}'.format(len(dev_samples)))\n",
    "    \n",
    "    if loss == 'MultipleNegativesRankingLoss':\n",
    "        # Special data loader that avoid duplicates within a batch\n",
    "        train_dataloader = NoDuplicatesDataLoader(train_examples, batch_size=train_batch_size)\n",
    "        # Our training loss\n",
    "        train_loss = losses.MultipleNegativesRankingLoss(model)\n",
    "    elif loss == 'ContrastiveLoss':\n",
    "        train_dataloader = DataLoader(train_examples, shuffle=True, batch_size=train_batch_size)\n",
    "        train_loss = losses.ContrastiveLoss(model)\n",
    "    else:\n",
    "        train_dataloader = DataLoader(train_examples, shuffle=True, batch_size=train_batch_size)\n",
    "        train_loss = losses.TripletLoss(model)\n",
    "    \n",
    "\n",
    "    evaluator = BinaryClassificationEvaluator.from_input_examples(dev_samples, batch_size=train_batch_size, name='sts-dev')\n",
    "\n",
    "    warmup_steps = int(len(train_dataloader) * num_epochs * 0.1) #10% of train data\n",
    "\n",
    "\n",
    "    # Train the model\n",
    "    model.fit(train_objectives=[(train_dataloader, train_loss)],\n",
    "              evaluator=evaluator,\n",
    "              epochs=num_epochs,\n",
    "              save_best_model=True,\n",
    "              checkpoint_save_steps=1000,\n",
    "              checkpoint_save_total_limit=3,\n",
    "              evaluation_steps=20,\n",
    "              warmup_steps=warmup_steps,\n",
    "              output_path=output_path)"
   ]
  },
  {
   "cell_type": "code",
   "execution_count": 12,
   "metadata": {
    "scrolled": true,
    "tags": []
   },
   "outputs": [
    {
     "data": {
      "application/vnd.jupyter.widget-view+json": {
       "model_id": "149f3917fb564e1eaaed198dd865e378",
       "version_major": 2,
       "version_minor": 0
      },
      "text/plain": [
       "Downloading:   0%|          | 0.00/673 [00:00<?, ?B/s]"
      ]
     },
     "metadata": {},
     "output_type": "display_data"
    },
    {
     "data": {
      "application/vnd.jupyter.widget-view+json": {
       "model_id": "2c7aa04d414b42949f8bf5fb02dbbb10",
       "version_major": 2,
       "version_minor": 0
      },
      "text/plain": [
       "Downloading:   0%|          | 0.00/1.32G [00:00<?, ?B/s]"
      ]
     },
     "metadata": {},
     "output_type": "display_data"
    },
    {
     "data": {
      "application/vnd.jupyter.widget-view+json": {
       "model_id": "3ee5d2aa8cdf4c55a836527de219c905",
       "version_major": 2,
       "version_minor": 0
      },
      "text/plain": [
       "Downloading:   0%|          | 0.00/1.14k [00:00<?, ?B/s]"
      ]
     },
     "metadata": {},
     "output_type": "display_data"
    },
    {
     "data": {
      "application/vnd.jupyter.widget-view+json": {
       "model_id": "4a04ed65086c4e58877946d0303db000",
       "version_major": 2,
       "version_minor": 0
      },
      "text/plain": [
       "Downloading:   0%|          | 0.00/780k [00:00<?, ?B/s]"
      ]
     },
     "metadata": {},
     "output_type": "display_data"
    },
    {
     "data": {
      "application/vnd.jupyter.widget-view+json": {
       "model_id": "3d4d3d97a2754351ad6c5e211dd7e46a",
       "version_major": 2,
       "version_minor": 0
      },
      "text/plain": [
       "Downloading:   0%|          | 0.00/446k [00:00<?, ?B/s]"
      ]
     },
     "metadata": {},
     "output_type": "display_data"
    },
    {
     "data": {
      "application/vnd.jupyter.widget-view+json": {
       "model_id": "5ab1f9b71d2d4df99a6b58e378ac8aab",
       "version_major": 2,
       "version_minor": 0
      },
      "text/plain": [
       "Downloading:   0%|          | 0.00/1.29M [00:00<?, ?B/s]"
      ]
     },
     "metadata": {},
     "output_type": "display_data"
    },
    {
     "data": {
      "application/vnd.jupyter.widget-view+json": {
       "model_id": "e6c825835eab42c28f5119d34fc77fe8",
       "version_major": 2,
       "version_minor": 0
      },
      "text/plain": [
       "Downloading:   0%|          | 0.00/2.00 [00:00<?, ?B/s]"
      ]
     },
     "metadata": {},
     "output_type": "display_data"
    },
    {
     "data": {
      "application/vnd.jupyter.widget-view+json": {
       "model_id": "90856f0f3df942f6a9867b3c49b7fce1",
       "version_major": 2,
       "version_minor": 0
      },
      "text/plain": [
       "Downloading:   0%|          | 0.00/239 [00:00<?, ?B/s]"
      ]
     },
     "metadata": {},
     "output_type": "display_data"
    },
    {
     "name": "stdout",
     "output_type": "stream",
     "text": [
      "2022-06-25 14:45:33 - Use pytorch device: cuda\n",
      "2022-06-25 14:45:33 - Read Triplet train dataset\n"
     ]
    },
    {
     "data": {
      "application/vnd.jupyter.widget-view+json": {
       "model_id": "fdde7e29ed3949af93c09fcf9d39954f",
       "version_major": 2,
       "version_minor": 0
      },
      "text/plain": [
       "Epoch:   0%|          | 0/20 [00:00<?, ?it/s]"
      ]
     },
     "metadata": {},
     "output_type": "display_data"
    },
    {
     "data": {
      "application/vnd.jupyter.widget-view+json": {
       "model_id": "24ec22efbf9b4a3ab667065d5a8f145d",
       "version_major": 2,
       "version_minor": 0
      },
      "text/plain": [
       "Iteration:   0%|          | 0/46 [00:00<?, ?it/s]"
      ]
     },
     "metadata": {},
     "output_type": "display_data"
    },
    {
     "name": "stdout",
     "output_type": "stream",
     "text": [
      "2022-06-25 14:46:13 - Binary Accuracy Evaluation of the model on sts-dev dataset after epoch 0:\n",
      "2022-06-25 14:46:13 - Accuracy with Cosine-Similarity:           72.36\t(Threshold: 0.8106)\n",
      "2022-06-25 14:46:13 - F1 with Cosine-Similarity:                 79.87\t(Threshold: 0.7468)\n",
      "2022-06-25 14:46:13 - Precision with Cosine-Similarity:          67.98\n",
      "2022-06-25 14:46:13 - Recall with Cosine-Similarity:             96.80\n",
      "2022-06-25 14:46:13 - Average Precision with Cosine-Similarity:  81.21\n",
      "\n",
      "2022-06-25 14:46:13 - Accuracy with Manhatten-Distance:           72.36\t(Threshold: 474.5625)\n",
      "2022-06-25 14:46:13 - F1 with Manhatten-Distance:                 79.87\t(Threshold: 552.6662)\n",
      "2022-06-25 14:46:13 - Precision with Manhatten-Distance:          67.98\n",
      "2022-06-25 14:46:13 - Recall with Manhatten-Distance:             96.80\n",
      "2022-06-25 14:46:13 - Average Precision with Manhatten-Distance:  81.15\n",
      "\n",
      "2022-06-25 14:46:13 - Accuracy with Euclidean-Distance:           73.37\t(Threshold: 18.6928)\n",
      "2022-06-25 14:46:13 - F1 with Euclidean-Distance:                 80.00\t(Threshold: 21.2116)\n",
      "2022-06-25 14:46:13 - Precision with Euclidean-Distance:          69.41\n",
      "2022-06-25 14:46:13 - Recall with Euclidean-Distance:             94.40\n",
      "2022-06-25 14:46:13 - Average Precision with Euclidean-Distance:  81.30\n",
      "\n",
      "2022-06-25 14:46:13 - Accuracy with Dot-Product:           70.85\t(Threshold: 754.2577)\n",
      "2022-06-25 14:46:13 - F1 with Dot-Product:                 80.66\t(Threshold: 695.4249)\n",
      "2022-06-25 14:46:13 - Precision with Dot-Product:          68.33\n",
      "2022-06-25 14:46:13 - Recall with Dot-Product:             98.40\n",
      "2022-06-25 14:46:13 - Average Precision with Dot-Product:  79.89\n",
      "\n",
      "2022-06-25 14:46:13 - Save model to ../data/output/sentence-transformers/nli-roberta-large--2022-06-25_14-43-22\n"
     ]
    },
    {
     "data": {
      "application/vnd.jupyter.widget-view+json": {
       "model_id": "320bba1df362440584d2179928319e8c",
       "version_major": 2,
       "version_minor": 0
      },
      "text/plain": [
       "Iteration:   0%|          | 0/46 [00:00<?, ?it/s]"
      ]
     },
     "metadata": {},
     "output_type": "display_data"
    },
    {
     "name": "stdout",
     "output_type": "stream",
     "text": [
      "2022-06-25 14:46:57 - Binary Accuracy Evaluation of the model on sts-dev dataset after epoch 1:\n",
      "2022-06-25 14:46:58 - Accuracy with Cosine-Similarity:           70.85\t(Threshold: 0.7664)\n",
      "2022-06-25 14:46:58 - F1 with Cosine-Similarity:                 80.53\t(Threshold: 0.7040)\n",
      "2022-06-25 14:46:58 - Precision with Cosine-Similarity:          68.54\n",
      "2022-06-25 14:46:58 - Recall with Cosine-Similarity:             97.60\n",
      "2022-06-25 14:46:58 - Average Precision with Cosine-Similarity:  81.74\n",
      "\n",
      "2022-06-25 14:46:58 - Accuracy with Manhatten-Distance:           71.36\t(Threshold: 533.6433)\n",
      "2022-06-25 14:46:58 - F1 with Manhatten-Distance:                 80.53\t(Threshold: 592.7543)\n",
      "2022-06-25 14:46:58 - Precision with Manhatten-Distance:          68.54\n",
      "2022-06-25 14:46:58 - Recall with Manhatten-Distance:             97.60\n",
      "2022-06-25 14:46:58 - Average Precision with Manhatten-Distance:  81.83\n",
      "\n",
      "2022-06-25 14:46:58 - Accuracy with Euclidean-Distance:           70.85\t(Threshold: 21.2381)\n",
      "2022-06-25 14:46:58 - F1 with Euclidean-Distance:                 80.65\t(Threshold: 24.6455)\n",
      "2022-06-25 14:46:58 - Precision with Euclidean-Distance:          67.57\n",
      "2022-06-25 14:46:58 - Recall with Euclidean-Distance:             100.00\n",
      "2022-06-25 14:46:58 - Average Precision with Euclidean-Distance:  81.91\n",
      "\n",
      "2022-06-25 14:46:58 - Accuracy with Dot-Product:           70.85\t(Threshold: 681.9028)\n",
      "2022-06-25 14:46:58 - F1 with Dot-Product:                 80.78\t(Threshold: 659.9790)\n",
      "2022-06-25 14:46:58 - Precision with Dot-Product:          68.13\n",
      "2022-06-25 14:46:58 - Recall with Dot-Product:             99.20\n",
      "2022-06-25 14:46:58 - Average Precision with Dot-Product:  80.87\n",
      "\n",
      "2022-06-25 14:46:58 - Save model to ../data/output/sentence-transformers/nli-roberta-large--2022-06-25_14-43-22\n"
     ]
    },
    {
     "data": {
      "application/vnd.jupyter.widget-view+json": {
       "model_id": "3f76cad3815a4260b6769ac1051fee56",
       "version_major": 2,
       "version_minor": 0
      },
      "text/plain": [
       "Iteration:   0%|          | 0/46 [00:00<?, ?it/s]"
      ]
     },
     "metadata": {},
     "output_type": "display_data"
    },
    {
     "name": "stdout",
     "output_type": "stream",
     "text": [
      "2022-06-25 14:47:43 - Binary Accuracy Evaluation of the model on sts-dev dataset after epoch 2:\n",
      "2022-06-25 14:47:43 - Accuracy with Cosine-Similarity:           67.84\t(Threshold: 0.6147)\n",
      "2022-06-25 14:47:43 - F1 with Cosine-Similarity:                 79.49\t(Threshold: 0.6147)\n",
      "2022-06-25 14:47:43 - Precision with Cosine-Similarity:          66.31\n",
      "2022-06-25 14:47:43 - Recall with Cosine-Similarity:             99.20\n",
      "2022-06-25 14:47:43 - Average Precision with Cosine-Similarity:  80.93\n",
      "\n",
      "2022-06-25 14:47:43 - Accuracy with Manhatten-Distance:           67.84\t(Threshold: 557.3306)\n",
      "2022-06-25 14:47:43 - F1 with Manhatten-Distance:                 79.49\t(Threshold: 674.0411)\n",
      "2022-06-25 14:47:43 - Precision with Manhatten-Distance:          66.31\n",
      "2022-06-25 14:47:43 - Recall with Manhatten-Distance:             99.20\n",
      "2022-06-25 14:47:43 - Average Precision with Manhatten-Distance:  81.23\n",
      "\n",
      "2022-06-25 14:47:43 - Accuracy with Euclidean-Distance:           67.84\t(Threshold: 25.7982)\n",
      "2022-06-25 14:47:43 - F1 with Euclidean-Distance:                 79.23\t(Threshold: 27.2612)\n",
      "2022-06-25 14:47:43 - Precision with Euclidean-Distance:          65.96\n",
      "2022-06-25 14:47:43 - Recall with Euclidean-Distance:             99.20\n",
      "2022-06-25 14:47:43 - Average Precision with Euclidean-Distance:  81.01\n",
      "\n",
      "2022-06-25 14:47:43 - Accuracy with Dot-Product:           68.34\t(Threshold: 695.8362)\n",
      "2022-06-25 14:47:43 - F1 with Dot-Product:                 79.49\t(Threshold: 580.9696)\n",
      "2022-06-25 14:47:43 - Precision with Dot-Product:          66.31\n",
      "2022-06-25 14:47:43 - Recall with Dot-Product:             99.20\n",
      "2022-06-25 14:47:43 - Average Precision with Dot-Product:  80.55\n",
      "\n"
     ]
    },
    {
     "data": {
      "application/vnd.jupyter.widget-view+json": {
       "model_id": "e74053d13d7a443397cdc49e2ae8ecb0",
       "version_major": 2,
       "version_minor": 0
      },
      "text/plain": [
       "Iteration:   0%|          | 0/46 [00:00<?, ?it/s]"
      ]
     },
     "metadata": {},
     "output_type": "display_data"
    },
    {
     "name": "stdout",
     "output_type": "stream",
     "text": [
      "2022-06-25 14:47:50 - Binary Accuracy Evaluation of the model on sts-dev dataset after epoch 3:\n",
      "2022-06-25 14:47:50 - Accuracy with Cosine-Similarity:           68.84\t(Threshold: 0.6773)\n",
      "2022-06-25 14:47:50 - F1 with Cosine-Similarity:                 79.33\t(Threshold: 0.6773)\n",
      "2022-06-25 14:47:50 - Precision with Cosine-Similarity:          68.00\n",
      "2022-06-25 14:47:50 - Recall with Cosine-Similarity:             95.20\n",
      "2022-06-25 14:47:50 - Average Precision with Cosine-Similarity:  80.33\n",
      "\n",
      "2022-06-25 14:47:50 - Accuracy with Manhatten-Distance:           68.34\t(Threshold: 602.4142)\n",
      "2022-06-25 14:47:50 - F1 with Manhatten-Distance:                 78.96\t(Threshold: 641.9557)\n",
      "2022-06-25 14:47:50 - Precision with Manhatten-Distance:          66.30\n",
      "2022-06-25 14:47:50 - Recall with Manhatten-Distance:             97.60\n",
      "2022-06-25 14:47:50 - Average Precision with Manhatten-Distance:  80.14\n",
      "\n",
      "2022-06-25 14:47:50 - Accuracy with Euclidean-Distance:           68.84\t(Threshold: 24.0574)\n",
      "2022-06-25 14:47:50 - F1 with Euclidean-Distance:                 79.11\t(Threshold: 28.3595)\n",
      "2022-06-25 14:47:50 - Precision with Euclidean-Distance:          65.45\n",
      "2022-06-25 14:47:50 - Recall with Euclidean-Distance:             100.00\n",
      "2022-06-25 14:47:50 - Average Precision with Euclidean-Distance:  80.37\n",
      "\n",
      "2022-06-25 14:47:50 - Accuracy with Dot-Product:           68.34\t(Threshold: 652.7728)\n",
      "2022-06-25 14:47:50 - F1 with Dot-Product:                 79.11\t(Threshold: 558.4504)\n",
      "2022-06-25 14:47:50 - Precision with Dot-Product:          65.45\n",
      "2022-06-25 14:47:50 - Recall with Dot-Product:             100.00\n",
      "2022-06-25 14:47:50 - Average Precision with Dot-Product:  80.11\n",
      "\n"
     ]
    },
    {
     "data": {
      "application/vnd.jupyter.widget-view+json": {
       "model_id": "b322d87c16be4804947e27db34c764e8",
       "version_major": 2,
       "version_minor": 0
      },
      "text/plain": [
       "Iteration:   0%|          | 0/46 [00:00<?, ?it/s]"
      ]
     },
     "metadata": {},
     "output_type": "display_data"
    },
    {
     "name": "stdout",
     "output_type": "stream",
     "text": [
      "2022-06-25 14:47:57 - Binary Accuracy Evaluation of the model on sts-dev dataset after epoch 4:\n",
      "2022-06-25 14:47:57 - Accuracy with Cosine-Similarity:           68.84\t(Threshold: 0.7195)\n",
      "2022-06-25 14:47:57 - F1 with Cosine-Similarity:                 79.37\t(Threshold: 0.6099)\n",
      "2022-06-25 14:47:57 - Precision with Cosine-Similarity:          65.79\n",
      "2022-06-25 14:47:57 - Recall with Cosine-Similarity:             100.00\n",
      "2022-06-25 14:47:57 - Average Precision with Cosine-Similarity:  80.13\n",
      "\n",
      "2022-06-25 14:47:57 - Accuracy with Manhatten-Distance:           69.35\t(Threshold: 572.5992)\n",
      "2022-06-25 14:47:57 - F1 with Manhatten-Distance:                 79.35\t(Threshold: 630.6748)\n",
      "2022-06-25 14:47:57 - Precision with Manhatten-Distance:          66.49\n",
      "2022-06-25 14:47:57 - Recall with Manhatten-Distance:             98.40\n",
      "2022-06-25 14:47:57 - Average Precision with Manhatten-Distance:  80.16\n",
      "\n",
      "2022-06-25 14:47:57 - Accuracy with Euclidean-Distance:           68.84\t(Threshold: 23.3673)\n",
      "2022-06-25 14:47:57 - F1 with Euclidean-Distance:                 79.62\t(Threshold: 27.0870)\n",
      "2022-06-25 14:47:57 - Precision with Euclidean-Distance:          66.14\n",
      "2022-06-25 14:47:57 - Recall with Euclidean-Distance:             100.00\n",
      "2022-06-25 14:47:57 - Average Precision with Euclidean-Distance:  80.20\n",
      "\n",
      "2022-06-25 14:47:57 - Accuracy with Dot-Product:           68.34\t(Threshold: 698.3344)\n",
      "2022-06-25 14:47:57 - F1 with Dot-Product:                 79.48\t(Threshold: 652.2760)\n",
      "2022-06-25 14:47:57 - Precision with Dot-Product:          67.03\n",
      "2022-06-25 14:47:57 - Recall with Dot-Product:             97.60\n",
      "2022-06-25 14:47:57 - Average Precision with Dot-Product:  79.45\n",
      "\n"
     ]
    },
    {
     "data": {
      "application/vnd.jupyter.widget-view+json": {
       "model_id": "c2674764b0764a99b0eaf5c5de15eb36",
       "version_major": 2,
       "version_minor": 0
      },
      "text/plain": [
       "Iteration:   0%|          | 0/46 [00:00<?, ?it/s]"
      ]
     },
     "metadata": {},
     "output_type": "display_data"
    },
    {
     "name": "stdout",
     "output_type": "stream",
     "text": [
      "2022-06-25 14:48:04 - Binary Accuracy Evaluation of the model on sts-dev dataset after epoch 5:\n",
      "2022-06-25 14:48:04 - Accuracy with Cosine-Similarity:           69.85\t(Threshold: 0.6816)\n",
      "2022-06-25 14:48:04 - F1 with Cosine-Similarity:                 79.87\t(Threshold: 0.6160)\n",
      "2022-06-25 14:48:04 - Precision with Cosine-Similarity:          67.98\n",
      "2022-06-25 14:48:04 - Recall with Cosine-Similarity:             96.80\n",
      "2022-06-25 14:48:04 - Average Precision with Cosine-Similarity:  78.26\n",
      "\n",
      "2022-06-25 14:48:04 - Accuracy with Manhatten-Distance:           68.84\t(Threshold: 629.8688)\n",
      "2022-06-25 14:48:04 - F1 with Manhatten-Distance:                 79.62\t(Threshold: 750.1376)\n",
      "2022-06-25 14:48:04 - Precision with Manhatten-Distance:          66.14\n",
      "2022-06-25 14:48:04 - Recall with Manhatten-Distance:             100.00\n",
      "2022-06-25 14:48:04 - Average Precision with Manhatten-Distance:  78.49\n",
      "\n",
      "2022-06-25 14:48:04 - Accuracy with Euclidean-Distance:           69.85\t(Threshold: 24.8456)\n",
      "2022-06-25 14:48:04 - F1 with Euclidean-Distance:                 79.87\t(Threshold: 27.2824)\n",
      "2022-06-25 14:48:04 - Precision with Euclidean-Distance:          67.98\n",
      "2022-06-25 14:48:04 - Recall with Euclidean-Distance:             96.80\n",
      "2022-06-25 14:48:04 - Average Precision with Euclidean-Distance:  78.30\n",
      "\n",
      "2022-06-25 14:48:04 - Accuracy with Dot-Product:           70.35\t(Threshold: 660.7939)\n",
      "2022-06-25 14:48:04 - F1 with Dot-Product:                 79.73\t(Threshold: 660.7939)\n",
      "2022-06-25 14:48:04 - Precision with Dot-Product:          69.88\n",
      "2022-06-25 14:48:04 - Recall with Dot-Product:             92.80\n",
      "2022-06-25 14:48:04 - Average Precision with Dot-Product:  76.59\n",
      "\n"
     ]
    },
    {
     "data": {
      "application/vnd.jupyter.widget-view+json": {
       "model_id": "3c828305a7354eeb90f7ef55d0ed9a9d",
       "version_major": 2,
       "version_minor": 0
      },
      "text/plain": [
       "Iteration:   0%|          | 0/46 [00:00<?, ?it/s]"
      ]
     },
     "metadata": {},
     "output_type": "display_data"
    },
    {
     "name": "stdout",
     "output_type": "stream",
     "text": [
      "2022-06-25 14:48:10 - Binary Accuracy Evaluation of the model on sts-dev dataset after epoch 6:\n",
      "2022-06-25 14:48:10 - Accuracy with Cosine-Similarity:           69.85\t(Threshold: 0.7180)\n",
      "2022-06-25 14:48:10 - F1 with Cosine-Similarity:                 80.13\t(Threshold: 0.6692)\n",
      "2022-06-25 14:48:10 - Precision with Cosine-Similarity:          68.36\n",
      "2022-06-25 14:48:10 - Recall with Cosine-Similarity:             96.80\n",
      "2022-06-25 14:48:10 - Average Precision with Cosine-Similarity:  80.14\n",
      "\n",
      "2022-06-25 14:48:10 - Accuracy with Manhatten-Distance:           70.85\t(Threshold: 592.8418)\n",
      "2022-06-25 14:48:10 - F1 with Manhatten-Distance:                 80.79\t(Threshold: 603.7699)\n",
      "2022-06-25 14:48:10 - Precision with Manhatten-Distance:          68.93\n",
      "2022-06-25 14:48:10 - Recall with Manhatten-Distance:             97.60\n",
      "2022-06-25 14:48:10 - Average Precision with Manhatten-Distance:  80.35\n",
      "\n",
      "2022-06-25 14:48:10 - Accuracy with Euclidean-Distance:           70.35\t(Threshold: 24.0450)\n",
      "2022-06-25 14:48:10 - F1 with Euclidean-Distance:                 80.13\t(Threshold: 25.4797)\n",
      "2022-06-25 14:48:10 - Precision with Euclidean-Distance:          68.36\n",
      "2022-06-25 14:48:10 - Recall with Euclidean-Distance:             96.80\n",
      "2022-06-25 14:48:10 - Average Precision with Euclidean-Distance:  80.05\n",
      "\n",
      "2022-06-25 14:48:10 - Accuracy with Dot-Product:           70.35\t(Threshold: 676.9528)\n",
      "2022-06-25 14:48:10 - F1 with Dot-Product:                 80.27\t(Threshold: 673.4198)\n",
      "2022-06-25 14:48:10 - Precision with Dot-Product:          68.97\n",
      "2022-06-25 14:48:10 - Recall with Dot-Product:             96.00\n",
      "2022-06-25 14:48:10 - Average Precision with Dot-Product:  80.31\n",
      "\n"
     ]
    },
    {
     "data": {
      "application/vnd.jupyter.widget-view+json": {
       "model_id": "6158d7deaeac4175a00d3a14f1101cf6",
       "version_major": 2,
       "version_minor": 0
      },
      "text/plain": [
       "Iteration:   0%|          | 0/46 [00:00<?, ?it/s]"
      ]
     },
     "metadata": {},
     "output_type": "display_data"
    },
    {
     "name": "stdout",
     "output_type": "stream",
     "text": [
      "2022-06-25 14:48:17 - Binary Accuracy Evaluation of the model on sts-dev dataset after epoch 7:\n",
      "2022-06-25 14:48:17 - Accuracy with Cosine-Similarity:           71.36\t(Threshold: 0.6704)\n",
      "2022-06-25 14:48:17 - F1 with Cosine-Similarity:                 80.94\t(Threshold: 0.6704)\n",
      "2022-06-25 14:48:17 - Precision with Cosine-Similarity:          69.54\n",
      "2022-06-25 14:48:17 - Recall with Cosine-Similarity:             96.80\n",
      "2022-06-25 14:48:17 - Average Precision with Cosine-Similarity:  78.50\n",
      "\n",
      "2022-06-25 14:48:17 - Accuracy with Manhatten-Distance:           69.85\t(Threshold: 596.6606)\n",
      "2022-06-25 14:48:17 - F1 with Manhatten-Distance:                 80.39\t(Threshold: 648.5768)\n",
      "2022-06-25 14:48:17 - Precision with Manhatten-Distance:          67.96\n",
      "2022-06-25 14:48:17 - Recall with Manhatten-Distance:             98.40\n",
      "2022-06-25 14:48:17 - Average Precision with Manhatten-Distance:  78.42\n",
      "\n",
      "2022-06-25 14:48:17 - Accuracy with Euclidean-Distance:           71.36\t(Threshold: 25.2994)\n",
      "2022-06-25 14:48:17 - F1 with Euclidean-Distance:                 80.94\t(Threshold: 25.2994)\n",
      "2022-06-25 14:48:17 - Precision with Euclidean-Distance:          69.54\n",
      "2022-06-25 14:48:17 - Recall with Euclidean-Distance:             96.80\n",
      "2022-06-25 14:48:17 - Average Precision with Euclidean-Distance:  78.49\n",
      "\n",
      "2022-06-25 14:48:17 - Accuracy with Dot-Product:           71.36\t(Threshold: 651.2641)\n",
      "2022-06-25 14:48:17 - F1 with Dot-Product:                 80.94\t(Threshold: 651.2641)\n",
      "2022-06-25 14:48:17 - Precision with Dot-Product:          69.54\n",
      "2022-06-25 14:48:17 - Recall with Dot-Product:             96.80\n",
      "2022-06-25 14:48:17 - Average Precision with Dot-Product:  78.71\n",
      "\n"
     ]
    },
    {
     "data": {
      "application/vnd.jupyter.widget-view+json": {
       "model_id": "61884f9f1f6541058b27d11f89c004c2",
       "version_major": 2,
       "version_minor": 0
      },
      "text/plain": [
       "Iteration:   0%|          | 0/46 [00:00<?, ?it/s]"
      ]
     },
     "metadata": {},
     "output_type": "display_data"
    },
    {
     "name": "stdout",
     "output_type": "stream",
     "text": [
      "2022-06-25 14:48:24 - Binary Accuracy Evaluation of the model on sts-dev dataset after epoch 8:\n",
      "2022-06-25 14:48:24 - Accuracy with Cosine-Similarity:           70.35\t(Threshold: 0.6866)\n",
      "2022-06-25 14:48:24 - F1 with Cosine-Similarity:                 79.86\t(Threshold: 0.6866)\n",
      "2022-06-25 14:48:24 - Precision with Cosine-Similarity:          69.64\n",
      "2022-06-25 14:48:24 - Recall with Cosine-Similarity:             93.60\n",
      "2022-06-25 14:48:24 - Average Precision with Cosine-Similarity:  77.69\n",
      "\n",
      "2022-06-25 14:48:24 - Accuracy with Manhatten-Distance:           68.84\t(Threshold: 630.8164)\n",
      "2022-06-25 14:48:24 - F1 with Manhatten-Distance:                 79.49\t(Threshold: 683.0304)\n",
      "2022-06-25 14:48:24 - Precision with Manhatten-Distance:          66.31\n",
      "2022-06-25 14:48:24 - Recall with Manhatten-Distance:             99.20\n",
      "2022-06-25 14:48:24 - Average Precision with Manhatten-Distance:  77.91\n",
      "\n",
      "2022-06-25 14:48:24 - Accuracy with Euclidean-Distance:           70.35\t(Threshold: 24.7897)\n",
      "2022-06-25 14:48:24 - F1 with Euclidean-Distance:                 79.86\t(Threshold: 24.7897)\n",
      "2022-06-25 14:48:24 - Precision with Euclidean-Distance:          69.64\n",
      "2022-06-25 14:48:24 - Recall with Euclidean-Distance:             93.60\n",
      "2022-06-25 14:48:24 - Average Precision with Euclidean-Distance:  77.69\n",
      "\n",
      "2022-06-25 14:48:24 - Accuracy with Dot-Product:           70.35\t(Threshold: 684.8390)\n",
      "2022-06-25 14:48:24 - F1 with Dot-Product:                 79.86\t(Threshold: 678.1145)\n",
      "2022-06-25 14:48:24 - Precision with Dot-Product:          69.64\n",
      "2022-06-25 14:48:24 - Recall with Dot-Product:             93.60\n",
      "2022-06-25 14:48:24 - Average Precision with Dot-Product:  77.94\n",
      "\n"
     ]
    },
    {
     "data": {
      "application/vnd.jupyter.widget-view+json": {
       "model_id": "ca978b5e0cc04afd9d101be6cb20d0c5",
       "version_major": 2,
       "version_minor": 0
      },
      "text/plain": [
       "Iteration:   0%|          | 0/46 [00:00<?, ?it/s]"
      ]
     },
     "metadata": {},
     "output_type": "display_data"
    },
    {
     "name": "stdout",
     "output_type": "stream",
     "text": [
      "2022-06-25 14:48:31 - Binary Accuracy Evaluation of the model on sts-dev dataset after epoch 9:\n",
      "2022-06-25 14:48:31 - Accuracy with Cosine-Similarity:           70.35\t(Threshold: 0.6602)\n",
      "2022-06-25 14:48:31 - F1 with Cosine-Similarity:                 80.40\t(Threshold: 0.6501)\n",
      "2022-06-25 14:48:31 - Precision with Cosine-Similarity:          68.75\n",
      "2022-06-25 14:48:31 - Recall with Cosine-Similarity:             96.80\n",
      "2022-06-25 14:48:31 - Average Precision with Cosine-Similarity:  78.19\n",
      "\n",
      "2022-06-25 14:48:31 - Accuracy with Manhatten-Distance:           69.35\t(Threshold: 654.9673)\n",
      "2022-06-25 14:48:31 - F1 with Manhatten-Distance:                 80.13\t(Threshold: 664.1875)\n",
      "2022-06-25 14:48:31 - Precision with Manhatten-Distance:          67.58\n",
      "2022-06-25 14:48:31 - Recall with Manhatten-Distance:             98.40\n",
      "2022-06-25 14:48:31 - Average Precision with Manhatten-Distance:  78.28\n",
      "\n",
      "2022-06-25 14:48:31 - Accuracy with Euclidean-Distance:           70.85\t(Threshold: 26.2027)\n",
      "2022-06-25 14:48:31 - F1 with Euclidean-Distance:                 80.67\t(Threshold: 26.2027)\n",
      "2022-06-25 14:48:31 - Precision with Euclidean-Distance:          69.14\n",
      "2022-06-25 14:48:31 - Recall with Euclidean-Distance:             96.80\n",
      "2022-06-25 14:48:31 - Average Precision with Euclidean-Distance:  78.14\n",
      "\n",
      "2022-06-25 14:48:31 - Accuracy with Dot-Product:           70.35\t(Threshold: 645.8845)\n",
      "2022-06-25 14:48:31 - F1 with Dot-Product:                 80.27\t(Threshold: 645.8845)\n",
      "2022-06-25 14:48:31 - Precision with Dot-Product:          68.97\n",
      "2022-06-25 14:48:31 - Recall with Dot-Product:             96.00\n",
      "2022-06-25 14:48:31 - Average Precision with Dot-Product:  78.33\n",
      "\n"
     ]
    },
    {
     "data": {
      "application/vnd.jupyter.widget-view+json": {
       "model_id": "be49dad629af44a0b4bbb20b8efd1bd4",
       "version_major": 2,
       "version_minor": 0
      },
      "text/plain": [
       "Iteration:   0%|          | 0/46 [00:00<?, ?it/s]"
      ]
     },
     "metadata": {},
     "output_type": "display_data"
    },
    {
     "name": "stdout",
     "output_type": "stream",
     "text": [
      "2022-06-25 14:48:37 - Binary Accuracy Evaluation of the model on sts-dev dataset after epoch 10:\n",
      "2022-06-25 14:48:38 - Accuracy with Cosine-Similarity:           67.84\t(Threshold: 0.6477)\n",
      "2022-06-25 14:48:38 - F1 with Cosine-Similarity:                 79.37\t(Threshold: 0.5293)\n",
      "2022-06-25 14:48:38 - Precision with Cosine-Similarity:          65.79\n",
      "2022-06-25 14:48:38 - Recall with Cosine-Similarity:             100.00\n",
      "2022-06-25 14:48:38 - Average Precision with Cosine-Similarity:  77.24\n",
      "\n",
      "2022-06-25 14:48:38 - Accuracy with Manhatten-Distance:           67.84\t(Threshold: 644.2015)\n",
      "2022-06-25 14:48:38 - F1 with Manhatten-Distance:                 79.37\t(Threshold: 725.1140)\n",
      "2022-06-25 14:48:38 - Precision with Manhatten-Distance:          65.79\n",
      "2022-06-25 14:48:38 - Recall with Manhatten-Distance:             100.00\n",
      "2022-06-25 14:48:38 - Average Precision with Manhatten-Distance:  77.18\n",
      "\n",
      "2022-06-25 14:48:38 - Accuracy with Euclidean-Distance:           68.34\t(Threshold: 26.4855)\n",
      "2022-06-25 14:48:38 - F1 with Euclidean-Distance:                 79.37\t(Threshold: 30.4512)\n",
      "2022-06-25 14:48:38 - Precision with Euclidean-Distance:          65.79\n",
      "2022-06-25 14:48:38 - Recall with Euclidean-Distance:             100.00\n",
      "2022-06-25 14:48:38 - Average Precision with Euclidean-Distance:  77.28\n",
      "\n",
      "2022-06-25 14:48:38 - Accuracy with Dot-Product:           67.84\t(Threshold: 631.4967)\n",
      "2022-06-25 14:48:38 - F1 with Dot-Product:                 79.37\t(Threshold: 521.4053)\n",
      "2022-06-25 14:48:38 - Precision with Dot-Product:          65.79\n",
      "2022-06-25 14:48:38 - Recall with Dot-Product:             100.00\n",
      "2022-06-25 14:48:38 - Average Precision with Dot-Product:  77.17\n",
      "\n"
     ]
    },
    {
     "data": {
      "application/vnd.jupyter.widget-view+json": {
       "model_id": "23cd667596f048349a0a8c692f89d63c",
       "version_major": 2,
       "version_minor": 0
      },
      "text/plain": [
       "Iteration:   0%|          | 0/46 [00:00<?, ?it/s]"
      ]
     },
     "metadata": {},
     "output_type": "display_data"
    },
    {
     "name": "stdout",
     "output_type": "stream",
     "text": [
      "2022-06-25 14:48:44 - Binary Accuracy Evaluation of the model on sts-dev dataset after epoch 11:\n",
      "2022-06-25 14:48:44 - Accuracy with Cosine-Similarity:           68.34\t(Threshold: 0.5525)\n",
      "2022-06-25 14:48:44 - F1 with Cosine-Similarity:                 79.74\t(Threshold: 0.5525)\n",
      "2022-06-25 14:48:44 - Precision with Cosine-Similarity:          66.67\n",
      "2022-06-25 14:48:44 - Recall with Cosine-Similarity:             99.20\n",
      "2022-06-25 14:48:44 - Average Precision with Cosine-Similarity:  77.27\n",
      "\n",
      "2022-06-25 14:48:44 - Accuracy with Manhatten-Distance:           68.84\t(Threshold: 645.3147)\n",
      "2022-06-25 14:48:44 - F1 with Manhatten-Distance:                 79.74\t(Threshold: 645.3147)\n",
      "2022-06-25 14:48:44 - Precision with Manhatten-Distance:          67.40\n",
      "2022-06-25 14:48:44 - Recall with Manhatten-Distance:             97.60\n",
      "2022-06-25 14:48:44 - Average Precision with Manhatten-Distance:  76.85\n",
      "\n",
      "2022-06-25 14:48:44 - Accuracy with Euclidean-Distance:           68.34\t(Threshold: 26.5242)\n",
      "2022-06-25 14:48:44 - F1 with Euclidean-Distance:                 79.74\t(Threshold: 29.4872)\n",
      "2022-06-25 14:48:44 - Precision with Euclidean-Distance:          66.67\n",
      "2022-06-25 14:48:44 - Recall with Euclidean-Distance:             99.20\n",
      "2022-06-25 14:48:44 - Average Precision with Euclidean-Distance:  77.22\n",
      "\n",
      "2022-06-25 14:48:44 - Accuracy with Dot-Product:           67.84\t(Threshold: 636.7480)\n",
      "2022-06-25 14:48:44 - F1 with Dot-Product:                 79.49\t(Threshold: 536.7595)\n",
      "2022-06-25 14:48:44 - Precision with Dot-Product:          66.31\n",
      "2022-06-25 14:48:44 - Recall with Dot-Product:             99.20\n",
      "2022-06-25 14:48:44 - Average Precision with Dot-Product:  77.25\n",
      "\n"
     ]
    },
    {
     "data": {
      "application/vnd.jupyter.widget-view+json": {
       "model_id": "af975b853b794813be34706c766e5685",
       "version_major": 2,
       "version_minor": 0
      },
      "text/plain": [
       "Iteration:   0%|          | 0/46 [00:00<?, ?it/s]"
      ]
     },
     "metadata": {},
     "output_type": "display_data"
    },
    {
     "name": "stdout",
     "output_type": "stream",
     "text": [
      "2022-06-25 14:48:51 - Binary Accuracy Evaluation of the model on sts-dev dataset after epoch 12:\n",
      "2022-06-25 14:48:51 - Accuracy with Cosine-Similarity:           68.84\t(Threshold: 0.6763)\n",
      "2022-06-25 14:48:51 - F1 with Cosine-Similarity:                 79.74\t(Threshold: 0.5380)\n",
      "2022-06-25 14:48:51 - Precision with Cosine-Similarity:          66.67\n",
      "2022-06-25 14:48:51 - Recall with Cosine-Similarity:             99.20\n",
      "2022-06-25 14:48:51 - Average Precision with Cosine-Similarity:  77.61\n",
      "\n",
      "2022-06-25 14:48:51 - Accuracy with Manhatten-Distance:           68.84\t(Threshold: 641.4353)\n",
      "2022-06-25 14:48:51 - F1 with Manhatten-Distance:                 79.49\t(Threshold: 701.6359)\n",
      "2022-06-25 14:48:51 - Precision with Manhatten-Distance:          66.31\n",
      "2022-06-25 14:48:51 - Recall with Manhatten-Distance:             99.20\n",
      "2022-06-25 14:48:51 - Average Precision with Manhatten-Distance:  77.44\n",
      "\n",
      "2022-06-25 14:48:51 - Accuracy with Euclidean-Distance:           68.84\t(Threshold: 25.3202)\n",
      "2022-06-25 14:48:51 - F1 with Euclidean-Distance:                 79.74\t(Threshold: 30.1993)\n",
      "2022-06-25 14:48:51 - Precision with Euclidean-Distance:          66.67\n",
      "2022-06-25 14:48:51 - Recall with Euclidean-Distance:             99.20\n",
      "2022-06-25 14:48:51 - Average Precision with Euclidean-Distance:  77.66\n",
      "\n",
      "2022-06-25 14:48:51 - Accuracy with Dot-Product:           68.84\t(Threshold: 611.5207)\n",
      "2022-06-25 14:48:51 - F1 with Dot-Product:                 79.74\t(Threshold: 531.1193)\n",
      "2022-06-25 14:48:51 - Precision with Dot-Product:          66.67\n",
      "2022-06-25 14:48:51 - Recall with Dot-Product:             99.20\n",
      "2022-06-25 14:48:51 - Average Precision with Dot-Product:  77.91\n",
      "\n"
     ]
    },
    {
     "data": {
      "application/vnd.jupyter.widget-view+json": {
       "model_id": "c0c5bc54d12d414d8e86527679c31530",
       "version_major": 2,
       "version_minor": 0
      },
      "text/plain": [
       "Iteration:   0%|          | 0/46 [00:00<?, ?it/s]"
      ]
     },
     "metadata": {},
     "output_type": "display_data"
    },
    {
     "name": "stdout",
     "output_type": "stream",
     "text": [
      "2022-06-25 14:48:58 - Binary Accuracy Evaluation of the model on sts-dev dataset after epoch 13:\n",
      "2022-06-25 14:48:58 - Accuracy with Cosine-Similarity:           68.84\t(Threshold: 0.6441)\n",
      "2022-06-25 14:48:58 - F1 with Cosine-Similarity:                 79.62\t(Threshold: 0.5169)\n",
      "2022-06-25 14:48:58 - Precision with Cosine-Similarity:          66.14\n",
      "2022-06-25 14:48:58 - Recall with Cosine-Similarity:             100.00\n",
      "2022-06-25 14:48:58 - Average Precision with Cosine-Similarity:  76.70\n",
      "\n",
      "2022-06-25 14:48:58 - Accuracy with Manhatten-Distance:           68.34\t(Threshold: 628.8334)\n",
      "2022-06-25 14:48:58 - F1 with Manhatten-Distance:                 79.49\t(Threshold: 684.9885)\n",
      "2022-06-25 14:48:58 - Precision with Manhatten-Distance:          66.31\n",
      "2022-06-25 14:48:58 - Recall with Manhatten-Distance:             99.20\n",
      "2022-06-25 14:48:58 - Average Precision with Manhatten-Distance:  76.53\n",
      "\n",
      "2022-06-25 14:48:58 - Accuracy with Euclidean-Distance:           68.84\t(Threshold: 26.5013)\n",
      "2022-06-25 14:48:58 - F1 with Euclidean-Distance:                 79.49\t(Threshold: 30.4442)\n",
      "2022-06-25 14:48:58 - Precision with Euclidean-Distance:          66.31\n",
      "2022-06-25 14:48:58 - Recall with Euclidean-Distance:             99.20\n",
      "2022-06-25 14:48:58 - Average Precision with Euclidean-Distance:  76.74\n",
      "\n",
      "2022-06-25 14:48:58 - Accuracy with Dot-Product:           68.34\t(Threshold: 623.9535)\n",
      "2022-06-25 14:48:58 - F1 with Dot-Product:                 79.62\t(Threshold: 506.8745)\n",
      "2022-06-25 14:48:58 - Precision with Dot-Product:          66.14\n",
      "2022-06-25 14:48:58 - Recall with Dot-Product:             100.00\n",
      "2022-06-25 14:48:58 - Average Precision with Dot-Product:  76.54\n",
      "\n"
     ]
    },
    {
     "data": {
      "application/vnd.jupyter.widget-view+json": {
       "model_id": "7b07d7aaa42f47be81e9989a87799ee3",
       "version_major": 2,
       "version_minor": 0
      },
      "text/plain": [
       "Iteration:   0%|          | 0/46 [00:00<?, ?it/s]"
      ]
     },
     "metadata": {},
     "output_type": "display_data"
    },
    {
     "name": "stdout",
     "output_type": "stream",
     "text": [
      "2022-06-25 14:49:05 - Binary Accuracy Evaluation of the model on sts-dev dataset after epoch 14:\n",
      "2022-06-25 14:49:05 - Accuracy with Cosine-Similarity:           68.84\t(Threshold: 0.6492)\n",
      "2022-06-25 14:49:05 - F1 with Cosine-Similarity:                 79.62\t(Threshold: 0.5005)\n",
      "2022-06-25 14:49:05 - Precision with Cosine-Similarity:          66.14\n",
      "2022-06-25 14:49:05 - Recall with Cosine-Similarity:             100.00\n",
      "2022-06-25 14:49:05 - Average Precision with Cosine-Similarity:  76.71\n",
      "\n",
      "2022-06-25 14:49:05 - Accuracy with Manhatten-Distance:           68.84\t(Threshold: 637.6531)\n",
      "2022-06-25 14:49:05 - F1 with Manhatten-Distance:                 79.74\t(Threshold: 646.8878)\n",
      "2022-06-25 14:49:05 - Precision with Manhatten-Distance:          67.40\n",
      "2022-06-25 14:49:05 - Recall with Manhatten-Distance:             97.60\n",
      "2022-06-25 14:49:05 - Average Precision with Manhatten-Distance:  76.50\n",
      "\n",
      "2022-06-25 14:49:05 - Accuracy with Euclidean-Distance:           68.84\t(Threshold: 26.1983)\n",
      "2022-06-25 14:49:05 - F1 with Euclidean-Distance:                 79.37\t(Threshold: 31.6626)\n",
      "2022-06-25 14:49:05 - Precision with Euclidean-Distance:          65.79\n",
      "2022-06-25 14:49:05 - Recall with Euclidean-Distance:             100.00\n",
      "2022-06-25 14:49:05 - Average Precision with Euclidean-Distance:  76.72\n",
      "\n",
      "2022-06-25 14:49:05 - Accuracy with Dot-Product:           68.34\t(Threshold: 644.8713)\n",
      "2022-06-25 14:49:05 - F1 with Dot-Product:                 79.62\t(Threshold: 493.2633)\n",
      "2022-06-25 14:49:05 - Precision with Dot-Product:          66.14\n",
      "2022-06-25 14:49:05 - Recall with Dot-Product:             100.00\n",
      "2022-06-25 14:49:05 - Average Precision with Dot-Product:  76.72\n",
      "\n"
     ]
    },
    {
     "data": {
      "application/vnd.jupyter.widget-view+json": {
       "model_id": "254d18b9714d4e41a36612078b1e3124",
       "version_major": 2,
       "version_minor": 0
      },
      "text/plain": [
       "Iteration:   0%|          | 0/46 [00:00<?, ?it/s]"
      ]
     },
     "metadata": {},
     "output_type": "display_data"
    },
    {
     "name": "stdout",
     "output_type": "stream",
     "text": [
      "2022-06-25 14:49:11 - Binary Accuracy Evaluation of the model on sts-dev dataset after epoch 15:\n",
      "2022-06-25 14:49:12 - Accuracy with Cosine-Similarity:           68.34\t(Threshold: 0.5617)\n",
      "2022-06-25 14:49:12 - F1 with Cosine-Similarity:                 79.74\t(Threshold: 0.5379)\n",
      "2022-06-25 14:49:12 - Precision with Cosine-Similarity:          66.67\n",
      "2022-06-25 14:49:12 - Recall with Cosine-Similarity:             99.20\n",
      "2022-06-25 14:49:12 - Average Precision with Cosine-Similarity:  77.54\n",
      "\n",
      "2022-06-25 14:49:12 - Accuracy with Manhatten-Distance:           68.84\t(Threshold: 656.0486)\n",
      "2022-06-25 14:49:12 - F1 with Manhatten-Distance:                 79.61\t(Threshold: 656.0486)\n",
      "2022-06-25 14:49:12 - Precision with Manhatten-Distance:          67.60\n",
      "2022-06-25 14:49:12 - Recall with Manhatten-Distance:             96.80\n",
      "2022-06-25 14:49:12 - Average Precision with Manhatten-Distance:  77.07\n",
      "\n",
      "2022-06-25 14:49:12 - Accuracy with Euclidean-Distance:           68.34\t(Threshold: 29.4185)\n",
      "2022-06-25 14:49:12 - F1 with Euclidean-Distance:                 79.74\t(Threshold: 30.2176)\n",
      "2022-06-25 14:49:12 - Precision with Euclidean-Distance:          66.67\n",
      "2022-06-25 14:49:12 - Recall with Euclidean-Distance:             99.20\n",
      "2022-06-25 14:49:12 - Average Precision with Euclidean-Distance:  77.52\n",
      "\n",
      "2022-06-25 14:49:12 - Accuracy with Dot-Product:           67.84\t(Threshold: 586.7726)\n",
      "2022-06-25 14:49:12 - F1 with Dot-Product:                 79.49\t(Threshold: 509.9272)\n",
      "2022-06-25 14:49:12 - Precision with Dot-Product:          66.31\n",
      "2022-06-25 14:49:12 - Recall with Dot-Product:             99.20\n",
      "2022-06-25 14:49:12 - Average Precision with Dot-Product:  77.59\n",
      "\n"
     ]
    },
    {
     "data": {
      "application/vnd.jupyter.widget-view+json": {
       "model_id": "a4d1f450403146e1b67ccdc5da02ffae",
       "version_major": 2,
       "version_minor": 0
      },
      "text/plain": [
       "Iteration:   0%|          | 0/46 [00:00<?, ?it/s]"
      ]
     },
     "metadata": {},
     "output_type": "display_data"
    },
    {
     "name": "stdout",
     "output_type": "stream",
     "text": [
      "2022-06-25 14:49:18 - Binary Accuracy Evaluation of the model on sts-dev dataset after epoch 16:\n",
      "2022-06-25 14:49:18 - Accuracy with Cosine-Similarity:           68.34\t(Threshold: 0.5902)\n",
      "2022-06-25 14:49:18 - F1 with Cosine-Similarity:                 79.49\t(Threshold: 0.5343)\n",
      "2022-06-25 14:49:18 - Precision with Cosine-Similarity:          66.31\n",
      "2022-06-25 14:49:18 - Recall with Cosine-Similarity:             99.20\n",
      "2022-06-25 14:49:18 - Average Precision with Cosine-Similarity:  77.02\n",
      "\n",
      "2022-06-25 14:49:18 - Accuracy with Manhatten-Distance:           68.84\t(Threshold: 648.6454)\n",
      "2022-06-25 14:49:18 - F1 with Manhatten-Distance:                 79.61\t(Threshold: 648.6454)\n",
      "2022-06-25 14:49:18 - Precision with Manhatten-Distance:          67.60\n",
      "2022-06-25 14:49:18 - Recall with Manhatten-Distance:             96.80\n",
      "2022-06-25 14:49:18 - Average Precision with Manhatten-Distance:  76.89\n",
      "\n",
      "2022-06-25 14:49:18 - Accuracy with Euclidean-Distance:           68.34\t(Threshold: 27.3563)\n",
      "2022-06-25 14:49:18 - F1 with Euclidean-Distance:                 79.74\t(Threshold: 29.7772)\n",
      "2022-06-25 14:49:18 - Precision with Euclidean-Distance:          66.67\n",
      "2022-06-25 14:49:18 - Recall with Euclidean-Distance:             99.20\n",
      "2022-06-25 14:49:18 - Average Precision with Euclidean-Distance:  77.08\n",
      "\n",
      "2022-06-25 14:49:18 - Accuracy with Dot-Product:           68.34\t(Threshold: 578.9501)\n",
      "2022-06-25 14:49:18 - F1 with Dot-Product:                 79.49\t(Threshold: 522.7789)\n",
      "2022-06-25 14:49:18 - Precision with Dot-Product:          66.31\n",
      "2022-06-25 14:49:18 - Recall with Dot-Product:             99.20\n",
      "2022-06-25 14:49:18 - Average Precision with Dot-Product:  77.09\n",
      "\n"
     ]
    },
    {
     "data": {
      "application/vnd.jupyter.widget-view+json": {
       "model_id": "7e1a43dd47694cbea398cd9db9ee7a7e",
       "version_major": 2,
       "version_minor": 0
      },
      "text/plain": [
       "Iteration:   0%|          | 0/46 [00:00<?, ?it/s]"
      ]
     },
     "metadata": {},
     "output_type": "display_data"
    },
    {
     "name": "stdout",
     "output_type": "stream",
     "text": [
      "2022-06-25 14:49:25 - Binary Accuracy Evaluation of the model on sts-dev dataset after epoch 17:\n",
      "2022-06-25 14:49:25 - Accuracy with Cosine-Similarity:           67.84\t(Threshold: 0.6526)\n",
      "2022-06-25 14:49:25 - F1 with Cosine-Similarity:                 79.49\t(Threshold: 0.5336)\n",
      "2022-06-25 14:49:25 - Precision with Cosine-Similarity:          66.31\n",
      "2022-06-25 14:49:25 - Recall with Cosine-Similarity:             99.20\n",
      "2022-06-25 14:49:25 - Average Precision with Cosine-Similarity:  76.88\n",
      "\n",
      "2022-06-25 14:49:25 - Accuracy with Manhatten-Distance:           67.84\t(Threshold: 640.6236)\n",
      "2022-06-25 14:49:25 - F1 with Manhatten-Distance:                 79.35\t(Threshold: 670.8201)\n",
      "2022-06-25 14:49:25 - Precision with Manhatten-Distance:          66.49\n",
      "2022-06-25 14:49:25 - Recall with Manhatten-Distance:             98.40\n",
      "2022-06-25 14:49:25 - Average Precision with Manhatten-Distance:  76.64\n",
      "\n",
      "2022-06-25 14:49:25 - Accuracy with Euclidean-Distance:           67.84\t(Threshold: 26.1675)\n",
      "2022-06-25 14:49:25 - F1 with Euclidean-Distance:                 79.49\t(Threshold: 30.2139)\n",
      "2022-06-25 14:49:25 - Precision with Euclidean-Distance:          66.31\n",
      "2022-06-25 14:49:25 - Recall with Euclidean-Distance:             99.20\n",
      "2022-06-25 14:49:25 - Average Precision with Euclidean-Distance:  76.88\n",
      "\n",
      "2022-06-25 14:49:25 - Accuracy with Dot-Product:           67.84\t(Threshold: 643.1351)\n",
      "2022-06-25 14:49:25 - F1 with Dot-Product:                 79.49\t(Threshold: 522.0954)\n",
      "2022-06-25 14:49:25 - Precision with Dot-Product:          66.31\n",
      "2022-06-25 14:49:25 - Recall with Dot-Product:             99.20\n",
      "2022-06-25 14:49:25 - Average Precision with Dot-Product:  76.89\n",
      "\n"
     ]
    },
    {
     "data": {
      "application/vnd.jupyter.widget-view+json": {
       "model_id": "5e0fb9ee54d14737a7f7575fa147aeb6",
       "version_major": 2,
       "version_minor": 0
      },
      "text/plain": [
       "Iteration:   0%|          | 0/46 [00:00<?, ?it/s]"
      ]
     },
     "metadata": {},
     "output_type": "display_data"
    },
    {
     "name": "stdout",
     "output_type": "stream",
     "text": [
      "2022-06-25 14:49:32 - Binary Accuracy Evaluation of the model on sts-dev dataset after epoch 18:\n",
      "2022-06-25 14:49:32 - Accuracy with Cosine-Similarity:           67.84\t(Threshold: 0.6517)\n",
      "2022-06-25 14:49:32 - F1 with Cosine-Similarity:                 79.49\t(Threshold: 0.5324)\n",
      "2022-06-25 14:49:32 - Precision with Cosine-Similarity:          66.31\n",
      "2022-06-25 14:49:32 - Recall with Cosine-Similarity:             99.20\n",
      "2022-06-25 14:49:32 - Average Precision with Cosine-Similarity:  77.18\n",
      "\n",
      "2022-06-25 14:49:32 - Accuracy with Manhatten-Distance:           67.84\t(Threshold: 642.7328)\n",
      "2022-06-25 14:49:32 - F1 with Manhatten-Distance:                 79.23\t(Threshold: 709.7477)\n",
      "2022-06-25 14:49:32 - Precision with Manhatten-Distance:          65.96\n",
      "2022-06-25 14:49:32 - Recall with Manhatten-Distance:             99.20\n",
      "2022-06-25 14:49:32 - Average Precision with Manhatten-Distance:  76.72\n",
      "\n",
      "2022-06-25 14:49:32 - Accuracy with Euclidean-Distance:           67.84\t(Threshold: 26.2034)\n",
      "2022-06-25 14:49:32 - F1 with Euclidean-Distance:                 79.49\t(Threshold: 30.2721)\n",
      "2022-06-25 14:49:32 - Precision with Euclidean-Distance:          66.31\n",
      "2022-06-25 14:49:32 - Recall with Euclidean-Distance:             99.20\n",
      "2022-06-25 14:49:32 - Average Precision with Euclidean-Distance:  77.06\n",
      "\n",
      "2022-06-25 14:49:32 - Accuracy with Dot-Product:           67.84\t(Threshold: 588.4089)\n",
      "2022-06-25 14:49:32 - F1 with Dot-Product:                 79.49\t(Threshold: 520.8265)\n",
      "2022-06-25 14:49:32 - Precision with Dot-Product:          66.31\n",
      "2022-06-25 14:49:32 - Recall with Dot-Product:             99.20\n",
      "2022-06-25 14:49:32 - Average Precision with Dot-Product:  77.04\n",
      "\n"
     ]
    },
    {
     "data": {
      "application/vnd.jupyter.widget-view+json": {
       "model_id": "0254e1ff2964432fa54f75e4046b7b78",
       "version_major": 2,
       "version_minor": 0
      },
      "text/plain": [
       "Iteration:   0%|          | 0/46 [00:00<?, ?it/s]"
      ]
     },
     "metadata": {},
     "output_type": "display_data"
    },
    {
     "name": "stdout",
     "output_type": "stream",
     "text": [
      "2022-06-25 14:49:39 - Binary Accuracy Evaluation of the model on sts-dev dataset after epoch 19:\n",
      "2022-06-25 14:49:39 - Accuracy with Cosine-Similarity:           67.84\t(Threshold: 0.6506)\n",
      "2022-06-25 14:49:39 - F1 with Cosine-Similarity:                 79.49\t(Threshold: 0.5303)\n",
      "2022-06-25 14:49:39 - Precision with Cosine-Similarity:          66.31\n",
      "2022-06-25 14:49:39 - Recall with Cosine-Similarity:             99.20\n",
      "2022-06-25 14:49:39 - Average Precision with Cosine-Similarity:  77.10\n",
      "\n",
      "2022-06-25 14:49:39 - Accuracy with Manhatten-Distance:           68.34\t(Threshold: 651.1418)\n",
      "2022-06-25 14:49:39 - F1 with Manhatten-Distance:                 79.37\t(Threshold: 745.2222)\n",
      "2022-06-25 14:49:39 - Precision with Manhatten-Distance:          65.79\n",
      "2022-06-25 14:49:39 - Recall with Manhatten-Distance:             100.00\n",
      "2022-06-25 14:49:39 - Average Precision with Manhatten-Distance:  76.70\n",
      "\n",
      "2022-06-25 14:49:39 - Accuracy with Euclidean-Distance:           67.84\t(Threshold: 26.2521)\n",
      "2022-06-25 14:49:39 - F1 with Euclidean-Distance:                 79.49\t(Threshold: 30.3867)\n",
      "2022-06-25 14:49:39 - Precision with Euclidean-Distance:          66.31\n",
      "2022-06-25 14:49:39 - Recall with Euclidean-Distance:             99.20\n",
      "2022-06-25 14:49:39 - Average Precision with Euclidean-Distance:  77.04\n",
      "\n",
      "2022-06-25 14:49:39 - Accuracy with Dot-Product:           68.34\t(Threshold: 582.5926)\n",
      "2022-06-25 14:49:39 - F1 with Dot-Product:                 79.49\t(Threshold: 518.8854)\n",
      "2022-06-25 14:49:39 - Precision with Dot-Product:          66.31\n",
      "2022-06-25 14:49:39 - Recall with Dot-Product:             99.20\n",
      "2022-06-25 14:49:39 - Average Precision with Dot-Product:  76.97\n",
      "\n"
     ]
    }
   ],
   "source": [
    "train_model(taska_training_df, taska_valid_df, '../data/output/', 'sentence-transformers/nli-roberta-large', num_epochs=20, train_batch_size=16, model_suffix='', data_file_suffix='', max_seq_length=256, special_tokens=[], loss='ContrastiveLoss', sentence_transformer=False)"
   ]
  },
  {
   "cell_type": "code",
   "execution_count": 28,
   "metadata": {
    "scrolled": true,
    "tags": []
   },
   "outputs": [
    {
     "name": "stdout",
     "output_type": "stream",
     "text": [
      "2022-06-26 19:16:36 - Use pytorch device: cuda\n",
      "2022-06-26 19:16:36 - Read Triplet train dataset\n",
      "Len of training: 401\n",
      "Len of Dev: 199\n"
     ]
    },
    {
     "data": {
      "application/vnd.jupyter.widget-view+json": {
       "model_id": "6ab1f955ecb241b8a6ca334caee672d0",
       "version_major": 2,
       "version_minor": 0
      },
      "text/plain": [
       "Epoch:   0%|          | 0/3 [00:00<?, ?it/s]"
      ]
     },
     "metadata": {},
     "output_type": "display_data"
    },
    {
     "data": {
      "application/vnd.jupyter.widget-view+json": {
       "model_id": "082cfc46b1e447c19adf986fa87ed8ff",
       "version_major": 2,
       "version_minor": 0
      },
      "text/plain": [
       "Iteration:   0%|          | 0/50 [00:00<?, ?it/s]"
      ]
     },
     "metadata": {},
     "output_type": "display_data"
    },
    {
     "name": "stdout",
     "output_type": "stream",
     "text": [
      "2022-06-26 19:16:39 - Binary Accuracy Evaluation of the model on sts-dev dataset in epoch 0 after 20 steps:\n",
      "2022-06-26 19:16:39 - Accuracy with Cosine-Similarity:           71.86\t(Threshold: 0.7185)\n",
      "2022-06-26 19:16:39 - F1 with Cosine-Similarity:                 79.45\t(Threshold: 0.6203)\n",
      "2022-06-26 19:16:39 - Precision with Cosine-Similarity:          69.46\n",
      "2022-06-26 19:16:39 - Recall with Cosine-Similarity:             92.80\n",
      "2022-06-26 19:16:39 - Average Precision with Cosine-Similarity:  83.44\n",
      "\n",
      "2022-06-26 19:16:39 - Accuracy with Manhatten-Distance:           74.87\t(Threshold: 598.0983)\n",
      "2022-06-26 19:16:39 - F1 with Manhatten-Distance:                 80.92\t(Threshold: 611.8794)\n",
      "2022-06-26 19:16:39 - Precision with Manhatten-Distance:          77.37\n",
      "2022-06-26 19:16:39 - Recall with Manhatten-Distance:             84.80\n",
      "2022-06-26 19:16:39 - Average Precision with Manhatten-Distance:  83.71\n",
      "\n",
      "2022-06-26 19:16:39 - Accuracy with Euclidean-Distance:           72.36\t(Threshold: 22.8899)\n",
      "2022-06-26 19:16:39 - F1 with Euclidean-Distance:                 79.46\t(Threshold: 26.7180)\n",
      "2022-06-26 19:16:39 - Precision with Euclidean-Distance:          68.60\n",
      "2022-06-26 19:16:39 - Recall with Euclidean-Distance:             94.40\n",
      "2022-06-26 19:16:39 - Average Precision with Euclidean-Distance:  83.58\n",
      "\n",
      "2022-06-26 19:16:39 - Accuracy with Dot-Product:           71.86\t(Threshold: 656.4362)\n",
      "2022-06-26 19:16:39 - F1 with Dot-Product:                 79.37\t(Threshold: 459.6405)\n",
      "2022-06-26 19:16:39 - Precision with Dot-Product:          65.79\n",
      "2022-06-26 19:16:39 - Recall with Dot-Product:             100.00\n",
      "2022-06-26 19:16:39 - Average Precision with Dot-Product:  83.41\n",
      "\n",
      "2022-06-26 19:16:39 - Save model to ../data/output/sentence-transformers/nli-roberta-large-ranking-loss-2022-06-26_19-16-27\n",
      "2022-06-26 19:17:05 - Binary Accuracy Evaluation of the model on sts-dev dataset in epoch 0 after 40 steps:\n",
      "2022-06-26 19:17:05 - Accuracy with Cosine-Similarity:           69.35\t(Threshold: 0.7640)\n",
      "2022-06-26 19:17:05 - F1 with Cosine-Similarity:                 78.86\t(Threshold: 0.4724)\n",
      "2022-06-26 19:17:05 - Precision with Cosine-Similarity:          65.10\n",
      "2022-06-26 19:17:05 - Recall with Cosine-Similarity:             100.00\n",
      "2022-06-26 19:17:05 - Average Precision with Cosine-Similarity:  82.60\n",
      "\n",
      "2022-06-26 19:17:05 - Accuracy with Manhatten-Distance:           69.85\t(Threshold: 528.0820)\n",
      "2022-06-26 19:17:05 - F1 with Manhatten-Distance:                 78.62\t(Threshold: 801.2391)\n",
      "2022-06-26 19:17:05 - Precision with Manhatten-Distance:          64.77\n",
      "2022-06-26 19:17:05 - Recall with Manhatten-Distance:             100.00\n",
      "2022-06-26 19:17:05 - Average Precision with Manhatten-Distance:  82.97\n",
      "\n",
      "2022-06-26 19:17:05 - Accuracy with Euclidean-Distance:           69.85\t(Threshold: 20.9854)\n",
      "2022-06-26 19:17:05 - F1 with Euclidean-Distance:                 78.86\t(Threshold: 30.9841)\n",
      "2022-06-26 19:17:05 - Precision with Euclidean-Distance:          65.10\n",
      "2022-06-26 19:17:05 - Recall with Euclidean-Distance:             100.00\n",
      "2022-06-26 19:17:05 - Average Precision with Euclidean-Distance:  82.54\n",
      "\n",
      "2022-06-26 19:17:05 - Accuracy with Dot-Product:           69.35\t(Threshold: 693.7275)\n",
      "2022-06-26 19:17:05 - F1 with Dot-Product:                 78.73\t(Threshold: 441.0625)\n",
      "2022-06-26 19:17:05 - Precision with Dot-Product:          65.26\n",
      "2022-06-26 19:17:05 - Recall with Dot-Product:             99.20\n",
      "2022-06-26 19:17:05 - Average Precision with Dot-Product:  82.39\n",
      "\n",
      "2022-06-26 19:17:07 - Binary Accuracy Evaluation of the model on sts-dev dataset after epoch 0:\n",
      "2022-06-26 19:17:07 - Accuracy with Cosine-Similarity:           68.34\t(Threshold: 0.7704)\n",
      "2022-06-26 19:17:07 - F1 with Cosine-Similarity:                 79.11\t(Threshold: 0.5013)\n",
      "2022-06-26 19:17:07 - Precision with Cosine-Similarity:          65.45\n",
      "2022-06-26 19:17:07 - Recall with Cosine-Similarity:             100.00\n",
      "2022-06-26 19:17:07 - Average Precision with Cosine-Similarity:  81.34\n",
      "\n",
      "2022-06-26 19:17:07 - Accuracy with Manhatten-Distance:           71.36\t(Threshold: 529.3782)\n",
      "2022-06-26 19:17:07 - F1 with Manhatten-Distance:                 78.86\t(Threshold: 778.5042)\n",
      "2022-06-26 19:17:07 - Precision with Manhatten-Distance:          65.10\n",
      "2022-06-26 19:17:07 - Recall with Manhatten-Distance:             100.00\n",
      "2022-06-26 19:17:07 - Average Precision with Manhatten-Distance:  82.11\n",
      "\n",
      "2022-06-26 19:17:07 - Accuracy with Euclidean-Distance:           68.34\t(Threshold: 20.5611)\n",
      "2022-06-26 19:17:07 - F1 with Euclidean-Distance:                 78.86\t(Threshold: 30.5584)\n",
      "2022-06-26 19:17:07 - Precision with Euclidean-Distance:          65.10\n",
      "2022-06-26 19:17:07 - Recall with Euclidean-Distance:             100.00\n",
      "2022-06-26 19:17:07 - Average Precision with Euclidean-Distance:  81.32\n",
      "\n",
      "2022-06-26 19:17:07 - Accuracy with Dot-Product:           68.84\t(Threshold: 697.0498)\n",
      "2022-06-26 19:17:07 - F1 with Dot-Product:                 79.11\t(Threshold: 455.0002)\n",
      "2022-06-26 19:17:07 - Precision with Dot-Product:          65.45\n",
      "2022-06-26 19:17:07 - Recall with Dot-Product:             100.00\n",
      "2022-06-26 19:17:07 - Average Precision with Dot-Product:  81.31\n",
      "\n"
     ]
    },
    {
     "data": {
      "application/vnd.jupyter.widget-view+json": {
       "model_id": "a1fcdee4b0c845b5bdc120e8cca3a1e3",
       "version_major": 2,
       "version_minor": 0
      },
      "text/plain": [
       "Iteration:   0%|          | 0/50 [00:00<?, ?it/s]"
      ]
     },
     "metadata": {},
     "output_type": "display_data"
    },
    {
     "name": "stdout",
     "output_type": "stream",
     "text": [
      "2022-06-26 19:17:10 - Binary Accuracy Evaluation of the model on sts-dev dataset in epoch 1 after 20 steps:\n",
      "2022-06-26 19:17:10 - Accuracy with Cosine-Similarity:           66.83\t(Threshold: 0.4866)\n",
      "2022-06-26 19:17:10 - F1 with Cosine-Similarity:                 79.11\t(Threshold: 0.4671)\n",
      "2022-06-26 19:17:10 - Precision with Cosine-Similarity:          65.45\n",
      "2022-06-26 19:17:10 - Recall with Cosine-Similarity:             100.00\n",
      "2022-06-26 19:17:10 - Average Precision with Cosine-Similarity:  80.12\n",
      "\n",
      "2022-06-26 19:17:10 - Accuracy with Manhatten-Distance:           67.34\t(Threshold: 700.8440)\n",
      "2022-06-26 19:17:10 - F1 with Manhatten-Distance:                 79.11\t(Threshold: 803.3531)\n",
      "2022-06-26 19:17:10 - Precision with Manhatten-Distance:          65.45\n",
      "2022-06-26 19:17:10 - Recall with Manhatten-Distance:             100.00\n",
      "2022-06-26 19:17:10 - Average Precision with Manhatten-Distance:  81.33\n",
      "\n",
      "2022-06-26 19:17:10 - Accuracy with Euclidean-Distance:           66.83\t(Threshold: 30.5156)\n",
      "2022-06-26 19:17:10 - F1 with Euclidean-Distance:                 79.11\t(Threshold: 31.4447)\n",
      "2022-06-26 19:17:10 - Precision with Euclidean-Distance:          65.45\n",
      "2022-06-26 19:17:10 - Recall with Euclidean-Distance:             100.00\n",
      "2022-06-26 19:17:10 - Average Precision with Euclidean-Distance:  80.19\n",
      "\n",
      "2022-06-26 19:17:10 - Accuracy with Dot-Product:           67.34\t(Threshold: 440.2878)\n",
      "2022-06-26 19:17:10 - F1 with Dot-Product:                 79.37\t(Threshold: 440.2878)\n",
      "2022-06-26 19:17:10 - Precision with Dot-Product:          65.79\n",
      "2022-06-26 19:17:10 - Recall with Dot-Product:             100.00\n",
      "2022-06-26 19:17:10 - Average Precision with Dot-Product:  79.87\n",
      "\n",
      "2022-06-26 19:17:13 - Binary Accuracy Evaluation of the model on sts-dev dataset in epoch 1 after 40 steps:\n",
      "2022-06-26 19:17:13 - Accuracy with Cosine-Similarity:           67.34\t(Threshold: 0.4577)\n",
      "2022-06-26 19:17:13 - F1 with Cosine-Similarity:                 79.37\t(Threshold: 0.4577)\n",
      "2022-06-26 19:17:13 - Precision with Cosine-Similarity:          65.79\n",
      "2022-06-26 19:17:13 - Recall with Cosine-Similarity:             100.00\n",
      "2022-06-26 19:17:13 - Average Precision with Cosine-Similarity:  80.28\n",
      "\n",
      "2022-06-26 19:17:13 - Accuracy with Manhatten-Distance:           68.34\t(Threshold: 582.9761)\n",
      "2022-06-26 19:17:13 - F1 with Manhatten-Distance:                 79.11\t(Threshold: 820.5884)\n",
      "2022-06-26 19:17:13 - Precision with Manhatten-Distance:          65.45\n",
      "2022-06-26 19:17:13 - Recall with Manhatten-Distance:             100.00\n",
      "2022-06-26 19:17:13 - Average Precision with Manhatten-Distance:  81.69\n",
      "\n",
      "2022-06-26 19:17:13 - Accuracy with Euclidean-Distance:           66.83\t(Threshold: 32.1959)\n",
      "2022-06-26 19:17:13 - F1 with Euclidean-Distance:                 79.11\t(Threshold: 32.1959)\n",
      "2022-06-26 19:17:13 - Precision with Euclidean-Distance:          65.45\n",
      "2022-06-26 19:17:13 - Recall with Euclidean-Distance:             100.00\n",
      "2022-06-26 19:17:13 - Average Precision with Euclidean-Distance:  80.35\n",
      "\n",
      "2022-06-26 19:17:13 - Accuracy with Dot-Product:           67.34\t(Threshold: 414.7975)\n",
      "2022-06-26 19:17:13 - F1 with Dot-Product:                 79.37\t(Threshold: 414.7975)\n",
      "2022-06-26 19:17:13 - Precision with Dot-Product:          65.79\n",
      "2022-06-26 19:17:13 - Recall with Dot-Product:             100.00\n",
      "2022-06-26 19:17:13 - Average Precision with Dot-Product:  79.57\n",
      "\n",
      "2022-06-26 19:17:14 - Binary Accuracy Evaluation of the model on sts-dev dataset after epoch 1:\n",
      "2022-06-26 19:17:15 - Accuracy with Cosine-Similarity:           67.34\t(Threshold: 0.6719)\n",
      "2022-06-26 19:17:15 - F1 with Cosine-Similarity:                 79.11\t(Threshold: 0.4240)\n",
      "2022-06-26 19:17:15 - Precision with Cosine-Similarity:          65.45\n",
      "2022-06-26 19:17:15 - Recall with Cosine-Similarity:             100.00\n",
      "2022-06-26 19:17:15 - Average Precision with Cosine-Similarity:  80.81\n",
      "\n",
      "2022-06-26 19:17:15 - Accuracy with Manhatten-Distance:           68.84\t(Threshold: 605.8622)\n",
      "2022-06-26 19:17:15 - F1 with Manhatten-Distance:                 79.34\t(Threshold: 720.9340)\n",
      "2022-06-26 19:17:15 - Precision with Manhatten-Distance:          67.22\n",
      "2022-06-26 19:17:15 - Recall with Manhatten-Distance:             96.80\n",
      "2022-06-26 19:17:15 - Average Precision with Manhatten-Distance:  81.82\n",
      "\n",
      "2022-06-26 19:17:15 - Accuracy with Euclidean-Distance:           67.34\t(Threshold: 27.6558)\n",
      "2022-06-26 19:17:15 - F1 with Euclidean-Distance:                 79.11\t(Threshold: 32.1554)\n",
      "2022-06-26 19:17:15 - Precision with Euclidean-Distance:          65.45\n",
      "2022-06-26 19:17:15 - Recall with Euclidean-Distance:             100.00\n",
      "2022-06-26 19:17:15 - Average Precision with Euclidean-Distance:  80.89\n",
      "\n",
      "2022-06-26 19:17:15 - Accuracy with Dot-Product:           67.34\t(Threshold: 615.5640)\n",
      "2022-06-26 19:17:15 - F1 with Dot-Product:                 79.11\t(Threshold: 384.5768)\n",
      "2022-06-26 19:17:15 - Precision with Dot-Product:          65.45\n",
      "2022-06-26 19:17:15 - Recall with Dot-Product:             100.00\n",
      "2022-06-26 19:17:15 - Average Precision with Dot-Product:  80.15\n",
      "\n"
     ]
    },
    {
     "data": {
      "application/vnd.jupyter.widget-view+json": {
       "model_id": "b7b9191ed7bb420cbc4127fa997396e5",
       "version_major": 2,
       "version_minor": 0
      },
      "text/plain": [
       "Iteration:   0%|          | 0/50 [00:00<?, ?it/s]"
      ]
     },
     "metadata": {},
     "output_type": "display_data"
    },
    {
     "name": "stdout",
     "output_type": "stream",
     "text": [
      "2022-06-26 19:17:18 - Binary Accuracy Evaluation of the model on sts-dev dataset in epoch 2 after 20 steps:\n",
      "2022-06-26 19:17:18 - Accuracy with Cosine-Similarity:           66.33\t(Threshold: 0.6001)\n",
      "2022-06-26 19:17:18 - F1 with Cosine-Similarity:                 78.86\t(Threshold: 0.4173)\n",
      "2022-06-26 19:17:18 - Precision with Cosine-Similarity:          65.10\n",
      "2022-06-26 19:17:18 - Recall with Cosine-Similarity:             100.00\n",
      "2022-06-26 19:17:18 - Average Precision with Cosine-Similarity:  80.45\n",
      "\n",
      "2022-06-26 19:17:18 - Accuracy with Manhatten-Distance:           67.84\t(Threshold: 586.1477)\n",
      "2022-06-26 19:17:18 - F1 with Manhatten-Distance:                 79.11\t(Threshold: 820.2714)\n",
      "2022-06-26 19:17:18 - Precision with Manhatten-Distance:          65.45\n",
      "2022-06-26 19:17:18 - Recall with Manhatten-Distance:             100.00\n",
      "2022-06-26 19:17:18 - Average Precision with Manhatten-Distance:  81.52\n",
      "\n",
      "2022-06-26 19:17:18 - Accuracy with Euclidean-Distance:           66.83\t(Threshold: 27.3465)\n",
      "2022-06-26 19:17:18 - F1 with Euclidean-Distance:                 79.11\t(Threshold: 32.2982)\n",
      "2022-06-26 19:17:18 - Precision with Euclidean-Distance:          65.45\n",
      "2022-06-26 19:17:18 - Recall with Euclidean-Distance:             100.00\n",
      "2022-06-26 19:17:18 - Average Precision with Euclidean-Distance:  80.52\n",
      "\n",
      "2022-06-26 19:17:18 - Accuracy with Dot-Product:           66.33\t(Threshold: 511.7343)\n",
      "2022-06-26 19:17:18 - F1 with Dot-Product:                 78.86\t(Threshold: 381.7554)\n",
      "2022-06-26 19:17:18 - Precision with Dot-Product:          65.10\n",
      "2022-06-26 19:17:18 - Recall with Dot-Product:             100.00\n",
      "2022-06-26 19:17:18 - Average Precision with Dot-Product:  79.41\n",
      "\n",
      "2022-06-26 19:17:21 - Binary Accuracy Evaluation of the model on sts-dev dataset in epoch 2 after 40 steps:\n",
      "2022-06-26 19:17:21 - Accuracy with Cosine-Similarity:           66.83\t(Threshold: 0.5960)\n",
      "2022-06-26 19:17:21 - F1 with Cosine-Similarity:                 78.86\t(Threshold: 0.4106)\n",
      "2022-06-26 19:17:21 - Precision with Cosine-Similarity:          65.10\n",
      "2022-06-26 19:17:21 - Recall with Cosine-Similarity:             100.00\n",
      "2022-06-26 19:17:21 - Average Precision with Cosine-Similarity:  80.24\n",
      "\n",
      "2022-06-26 19:17:21 - Accuracy with Manhatten-Distance:           67.84\t(Threshold: 698.6754)\n",
      "2022-06-26 19:17:21 - F1 with Manhatten-Distance:                 79.11\t(Threshold: 819.7683)\n",
      "2022-06-26 19:17:21 - Precision with Manhatten-Distance:          65.45\n",
      "2022-06-26 19:17:21 - Recall with Manhatten-Distance:             100.00\n",
      "2022-06-26 19:17:21 - Average Precision with Manhatten-Distance:  81.38\n",
      "\n",
      "2022-06-26 19:17:21 - Accuracy with Euclidean-Distance:           67.34\t(Threshold: 27.5736)\n",
      "2022-06-26 19:17:21 - F1 with Euclidean-Distance:                 78.86\t(Threshold: 32.7269)\n",
      "2022-06-26 19:17:21 - Precision with Euclidean-Distance:          65.10\n",
      "2022-06-26 19:17:21 - Recall with Euclidean-Distance:             100.00\n",
      "2022-06-26 19:17:21 - Average Precision with Euclidean-Distance:  80.33\n",
      "\n",
      "2022-06-26 19:17:21 - Accuracy with Dot-Product:           66.83\t(Threshold: 528.2662)\n",
      "2022-06-26 19:17:21 - F1 with Dot-Product:                 78.86\t(Threshold: 377.9456)\n",
      "2022-06-26 19:17:21 - Precision with Dot-Product:          65.10\n",
      "2022-06-26 19:17:21 - Recall with Dot-Product:             100.00\n",
      "2022-06-26 19:17:21 - Average Precision with Dot-Product:  79.52\n",
      "\n",
      "2022-06-26 19:17:22 - Binary Accuracy Evaluation of the model on sts-dev dataset after epoch 2:\n",
      "2022-06-26 19:17:23 - Accuracy with Cosine-Similarity:           66.83\t(Threshold: 0.5955)\n",
      "2022-06-26 19:17:23 - F1 with Cosine-Similarity:                 78.86\t(Threshold: 0.4100)\n",
      "2022-06-26 19:17:23 - Precision with Cosine-Similarity:          65.10\n",
      "2022-06-26 19:17:23 - Recall with Cosine-Similarity:             100.00\n",
      "2022-06-26 19:17:23 - Average Precision with Cosine-Similarity:  80.26\n",
      "\n",
      "2022-06-26 19:17:23 - Accuracy with Manhatten-Distance:           67.34\t(Threshold: 588.6646)\n",
      "2022-06-26 19:17:23 - F1 with Manhatten-Distance:                 79.11\t(Threshold: 819.7106)\n",
      "2022-06-26 19:17:23 - Precision with Manhatten-Distance:          65.45\n",
      "2022-06-26 19:17:23 - Recall with Manhatten-Distance:             100.00\n",
      "2022-06-26 19:17:23 - Average Precision with Manhatten-Distance:  81.33\n",
      "\n",
      "2022-06-26 19:17:23 - Accuracy with Euclidean-Distance:           67.34\t(Threshold: 27.5741)\n",
      "2022-06-26 19:17:23 - F1 with Euclidean-Distance:                 78.86\t(Threshold: 32.7409)\n",
      "2022-06-26 19:17:23 - Precision with Euclidean-Distance:          65.10\n",
      "2022-06-26 19:17:23 - Recall with Euclidean-Distance:             100.00\n",
      "2022-06-26 19:17:23 - Average Precision with Euclidean-Distance:  80.31\n",
      "\n",
      "2022-06-26 19:17:23 - Accuracy with Dot-Product:           66.83\t(Threshold: 527.7872)\n",
      "2022-06-26 19:17:23 - F1 with Dot-Product:                 78.86\t(Threshold: 377.3110)\n",
      "2022-06-26 19:17:23 - Precision with Dot-Product:          65.10\n",
      "2022-06-26 19:17:23 - Recall with Dot-Product:             100.00\n",
      "2022-06-26 19:17:23 - Average Precision with Dot-Product:  79.53\n",
      "\n"
     ]
    }
   ],
   "source": [
    "train_model(taska_training_df, taska_valid_df, '../data/output/', \n",
    "            'sentence-transformers/nli-roberta-large', \n",
    "            num_epochs=3, train_batch_size=8,\n",
    "            model_suffix='ranking-loss', max_seq_length=256, special_tokens=[], \n",
    "            loss='MultipleNegativesRankingLoss', sentence_transformer=False)"
   ]
  },
  {
   "cell_type": "markdown",
   "metadata": {},
   "source": [
    "### Using the auto-generated conclusions:"
   ]
  },
  {
   "cell_type": "code",
   "execution_count": null,
   "metadata": {},
   "outputs": [],
   "source": [
    "taska_training_df = pd.read_csv('../data/')\n",
    "taska_valid_df = pd.read_csv('../data/TaskA_dev.csv')"
   ]
  },
  {
   "cell_type": "code",
   "execution_count": null,
   "metadata": {},
   "outputs": [],
   "source": [
    "#Mapping labels\n",
    "taska_training_df = taska_training_df[taska_training_df.Validity != 0]\n",
    "taska_valid_df    = taska_valid_df[taska_valid_df.Validity != 0]\n",
    "\n",
    "taska_training_df['label'] = taska_training_df.Validity.apply(lambda x : 1 if x == 1 else 0)\n",
    "taska_valid_df['label'] = taska_valid_df.Validity.apply(lambda x : 1 if x == 1 else 0)\n",
    "\n",
    "taska_training_df['Premise'] = taska_training_df.apply(lambda x: x['topic'] + ' : ' +  x['Premise'], axis=1)\n",
    "taska_valid_df['Premise'] = taska_valid_df.apply(lambda x: x['topic'] + ' : ' +  x['Premise'], axis=1)"
   ]
  }
 ],
 "metadata": {
  "kernelspec": {
   "display_name": "Python 3",
   "language": "python",
   "name": "python3"
  },
  "language_info": {
   "codemirror_mode": {
    "name": "ipython",
    "version": 3
   },
   "file_extension": ".py",
   "mimetype": "text/x-python",
   "name": "python",
   "nbconvert_exporter": "python",
   "pygments_lexer": "ipython3",
   "version": "3.8.10"
  }
 },
 "nbformat": 4,
 "nbformat_minor": 4
}
