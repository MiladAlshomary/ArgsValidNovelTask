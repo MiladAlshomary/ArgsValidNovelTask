{
 "cells": [
  {
   "cell_type": "code",
   "execution_count": 6,
   "metadata": {},
   "outputs": [],
   "source": [
    "import json\n",
    "import pandas as pd\n",
    "import numpy as np\n",
    "\n",
    "pd.set_option('display.max_colwidth', None)"
   ]
  },
  {
   "cell_type": "code",
   "execution_count": 7,
   "metadata": {},
   "outputs": [],
   "source": [
    "from transformers import AutoModelForSeq2SeqLM, AutoModelForSequenceClassification, AutoTokenizer, pipeline, DataCollatorForSeq2Seq, Seq2SeqTrainingArguments, TextClassificationPipeline, Seq2SeqTrainer, BertForSequenceClassification\n",
    "from datasets import Dataset\n",
    "from tqdm import tqdm\n",
    "import torch\n",
    "device = torch.device('cuda') if torch.cuda.is_available() else torch.device('cpu')"
   ]
  },
  {
   "cell_type": "code",
   "execution_count": 16,
   "metadata": {},
   "outputs": [],
   "source": [
    "taska_training_df = pd.read_csv('../data/TaskA_train.csv')"
   ]
  },
  {
   "cell_type": "code",
   "execution_count": 4,
   "metadata": {},
   "outputs": [],
   "source": [
    "conclusion_gen_tokenizer = AutoTokenizer.from_pretrained(\"../../data-ceph/arguana/arg-generation/conclusion-generation-models/dbart\")\n",
    "conclusion_gen_model = AutoModelForSeq2SeqLM.from_pretrained(\"../../data-ceph/arguana/arg-generation/conclusion-generation-models/dbart\").to(device)"
   ]
  },
  {
   "cell_type": "code",
   "execution_count": 17,
   "metadata": {},
   "outputs": [],
   "source": [
    "def chunks(lst, n):\n",
    "    \"\"\"Yield successive n-sized chunks from lst.\"\"\"\n",
    "    for i in range(0, len(lst), n):\n",
    "        yield lst[i:i + n]\n",
    "        \n",
    "def generate_conclusion(premises, gen_kwargs, batch_size=16):\n",
    "    if type(premises[0]) == list:\n",
    "        premises = [' '.join(x) for x in premises]\n",
    "    \n",
    "    ds = Dataset.from_dict({'premises': premises})\n",
    "    ds = ds.map(lambda x :conclusion_gen_tokenizer(x['premises'], max_length=512, truncation=True, padding='max_length') , batched=True)\n",
    "    ds.set_format(type='torch', columns=['input_ids', 'attention_mask'])\n",
    "    dataloader = torch.utils.data.DataLoader(ds, batch_size=batch_size)\n",
    "\n",
    "    generated_conclusion = []\n",
    "\n",
    "    conclusion_gen_model.eval()\n",
    "    with torch.no_grad():\n",
    "        for batch in tqdm(dataloader):\n",
    "            input_ids = batch['input_ids'].to(device)\n",
    "            attention_mask = batch['attention_mask'].to(device)\n",
    "\n",
    "            generated_tokens = conclusion_gen_model.generate(\n",
    "                input_ids,\n",
    "                attention_mask=attention_mask,\n",
    "                **gen_kwargs\n",
    "            )\n",
    "\n",
    "            generated_tokens = generated_tokens.cpu().numpy()\n",
    "\n",
    "            if isinstance(generated_tokens, tuple):\n",
    "                generated_tokens = generated_tokens[0]\n",
    "\n",
    "            decoded_preds = conclusion_gen_tokenizer.batch_decode(generated_tokens, skip_special_tokens=True)\n",
    "\n",
    "            generated_conclusion += decoded_preds\n",
    "\n",
    "    return generated_conclusion"
   ]
  },
  {
   "cell_type": "code",
   "execution_count": 18,
   "metadata": {},
   "outputs": [
    {
     "data": {
      "application/vnd.jupyter.widget-view+json": {
       "model_id": "2c00de1bc5f148568620b054e059027e",
       "version_major": 2,
       "version_minor": 0
      },
      "text/plain": [
       "  0%|          | 0/1 [00:00<?, ?ba/s]"
      ]
     },
     "metadata": {},
     "output_type": "display_data"
    },
    {
     "name": "stderr",
     "output_type": "stream",
     "text": [
      "  0%|          | 0/94 [00:00<?, ?it/s]/usr/local/lib/python3.8/dist-packages/transformers/generation_beam_search.py:194: UserWarning: Passing `max_length` to BeamSearchScorer is deprecated and has no effect. `max_length` should be passed directly to `beam_search(...)`, `beam_sample(...)`, or `group_beam_search(...)`.\n",
      "  warnings.warn(\n",
      "/usr/local/lib/python3.8/dist-packages/transformers/generation_utils.py:2574: UserWarning: __floordiv__ is deprecated, and its behavior will change in a future version of pytorch. It currently rounds toward 0 (like the 'trunc' function NOT 'floor'). This results in incorrect rounding for negative values. To keep the current behavior, use torch.div(a, b, rounding_mode='trunc'), or for actual floor division, use torch.div(a, b, rounding_mode='floor').\n",
      "  next_indices = next_tokens // vocab_size\n",
      "/usr/local/lib/python3.8/dist-packages/transformers/generation_utils.py:2597: UserWarning: __floordiv__ is deprecated, and its behavior will change in a future version of pytorch. It currently rounds toward 0 (like the 'trunc' function NOT 'floor'). This results in incorrect rounding for negative values. To keep the current behavior, use torch.div(a, b, rounding_mode='trunc'), or for actual floor division, use torch.div(a, b, rounding_mode='floor').\n",
      "  num_beams * (beam_idx // group_size) + group_start_idx + (beam_idx % group_size)\n",
      "100%|██████████| 94/94 [01:21<00:00,  1.15it/s]\n"
     ]
    }
   ],
   "source": [
    "gen_kwargs = {\n",
    "    \"do_sample\": False, \n",
    "    #\"min_length\":20,\n",
    "    \"top_p\":0.90, \n",
    "    \"top_k\":50,\n",
    "    \"num_beams\":20,\n",
    "    \"num_beam_groups\":5,\n",
    "    \"diversity_penalty\":0.3,\n",
    "    \"num_return_sequences\":5\n",
    "}\n",
    "\n",
    "conclusions = generate_conclusion(taska_training_df.Premise.tolist(), gen_kwargs, batch_size=8)\n",
    "taska_training_df['gen_conclusions'] = list(chunks(conclusions, 5))"
   ]
  },
  {
   "cell_type": "code",
   "execution_count": 20,
   "metadata": {
    "scrolled": true,
    "tags": []
   },
   "outputs": [
    {
     "data": {
      "text/html": [
       "<div>\n",
       "<style scoped>\n",
       "    .dataframe tbody tr th:only-of-type {\n",
       "        vertical-align: middle;\n",
       "    }\n",
       "\n",
       "    .dataframe tbody tr th {\n",
       "        vertical-align: top;\n",
       "    }\n",
       "\n",
       "    .dataframe thead th {\n",
       "        text-align: right;\n",
       "    }\n",
       "</style>\n",
       "<table border=\"1\" class=\"dataframe\">\n",
       "  <thead>\n",
       "    <tr style=\"text-align: right;\">\n",
       "      <th></th>\n",
       "      <th>topic</th>\n",
       "      <th>Premise</th>\n",
       "      <th>Conclusion</th>\n",
       "      <th>Validity</th>\n",
       "      <th>Validity-Confidence</th>\n",
       "      <th>Novelty</th>\n",
       "      <th>Novelty-Confidence</th>\n",
       "      <th>gen_conclusions</th>\n",
       "    </tr>\n",
       "  </thead>\n",
       "  <tbody>\n",
       "    <tr>\n",
       "      <th>233</th>\n",
       "      <td>Trying terrorist suspects in civilian courts</td>\n",
       "      <td>Which brings us to the idea that allowing Mr. Mohammed to take the stand will give him a soapbox. The truth is, if the trial provides a propaganda platform for anybody, it will be for our side. [...] First, federal courts do not permit TV cameras in the courtroom, so the opportunity for “real time” jihadist propagandizing won’t exist.</td>\n",
       "      <td>There will be no TV cameras in trials of terror suspects.</td>\n",
       "      <td>1</td>\n",
       "      <td>majority</td>\n",
       "      <td>-1</td>\n",
       "      <td>very confident</td>\n",
       "      <td>[No TV cameras should be allowed in trials of terror suspects, No TV cameras should be allowed in trials of terror suspects., No TV cameras can be allowed in the courtroom for terror suspects., No TV cameras should be allowed in the courtroom for terror suspects., No TV cameras should be allowed in the courtroom for the terror suspects.]</td>\n",
       "    </tr>\n",
       "    <tr>\n",
       "      <th>96</th>\n",
       "      <td>Trying 9/11 terror suspects in NYC courts</td>\n",
       "      <td>The politics of the trial stems from Obama’s decision to announce the closing of Guantanamo before he had lined up takers for its prisoners. Now with unemployment at 10.2 percent, he could hold an auction for the officials in Illinois, Montana, Michigan and Colorado clamoring for the detainees to fill their underused prisons. The politician who wins the detainees isn’t going to get booted from office. He’s going to get a parade.</td>\n",
       "      <td>Detainees can be sold to fill empty prisons</td>\n",
       "      <td>1</td>\n",
       "      <td>very confident</td>\n",
       "      <td>-1</td>\n",
       "      <td>majority</td>\n",
       "      <td>[The detainees will have nothing to do with politics at all., The detainees will have nothing to do with politics., The prisoner will have nothing to do with politics or the prison system., The detainees will have nothing to do with politics or the economy., The prisoner will have nothing to do with politics or the economy.]</td>\n",
       "    </tr>\n",
       "    <tr>\n",
       "      <th>13</th>\n",
       "      <td>TV viewing is harmful to children</td>\n",
       "      <td>Television has become a temple of mass production, shallow values and stereotypes that have a great influence on modern society. This negative effect spreads with the growing popularity of TV, especially among young people and children. It defiantly changes our society for the worse, trivialising culture and making us all conform to a bland, \"Hollywood\" model of entertainment in which regional traditions and diversity are lost.</td>\n",
       "      <td>Television is a temple of shallow values</td>\n",
       "      <td>1</td>\n",
       "      <td>very confident</td>\n",
       "      <td>-1</td>\n",
       "      <td>very confident</td>\n",
       "      <td>[Television is mostly directed to films and shows that have commercial purposes but little cultural value:, Television is mostly directed to films and shows that have commercial purposes but little cultural value., Television is mostly directed to films and shows that have commercial purposes but little cultural value:, Television is mostly directed to films and shows which have commercial purposes but little cultural value:, Television is mostly directed to films and shows that have commercial purposes but little cultural value.]</td>\n",
       "    </tr>\n",
       "    <tr>\n",
       "      <th>30</th>\n",
       "      <td>Torture</td>\n",
       "      <td>Torture puts the torturer in a position of dominance and abuse that has a brutalizing effect. This brutalizing effect is dehumanizing, or at least it defeats the virtues of compassion, empathy, and dignity that define a good human being, perhaps in God's image.</td>\n",
       "      <td>Torture has a brutalizing, dehumanizing effect</td>\n",
       "      <td>1</td>\n",
       "      <td>very confident</td>\n",
       "      <td>-1</td>\n",
       "      <td>very confident</td>\n",
       "      <td>[Torture is ineffective at getting prisoners to reveal desired information., A painful execution, which can be regarded as torture, damages the nation's international reputation., It is morally acceptable for prisons to focus on rehabilitation., Torture is immoral because it violates human rights and dignity., A painful execution, which can be regarded as torture, damages the nation's international international reputation.]</td>\n",
       "    </tr>\n",
       "    <tr>\n",
       "      <th>131</th>\n",
       "      <td>Trying 9/11 terror suspects in NYC courts</td>\n",
       "      <td>As for emotional pain, one of the advances in the U.S. criminal justice system is giving victims a place at trial and a chance to be heard. The families wouldn’t get that in Guantanamo.</td>\n",
       "      <td>Obama administration consulted with Congress on Libya</td>\n",
       "      <td>-1</td>\n",
       "      <td>very confident</td>\n",
       "      <td>-1</td>\n",
       "      <td>very confident</td>\n",
       "      <td>[Torture is ineffective in getting prisoners to reveal desired information., Torture can cause psychological, material and sometimes physical pain for the detainee., Torture can cause psychological, material and sometimes physical pain for victims., Torture can cause psychological, material and sometimes physical pain for the prisoners., Torture can cause psychological, material and sometimes physical pain for victims.]</td>\n",
       "    </tr>\n",
       "  </tbody>\n",
       "</table>\n",
       "</div>"
      ],
      "text/plain": [
       "                                            topic  \\\n",
       "233  Trying terrorist suspects in civilian courts   \n",
       "96      Trying 9/11 terror suspects in NYC courts   \n",
       "13              TV viewing is harmful to children   \n",
       "30                                        Torture   \n",
       "131     Trying 9/11 terror suspects in NYC courts   \n",
       "\n",
       "                                                                                                                                                                                                                                                                                                                                                                                                                                              Premise  \\\n",
       "233                                                                                                  Which brings us to the idea that allowing Mr. Mohammed to take the stand will give him a soapbox. The truth is, if the trial provides a propaganda platform for anybody, it will be for our side. [...] First, federal courts do not permit TV cameras in the courtroom, so the opportunity for “real time” jihadist propagandizing won’t exist.   \n",
       "96   The politics of the trial stems from Obama’s decision to announce the closing of Guantanamo before he had lined up takers for its prisoners. Now with unemployment at 10.2 percent, he could hold an auction for the officials in Illinois, Montana, Michigan and Colorado clamoring for the detainees to fill their underused prisons. The politician who wins the detainees isn’t going to get booted from office. He’s going to get a parade.   \n",
       "13    Television has become a temple of mass production, shallow values and stereotypes that have a great influence on modern society. This negative effect spreads with the growing popularity of TV, especially among young people and children. It defiantly changes our society for the worse, trivialising culture and making us all conform to a bland, \"Hollywood\" model of entertainment in which regional traditions and diversity are lost.   \n",
       "30                                                                                                                                                                              Torture puts the torturer in a position of dominance and abuse that has a brutalizing effect. This brutalizing effect is dehumanizing, or at least it defeats the virtues of compassion, empathy, and dignity that define a good human being, perhaps in God's image.   \n",
       "131                                                                                                                                                                                                                                                         As for emotional pain, one of the advances in the U.S. criminal justice system is giving victims a place at trial and a chance to be heard. The families wouldn’t get that in Guantanamo.   \n",
       "\n",
       "                                                    Conclusion  Validity  \\\n",
       "233  There will be no TV cameras in trials of terror suspects.         1   \n",
       "96                 Detainees can be sold to fill empty prisons         1   \n",
       "13                    Television is a temple of shallow values         1   \n",
       "30              Torture has a brutalizing, dehumanizing effect         1   \n",
       "131      Obama administration consulted with Congress on Libya        -1   \n",
       "\n",
       "    Validity-Confidence  Novelty Novelty-Confidence  \\\n",
       "233            majority       -1     very confident   \n",
       "96       very confident       -1           majority   \n",
       "13       very confident       -1     very confident   \n",
       "30       very confident       -1     very confident   \n",
       "131      very confident       -1     very confident   \n",
       "\n",
       "                                                                                                                                                                                                                                                                                                                                                                                                                                                                                                                                              gen_conclusions  \n",
       "233                                                                                                                                                                                                       [No TV cameras should be allowed in trials of terror suspects, No TV cameras should be allowed in trials of terror suspects., No TV cameras can be allowed in the courtroom for terror suspects., No TV cameras should be allowed in the courtroom for terror suspects., No TV cameras should be allowed in the courtroom for the terror suspects.]  \n",
       "96                                                                                                                                                                                                                     [The detainees will have nothing to do with politics at all., The detainees will have nothing to do with politics., The prisoner will have nothing to do with politics or the prison system., The detainees will have nothing to do with politics or the economy., The prisoner will have nothing to do with politics or the economy.]  \n",
       "13   [Television is mostly directed to films and shows that have commercial purposes but little cultural value:, Television is mostly directed to films and shows that have commercial purposes but little cultural value., Television is mostly directed to films and shows that have commercial purposes but little cultural value:, Television is mostly directed to films and shows which have commercial purposes but little cultural value:, Television is mostly directed to films and shows that have commercial purposes but little cultural value.]  \n",
       "30                                                                                                               [Torture is ineffective at getting prisoners to reveal desired information., A painful execution, which can be regarded as torture, damages the nation's international reputation., It is morally acceptable for prisons to focus on rehabilitation., Torture is immoral because it violates human rights and dignity., A painful execution, which can be regarded as torture, damages the nation's international international reputation.]  \n",
       "131                                                                                                                   [Torture is ineffective in getting prisoners to reveal desired information., Torture can cause psychological, material and sometimes physical pain for the detainee., Torture can cause psychological, material and sometimes physical pain for victims., Torture can cause psychological, material and sometimes physical pain for the prisoners., Torture can cause psychological, material and sometimes physical pain for victims.]  "
      ]
     },
     "execution_count": 20,
     "metadata": {},
     "output_type": "execute_result"
    }
   ],
   "source": [
    "taska_training_df.sample(10).head()"
   ]
  },
  {
   "cell_type": "code",
   "execution_count": 23,
   "metadata": {},
   "outputs": [],
   "source": [
    "output_data = []\n",
    "for idx, row in taska_training_df.iterrows():\n",
    "    output_data.append((row['topic'], row['Premise'], row['Conclusion'], row['Validity'], row['Validity-Confidence'], row['Novelty'], row['Novelty-Confidence']))\n",
    "    for conc in row['gen_conclusions']:\n",
    "        output_data.append((row['topic'], row['Premise'], conc, 1, 'Low', -1, 'Low'))\n",
    "new_df = pd.DataFrame(output_data, columns=['topic', 'Premise', 'Conclusion', 'Validity', 'Validity-Confidence', 'Novelty', 'Novelty-Confidence'])"
   ]
  },
  {
   "cell_type": "code",
   "execution_count": 24,
   "metadata": {},
   "outputs": [
    {
     "data": {
      "text/html": [
       "<div>\n",
       "<style scoped>\n",
       "    .dataframe tbody tr th:only-of-type {\n",
       "        vertical-align: middle;\n",
       "    }\n",
       "\n",
       "    .dataframe tbody tr th {\n",
       "        vertical-align: top;\n",
       "    }\n",
       "\n",
       "    .dataframe thead th {\n",
       "        text-align: right;\n",
       "    }\n",
       "</style>\n",
       "<table border=\"1\" class=\"dataframe\">\n",
       "  <thead>\n",
       "    <tr style=\"text-align: right;\">\n",
       "      <th></th>\n",
       "      <th>topic</th>\n",
       "      <th>Premise</th>\n",
       "      <th>Conclusion</th>\n",
       "      <th>Validity</th>\n",
       "      <th>Validity-Confidence</th>\n",
       "      <th>Novelty</th>\n",
       "      <th>Novelty-Confidence</th>\n",
       "    </tr>\n",
       "  </thead>\n",
       "  <tbody>\n",
       "    <tr>\n",
       "      <th>0</th>\n",
       "      <td>TV viewing is harmful to children</td>\n",
       "      <td>The popularity of TV watching is among the reasons of this phenomenon. Violence, aggression, crimes and wars are broadcast through the daily news as well as in movies, showing dark pictures that encourage psychological tension, pessimism and negative emotions.</td>\n",
       "      <td>Depression is a well-known psychological problem of modern society that is partly caused by TV watching:</td>\n",
       "      <td>1</td>\n",
       "      <td>confident</td>\n",
       "      <td>1</td>\n",
       "      <td>confident</td>\n",
       "    </tr>\n",
       "    <tr>\n",
       "      <th>1</th>\n",
       "      <td>TV viewing is harmful to children</td>\n",
       "      <td>The popularity of TV watching is among the reasons of this phenomenon. Violence, aggression, crimes and wars are broadcast through the daily news as well as in movies, showing dark pictures that encourage psychological tension, pessimism and negative emotions.</td>\n",
       "      <td>This phenomenon is partly caused by TV watching:</td>\n",
       "      <td>1</td>\n",
       "      <td>Low</td>\n",
       "      <td>-1</td>\n",
       "      <td>Low</td>\n",
       "    </tr>\n",
       "    <tr>\n",
       "      <th>2</th>\n",
       "      <td>TV viewing is harmful to children</td>\n",
       "      <td>The popularity of TV watching is among the reasons of this phenomenon. Violence, aggression, crimes and wars are broadcast through the daily news as well as in movies, showing dark pictures that encourage psychological tension, pessimism and negative emotions.</td>\n",
       "      <td>This phenomenon is partly caused by TV watching:</td>\n",
       "      <td>1</td>\n",
       "      <td>Low</td>\n",
       "      <td>-1</td>\n",
       "      <td>Low</td>\n",
       "    </tr>\n",
       "    <tr>\n",
       "      <th>3</th>\n",
       "      <td>TV viewing is harmful to children</td>\n",
       "      <td>The popularity of TV watching is among the reasons of this phenomenon. Violence, aggression, crimes and wars are broadcast through the daily news as well as in movies, showing dark pictures that encourage psychological tension, pessimism and negative emotions.</td>\n",
       "      <td>This phenomenon is partly caused by TV watching:</td>\n",
       "      <td>1</td>\n",
       "      <td>Low</td>\n",
       "      <td>-1</td>\n",
       "      <td>Low</td>\n",
       "    </tr>\n",
       "    <tr>\n",
       "      <th>4</th>\n",
       "      <td>TV viewing is harmful to children</td>\n",
       "      <td>The popularity of TV watching is among the reasons of this phenomenon. Violence, aggression, crimes and wars are broadcast through the daily news as well as in movies, showing dark pictures that encourage psychological tension, pessimism and negative emotions.</td>\n",
       "      <td>The constant comparisons of different cultures and events in popular media can [exacerbate]( these contradictions.</td>\n",
       "      <td>1</td>\n",
       "      <td>Low</td>\n",
       "      <td>-1</td>\n",
       "      <td>Low</td>\n",
       "    </tr>\n",
       "  </tbody>\n",
       "</table>\n",
       "</div>"
      ],
      "text/plain": [
       "                               topic  \\\n",
       "0  TV viewing is harmful to children   \n",
       "1  TV viewing is harmful to children   \n",
       "2  TV viewing is harmful to children   \n",
       "3  TV viewing is harmful to children   \n",
       "4  TV viewing is harmful to children   \n",
       "\n",
       "                                                                                                                                                                                                                                                                Premise  \\\n",
       "0  The popularity of TV watching is among the reasons of this phenomenon. Violence, aggression, crimes and wars are broadcast through the daily news as well as in movies, showing dark pictures that encourage psychological tension, pessimism and negative emotions.   \n",
       "1  The popularity of TV watching is among the reasons of this phenomenon. Violence, aggression, crimes and wars are broadcast through the daily news as well as in movies, showing dark pictures that encourage psychological tension, pessimism and negative emotions.   \n",
       "2  The popularity of TV watching is among the reasons of this phenomenon. Violence, aggression, crimes and wars are broadcast through the daily news as well as in movies, showing dark pictures that encourage psychological tension, pessimism and negative emotions.   \n",
       "3  The popularity of TV watching is among the reasons of this phenomenon. Violence, aggression, crimes and wars are broadcast through the daily news as well as in movies, showing dark pictures that encourage psychological tension, pessimism and negative emotions.   \n",
       "4  The popularity of TV watching is among the reasons of this phenomenon. Violence, aggression, crimes and wars are broadcast through the daily news as well as in movies, showing dark pictures that encourage psychological tension, pessimism and negative emotions.   \n",
       "\n",
       "                                                                                                           Conclusion  \\\n",
       "0            Depression is a well-known psychological problem of modern society that is partly caused by TV watching:   \n",
       "1                                                                    This phenomenon is partly caused by TV watching:   \n",
       "2                                                                    This phenomenon is partly caused by TV watching:   \n",
       "3                                                                    This phenomenon is partly caused by TV watching:   \n",
       "4  The constant comparisons of different cultures and events in popular media can [exacerbate]( these contradictions.   \n",
       "\n",
       "   Validity Validity-Confidence  Novelty Novelty-Confidence  \n",
       "0         1           confident        1          confident  \n",
       "1         1                 Low       -1                Low  \n",
       "2         1                 Low       -1                Low  \n",
       "3         1                 Low       -1                Low  \n",
       "4         1                 Low       -1                Low  "
      ]
     },
     "execution_count": 24,
     "metadata": {},
     "output_type": "execute_result"
    }
   ],
   "source": [
    "new_df.head()"
   ]
  },
  {
   "cell_type": "code",
   "execution_count": 29,
   "metadata": {},
   "outputs": [
    {
     "data": {
      "text/plain": [
       " 1    401\n",
       "-1    320\n",
       " 0     29\n",
       "Name: Validity, dtype: int64"
      ]
     },
     "execution_count": 29,
     "metadata": {},
     "output_type": "execute_result"
    }
   ],
   "source": [
    "taska_training_df.Validity.value_counts()"
   ]
  },
  {
   "cell_type": "code",
   "execution_count": 28,
   "metadata": {},
   "outputs": [
    {
     "data": {
      "text/plain": [
       " 1    4151\n",
       "-1     320\n",
       " 0      29\n",
       "Name: Validity, dtype: int64"
      ]
     },
     "execution_count": 28,
     "metadata": {},
     "output_type": "execute_result"
    }
   ],
   "source": [
    "new_df.Validity.value_counts()"
   ]
  },
  {
   "cell_type": "code",
   "execution_count": 30,
   "metadata": {},
   "outputs": [],
   "source": [
    "new_df.to_pickle('../data/TaskA_train_with_extra_conclusions.pkl') "
   ]
  },
  {
   "cell_type": "code",
   "execution_count": null,
   "metadata": {},
   "outputs": [],
   "source": []
  }
 ],
 "metadata": {
  "kernelspec": {
   "display_name": "Python 3",
   "language": "python",
   "name": "python3"
  },
  "language_info": {
   "codemirror_mode": {
    "name": "ipython",
    "version": 3
   },
   "file_extension": ".py",
   "mimetype": "text/x-python",
   "name": "python",
   "nbconvert_exporter": "python",
   "pygments_lexer": "ipython3",
   "version": "3.8.10"
  }
 },
 "nbformat": 4,
 "nbformat_minor": 4
}
