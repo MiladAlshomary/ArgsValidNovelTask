{
 "cells": [
  {
   "cell_type": "code",
   "execution_count": 1,
   "metadata": {},
   "outputs": [],
   "source": [
    "import json\n",
    "import pandas as pd\n",
    "import numpy as np\n",
    "\n",
    "pd.set_option('display.max_colwidth', None)"
   ]
  },
  {
   "cell_type": "code",
   "execution_count": 2,
   "metadata": {},
   "outputs": [],
   "source": [
    "from transformers import AutoModelForSeq2SeqLM, AutoModelForSequenceClassification, AutoTokenizer, pipeline, DataCollatorForSeq2Seq, Seq2SeqTrainingArguments, TextClassificationPipeline, Seq2SeqTrainer, BertForSequenceClassification\n",
    "from datasets import Dataset\n",
    "from tqdm import tqdm\n",
    "import torch\n",
    "device = torch.device('cuda') if torch.cuda.is_available() else torch.device('cpu')"
   ]
  },
  {
   "cell_type": "code",
   "execution_count": 3,
   "metadata": {},
   "outputs": [],
   "source": [
    "taska_training_df = pd.read_csv('../data/TaskA_train.csv')"
   ]
  },
  {
   "cell_type": "code",
   "execution_count": 4,
   "metadata": {},
   "outputs": [],
   "source": [
    "conclusion_gen_tokenizer = AutoTokenizer.from_pretrained(\"../../data-ceph/arguana/arg-generation/conclusion-generation-models/dbart\")\n",
    "conclusion_gen_model = AutoModelForSeq2SeqLM.from_pretrained(\"../../data-ceph/arguana/arg-generation/conclusion-generation-models/dbart\").to(device)"
   ]
  },
  {
   "cell_type": "code",
   "execution_count": 5,
   "metadata": {},
   "outputs": [],
   "source": [
    "def chunks(lst, n):\n",
    "    \"\"\"Yield successive n-sized chunks from lst.\"\"\"\n",
    "    for i in range(0, len(lst), n):\n",
    "        yield lst[i:i + n]\n",
    "        \n",
    "def generate_conclusion(premises, gen_kwargs, batch_size=16):\n",
    "    if type(premises[0]) == list:\n",
    "        premises = [' '.join(x) for x in premises]\n",
    "    \n",
    "    ds = Dataset.from_dict({'premises': premises})\n",
    "    ds = ds.map(lambda x :conclusion_gen_tokenizer(x['premises'], max_length=512, truncation=True, padding='max_length') , batched=True)\n",
    "    ds.set_format(type='torch', columns=['input_ids', 'attention_mask'])\n",
    "    dataloader = torch.utils.data.DataLoader(ds, batch_size=batch_size)\n",
    "\n",
    "    generated_conclusion = []\n",
    "\n",
    "    conclusion_gen_model.eval()\n",
    "    with torch.no_grad():\n",
    "        for batch in tqdm(dataloader):\n",
    "            input_ids = batch['input_ids'].to(device)\n",
    "            attention_mask = batch['attention_mask'].to(device)\n",
    "\n",
    "            generated_tokens = conclusion_gen_model.generate(\n",
    "                input_ids,\n",
    "                attention_mask=attention_mask,\n",
    "                **gen_kwargs\n",
    "            )\n",
    "\n",
    "            generated_tokens = generated_tokens.cpu().numpy()\n",
    "\n",
    "            if isinstance(generated_tokens, tuple):\n",
    "                generated_tokens = generated_tokens[0]\n",
    "\n",
    "            decoded_preds = conclusion_gen_tokenizer.batch_decode(generated_tokens, skip_special_tokens=True)\n",
    "\n",
    "            generated_conclusion += decoded_preds\n",
    "\n",
    "    return generated_conclusion"
   ]
  },
  {
   "cell_type": "code",
   "execution_count": 6,
   "metadata": {},
   "outputs": [
    {
     "name": "stderr",
     "output_type": "stream",
     "text": [
      "Parameter 'function'=<function generate_conclusion.<locals>.<lambda> at 0x7f74fd60a5e0> of the transform datasets.arrow_dataset.Dataset._map_single couldn't be hashed properly, a random hash was used instead. Make sure your transforms and parameters are serializable with pickle or dill for the dataset fingerprinting and caching to work. If you reuse this transform, the caching mechanism will consider it to be different from the previous calls and recompute everything. This warning is only showed once. Subsequent hashing failures won't be showed.\n"
     ]
    },
    {
     "data": {
      "application/vnd.jupyter.widget-view+json": {
       "model_id": "d2de4fd1f8ec4a798c70491fb390847e",
       "version_major": 2,
       "version_minor": 0
      },
      "text/plain": [
       "  0%|          | 0/1 [00:00<?, ?ba/s]"
      ]
     },
     "metadata": {},
     "output_type": "display_data"
    },
    {
     "name": "stderr",
     "output_type": "stream",
     "text": [
      "  0%|          | 0/94 [00:00<?, ?it/s]/usr/local/lib/python3.8/dist-packages/transformers/generation_beam_search.py:194: UserWarning: Passing `max_length` to BeamSearchScorer is deprecated and has no effect. `max_length` should be passed directly to `beam_search(...)`, `beam_sample(...)`, or `group_beam_search(...)`.\n",
      "  warnings.warn(\n",
      "/usr/local/lib/python3.8/dist-packages/transformers/generation_utils.py:2574: UserWarning: __floordiv__ is deprecated, and its behavior will change in a future version of pytorch. It currently rounds toward 0 (like the 'trunc' function NOT 'floor'). This results in incorrect rounding for negative values. To keep the current behavior, use torch.div(a, b, rounding_mode='trunc'), or for actual floor division, use torch.div(a, b, rounding_mode='floor').\n",
      "  next_indices = next_tokens // vocab_size\n",
      "/usr/local/lib/python3.8/dist-packages/transformers/generation_utils.py:2597: UserWarning: __floordiv__ is deprecated, and its behavior will change in a future version of pytorch. It currently rounds toward 0 (like the 'trunc' function NOT 'floor'). This results in incorrect rounding for negative values. To keep the current behavior, use torch.div(a, b, rounding_mode='trunc'), or for actual floor division, use torch.div(a, b, rounding_mode='floor').\n",
      "  num_beams * (beam_idx // group_size) + group_start_idx + (beam_idx % group_size)\n",
      "100%|██████████| 94/94 [01:21<00:00,  1.15it/s]\n"
     ]
    }
   ],
   "source": [
    "gen_kwargs = {\n",
    "    \"do_sample\": False, \n",
    "    #\"min_length\":20,\n",
    "    \"top_p\":0.90, \n",
    "    \"top_k\":50,\n",
    "    \"num_beams\":20,\n",
    "    \"num_beam_groups\":5,\n",
    "    \"diversity_penalty\":0.3,\n",
    "    \"num_return_sequences\":5\n",
    "}\n",
    "\n",
    "conclusions = generate_conclusion(taska_training_df.Premise.tolist(), gen_kwargs, batch_size=8)\n",
    "taska_training_df['gen_conclusions'] = list(chunks(conclusions, 5))"
   ]
  },
  {
   "cell_type": "code",
   "execution_count": 7,
   "metadata": {
    "scrolled": true,
    "tags": []
   },
   "outputs": [
    {
     "data": {
      "text/html": [
       "<div>\n",
       "<style scoped>\n",
       "    .dataframe tbody tr th:only-of-type {\n",
       "        vertical-align: middle;\n",
       "    }\n",
       "\n",
       "    .dataframe tbody tr th {\n",
       "        vertical-align: top;\n",
       "    }\n",
       "\n",
       "    .dataframe thead th {\n",
       "        text-align: right;\n",
       "    }\n",
       "</style>\n",
       "<table border=\"1\" class=\"dataframe\">\n",
       "  <thead>\n",
       "    <tr style=\"text-align: right;\">\n",
       "      <th></th>\n",
       "      <th>topic</th>\n",
       "      <th>Premise</th>\n",
       "      <th>Conclusion</th>\n",
       "      <th>Validity</th>\n",
       "      <th>Validity-Confidence</th>\n",
       "      <th>Novelty</th>\n",
       "      <th>Novelty-Confidence</th>\n",
       "      <th>gen_conclusions</th>\n",
       "    </tr>\n",
       "  </thead>\n",
       "  <tbody>\n",
       "    <tr>\n",
       "      <th>211</th>\n",
       "      <td>Trying terrorist suspects in civilian courts</td>\n",
       "      <td>Sen. John McCain, R-Ariz., compared the decision to try accused 9/11 mastermind Khalid Sheikh Mohammed and other terrorists in New York City to trying Nazi war criminal Hermann Goering in San Francisco. \"It's ridiculous. These are war criminals and terrorists and they should not be privy to regular courtroom procedures.</td>\n",
       "      <td>Justice Department Defense 1/27/06</td>\n",
       "      <td>-1</td>\n",
       "      <td>very confident</td>\n",
       "      <td>-1</td>\n",
       "      <td>very confident</td>\n",
       "      <td>[War criminals should not be tried in civilian courts., War criminals should not be tried in civilian courts., War criminals should not be tried in civilian courts, War criminals should not have to trial in civilian courts., War criminals should not have to trial in civilian courts.]</td>\n",
       "    </tr>\n",
       "    <tr>\n",
       "      <th>680</th>\n",
       "      <td>Unilateral US military strike inside Pakistan</td>\n",
       "      <td>Pakistan has their own version of the PAL system that the U.S. uses to secure weapons. In fact the Pakistani warheads are most likely safer than the Russian nuclear missiles. Several government officials, and generals have reported from Pakistan firsthand that the weapons are secured.</td>\n",
       "      <td>Pakistan has a better nuclear weapon system than Russia</td>\n",
       "      <td>1</td>\n",
       "      <td>confident</td>\n",
       "      <td>0</td>\n",
       "      <td>defeasible</td>\n",
       "      <td>[Pakistan has its own nuclear weapons. The US should not be worried about them., Pakistan has its own nuclear weapons and is prepared for a war against Russia., Pakistan has its own nuclear weapons and is therefore capable of defending itself against the US., Pakistan has its own nuclear weapons and is therefore capable of defending itself against the United States., Pakistan has its own nuclear weapons. The US should not be concerned about its nuclear capabilities.]</td>\n",
       "    </tr>\n",
       "    <tr>\n",
       "      <th>632</th>\n",
       "      <td>US-Indian nuclear deal</td>\n",
       "      <td>Blackwill said, \"Some experts say this apparent U.S. favoritism toward India could increase the nuclear rivalry between the intensely competitive nations, and potentially raise tensions in the already dangerous region. 'My impression is that [the Pakistanis] are worried this will feed the Indian nuclear weapons program and therefore weaken deterrence.' Other experts say the two countries, both admittedly now nuclear, could be forced to deal more cautiously with each other.</td>\n",
       "      <td>US-Indian nuclear deal could weaken Pakistan's nuclear program</td>\n",
       "      <td>1</td>\n",
       "      <td>majority</td>\n",
       "      <td>-1</td>\n",
       "      <td>majority</td>\n",
       "      <td>[US-India nuclear relations will weaken US-Nuclear deterrence, US-India nuclear relations will weaken US-Nuclear deterrence., US-India nuclear relations will weaken US-Nuclear deterrence:, US-India nuclear relations will weaken US-India deterrence, US-India nuclear relations will weaken US-India deterrence.]</td>\n",
       "    </tr>\n",
       "    <tr>\n",
       "      <th>493</th>\n",
       "      <td>US health care reform</td>\n",
       "      <td>No bill this unpopular has ever before passed on a straight party-line vote. We're in a new political world. I'm not sure I understand it.</td>\n",
       "      <td>Two-party systems are more stable:</td>\n",
       "      <td>-1</td>\n",
       "      <td>very confident</td>\n",
       "      <td>-1</td>\n",
       "      <td>very confident</td>\n",
       "      <td>[I don't think Obamacare is that bad., I don't think Obamacare is that bad., I don't think Obamacare is that big of a deal., I don't think Obamacare is that bad., I don't think Obamacare is that bad,]</td>\n",
       "    </tr>\n",
       "    <tr>\n",
       "      <th>171</th>\n",
       "      <td>Trying terrorist suspects in civilian courts</td>\n",
       "      <td>there is no longer much difference between a military and civilian trial. After the U.S. Supreme Court weighed in on the shortcomings of George W. Bush’s tribunals, Congress and the Obama administration granted more rights to the accused.\" Therefore, trying terrorists in civilian courts is little different, and not more risky.</td>\n",
       "      <td>Terrorist suspects can be tried in civilian courts</td>\n",
       "      <td>1</td>\n",
       "      <td>majority</td>\n",
       "      <td>-1</td>\n",
       "      <td>very confident</td>\n",
       "      <td>[Trying terrorists in civilian courts is no different than civilian trials, Trying terrorists in civilian courts is no different than civilian trials., Trying terrorists in civilian courts is no worse than trying terrorists in military courts, Trying terrorists in civilian courts is no worse than trying terrorists in military cases, Trying terrorists in civilian courts is no different than trying terrorists in military cases]</td>\n",
       "    </tr>\n",
       "  </tbody>\n",
       "</table>\n",
       "</div>"
      ],
      "text/plain": [
       "                                             topic  \\\n",
       "211   Trying terrorist suspects in civilian courts   \n",
       "680  Unilateral US military strike inside Pakistan   \n",
       "632                         US-Indian nuclear deal   \n",
       "493                          US health care reform   \n",
       "171   Trying terrorist suspects in civilian courts   \n",
       "\n",
       "                                                                                                                                                                                                                                                                                                                                                                                                                                                                                           Premise  \\\n",
       "211                                                                                                                                                              Sen. John McCain, R-Ariz., compared the decision to try accused 9/11 mastermind Khalid Sheikh Mohammed and other terrorists in New York City to trying Nazi war criminal Hermann Goering in San Francisco. \"It's ridiculous. These are war criminals and terrorists and they should not be privy to regular courtroom procedures.   \n",
       "680                                                                                                                                                                                                  Pakistan has their own version of the PAL system that the U.S. uses to secure weapons. In fact the Pakistani warheads are most likely safer than the Russian nuclear missiles. Several government officials, and generals have reported from Pakistan firsthand that the weapons are secured.   \n",
       "632  Blackwill said, \"Some experts say this apparent U.S. favoritism toward India could increase the nuclear rivalry between the intensely competitive nations, and potentially raise tensions in the already dangerous region. 'My impression is that [the Pakistanis] are worried this will feed the Indian nuclear weapons program and therefore weaken deterrence.' Other experts say the two countries, both admittedly now nuclear, could be forced to deal more cautiously with each other.   \n",
       "493                                                                                                                                                                                                                                                                                                                                                     No bill this unpopular has ever before passed on a straight party-line vote. We're in a new political world. I'm not sure I understand it.   \n",
       "171                                                                                                                                                       there is no longer much difference between a military and civilian trial. After the U.S. Supreme Court weighed in on the shortcomings of George W. Bush’s tribunals, Congress and the Obama administration granted more rights to the accused.\" Therefore, trying terrorists in civilian courts is little different, and not more risky.   \n",
       "\n",
       "                                                         Conclusion  Validity  \\\n",
       "211                              Justice Department Defense 1/27/06        -1   \n",
       "680         Pakistan has a better nuclear weapon system than Russia         1   \n",
       "632  US-Indian nuclear deal could weaken Pakistan's nuclear program         1   \n",
       "493                              Two-party systems are more stable:        -1   \n",
       "171              Terrorist suspects can be tried in civilian courts         1   \n",
       "\n",
       "    Validity-Confidence  Novelty Novelty-Confidence  \\\n",
       "211      very confident       -1     very confident   \n",
       "680           confident        0         defeasible   \n",
       "632            majority       -1           majority   \n",
       "493      very confident       -1     very confident   \n",
       "171            majority       -1     very confident   \n",
       "\n",
       "                                                                                                                                                                                                                                                                                                                                                                                                                                                                             gen_conclusions  \n",
       "211                                                                                                                                                                                             [War criminals should not be tried in civilian courts., War criminals should not be tried in civilian courts., War criminals should not be tried in civilian courts, War criminals should not have to trial in civilian courts., War criminals should not have to trial in civilian courts.]  \n",
       "680  [Pakistan has its own nuclear weapons. The US should not be worried about them., Pakistan has its own nuclear weapons and is prepared for a war against Russia., Pakistan has its own nuclear weapons and is therefore capable of defending itself against the US., Pakistan has its own nuclear weapons and is therefore capable of defending itself against the United States., Pakistan has its own nuclear weapons. The US should not be concerned about its nuclear capabilities.]  \n",
       "632                                                                                                                                                                    [US-India nuclear relations will weaken US-Nuclear deterrence, US-India nuclear relations will weaken US-Nuclear deterrence., US-India nuclear relations will weaken US-Nuclear deterrence:, US-India nuclear relations will weaken US-India deterrence, US-India nuclear relations will weaken US-India deterrence.]  \n",
       "493                                                                                                                                                                                                                                                                                 [I don't think Obamacare is that bad., I don't think Obamacare is that bad., I don't think Obamacare is that big of a deal., I don't think Obamacare is that bad., I don't think Obamacare is that bad,]  \n",
       "171                                            [Trying terrorists in civilian courts is no different than civilian trials, Trying terrorists in civilian courts is no different than civilian trials., Trying terrorists in civilian courts is no worse than trying terrorists in military courts, Trying terrorists in civilian courts is no worse than trying terrorists in military cases, Trying terrorists in civilian courts is no different than trying terrorists in military cases]  "
      ]
     },
     "execution_count": 7,
     "metadata": {},
     "output_type": "execute_result"
    }
   ],
   "source": [
    "taska_training_df.sample(10).head()"
   ]
  },
  {
   "cell_type": "code",
   "execution_count": 8,
   "metadata": {},
   "outputs": [],
   "source": [
    "output_data = []\n",
    "for idx, row in taska_training_df.iterrows():\n",
    "    output_data.append((row['topic'], row['Premise'], row['Conclusion'], row['Validity'], row['Validity-Confidence'], row['Novelty'], row['Novelty-Confidence']))\n",
    "    for conc in row['gen_conclusions']:\n",
    "        output_data.append((row['topic'], row['Premise'], conc, 1, 'Low', -1, 'Low'))\n",
    "new_df = pd.DataFrame(output_data, columns=['topic', 'Premise', 'Conclusion', 'Validity', 'Validity-Confidence', 'Novelty', 'Novelty-Confidence'])"
   ]
  },
  {
   "cell_type": "code",
   "execution_count": 9,
   "metadata": {},
   "outputs": [
    {
     "data": {
      "text/html": [
       "<div>\n",
       "<style scoped>\n",
       "    .dataframe tbody tr th:only-of-type {\n",
       "        vertical-align: middle;\n",
       "    }\n",
       "\n",
       "    .dataframe tbody tr th {\n",
       "        vertical-align: top;\n",
       "    }\n",
       "\n",
       "    .dataframe thead th {\n",
       "        text-align: right;\n",
       "    }\n",
       "</style>\n",
       "<table border=\"1\" class=\"dataframe\">\n",
       "  <thead>\n",
       "    <tr style=\"text-align: right;\">\n",
       "      <th></th>\n",
       "      <th>topic</th>\n",
       "      <th>Premise</th>\n",
       "      <th>Conclusion</th>\n",
       "      <th>Validity</th>\n",
       "      <th>Validity-Confidence</th>\n",
       "      <th>Novelty</th>\n",
       "      <th>Novelty-Confidence</th>\n",
       "    </tr>\n",
       "  </thead>\n",
       "  <tbody>\n",
       "    <tr>\n",
       "      <th>0</th>\n",
       "      <td>TV viewing is harmful to children</td>\n",
       "      <td>The popularity of TV watching is among the reasons of this phenomenon. Violence, aggression, crimes and wars are broadcast through the daily news as well as in movies, showing dark pictures that encourage psychological tension, pessimism and negative emotions.</td>\n",
       "      <td>Depression is a well-known psychological problem of modern society that is partly caused by TV watching:</td>\n",
       "      <td>1</td>\n",
       "      <td>confident</td>\n",
       "      <td>1</td>\n",
       "      <td>confident</td>\n",
       "    </tr>\n",
       "    <tr>\n",
       "      <th>1</th>\n",
       "      <td>TV viewing is harmful to children</td>\n",
       "      <td>The popularity of TV watching is among the reasons of this phenomenon. Violence, aggression, crimes and wars are broadcast through the daily news as well as in movies, showing dark pictures that encourage psychological tension, pessimism and negative emotions.</td>\n",
       "      <td>This phenomenon is partly caused by TV watching:</td>\n",
       "      <td>1</td>\n",
       "      <td>Low</td>\n",
       "      <td>-1</td>\n",
       "      <td>Low</td>\n",
       "    </tr>\n",
       "    <tr>\n",
       "      <th>2</th>\n",
       "      <td>TV viewing is harmful to children</td>\n",
       "      <td>The popularity of TV watching is among the reasons of this phenomenon. Violence, aggression, crimes and wars are broadcast through the daily news as well as in movies, showing dark pictures that encourage psychological tension, pessimism and negative emotions.</td>\n",
       "      <td>This phenomenon is partly caused by TV watching:</td>\n",
       "      <td>1</td>\n",
       "      <td>Low</td>\n",
       "      <td>-1</td>\n",
       "      <td>Low</td>\n",
       "    </tr>\n",
       "    <tr>\n",
       "      <th>3</th>\n",
       "      <td>TV viewing is harmful to children</td>\n",
       "      <td>The popularity of TV watching is among the reasons of this phenomenon. Violence, aggression, crimes and wars are broadcast through the daily news as well as in movies, showing dark pictures that encourage psychological tension, pessimism and negative emotions.</td>\n",
       "      <td>This phenomenon is partly caused by TV watching:</td>\n",
       "      <td>1</td>\n",
       "      <td>Low</td>\n",
       "      <td>-1</td>\n",
       "      <td>Low</td>\n",
       "    </tr>\n",
       "    <tr>\n",
       "      <th>4</th>\n",
       "      <td>TV viewing is harmful to children</td>\n",
       "      <td>The popularity of TV watching is among the reasons of this phenomenon. Violence, aggression, crimes and wars are broadcast through the daily news as well as in movies, showing dark pictures that encourage psychological tension, pessimism and negative emotions.</td>\n",
       "      <td>The constant comparisons of different cultures and events in popular media can [exacerbate]( these contradictions.</td>\n",
       "      <td>1</td>\n",
       "      <td>Low</td>\n",
       "      <td>-1</td>\n",
       "      <td>Low</td>\n",
       "    </tr>\n",
       "  </tbody>\n",
       "</table>\n",
       "</div>"
      ],
      "text/plain": [
       "                               topic  \\\n",
       "0  TV viewing is harmful to children   \n",
       "1  TV viewing is harmful to children   \n",
       "2  TV viewing is harmful to children   \n",
       "3  TV viewing is harmful to children   \n",
       "4  TV viewing is harmful to children   \n",
       "\n",
       "                                                                                                                                                                                                                                                                Premise  \\\n",
       "0  The popularity of TV watching is among the reasons of this phenomenon. Violence, aggression, crimes and wars are broadcast through the daily news as well as in movies, showing dark pictures that encourage psychological tension, pessimism and negative emotions.   \n",
       "1  The popularity of TV watching is among the reasons of this phenomenon. Violence, aggression, crimes and wars are broadcast through the daily news as well as in movies, showing dark pictures that encourage psychological tension, pessimism and negative emotions.   \n",
       "2  The popularity of TV watching is among the reasons of this phenomenon. Violence, aggression, crimes and wars are broadcast through the daily news as well as in movies, showing dark pictures that encourage psychological tension, pessimism and negative emotions.   \n",
       "3  The popularity of TV watching is among the reasons of this phenomenon. Violence, aggression, crimes and wars are broadcast through the daily news as well as in movies, showing dark pictures that encourage psychological tension, pessimism and negative emotions.   \n",
       "4  The popularity of TV watching is among the reasons of this phenomenon. Violence, aggression, crimes and wars are broadcast through the daily news as well as in movies, showing dark pictures that encourage psychological tension, pessimism and negative emotions.   \n",
       "\n",
       "                                                                                                           Conclusion  \\\n",
       "0            Depression is a well-known psychological problem of modern society that is partly caused by TV watching:   \n",
       "1                                                                    This phenomenon is partly caused by TV watching:   \n",
       "2                                                                    This phenomenon is partly caused by TV watching:   \n",
       "3                                                                    This phenomenon is partly caused by TV watching:   \n",
       "4  The constant comparisons of different cultures and events in popular media can [exacerbate]( these contradictions.   \n",
       "\n",
       "   Validity Validity-Confidence  Novelty Novelty-Confidence  \n",
       "0         1           confident        1          confident  \n",
       "1         1                 Low       -1                Low  \n",
       "2         1                 Low       -1                Low  \n",
       "3         1                 Low       -1                Low  \n",
       "4         1                 Low       -1                Low  "
      ]
     },
     "execution_count": 9,
     "metadata": {},
     "output_type": "execute_result"
    }
   ],
   "source": [
    "new_df.head()"
   ]
  },
  {
   "cell_type": "code",
   "execution_count": 10,
   "metadata": {},
   "outputs": [
    {
     "data": {
      "text/plain": [
       " 1    401\n",
       "-1    320\n",
       " 0     29\n",
       "Name: Validity, dtype: int64"
      ]
     },
     "execution_count": 10,
     "metadata": {},
     "output_type": "execute_result"
    }
   ],
   "source": [
    "taska_training_df.Validity.value_counts()"
   ]
  },
  {
   "cell_type": "code",
   "execution_count": 11,
   "metadata": {},
   "outputs": [
    {
     "data": {
      "text/plain": [
       " 1    4151\n",
       "-1     320\n",
       " 0      29\n",
       "Name: Validity, dtype: int64"
      ]
     },
     "execution_count": 11,
     "metadata": {},
     "output_type": "execute_result"
    }
   ],
   "source": [
    "new_df.Validity.value_counts()"
   ]
  },
  {
   "cell_type": "code",
   "execution_count": 12,
   "metadata": {},
   "outputs": [],
   "source": [
    "new_df.to_pickle('../data/TaskA_train_with_extra_conclusions.pkl') "
   ]
  },
  {
   "cell_type": "code",
   "execution_count": null,
   "metadata": {},
   "outputs": [],
   "source": []
  }
 ],
 "metadata": {
  "kernelspec": {
   "display_name": "Python 3",
   "language": "python",
   "name": "python3"
  },
  "language_info": {
   "codemirror_mode": {
    "name": "ipython",
    "version": 3
   },
   "file_extension": ".py",
   "mimetype": "text/x-python",
   "name": "python",
   "nbconvert_exporter": "python",
   "pygments_lexer": "ipython3",
   "version": "3.8.10"
  }
 },
 "nbformat": 4,
 "nbformat_minor": 4
}
