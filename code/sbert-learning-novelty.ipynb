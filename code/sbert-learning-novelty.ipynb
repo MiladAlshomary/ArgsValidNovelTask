{
 "cells": [
  {
   "cell_type": "code",
   "execution_count": 8,
   "metadata": {},
   "outputs": [],
   "source": [
    "import json\n",
    "import pandas as pd\n",
    "import numpy as np\n",
    "import sys\n",
    "\n",
    "pd.set_option('display.max_colwidth', None)\n",
    "sys.path.append('./src-py')"
   ]
  },
  {
   "cell_type": "code",
   "execution_count": 9,
   "metadata": {},
   "outputs": [],
   "source": [
    "import sbert_training\n",
    "from sklearn.metrics import precision_recall_fscore_support"
   ]
  },
  {
   "cell_type": "code",
   "execution_count": 10,
   "metadata": {},
   "outputs": [],
   "source": [
    "from sentence_transformers import SentenceTransformer, InputExample, LoggingHandler, losses, models, util\n",
    "from sentence_transformers.evaluation import EmbeddingSimilarityEvaluator, BinaryClassificationEvaluator\n",
    "from torch.utils.data import DataLoader\n",
    "from sentence_transformers.evaluation import TripletEvaluator\n",
    "from datetime import datetime\n",
    "from sentence_transformers import util\n",
    "from zipfile import ZipFile\n",
    "from sentence_transformers.datasets import SentenceLabelDataset\n",
    "from sentence_transformers.datasets import NoDuplicatesDataLoader\n",
    "\n",
    "import logging\n",
    "\n",
    "logging.basicConfig(format='%(asctime)s - %(message)s',\n",
    "                    datefmt='%Y-%m-%d %H:%M:%S',\n",
    "                    level=logging.INFO,\n",
    "                    handlers=[LoggingHandler()])\n",
    "logger = logging.getLogger(__name__)"
   ]
  },
  {
   "cell_type": "code",
   "execution_count": 11,
   "metadata": {},
   "outputs": [],
   "source": [
    "taska_training_df = pd.read_csv('../data/TaskA_train.csv')\n",
    "taskb_training_df = pd.read_csv('../data/TaskB_train.csv')\n",
    "\n",
    "taska_valid_df = pd.read_csv('../data/TaskA_dev.csv')\n",
    "taskb_valid_df = pd.read_csv('../data/TaskB_dev.csv')"
   ]
  },
  {
   "cell_type": "code",
   "execution_count": 12,
   "metadata": {},
   "outputs": [],
   "source": [
    "#Mapping labels\n",
    "taska_training_df = taska_training_df[taska_training_df.Novelty != 0]\n",
    "taska_valid_df    = taska_valid_df[taska_valid_df.Novelty != 0]\n",
    "\n",
    "taska_training_df['label'] = taska_training_df.Novelty.apply(lambda x : 1 if x == 1 else 0)\n",
    "taska_valid_df['label'] = taska_valid_df.Novelty.apply(lambda x : 1 if x == 1 else 0)\n",
    "\n",
    "taska_training_df['Premise'] = taska_training_df.apply(lambda x: x['topic'] + ' : ' +  x['Premise'], axis=1)\n",
    "taska_valid_df['Premise'] = taska_valid_df.apply(lambda x: x['topic'] + ' : ' +  x['Premise'], axis=1)"
   ]
  },
  {
   "cell_type": "code",
   "execution_count": 13,
   "metadata": {},
   "outputs": [],
   "source": [
    "taska_training_df['input_txt'] = taska_training_df.apply(lambda x: '[CLS] {} [SEP] {} [SEP] {} [SEP]'.format(x['topic'], x['Premise'], x['Conclusion']), axis=1)"
   ]
  },
  {
   "cell_type": "code",
   "execution_count": 16,
   "metadata": {
    "scrolled": true,
    "tags": []
   },
   "outputs": [
    {
     "data": {
      "text/html": [
       "<div>\n",
       "<style scoped>\n",
       "    .dataframe tbody tr th:only-of-type {\n",
       "        vertical-align: middle;\n",
       "    }\n",
       "\n",
       "    .dataframe tbody tr th {\n",
       "        vertical-align: top;\n",
       "    }\n",
       "\n",
       "    .dataframe thead th {\n",
       "        text-align: right;\n",
       "    }\n",
       "</style>\n",
       "<table border=\"1\" class=\"dataframe\">\n",
       "  <thead>\n",
       "    <tr style=\"text-align: right;\">\n",
       "      <th></th>\n",
       "      <th>Premise</th>\n",
       "      <th>Conclusion</th>\n",
       "      <th>Novelty</th>\n",
       "      <th>label</th>\n",
       "    </tr>\n",
       "  </thead>\n",
       "  <tbody>\n",
       "    <tr>\n",
       "      <th>0</th>\n",
       "      <td>TV viewing is harmful to children : The popularity of TV watching is among the reasons of this phenomenon. Violence, aggression, crimes and wars are broadcast through the daily news as well as in movies, showing dark pictures that encourage psychological tension, pessimism and negative emotions.</td>\n",
       "      <td>Depression is a well-known psychological problem of modern society that is partly caused by TV watching:</td>\n",
       "      <td>1</td>\n",
       "      <td>1</td>\n",
       "    </tr>\n",
       "    <tr>\n",
       "      <th>1</th>\n",
       "      <td>TV viewing is harmful to children : The popularity of TV watching is among the reasons of this phenomenon. Violence, aggression, crimes and wars are broadcast through the daily news as well as in movies, showing dark pictures that encourage psychological tension, pessimism and negative emotions.</td>\n",
       "      <td>Children's TV viewing fosters negative emotions</td>\n",
       "      <td>-1</td>\n",
       "      <td>0</td>\n",
       "    </tr>\n",
       "    <tr>\n",
       "      <th>2</th>\n",
       "      <td>TV viewing is harmful to children : The popularity of TV watching is among the reasons of this phenomenon. Violence, aggression, crimes and wars are broadcast through the daily news as well as in movies, showing dark pictures that encourage psychological tension, pessimism and negative emotions.</td>\n",
       "      <td>Popularity of TV is harmful to children</td>\n",
       "      <td>1</td>\n",
       "      <td>1</td>\n",
       "    </tr>\n",
       "    <tr>\n",
       "      <th>3</th>\n",
       "      <td>TV viewing is harmful to children : The popularity of TV watching is among the reasons of this phenomenon. Violence, aggression, crimes and wars are broadcast through the daily news as well as in movies, showing dark pictures that encourage psychological tension, pessimism and negative emotions.</td>\n",
       "      <td>Violence on TV and in movies encourages psychological stress</td>\n",
       "      <td>1</td>\n",
       "      <td>1</td>\n",
       "    </tr>\n",
       "    <tr>\n",
       "      <th>4</th>\n",
       "      <td>TV viewing is harmful to children : The popularity of TV watching is among the reasons of this phenomenon. Violence, aggression, crimes and wars are broadcast through the daily news as well as in movies, showing dark pictures that encourage psychological tension, pessimism and negative emotions.</td>\n",
       "      <td>US-India deal does not cap or limit Indian fissile material production.</td>\n",
       "      <td>-1</td>\n",
       "      <td>0</td>\n",
       "    </tr>\n",
       "  </tbody>\n",
       "</table>\n",
       "</div>"
      ],
      "text/plain": [
       "                                                                                                                                                                                                                                                                                                    Premise  \\\n",
       "0  TV viewing is harmful to children : The popularity of TV watching is among the reasons of this phenomenon. Violence, aggression, crimes and wars are broadcast through the daily news as well as in movies, showing dark pictures that encourage psychological tension, pessimism and negative emotions.   \n",
       "1  TV viewing is harmful to children : The popularity of TV watching is among the reasons of this phenomenon. Violence, aggression, crimes and wars are broadcast through the daily news as well as in movies, showing dark pictures that encourage psychological tension, pessimism and negative emotions.   \n",
       "2  TV viewing is harmful to children : The popularity of TV watching is among the reasons of this phenomenon. Violence, aggression, crimes and wars are broadcast through the daily news as well as in movies, showing dark pictures that encourage psychological tension, pessimism and negative emotions.   \n",
       "3  TV viewing is harmful to children : The popularity of TV watching is among the reasons of this phenomenon. Violence, aggression, crimes and wars are broadcast through the daily news as well as in movies, showing dark pictures that encourage psychological tension, pessimism and negative emotions.   \n",
       "4  TV viewing is harmful to children : The popularity of TV watching is among the reasons of this phenomenon. Violence, aggression, crimes and wars are broadcast through the daily news as well as in movies, showing dark pictures that encourage psychological tension, pessimism and negative emotions.   \n",
       "\n",
       "                                                                                                 Conclusion  \\\n",
       "0  Depression is a well-known psychological problem of modern society that is partly caused by TV watching:   \n",
       "1                                                           Children's TV viewing fosters negative emotions   \n",
       "2                                                                   Popularity of TV is harmful to children   \n",
       "3                                              Violence on TV and in movies encourages psychological stress   \n",
       "4                                   US-India deal does not cap or limit Indian fissile material production.   \n",
       "\n",
       "   Novelty  label  \n",
       "0        1      1  \n",
       "1       -1      0  \n",
       "2        1      1  \n",
       "3        1      1  \n",
       "4       -1      0  "
      ]
     },
     "execution_count": 16,
     "metadata": {},
     "output_type": "execute_result"
    }
   ],
   "source": [
    "taska_training_df[['Premise', 'Conclusion', 'Novelty', 'label']].head()"
   ]
  },
  {
   "cell_type": "code",
   "execution_count": 8,
   "metadata": {},
   "outputs": [
    {
     "data": {
      "text/plain": [
       "1    401\n",
       "0    320\n",
       "Name: label, dtype: int64"
      ]
     },
     "execution_count": 8,
     "metadata": {},
     "output_type": "execute_result"
    }
   ],
   "source": [
    "taska_training_df.label.value_counts()"
   ]
  },
  {
   "cell_type": "code",
   "execution_count": 9,
   "metadata": {},
   "outputs": [
    {
     "data": {
      "text/plain": [
       "1    125\n",
       "0     74\n",
       "Name: label, dtype: int64"
      ]
     },
     "execution_count": 9,
     "metadata": {},
     "output_type": "execute_result"
    }
   ],
   "source": [
    "taska_valid_df.label.value_counts()"
   ]
  },
  {
   "cell_type": "code",
   "execution_count": 17,
   "metadata": {},
   "outputs": [],
   "source": [
    "def get_training_examples(df, eval_df, loss):\n",
    "    \n",
    "    logger.info(\"Read Triplet train dataset\")\n",
    "    train_examples = []\n",
    "    for idx, row in df.iterrows():\n",
    "        if loss == 'ContrastiveLoss':\n",
    "            train_examples.append(InputExample(texts=[row['Premise'], row['Conclusion']], label=row['label']))\n",
    "        elif loss == 'MultipleNegativesRankingLoss':\n",
    "            if row['label'] == 1:\n",
    "                train_examples.append(InputExample(texts=[row['Premise'], row['Conclusion']], label=1))\n",
    "        else:\n",
    "            train_examples.append(InputExample(texts=[row['anchor'], row['pos'], row['neg']], label=0))\n",
    "            \n",
    "    \n",
    "    dev_samples = []\n",
    "    for idx, row in eval_df.iterrows():\n",
    "        dev_samples.append(InputExample(texts=[row['Premise'], row['Conclusion']], label=row['label']))\n",
    "    \n",
    "    return train_examples, dev_samples\n",
    "\n",
    "            \n",
    "def train_model(df, eval_df, output_path, model_name, num_epochs=3, train_batch_size=16, model_suffix='', \\\n",
    "                data_file_suffix='', max_seq_length=256, \n",
    "                special_tokens=[], loss='Triplet', sentence_transformer=False, evaluation_steps=5):\n",
    "    \n",
    "    output_path = output_path + model_name+ \"-\" + model_suffix + \"-\"+datetime.now().strftime(\"%Y-%m-%d_%H-%M-%S\")\n",
    "\n",
    "    if sentence_transformer:\n",
    "        word_embedding_model = SentenceTransformer(model_name)\n",
    "        word_embedding_model.max_seq_length = max_seq_length\n",
    "    else:\n",
    "        word_embedding_model = models.Transformer(model_name)\n",
    "        word_embedding_model.max_seq_length = max_seq_length\n",
    "    \n",
    "    \n",
    "    if len(special_tokens) > 0:\n",
    "        word_embedding_model.tokenizer.add_tokens(special_tokens, special_tokens=True)\n",
    "        word_embedding_model.resize_token_embeddings(len(word_embedding_model.tokenizer))\n",
    "        \n",
    "    # Apply mean pooling to get one fixed sized sentence vector\n",
    "    pooling_model = models.Pooling(word_embedding_model.get_word_embedding_dimension(),\n",
    "                                   pooling_mode_mean_tokens=True,\n",
    "                                   pooling_mode_cls_token=False,\n",
    "                                   pooling_mode_max_tokens=False)\n",
    "\n",
    "    model = SentenceTransformer(modules=[word_embedding_model, pooling_model])\n",
    "\n",
    "\n",
    "    train_examples, dev_samples = get_training_examples(df, eval_df, loss)\n",
    "\n",
    "    print('Len of training: {}'.format(len(train_examples)))\n",
    "    print('Len of Dev: {}'.format(len(dev_samples)))\n",
    "    \n",
    "    if loss == 'MultipleNegativesRankingLoss':\n",
    "        # Special data loader that avoid duplicates within a batch\n",
    "        train_dataloader = NoDuplicatesDataLoader(train_examples, batch_size=train_batch_size)\n",
    "        # Our training loss\n",
    "        train_loss = losses.MultipleNegativesRankingLoss(model)\n",
    "    elif loss == 'ContrastiveLoss':\n",
    "        train_dataloader = DataLoader(train_examples, shuffle=True, batch_size=train_batch_size)\n",
    "        train_loss = losses.ContrastiveLoss(model)\n",
    "    else:\n",
    "        train_dataloader = DataLoader(train_examples, shuffle=True, batch_size=train_batch_size)\n",
    "        train_loss = losses.TripletLoss(model)\n",
    "    \n",
    "\n",
    "    evaluator = BinaryClassificationEvaluator.from_input_examples(dev_samples, batch_size=train_batch_size, name='sts-dev')\n",
    "\n",
    "    warmup_steps = int(len(train_dataloader) * num_epochs * 0.1) #10% of train data\n",
    "\n",
    "    print('Evaluating before start learning.....')\n",
    "    model.evaluate(evaluator)\n",
    "    print('====== Start Training =======')\n",
    "    \n",
    "    # Train the model\n",
    "    model.fit(train_objectives=[(train_dataloader, train_loss)],\n",
    "              evaluator=evaluator,\n",
    "              epochs=num_epochs,\n",
    "              save_best_model=True,\n",
    "              checkpoint_save_steps=evaluation_steps,\n",
    "              optimizer_params={'lr':5e-06},\n",
    "              checkpoint_save_total_limit=3,\n",
    "              evaluation_steps=evaluation_steps,\n",
    "              warmup_steps=warmup_steps,\n",
    "              output_path=output_path)\n",
    "    \n",
    "    return model, evaluator"
   ]
  },
  {
   "cell_type": "code",
   "execution_count": 14,
   "metadata": {
    "scrolled": true,
    "tags": []
   },
   "outputs": [],
   "source": [
    "#train_model(taska_training_df, taska_valid_df, '../data/output/', 'sentence-transformers/nli-roberta-large', num_epochs=20, train_batch_size=16, model_suffix='', data_file_suffix='', max_seq_length=256, special_tokens=[], loss='ContrastiveLoss', sentence_transformer=False)"
   ]
  },
  {
   "cell_type": "code",
   "execution_count": 18,
   "metadata": {
    "scrolled": true,
    "tags": []
   },
   "outputs": [
    {
     "name": "stdout",
     "output_type": "stream",
     "text": [
      "2022-07-01 14:24:14 - Use pytorch device: cuda\n",
      "2022-07-01 14:24:14 - Read Triplet train dataset\n",
      "Len of training: 401\n",
      "Len of Dev: 199\n",
      "Evaluating before start learning.....\n",
      "2022-07-01 14:24:14 - Binary Accuracy Evaluation of the model on sts-dev dataset:\n",
      "2022-07-01 14:24:14 - Accuracy with Cosine-Similarity:           72.36\t(Threshold: 0.6503)\n",
      "2022-07-01 14:24:14 - F1 with Cosine-Similarity:                 80.69\t(Threshold: 0.5985)\n",
      "2022-07-01 14:24:14 - Precision with Cosine-Similarity:          70.91\n",
      "2022-07-01 14:24:14 - Recall with Cosine-Similarity:             93.60\n",
      "2022-07-01 14:24:14 - Average Precision with Cosine-Similarity:  82.54\n",
      "\n",
      "2022-07-01 14:24:14 - Accuracy with Manhatten-Distance:           72.36\t(Threshold: 646.3732)\n",
      "2022-07-01 14:24:14 - F1 with Manhatten-Distance:                 80.56\t(Threshold: 679.7071)\n",
      "2022-07-01 14:24:14 - Precision with Manhatten-Distance:          71.17\n",
      "2022-07-01 14:24:14 - Recall with Manhatten-Distance:             92.80\n",
      "2022-07-01 14:24:14 - Average Precision with Manhatten-Distance:  82.44\n",
      "\n",
      "2022-07-01 14:24:14 - Accuracy with Euclidean-Distance:           72.86\t(Threshold: 26.3806)\n",
      "2022-07-01 14:24:14 - F1 with Euclidean-Distance:                 80.71\t(Threshold: 26.3806)\n",
      "2022-07-01 14:24:14 - Precision with Euclidean-Distance:          72.90\n",
      "2022-07-01 14:24:14 - Recall with Euclidean-Distance:             90.40\n",
      "2022-07-01 14:24:14 - Average Precision with Euclidean-Distance:  82.79\n",
      "\n",
      "2022-07-01 14:24:14 - Accuracy with Dot-Product:           73.37\t(Threshold: 595.3230)\n",
      "2022-07-01 14:24:14 - F1 with Dot-Product:                 80.81\t(Threshold: 528.4840)\n",
      "2022-07-01 14:24:14 - Precision with Dot-Product:          69.77\n",
      "2022-07-01 14:24:14 - Recall with Dot-Product:             96.00\n",
      "2022-07-01 14:24:14 - Average Precision with Dot-Product:  81.82\n",
      "\n",
      "====== Start Training =======\n"
     ]
    },
    {
     "data": {
      "application/vnd.jupyter.widget-view+json": {
       "model_id": "a896d4a3f32d4f35b77642435480a027",
       "version_major": 2,
       "version_minor": 0
      },
      "text/plain": [
       "Epoch:   0%|          | 0/15 [00:00<?, ?it/s]"
      ]
     },
     "metadata": {},
     "output_type": "display_data"
    },
    {
     "data": {
      "application/vnd.jupyter.widget-view+json": {
       "model_id": "8ea07a6dff3444818fa1d35002354168",
       "version_major": 2,
       "version_minor": 0
      },
      "text/plain": [
       "Iteration:   0%|          | 0/12 [00:00<?, ?it/s]"
      ]
     },
     "metadata": {},
     "output_type": "display_data"
    },
    {
     "name": "stdout",
     "output_type": "stream",
     "text": [
      "2022-07-01 14:24:16 - Binary Accuracy Evaluation of the model on sts-dev dataset in epoch 0 after 10 steps:\n",
      "2022-07-01 14:24:16 - Accuracy with Cosine-Similarity:           72.36\t(Threshold: 0.6591)\n",
      "2022-07-01 14:24:16 - F1 with Cosine-Similarity:                 80.56\t(Threshold: 0.6068)\n",
      "2022-07-01 14:24:16 - Precision with Cosine-Similarity:          71.17\n",
      "2022-07-01 14:24:16 - Recall with Cosine-Similarity:             92.80\n",
      "2022-07-01 14:24:16 - Average Precision with Cosine-Similarity:  82.88\n",
      "\n",
      "2022-07-01 14:24:16 - Accuracy with Manhatten-Distance:           72.86\t(Threshold: 635.0920)\n",
      "2022-07-01 14:24:16 - F1 with Manhatten-Distance:                 80.56\t(Threshold: 672.8419)\n",
      "2022-07-01 14:24:16 - Precision with Manhatten-Distance:          71.17\n",
      "2022-07-01 14:24:16 - Recall with Manhatten-Distance:             92.80\n",
      "2022-07-01 14:24:16 - Average Precision with Manhatten-Distance:  82.97\n",
      "\n",
      "2022-07-01 14:24:16 - Accuracy with Euclidean-Distance:           72.86\t(Threshold: 25.3105)\n",
      "2022-07-01 14:24:16 - F1 with Euclidean-Distance:                 81.12\t(Threshold: 26.6894)\n",
      "2022-07-01 14:24:16 - Precision with Euclidean-Distance:          72.05\n",
      "2022-07-01 14:24:16 - Recall with Euclidean-Distance:             92.80\n",
      "2022-07-01 14:24:16 - Average Precision with Euclidean-Distance:  83.23\n",
      "\n",
      "2022-07-01 14:24:16 - Accuracy with Dot-Product:           72.86\t(Threshold: 604.2778)\n",
      "2022-07-01 14:24:16 - F1 with Dot-Product:                 80.42\t(Threshold: 551.9764)\n",
      "2022-07-01 14:24:16 - Precision with Dot-Product:          71.43\n",
      "2022-07-01 14:24:16 - Recall with Dot-Product:             92.00\n",
      "2022-07-01 14:24:16 - Average Precision with Dot-Product:  82.05\n",
      "\n",
      "2022-07-01 14:24:16 - Save model to ../data/output/sentence-transformers/nli-roberta-large-ranking-loss-2022-07-01_14-24-04\n",
      "2022-07-01 14:24:18 - Binary Accuracy Evaluation of the model on sts-dev dataset after epoch 0:\n",
      "2022-07-01 14:24:18 - Accuracy with Cosine-Similarity:           72.86\t(Threshold: 0.6440)\n",
      "2022-07-01 14:24:18 - F1 with Cosine-Similarity:                 80.99\t(Threshold: 0.6148)\n",
      "2022-07-01 14:24:18 - Precision with Cosine-Similarity:          72.33\n",
      "2022-07-01 14:24:18 - Recall with Cosine-Similarity:             92.00\n",
      "2022-07-01 14:24:18 - Average Precision with Cosine-Similarity:  83.00\n",
      "\n",
      "2022-07-01 14:24:18 - Accuracy with Manhatten-Distance:           73.37\t(Threshold: 633.8718)\n",
      "2022-07-01 14:24:18 - F1 with Manhatten-Distance:                 80.84\t(Threshold: 669.4446)\n",
      "2022-07-01 14:24:18 - Precision with Manhatten-Distance:          71.60\n",
      "2022-07-01 14:24:18 - Recall with Manhatten-Distance:             92.80\n",
      "2022-07-01 14:24:18 - Average Precision with Manhatten-Distance:  83.01\n",
      "\n",
      "2022-07-01 14:24:18 - Accuracy with Euclidean-Distance:           72.86\t(Threshold: 25.9569)\n",
      "2022-07-01 14:24:18 - F1 with Euclidean-Distance:                 81.12\t(Threshold: 26.5891)\n",
      "2022-07-01 14:24:18 - Precision with Euclidean-Distance:          72.05\n",
      "2022-07-01 14:24:18 - Recall with Euclidean-Distance:             92.80\n",
      "2022-07-01 14:24:18 - Average Precision with Euclidean-Distance:  83.13\n",
      "\n",
      "2022-07-01 14:24:18 - Accuracy with Dot-Product:           72.86\t(Threshold: 602.1534)\n",
      "2022-07-01 14:24:18 - F1 with Dot-Product:                 80.56\t(Threshold: 550.0821)\n",
      "2022-07-01 14:24:18 - Precision with Dot-Product:          71.17\n",
      "2022-07-01 14:24:18 - Recall with Dot-Product:             92.80\n",
      "2022-07-01 14:24:18 - Average Precision with Dot-Product:  82.17\n",
      "\n"
     ]
    },
    {
     "data": {
      "application/vnd.jupyter.widget-view+json": {
       "model_id": "8415a0b3d2364729940916a24d276e51",
       "version_major": 2,
       "version_minor": 0
      },
      "text/plain": [
       "Iteration:   0%|          | 0/12 [00:00<?, ?it/s]"
      ]
     },
     "metadata": {},
     "output_type": "display_data"
    },
    {
     "name": "stdout",
     "output_type": "stream",
     "text": [
      "2022-07-01 14:24:20 - Binary Accuracy Evaluation of the model on sts-dev dataset in epoch 1 after 10 steps:\n",
      "2022-07-01 14:24:20 - Accuracy with Cosine-Similarity:           72.86\t(Threshold: 0.6574)\n",
      "2022-07-01 14:24:20 - F1 with Cosine-Similarity:                 80.58\t(Threshold: 0.6406)\n",
      "2022-07-01 14:24:20 - Precision with Cosine-Similarity:          73.20\n",
      "2022-07-01 14:24:20 - Recall with Cosine-Similarity:             89.60\n",
      "2022-07-01 14:24:20 - Average Precision with Cosine-Similarity:  83.32\n",
      "\n",
      "2022-07-01 14:24:20 - Accuracy with Manhatten-Distance:           74.87\t(Threshold: 614.6072)\n",
      "2022-07-01 14:24:20 - F1 with Manhatten-Distance:                 81.06\t(Threshold: 614.6072)\n",
      "2022-07-01 14:24:20 - Precision with Manhatten-Distance:          76.98\n",
      "2022-07-01 14:24:20 - Recall with Manhatten-Distance:             85.60\n",
      "2022-07-01 14:24:20 - Average Precision with Manhatten-Distance:  83.63\n",
      "\n",
      "2022-07-01 14:24:20 - Accuracy with Euclidean-Distance:           72.86\t(Threshold: 25.3056)\n",
      "2022-07-01 14:24:20 - F1 with Euclidean-Distance:                 80.29\t(Threshold: 25.3056)\n",
      "2022-07-01 14:24:20 - Precision with Euclidean-Distance:          73.83\n",
      "2022-07-01 14:24:20 - Recall with Euclidean-Distance:             88.00\n",
      "2022-07-01 14:24:20 - Average Precision with Euclidean-Distance:  83.42\n",
      "\n",
      "2022-07-01 14:24:20 - Accuracy with Dot-Product:           72.86\t(Threshold: 608.2745)\n",
      "2022-07-01 14:24:20 - F1 with Dot-Product:                 79.86\t(Threshold: 579.7316)\n",
      "2022-07-01 14:24:20 - Precision with Dot-Product:          72.55\n",
      "2022-07-01 14:24:20 - Recall with Dot-Product:             88.80\n",
      "2022-07-01 14:24:20 - Average Precision with Dot-Product:  82.98\n",
      "\n",
      "2022-07-01 14:24:20 - Save model to ../data/output/sentence-transformers/nli-roberta-large-ranking-loss-2022-07-01_14-24-04\n",
      "2022-07-01 14:24:22 - Binary Accuracy Evaluation of the model on sts-dev dataset after epoch 1:\n",
      "2022-07-01 14:24:22 - Accuracy with Cosine-Similarity:           72.86\t(Threshold: 0.6609)\n",
      "2022-07-01 14:24:22 - F1 with Cosine-Similarity:                 80.14\t(Threshold: 0.6437)\n",
      "2022-07-01 14:24:22 - Precision with Cosine-Similarity:          73.03\n",
      "2022-07-01 14:24:22 - Recall with Cosine-Similarity:             88.80\n",
      "2022-07-01 14:24:22 - Average Precision with Cosine-Similarity:  83.45\n",
      "\n",
      "2022-07-01 14:24:22 - Accuracy with Manhatten-Distance:           74.87\t(Threshold: 610.9983)\n",
      "2022-07-01 14:24:22 - F1 with Manhatten-Distance:                 81.20\t(Threshold: 616.9930)\n",
      "2022-07-01 14:24:22 - Precision with Manhatten-Distance:          76.60\n",
      "2022-07-01 14:24:23 - Recall with Manhatten-Distance:             86.40\n",
      "2022-07-01 14:24:23 - Average Precision with Manhatten-Distance:  83.57\n",
      "\n",
      "2022-07-01 14:24:23 - Accuracy with Euclidean-Distance:           72.86\t(Threshold: 24.9613)\n",
      "2022-07-01 14:24:23 - F1 with Euclidean-Distance:                 80.00\t(Threshold: 24.9613)\n",
      "2022-07-01 14:24:23 - Precision with Euclidean-Distance:          74.48\n",
      "2022-07-01 14:24:23 - Recall with Euclidean-Distance:             86.40\n",
      "2022-07-01 14:24:23 - Average Precision with Euclidean-Distance:  83.49\n",
      "\n",
      "2022-07-01 14:24:23 - Accuracy with Dot-Product:           72.86\t(Threshold: 604.4821)\n",
      "2022-07-01 14:24:23 - F1 with Dot-Product:                 80.00\t(Threshold: 590.7822)\n",
      "2022-07-01 14:24:23 - Precision with Dot-Product:          73.33\n",
      "2022-07-01 14:24:23 - Recall with Dot-Product:             88.00\n",
      "2022-07-01 14:24:23 - Average Precision with Dot-Product:  83.22\n",
      "\n"
     ]
    },
    {
     "data": {
      "application/vnd.jupyter.widget-view+json": {
       "model_id": "775aba7122854916bb9a0d94f5a633c4",
       "version_major": 2,
       "version_minor": 0
      },
      "text/plain": [
       "Iteration:   0%|          | 0/12 [00:00<?, ?it/s]"
      ]
     },
     "metadata": {},
     "output_type": "display_data"
    },
    {
     "name": "stdout",
     "output_type": "stream",
     "text": [
      "2022-07-01 14:24:24 - Binary Accuracy Evaluation of the model on sts-dev dataset in epoch 2 after 10 steps:\n",
      "2022-07-01 14:24:25 - Accuracy with Cosine-Similarity:           72.36\t(Threshold: 0.6960)\n",
      "2022-07-01 14:24:25 - F1 with Cosine-Similarity:                 79.71\t(Threshold: 0.6549)\n",
      "2022-07-01 14:24:25 - Precision with Cosine-Similarity:          72.85\n",
      "2022-07-01 14:24:25 - Recall with Cosine-Similarity:             88.00\n",
      "2022-07-01 14:24:25 - Average Precision with Cosine-Similarity:  83.73\n",
      "\n",
      "2022-07-01 14:24:25 - Accuracy with Manhatten-Distance:           75.38\t(Threshold: 600.8503)\n",
      "2022-07-01 14:24:25 - F1 with Manhatten-Distance:                 81.37\t(Threshold: 600.8503)\n",
      "2022-07-01 14:24:25 - Precision with Manhatten-Distance:          77.54\n",
      "2022-07-01 14:24:25 - Recall with Manhatten-Distance:             85.60\n",
      "2022-07-01 14:24:25 - Average Precision with Manhatten-Distance:  83.65\n",
      "\n",
      "2022-07-01 14:24:25 - Accuracy with Euclidean-Distance:           72.86\t(Threshold: 23.7834)\n",
      "2022-07-01 14:24:25 - F1 with Euclidean-Distance:                 79.21\t(Threshold: 27.6612)\n",
      "2022-07-01 14:24:25 - Precision with Euclidean-Distance:          67.42\n",
      "2022-07-01 14:24:25 - Recall with Euclidean-Distance:             96.00\n",
      "2022-07-01 14:24:25 - Average Precision with Euclidean-Distance:  83.67\n",
      "\n",
      "2022-07-01 14:24:25 - Accuracy with Dot-Product:           72.36\t(Threshold: 613.2762)\n",
      "2022-07-01 14:24:25 - F1 with Dot-Product:                 79.71\t(Threshold: 592.5264)\n",
      "2022-07-01 14:24:25 - Precision with Dot-Product:          72.85\n",
      "2022-07-01 14:24:25 - Recall with Dot-Product:             88.00\n",
      "2022-07-01 14:24:25 - Average Precision with Dot-Product:  83.77\n",
      "\n",
      "2022-07-01 14:24:25 - Save model to ../data/output/sentence-transformers/nli-roberta-large-ranking-loss-2022-07-01_14-24-04\n",
      "2022-07-01 14:24:27 - Binary Accuracy Evaluation of the model on sts-dev dataset after epoch 2:\n",
      "2022-07-01 14:24:28 - Accuracy with Cosine-Similarity:           72.36\t(Threshold: 0.6952)\n",
      "2022-07-01 14:24:28 - F1 with Cosine-Similarity:                 79.42\t(Threshold: 0.6547)\n",
      "2022-07-01 14:24:28 - Precision with Cosine-Similarity:          72.37\n",
      "2022-07-01 14:24:28 - Recall with Cosine-Similarity:             88.00\n",
      "2022-07-01 14:24:28 - Average Precision with Cosine-Similarity:  83.68\n",
      "\n",
      "2022-07-01 14:24:28 - Accuracy with Manhatten-Distance:           74.87\t(Threshold: 599.7208)\n",
      "2022-07-01 14:24:28 - F1 with Manhatten-Distance:                 81.20\t(Threshold: 611.3184)\n",
      "2022-07-01 14:24:28 - Precision with Manhatten-Distance:          76.60\n",
      "2022-07-01 14:24:28 - Recall with Manhatten-Distance:             86.40\n",
      "2022-07-01 14:24:28 - Average Precision with Manhatten-Distance:  83.68\n",
      "\n",
      "2022-07-01 14:24:28 - Accuracy with Euclidean-Distance:           72.36\t(Threshold: 23.5570)\n",
      "2022-07-01 14:24:28 - F1 with Euclidean-Distance:                 79.45\t(Threshold: 26.3622)\n",
      "2022-07-01 14:24:28 - Precision with Euclidean-Distance:          69.46\n",
      "2022-07-01 14:24:28 - Recall with Euclidean-Distance:             92.80\n",
      "2022-07-01 14:24:28 - Average Precision with Euclidean-Distance:  83.65\n",
      "\n",
      "2022-07-01 14:24:28 - Accuracy with Dot-Product:           72.36\t(Threshold: 619.0083)\n",
      "2022-07-01 14:24:28 - F1 with Dot-Product:                 79.71\t(Threshold: 593.6359)\n",
      "2022-07-01 14:24:28 - Precision with Dot-Product:          72.85\n",
      "2022-07-01 14:24:28 - Recall with Dot-Product:             88.00\n",
      "2022-07-01 14:24:28 - Average Precision with Dot-Product:  83.82\n",
      "\n",
      "2022-07-01 14:24:28 - Save model to ../data/output/sentence-transformers/nli-roberta-large-ranking-loss-2022-07-01_14-24-04\n"
     ]
    },
    {
     "data": {
      "application/vnd.jupyter.widget-view+json": {
       "model_id": "c1d703320e4f4bbba4aa767c385416fd",
       "version_major": 2,
       "version_minor": 0
      },
      "text/plain": [
       "Iteration:   0%|          | 0/12 [00:00<?, ?it/s]"
      ]
     },
     "metadata": {},
     "output_type": "display_data"
    },
    {
     "name": "stdout",
     "output_type": "stream",
     "text": [
      "2022-07-01 14:24:31 - Binary Accuracy Evaluation of the model on sts-dev dataset in epoch 3 after 10 steps:\n",
      "2022-07-01 14:24:31 - Accuracy with Cosine-Similarity:           71.86\t(Threshold: 0.6867)\n",
      "2022-07-01 14:24:31 - F1 with Cosine-Similarity:                 79.58\t(Threshold: 0.6387)\n",
      "2022-07-01 14:24:31 - Precision with Cosine-Similarity:          71.07\n",
      "2022-07-01 14:24:31 - Recall with Cosine-Similarity:             90.40\n",
      "2022-07-01 14:24:31 - Average Precision with Cosine-Similarity:  83.67\n",
      "\n",
      "2022-07-01 14:24:31 - Accuracy with Manhatten-Distance:           74.37\t(Threshold: 603.8773)\n",
      "2022-07-01 14:24:31 - F1 with Manhatten-Distance:                 80.90\t(Threshold: 611.5989)\n",
      "2022-07-01 14:24:31 - Precision with Manhatten-Distance:          76.06\n",
      "2022-07-01 14:24:31 - Recall with Manhatten-Distance:             86.40\n",
      "2022-07-01 14:24:31 - Average Precision with Manhatten-Distance:  83.51\n",
      "\n",
      "2022-07-01 14:24:31 - Accuracy with Euclidean-Distance:           71.36\t(Threshold: 23.7285)\n",
      "2022-07-01 14:24:31 - F1 with Euclidean-Distance:                 79.43\t(Threshold: 25.5036)\n",
      "2022-07-01 14:24:31 - Precision with Euclidean-Distance:          71.34\n",
      "2022-07-01 14:24:31 - Recall with Euclidean-Distance:             89.60\n",
      "2022-07-01 14:24:31 - Average Precision with Euclidean-Distance:  83.49\n",
      "\n",
      "2022-07-01 14:24:31 - Accuracy with Dot-Product:           72.86\t(Threshold: 607.8825)\n",
      "2022-07-01 14:24:31 - F1 with Dot-Product:                 80.00\t(Threshold: 592.2687)\n",
      "2022-07-01 14:24:31 - Precision with Dot-Product:          72.26\n",
      "2022-07-01 14:24:31 - Recall with Dot-Product:             89.60\n",
      "2022-07-01 14:24:31 - Average Precision with Dot-Product:  83.67\n",
      "\n",
      "2022-07-01 14:24:32 - Binary Accuracy Evaluation of the model on sts-dev dataset after epoch 3:\n",
      "2022-07-01 14:24:32 - Accuracy with Cosine-Similarity:           71.86\t(Threshold: 0.6852)\n",
      "2022-07-01 14:24:32 - F1 with Cosine-Similarity:                 79.86\t(Threshold: 0.6408)\n",
      "2022-07-01 14:24:32 - Precision with Cosine-Similarity:          71.52\n",
      "2022-07-01 14:24:32 - Recall with Cosine-Similarity:             90.40\n",
      "2022-07-01 14:24:32 - Average Precision with Cosine-Similarity:  83.61\n",
      "\n",
      "2022-07-01 14:24:32 - Accuracy with Manhatten-Distance:           74.37\t(Threshold: 605.6458)\n",
      "2022-07-01 14:24:32 - F1 with Manhatten-Distance:                 80.90\t(Threshold: 611.2267)\n",
      "2022-07-01 14:24:32 - Precision with Manhatten-Distance:          76.06\n",
      "2022-07-01 14:24:32 - Recall with Manhatten-Distance:             86.40\n",
      "2022-07-01 14:24:32 - Average Precision with Manhatten-Distance:  83.46\n",
      "\n",
      "2022-07-01 14:24:32 - Accuracy with Euclidean-Distance:           71.36\t(Threshold: 24.3205)\n",
      "2022-07-01 14:24:32 - F1 with Euclidean-Distance:                 79.43\t(Threshold: 25.5552)\n",
      "2022-07-01 14:24:32 - Precision with Euclidean-Distance:          71.34\n",
      "2022-07-01 14:24:32 - Recall with Euclidean-Distance:             89.60\n",
      "2022-07-01 14:24:32 - Average Precision with Euclidean-Distance:  83.49\n",
      "\n",
      "2022-07-01 14:24:32 - Accuracy with Dot-Product:           72.86\t(Threshold: 608.1280)\n",
      "2022-07-01 14:24:32 - F1 with Dot-Product:                 79.86\t(Threshold: 594.2842)\n",
      "2022-07-01 14:24:32 - Precision with Dot-Product:          72.55\n",
      "2022-07-01 14:24:32 - Recall with Dot-Product:             88.80\n",
      "2022-07-01 14:24:32 - Average Precision with Dot-Product:  83.61\n",
      "\n"
     ]
    },
    {
     "data": {
      "application/vnd.jupyter.widget-view+json": {
       "model_id": "6e4de39ce1b346ee943aa0023e0bd1f0",
       "version_major": 2,
       "version_minor": 0
      },
      "text/plain": [
       "Iteration:   0%|          | 0/12 [00:00<?, ?it/s]"
      ]
     },
     "metadata": {},
     "output_type": "display_data"
    },
    {
     "name": "stdout",
     "output_type": "stream",
     "text": [
      "2022-07-01 14:24:34 - Binary Accuracy Evaluation of the model on sts-dev dataset in epoch 4 after 10 steps:\n",
      "2022-07-01 14:24:34 - Accuracy with Cosine-Similarity:           70.85\t(Threshold: 0.6375)\n",
      "2022-07-01 14:24:34 - F1 with Cosine-Similarity:                 79.58\t(Threshold: 0.6375)\n",
      "2022-07-01 14:24:34 - Precision with Cosine-Similarity:          71.07\n",
      "2022-07-01 14:24:34 - Recall with Cosine-Similarity:             90.40\n",
      "2022-07-01 14:24:34 - Average Precision with Cosine-Similarity:  83.05\n",
      "\n",
      "2022-07-01 14:24:34 - Accuracy with Manhatten-Distance:           74.37\t(Threshold: 613.4158)\n",
      "2022-07-01 14:24:34 - F1 with Manhatten-Distance:                 80.90\t(Threshold: 613.4158)\n",
      "2022-07-01 14:24:34 - Precision with Manhatten-Distance:          76.06\n",
      "2022-07-01 14:24:34 - Recall with Manhatten-Distance:             86.40\n",
      "2022-07-01 14:24:34 - Average Precision with Manhatten-Distance:  83.23\n",
      "\n",
      "2022-07-01 14:24:34 - Accuracy with Euclidean-Distance:           70.35\t(Threshold: 23.9833)\n",
      "2022-07-01 14:24:34 - F1 with Euclidean-Distance:                 79.11\t(Threshold: 31.0837)\n",
      "2022-07-01 14:24:34 - Precision with Euclidean-Distance:          65.45\n",
      "2022-07-01 14:24:34 - Recall with Euclidean-Distance:             100.00\n",
      "2022-07-01 14:24:34 - Average Precision with Euclidean-Distance:  82.93\n",
      "\n",
      "2022-07-01 14:24:34 - Accuracy with Dot-Product:           71.86\t(Threshold: 607.8574)\n",
      "2022-07-01 14:24:34 - F1 with Dot-Product:                 79.43\t(Threshold: 585.8748)\n",
      "2022-07-01 14:24:34 - Precision with Dot-Product:          71.34\n",
      "2022-07-01 14:24:34 - Recall with Dot-Product:             89.60\n",
      "2022-07-01 14:24:34 - Average Precision with Dot-Product:  83.08\n",
      "\n",
      "2022-07-01 14:24:35 - Binary Accuracy Evaluation of the model on sts-dev dataset after epoch 4:\n",
      "2022-07-01 14:24:35 - Accuracy with Cosine-Similarity:           70.85\t(Threshold: 0.6355)\n",
      "2022-07-01 14:24:35 - F1 with Cosine-Similarity:                 79.58\t(Threshold: 0.6355)\n",
      "2022-07-01 14:24:35 - Precision with Cosine-Similarity:          71.07\n",
      "2022-07-01 14:24:35 - Recall with Cosine-Similarity:             90.40\n",
      "2022-07-01 14:24:35 - Average Precision with Cosine-Similarity:  82.95\n",
      "\n",
      "2022-07-01 14:24:35 - Accuracy with Manhatten-Distance:           74.37\t(Threshold: 614.8965)\n",
      "2022-07-01 14:24:35 - F1 with Manhatten-Distance:                 80.90\t(Threshold: 614.8965)\n",
      "2022-07-01 14:24:35 - Precision with Manhatten-Distance:          76.06\n",
      "2022-07-01 14:24:35 - Recall with Manhatten-Distance:             86.40\n",
      "2022-07-01 14:24:35 - Average Precision with Manhatten-Distance:  83.12\n",
      "\n",
      "2022-07-01 14:24:35 - Accuracy with Euclidean-Distance:           70.35\t(Threshold: 25.0522)\n",
      "2022-07-01 14:24:35 - F1 with Euclidean-Distance:                 79.11\t(Threshold: 31.2078)\n",
      "2022-07-01 14:24:35 - Precision with Euclidean-Distance:          65.45\n",
      "2022-07-01 14:24:35 - Recall with Euclidean-Distance:             100.00\n",
      "2022-07-01 14:24:35 - Average Precision with Euclidean-Distance:  82.91\n",
      "\n",
      "2022-07-01 14:24:35 - Accuracy with Dot-Product:           71.86\t(Threshold: 604.0284)\n",
      "2022-07-01 14:24:35 - F1 with Dot-Product:                 79.43\t(Threshold: 584.0168)\n",
      "2022-07-01 14:24:35 - Precision with Dot-Product:          71.34\n",
      "2022-07-01 14:24:35 - Recall with Dot-Product:             89.60\n",
      "2022-07-01 14:24:35 - Average Precision with Dot-Product:  83.00\n",
      "\n"
     ]
    },
    {
     "data": {
      "application/vnd.jupyter.widget-view+json": {
       "model_id": "ac951d8a3915469d95d35f6027737a8f",
       "version_major": 2,
       "version_minor": 0
      },
      "text/plain": [
       "Iteration:   0%|          | 0/12 [00:00<?, ?it/s]"
      ]
     },
     "metadata": {},
     "output_type": "display_data"
    },
    {
     "name": "stdout",
     "output_type": "stream",
     "text": [
      "2022-07-01 14:24:37 - Binary Accuracy Evaluation of the model on sts-dev dataset in epoch 5 after 10 steps:\n",
      "2022-07-01 14:24:37 - Accuracy with Cosine-Similarity:           70.85\t(Threshold: 0.6529)\n",
      "2022-07-01 14:24:37 - F1 with Cosine-Similarity:                 79.11\t(Threshold: 0.4599)\n",
      "2022-07-01 14:24:37 - Precision with Cosine-Similarity:          65.45\n",
      "2022-07-01 14:24:37 - Recall with Cosine-Similarity:             100.00\n",
      "2022-07-01 14:24:37 - Average Precision with Cosine-Similarity:  82.50\n",
      "\n",
      "2022-07-01 14:24:37 - Accuracy with Manhatten-Distance:           73.37\t(Threshold: 620.5010)\n",
      "2022-07-01 14:24:37 - F1 with Manhatten-Distance:                 80.30\t(Threshold: 622.2135)\n",
      "2022-07-01 14:24:37 - Precision with Manhatten-Distance:          75.00\n",
      "2022-07-01 14:24:37 - Recall with Manhatten-Distance:             86.40\n",
      "2022-07-01 14:24:37 - Average Precision with Manhatten-Distance:  82.79\n",
      "\n",
      "2022-07-01 14:24:37 - Accuracy with Euclidean-Distance:           70.85\t(Threshold: 25.3106)\n",
      "2022-07-01 14:24:37 - F1 with Euclidean-Distance:                 79.11\t(Threshold: 31.4514)\n",
      "2022-07-01 14:24:37 - Precision with Euclidean-Distance:          65.45\n",
      "2022-07-01 14:24:37 - Recall with Euclidean-Distance:             100.00\n",
      "2022-07-01 14:24:37 - Average Precision with Euclidean-Distance:  82.60\n",
      "\n",
      "2022-07-01 14:24:37 - Accuracy with Dot-Product:           72.36\t(Threshold: 599.3359)\n",
      "2022-07-01 14:24:37 - F1 with Dot-Product:                 79.85\t(Threshold: 596.5748)\n",
      "2022-07-01 14:24:37 - Precision with Dot-Product:          73.65\n",
      "2022-07-01 14:24:37 - Recall with Dot-Product:             87.20\n",
      "2022-07-01 14:24:37 - Average Precision with Dot-Product:  82.60\n",
      "\n",
      "2022-07-01 14:24:37 - Binary Accuracy Evaluation of the model on sts-dev dataset after epoch 5:\n",
      "2022-07-01 14:24:38 - Accuracy with Cosine-Similarity:           71.36\t(Threshold: 0.6512)\n",
      "2022-07-01 14:24:38 - F1 with Cosine-Similarity:                 79.11\t(Threshold: 0.4597)\n",
      "2022-07-01 14:24:38 - Precision with Cosine-Similarity:          65.45\n",
      "2022-07-01 14:24:38 - Recall with Cosine-Similarity:             100.00\n",
      "2022-07-01 14:24:38 - Average Precision with Cosine-Similarity:  82.43\n",
      "\n",
      "2022-07-01 14:24:38 - Accuracy with Manhatten-Distance:           72.86\t(Threshold: 619.9581)\n",
      "2022-07-01 14:24:38 - F1 with Manhatten-Distance:                 80.00\t(Threshold: 624.4343)\n",
      "2022-07-01 14:24:38 - Precision with Manhatten-Distance:          74.48\n",
      "2022-07-01 14:24:38 - Recall with Manhatten-Distance:             86.40\n",
      "2022-07-01 14:24:38 - Average Precision with Manhatten-Distance:  82.74\n",
      "\n",
      "2022-07-01 14:24:38 - Accuracy with Euclidean-Distance:           70.85\t(Threshold: 25.3632)\n",
      "2022-07-01 14:24:38 - F1 with Euclidean-Distance:                 79.11\t(Threshold: 31.4591)\n",
      "2022-07-01 14:24:38 - Precision with Euclidean-Distance:          65.45\n",
      "2022-07-01 14:24:38 - Recall with Euclidean-Distance:             100.00\n",
      "2022-07-01 14:24:38 - Average Precision with Euclidean-Distance:  82.57\n",
      "\n",
      "2022-07-01 14:24:38 - Accuracy with Dot-Product:           72.36\t(Threshold: 597.9886)\n",
      "2022-07-01 14:24:38 - F1 with Dot-Product:                 79.85\t(Threshold: 595.0374)\n",
      "2022-07-01 14:24:38 - Precision with Dot-Product:          73.65\n",
      "2022-07-01 14:24:38 - Recall with Dot-Product:             87.20\n",
      "2022-07-01 14:24:38 - Average Precision with Dot-Product:  82.55\n",
      "\n"
     ]
    },
    {
     "data": {
      "application/vnd.jupyter.widget-view+json": {
       "model_id": "7f9db5ff2fd44d6fbf935828c8d9d925",
       "version_major": 2,
       "version_minor": 0
      },
      "text/plain": [
       "Iteration:   0%|          | 0/12 [00:00<?, ?it/s]"
      ]
     },
     "metadata": {},
     "output_type": "display_data"
    },
    {
     "name": "stdout",
     "output_type": "stream",
     "text": [
      "2022-07-01 14:24:40 - Binary Accuracy Evaluation of the model on sts-dev dataset in epoch 6 after 10 steps:\n",
      "2022-07-01 14:24:40 - Accuracy with Cosine-Similarity:           71.36\t(Threshold: 0.6476)\n",
      "2022-07-01 14:24:40 - F1 with Cosine-Similarity:                 79.11\t(Threshold: 0.4501)\n",
      "2022-07-01 14:24:40 - Precision with Cosine-Similarity:          65.45\n",
      "2022-07-01 14:24:40 - Recall with Cosine-Similarity:             100.00\n",
      "2022-07-01 14:24:40 - Average Precision with Cosine-Similarity:  82.18\n",
      "\n",
      "2022-07-01 14:24:40 - Accuracy with Manhatten-Distance:           72.86\t(Threshold: 629.0262)\n",
      "2022-07-01 14:24:40 - F1 with Manhatten-Distance:                 80.29\t(Threshold: 636.7933)\n",
      "2022-07-01 14:24:40 - Precision with Manhatten-Distance:          73.83\n",
      "2022-07-01 14:24:40 - Recall with Manhatten-Distance:             88.00\n",
      "2022-07-01 14:24:40 - Average Precision with Manhatten-Distance:  82.48\n",
      "\n",
      "2022-07-01 14:24:40 - Accuracy with Euclidean-Distance:           70.35\t(Threshold: 25.3135)\n",
      "2022-07-01 14:24:40 - F1 with Euclidean-Distance:                 79.11\t(Threshold: 31.7720)\n",
      "2022-07-01 14:24:40 - Precision with Euclidean-Distance:          65.45\n",
      "2022-07-01 14:24:40 - Recall with Euclidean-Distance:             100.00\n",
      "2022-07-01 14:24:40 - Average Precision with Euclidean-Distance:  82.37\n",
      "\n",
      "2022-07-01 14:24:40 - Accuracy with Dot-Product:           72.36\t(Threshold: 594.5995)\n",
      "2022-07-01 14:24:40 - F1 with Dot-Product:                 79.70\t(Threshold: 594.5995)\n",
      "2022-07-01 14:24:40 - Precision with Dot-Product:          73.97\n",
      "2022-07-01 14:24:40 - Recall with Dot-Product:             86.40\n",
      "2022-07-01 14:24:40 - Average Precision with Dot-Product:  82.31\n",
      "\n",
      "2022-07-01 14:24:40 - Binary Accuracy Evaluation of the model on sts-dev dataset after epoch 6:\n",
      "2022-07-01 14:24:40 - Accuracy with Cosine-Similarity:           71.36\t(Threshold: 0.6481)\n",
      "2022-07-01 14:24:40 - F1 with Cosine-Similarity:                 79.11\t(Threshold: 0.4476)\n",
      "2022-07-01 14:24:40 - Precision with Cosine-Similarity:          65.45\n",
      "2022-07-01 14:24:40 - Recall with Cosine-Similarity:             100.00\n",
      "2022-07-01 14:24:40 - Average Precision with Cosine-Similarity:  82.14\n",
      "\n",
      "2022-07-01 14:24:40 - Accuracy with Manhatten-Distance:           72.86\t(Threshold: 629.9443)\n",
      "2022-07-01 14:24:40 - F1 with Manhatten-Distance:                 80.29\t(Threshold: 635.8559)\n",
      "2022-07-01 14:24:40 - Precision with Manhatten-Distance:          73.83\n",
      "2022-07-01 14:24:40 - Recall with Manhatten-Distance:             88.00\n",
      "2022-07-01 14:24:40 - Average Precision with Manhatten-Distance:  82.46\n",
      "\n",
      "2022-07-01 14:24:40 - Accuracy with Euclidean-Distance:           70.35\t(Threshold: 25.4643)\n",
      "2022-07-01 14:24:40 - F1 with Euclidean-Distance:                 79.11\t(Threshold: 31.8518)\n",
      "2022-07-01 14:24:40 - Precision with Euclidean-Distance:          65.45\n",
      "2022-07-01 14:24:40 - Recall with Euclidean-Distance:             100.00\n",
      "2022-07-01 14:24:40 - Average Precision with Euclidean-Distance:  82.32\n",
      "\n",
      "2022-07-01 14:24:40 - Accuracy with Dot-Product:           72.36\t(Threshold: 595.5276)\n",
      "2022-07-01 14:24:40 - F1 with Dot-Product:                 79.70\t(Threshold: 595.5276)\n",
      "2022-07-01 14:24:40 - Precision with Dot-Product:          73.97\n",
      "2022-07-01 14:24:40 - Recall with Dot-Product:             86.40\n",
      "2022-07-01 14:24:40 - Average Precision with Dot-Product:  82.17\n",
      "\n"
     ]
    },
    {
     "data": {
      "application/vnd.jupyter.widget-view+json": {
       "model_id": "43fde93ec1714753a1fac64ee6494b1c",
       "version_major": 2,
       "version_minor": 0
      },
      "text/plain": [
       "Iteration:   0%|          | 0/12 [00:00<?, ?it/s]"
      ]
     },
     "metadata": {},
     "output_type": "display_data"
    },
    {
     "name": "stdout",
     "output_type": "stream",
     "text": [
      "2022-07-01 14:24:42 - Binary Accuracy Evaluation of the model on sts-dev dataset in epoch 7 after 10 steps:\n",
      "2022-07-01 14:24:43 - Accuracy with Cosine-Similarity:           70.85\t(Threshold: 0.6400)\n",
      "2022-07-01 14:24:43 - F1 with Cosine-Similarity:                 79.11\t(Threshold: 0.4376)\n",
      "2022-07-01 14:24:43 - Precision with Cosine-Similarity:          65.45\n",
      "2022-07-01 14:24:43 - Recall with Cosine-Similarity:             100.00\n",
      "2022-07-01 14:24:43 - Average Precision with Cosine-Similarity:  82.14\n",
      "\n",
      "2022-07-01 14:24:43 - Accuracy with Manhatten-Distance:           72.36\t(Threshold: 639.6288)\n",
      "2022-07-01 14:24:43 - F1 with Manhatten-Distance:                 80.00\t(Threshold: 639.6288)\n",
      "2022-07-01 14:24:43 - Precision with Manhatten-Distance:          73.33\n",
      "2022-07-01 14:24:43 - Recall with Manhatten-Distance:             88.00\n",
      "2022-07-01 14:24:43 - Average Precision with Manhatten-Distance:  82.37\n",
      "\n",
      "2022-07-01 14:24:43 - Accuracy with Euclidean-Distance:           69.85\t(Threshold: 25.6577)\n",
      "2022-07-01 14:24:43 - F1 with Euclidean-Distance:                 79.11\t(Threshold: 32.1577)\n",
      "2022-07-01 14:24:43 - Precision with Euclidean-Distance:          65.45\n",
      "2022-07-01 14:24:43 - Recall with Euclidean-Distance:             100.00\n",
      "2022-07-01 14:24:43 - Average Precision with Euclidean-Distance:  82.17\n",
      "\n",
      "2022-07-01 14:24:43 - Accuracy with Dot-Product:           71.86\t(Threshold: 593.4645)\n",
      "2022-07-01 14:24:43 - F1 with Dot-Product:                 79.41\t(Threshold: 593.4645)\n",
      "2022-07-01 14:24:43 - Precision with Dot-Product:          73.47\n",
      "2022-07-01 14:24:43 - Recall with Dot-Product:             86.40\n",
      "2022-07-01 14:24:43 - Average Precision with Dot-Product:  82.00\n",
      "\n",
      "2022-07-01 14:24:43 - Binary Accuracy Evaluation of the model on sts-dev dataset after epoch 7:\n",
      "2022-07-01 14:24:43 - Accuracy with Cosine-Similarity:           70.85\t(Threshold: 0.6401)\n",
      "2022-07-01 14:24:43 - F1 with Cosine-Similarity:                 79.11\t(Threshold: 0.4356)\n",
      "2022-07-01 14:24:43 - Precision with Cosine-Similarity:          65.45\n",
      "2022-07-01 14:24:43 - Recall with Cosine-Similarity:             100.00\n",
      "2022-07-01 14:24:43 - Average Precision with Cosine-Similarity:  82.14\n",
      "\n",
      "2022-07-01 14:24:43 - Accuracy with Manhatten-Distance:           72.36\t(Threshold: 641.1675)\n",
      "2022-07-01 14:24:43 - F1 with Manhatten-Distance:                 80.00\t(Threshold: 641.1675)\n",
      "2022-07-01 14:24:43 - Precision with Manhatten-Distance:          73.33\n",
      "2022-07-01 14:24:43 - Recall with Manhatten-Distance:             88.00\n",
      "2022-07-01 14:24:43 - Average Precision with Manhatten-Distance:  82.38\n",
      "\n",
      "2022-07-01 14:24:43 - Accuracy with Euclidean-Distance:           69.85\t(Threshold: 25.8560)\n",
      "2022-07-01 14:24:43 - F1 with Euclidean-Distance:                 79.11\t(Threshold: 32.2118)\n",
      "2022-07-01 14:24:43 - Precision with Euclidean-Distance:          65.45\n",
      "2022-07-01 14:24:43 - Recall with Euclidean-Distance:             100.00\n",
      "2022-07-01 14:24:43 - Average Precision with Euclidean-Distance:  82.16\n",
      "\n",
      "2022-07-01 14:24:43 - Accuracy with Dot-Product:           71.86\t(Threshold: 591.9999)\n",
      "2022-07-01 14:24:43 - F1 with Dot-Product:                 79.41\t(Threshold: 591.9999)\n",
      "2022-07-01 14:24:43 - Precision with Dot-Product:          73.47\n",
      "2022-07-01 14:24:43 - Recall with Dot-Product:             86.40\n",
      "2022-07-01 14:24:43 - Average Precision with Dot-Product:  81.99\n",
      "\n"
     ]
    },
    {
     "data": {
      "application/vnd.jupyter.widget-view+json": {
       "model_id": "2ff8ac2df6f5471c9d029ef76a4f7f7f",
       "version_major": 2,
       "version_minor": 0
      },
      "text/plain": [
       "Iteration:   0%|          | 0/12 [00:00<?, ?it/s]"
      ]
     },
     "metadata": {},
     "output_type": "display_data"
    },
    {
     "name": "stdout",
     "output_type": "stream",
     "text": [
      "2022-07-01 14:24:45 - Binary Accuracy Evaluation of the model on sts-dev dataset in epoch 8 after 10 steps:\n",
      "2022-07-01 14:24:45 - Accuracy with Cosine-Similarity:           70.85\t(Threshold: 0.6408)\n",
      "2022-07-01 14:24:45 - F1 with Cosine-Similarity:                 79.11\t(Threshold: 0.4285)\n",
      "2022-07-01 14:24:45 - Precision with Cosine-Similarity:          65.45\n",
      "2022-07-01 14:24:45 - Recall with Cosine-Similarity:             100.00\n",
      "2022-07-01 14:24:45 - Average Precision with Cosine-Similarity:  82.04\n",
      "\n",
      "2022-07-01 14:24:45 - Accuracy with Manhatten-Distance:           72.36\t(Threshold: 643.1239)\n",
      "2022-07-01 14:24:45 - F1 with Manhatten-Distance:                 80.00\t(Threshold: 643.1239)\n",
      "2022-07-01 14:24:45 - Precision with Manhatten-Distance:          73.33\n",
      "2022-07-01 14:24:45 - Recall with Manhatten-Distance:             88.00\n",
      "2022-07-01 14:24:45 - Average Precision with Manhatten-Distance:  82.21\n",
      "\n",
      "2022-07-01 14:24:45 - Accuracy with Euclidean-Distance:           69.35\t(Threshold: 25.7823)\n",
      "2022-07-01 14:24:45 - F1 with Euclidean-Distance:                 79.11\t(Threshold: 32.3995)\n",
      "2022-07-01 14:24:45 - Precision with Euclidean-Distance:          65.45\n",
      "2022-07-01 14:24:45 - Recall with Euclidean-Distance:             100.00\n",
      "2022-07-01 14:24:45 - Average Precision with Euclidean-Distance:  81.96\n",
      "\n",
      "2022-07-01 14:24:45 - Accuracy with Dot-Product:           70.85\t(Threshold: 594.8303)\n",
      "2022-07-01 14:24:45 - F1 with Dot-Product:                 79.11\t(Threshold: 389.9827)\n",
      "2022-07-01 14:24:45 - Precision with Dot-Product:          65.45\n",
      "2022-07-01 14:24:45 - Recall with Dot-Product:             100.00\n",
      "2022-07-01 14:24:45 - Average Precision with Dot-Product:  81.78\n",
      "\n",
      "2022-07-01 14:24:46 - Binary Accuracy Evaluation of the model on sts-dev dataset after epoch 8:\n",
      "2022-07-01 14:24:46 - Accuracy with Cosine-Similarity:           70.85\t(Threshold: 0.6388)\n",
      "2022-07-01 14:24:46 - F1 with Cosine-Similarity:                 79.11\t(Threshold: 0.4270)\n",
      "2022-07-01 14:24:46 - Precision with Cosine-Similarity:          65.45\n",
      "2022-07-01 14:24:46 - Recall with Cosine-Similarity:             100.00\n",
      "2022-07-01 14:24:46 - Average Precision with Cosine-Similarity:  81.98\n",
      "\n",
      "2022-07-01 14:24:46 - Accuracy with Manhatten-Distance:           72.36\t(Threshold: 643.4856)\n",
      "2022-07-01 14:24:46 - F1 with Manhatten-Distance:                 80.00\t(Threshold: 643.4856)\n",
      "2022-07-01 14:24:46 - Precision with Manhatten-Distance:          73.33\n",
      "2022-07-01 14:24:46 - Recall with Manhatten-Distance:             88.00\n",
      "2022-07-01 14:24:46 - Average Precision with Manhatten-Distance:  82.16\n",
      "\n",
      "2022-07-01 14:24:46 - Accuracy with Euclidean-Distance:           69.35\t(Threshold: 25.8133)\n",
      "2022-07-01 14:24:46 - F1 with Euclidean-Distance:                 79.11\t(Threshold: 32.4419)\n",
      "2022-07-01 14:24:46 - Precision with Euclidean-Distance:          65.45\n",
      "2022-07-01 14:24:46 - Recall with Euclidean-Distance:             100.00\n",
      "2022-07-01 14:24:46 - Average Precision with Euclidean-Distance:  81.96\n",
      "\n",
      "2022-07-01 14:24:46 - Accuracy with Dot-Product:           70.85\t(Threshold: 594.1859)\n",
      "2022-07-01 14:24:46 - F1 with Dot-Product:                 79.11\t(Threshold: 388.2697)\n",
      "2022-07-01 14:24:46 - Precision with Dot-Product:          65.45\n",
      "2022-07-01 14:24:46 - Recall with Dot-Product:             100.00\n",
      "2022-07-01 14:24:46 - Average Precision with Dot-Product:  81.76\n",
      "\n"
     ]
    },
    {
     "data": {
      "application/vnd.jupyter.widget-view+json": {
       "model_id": "4ce655891b2344ed94b3c0a7696f0856",
       "version_major": 2,
       "version_minor": 0
      },
      "text/plain": [
       "Iteration:   0%|          | 0/12 [00:00<?, ?it/s]"
      ]
     },
     "metadata": {},
     "output_type": "display_data"
    },
    {
     "name": "stdout",
     "output_type": "stream",
     "text": [
      "2022-07-01 14:24:48 - Binary Accuracy Evaluation of the model on sts-dev dataset in epoch 9 after 10 steps:\n",
      "2022-07-01 14:24:48 - Accuracy with Cosine-Similarity:           70.35\t(Threshold: 0.6397)\n",
      "2022-07-01 14:24:48 - F1 with Cosine-Similarity:                 79.11\t(Threshold: 0.4230)\n",
      "2022-07-01 14:24:48 - Precision with Cosine-Similarity:          65.45\n",
      "2022-07-01 14:24:48 - Recall with Cosine-Similarity:             100.00\n",
      "2022-07-01 14:24:48 - Average Precision with Cosine-Similarity:  81.90\n",
      "\n",
      "2022-07-01 14:24:48 - Accuracy with Manhatten-Distance:           72.36\t(Threshold: 648.6514)\n",
      "2022-07-01 14:24:48 - F1 with Manhatten-Distance:                 80.00\t(Threshold: 648.6514)\n",
      "2022-07-01 14:24:48 - Precision with Manhatten-Distance:          73.33\n",
      "2022-07-01 14:24:48 - Recall with Manhatten-Distance:             88.00\n",
      "2022-07-01 14:24:48 - Average Precision with Manhatten-Distance:  81.98\n",
      "\n",
      "2022-07-01 14:24:48 - Accuracy with Euclidean-Distance:           69.35\t(Threshold: 25.9828)\n",
      "2022-07-01 14:24:48 - F1 with Euclidean-Distance:                 79.11\t(Threshold: 32.5698)\n",
      "2022-07-01 14:24:48 - Precision with Euclidean-Distance:          65.45\n",
      "2022-07-01 14:24:48 - Recall with Euclidean-Distance:             100.00\n",
      "2022-07-01 14:24:48 - Average Precision with Euclidean-Distance:  81.84\n",
      "\n",
      "2022-07-01 14:24:48 - Accuracy with Dot-Product:           70.85\t(Threshold: 585.1520)\n",
      "2022-07-01 14:24:48 - F1 with Dot-Product:                 79.11\t(Threshold: 383.2187)\n",
      "2022-07-01 14:24:48 - Precision with Dot-Product:          65.45\n",
      "2022-07-01 14:24:48 - Recall with Dot-Product:             100.00\n",
      "2022-07-01 14:24:48 - Average Precision with Dot-Product:  81.61\n",
      "\n",
      "2022-07-01 14:24:49 - Binary Accuracy Evaluation of the model on sts-dev dataset after epoch 9:\n",
      "2022-07-01 14:24:49 - Accuracy with Cosine-Similarity:           70.35\t(Threshold: 0.6386)\n",
      "2022-07-01 14:24:49 - F1 with Cosine-Similarity:                 79.11\t(Threshold: 0.4215)\n",
      "2022-07-01 14:24:49 - Precision with Cosine-Similarity:          65.45\n",
      "2022-07-01 14:24:49 - Recall with Cosine-Similarity:             100.00\n",
      "2022-07-01 14:24:49 - Average Precision with Cosine-Similarity:  81.93\n",
      "\n",
      "2022-07-01 14:24:49 - Accuracy with Manhatten-Distance:           72.36\t(Threshold: 649.4626)\n",
      "2022-07-01 14:24:49 - F1 with Manhatten-Distance:                 80.00\t(Threshold: 649.4626)\n",
      "2022-07-01 14:24:49 - Precision with Manhatten-Distance:          73.33\n",
      "2022-07-01 14:24:49 - Recall with Manhatten-Distance:             88.00\n",
      "2022-07-01 14:24:49 - Average Precision with Manhatten-Distance:  81.98\n",
      "\n",
      "2022-07-01 14:24:49 - Accuracy with Euclidean-Distance:           69.35\t(Threshold: 26.0023)\n",
      "2022-07-01 14:24:49 - F1 with Euclidean-Distance:                 79.11\t(Threshold: 32.6143)\n",
      "2022-07-01 14:24:49 - Precision with Euclidean-Distance:          65.45\n",
      "2022-07-01 14:24:49 - Recall with Euclidean-Distance:             100.00\n",
      "2022-07-01 14:24:49 - Average Precision with Euclidean-Distance:  81.83\n",
      "\n",
      "2022-07-01 14:24:49 - Accuracy with Dot-Product:           70.85\t(Threshold: 584.5211)\n",
      "2022-07-01 14:24:49 - F1 with Dot-Product:                 79.11\t(Threshold: 381.4973)\n",
      "2022-07-01 14:24:49 - Precision with Dot-Product:          65.45\n",
      "2022-07-01 14:24:49 - Recall with Dot-Product:             100.00\n",
      "2022-07-01 14:24:49 - Average Precision with Dot-Product:  81.59\n",
      "\n"
     ]
    },
    {
     "data": {
      "application/vnd.jupyter.widget-view+json": {
       "model_id": "689bd001238f498baad92401cddea4d9",
       "version_major": 2,
       "version_minor": 0
      },
      "text/plain": [
       "Iteration:   0%|          | 0/12 [00:00<?, ?it/s]"
      ]
     },
     "metadata": {},
     "output_type": "display_data"
    },
    {
     "name": "stdout",
     "output_type": "stream",
     "text": [
      "2022-07-01 14:24:51 - Binary Accuracy Evaluation of the model on sts-dev dataset in epoch 10 after 10 steps:\n",
      "2022-07-01 14:24:51 - Accuracy with Cosine-Similarity:           70.35\t(Threshold: 0.6304)\n",
      "2022-07-01 14:24:51 - F1 with Cosine-Similarity:                 79.11\t(Threshold: 0.4175)\n",
      "2022-07-01 14:24:51 - Precision with Cosine-Similarity:          65.45\n",
      "2022-07-01 14:24:51 - Recall with Cosine-Similarity:             100.00\n",
      "2022-07-01 14:24:51 - Average Precision with Cosine-Similarity:  81.80\n",
      "\n",
      "2022-07-01 14:24:51 - Accuracy with Manhatten-Distance:           72.36\t(Threshold: 650.5294)\n",
      "2022-07-01 14:24:51 - F1 with Manhatten-Distance:                 80.00\t(Threshold: 650.5294)\n",
      "2022-07-01 14:24:51 - Precision with Manhatten-Distance:          73.33\n",
      "2022-07-01 14:24:51 - Recall with Manhatten-Distance:             88.00\n",
      "2022-07-01 14:24:51 - Average Precision with Manhatten-Distance:  82.01\n",
      "\n",
      "2022-07-01 14:24:51 - Accuracy with Euclidean-Distance:           68.84\t(Threshold: 26.0144)\n",
      "2022-07-01 14:24:51 - F1 with Euclidean-Distance:                 79.11\t(Threshold: 32.7240)\n",
      "2022-07-01 14:24:51 - Precision with Euclidean-Distance:          65.45\n",
      "2022-07-01 14:24:51 - Recall with Euclidean-Distance:             100.00\n",
      "2022-07-01 14:24:51 - Average Precision with Euclidean-Distance:  81.70\n",
      "\n",
      "2022-07-01 14:24:51 - Accuracy with Dot-Product:           70.35\t(Threshold: 590.5654)\n",
      "2022-07-01 14:24:51 - F1 with Dot-Product:                 79.11\t(Threshold: 378.2879)\n",
      "2022-07-01 14:24:51 - Precision with Dot-Product:          65.45\n",
      "2022-07-01 14:24:51 - Recall with Dot-Product:             100.00\n",
      "2022-07-01 14:24:51 - Average Precision with Dot-Product:  81.52\n",
      "\n",
      "2022-07-01 14:24:51 - Binary Accuracy Evaluation of the model on sts-dev dataset after epoch 10:\n",
      "2022-07-01 14:24:52 - Accuracy with Cosine-Similarity:           70.35\t(Threshold: 0.6306)\n",
      "2022-07-01 14:24:52 - F1 with Cosine-Similarity:                 79.11\t(Threshold: 0.4172)\n",
      "2022-07-01 14:24:52 - Precision with Cosine-Similarity:          65.45\n",
      "2022-07-01 14:24:52 - Recall with Cosine-Similarity:             100.00\n",
      "2022-07-01 14:24:52 - Average Precision with Cosine-Similarity:  81.73\n",
      "\n",
      "2022-07-01 14:24:52 - Accuracy with Manhatten-Distance:           72.36\t(Threshold: 651.0438)\n",
      "2022-07-01 14:24:52 - F1 with Manhatten-Distance:                 80.00\t(Threshold: 651.0438)\n",
      "2022-07-01 14:24:52 - Precision with Manhatten-Distance:          73.33\n",
      "2022-07-01 14:24:52 - Recall with Manhatten-Distance:             88.00\n",
      "2022-07-01 14:24:52 - Average Precision with Manhatten-Distance:  81.95\n",
      "\n",
      "2022-07-01 14:24:52 - Accuracy with Euclidean-Distance:           68.34\t(Threshold: 25.4858)\n",
      "2022-07-01 14:24:52 - F1 with Euclidean-Distance:                 79.11\t(Threshold: 32.7317)\n",
      "2022-07-01 14:24:52 - Precision with Euclidean-Distance:          65.45\n",
      "2022-07-01 14:24:52 - Recall with Euclidean-Distance:             100.00\n",
      "2022-07-01 14:24:52 - Average Precision with Euclidean-Distance:  81.66\n",
      "\n",
      "2022-07-01 14:24:52 - Accuracy with Dot-Product:           70.35\t(Threshold: 590.4960)\n",
      "2022-07-01 14:24:52 - F1 with Dot-Product:                 79.11\t(Threshold: 378.0711)\n",
      "2022-07-01 14:24:52 - Precision with Dot-Product:          65.45\n",
      "2022-07-01 14:24:52 - Recall with Dot-Product:             100.00\n",
      "2022-07-01 14:24:52 - Average Precision with Dot-Product:  81.53\n",
      "\n"
     ]
    },
    {
     "data": {
      "application/vnd.jupyter.widget-view+json": {
       "model_id": "1ce0988b3e474780abb7a522d5900c03",
       "version_major": 2,
       "version_minor": 0
      },
      "text/plain": [
       "Iteration:   0%|          | 0/12 [00:00<?, ?it/s]"
      ]
     },
     "metadata": {},
     "output_type": "display_data"
    },
    {
     "name": "stdout",
     "output_type": "stream",
     "text": [
      "2022-07-01 14:24:54 - Binary Accuracy Evaluation of the model on sts-dev dataset in epoch 11 after 10 steps:\n",
      "2022-07-01 14:24:54 - Accuracy with Cosine-Similarity:           69.85\t(Threshold: 0.6311)\n",
      "2022-07-01 14:24:54 - F1 with Cosine-Similarity:                 79.11\t(Threshold: 0.4146)\n",
      "2022-07-01 14:24:54 - Precision with Cosine-Similarity:          65.45\n",
      "2022-07-01 14:24:54 - Recall with Cosine-Similarity:             100.00\n",
      "2022-07-01 14:24:54 - Average Precision with Cosine-Similarity:  81.77\n",
      "\n",
      "2022-07-01 14:24:54 - Accuracy with Manhatten-Distance:           71.36\t(Threshold: 650.3481)\n",
      "2022-07-01 14:24:54 - F1 with Manhatten-Distance:                 79.42\t(Threshold: 652.4294)\n",
      "2022-07-01 14:24:54 - Precision with Manhatten-Distance:          72.37\n",
      "2022-07-01 14:24:54 - Recall with Manhatten-Distance:             88.00\n",
      "2022-07-01 14:24:54 - Average Precision with Manhatten-Distance:  81.83\n",
      "\n",
      "2022-07-01 14:24:54 - Accuracy with Euclidean-Distance:           68.34\t(Threshold: 25.5160)\n",
      "2022-07-01 14:24:54 - F1 with Euclidean-Distance:                 79.11\t(Threshold: 32.7792)\n",
      "2022-07-01 14:24:54 - Precision with Euclidean-Distance:          65.45\n",
      "2022-07-01 14:24:54 - Recall with Euclidean-Distance:             100.00\n",
      "2022-07-01 14:24:54 - Average Precision with Euclidean-Distance:  81.59\n",
      "\n",
      "2022-07-01 14:24:54 - Accuracy with Dot-Product:           69.85\t(Threshold: 597.1372)\n",
      "2022-07-01 14:24:54 - F1 with Dot-Product:                 79.11\t(Threshold: 375.9894)\n",
      "2022-07-01 14:24:54 - Precision with Dot-Product:          65.45\n",
      "2022-07-01 14:24:54 - Recall with Dot-Product:             100.00\n",
      "2022-07-01 14:24:54 - Average Precision with Dot-Product:  81.44\n",
      "\n",
      "2022-07-01 14:24:54 - Binary Accuracy Evaluation of the model on sts-dev dataset after epoch 11:\n",
      "2022-07-01 14:24:54 - Accuracy with Cosine-Similarity:           69.85\t(Threshold: 0.6308)\n",
      "2022-07-01 14:24:54 - F1 with Cosine-Similarity:                 79.11\t(Threshold: 0.4142)\n",
      "2022-07-01 14:24:54 - Precision with Cosine-Similarity:          65.45\n",
      "2022-07-01 14:24:54 - Recall with Cosine-Similarity:             100.00\n",
      "2022-07-01 14:24:54 - Average Precision with Cosine-Similarity:  81.75\n",
      "\n",
      "2022-07-01 14:24:54 - Accuracy with Manhatten-Distance:           71.36\t(Threshold: 652.4856)\n",
      "2022-07-01 14:24:54 - F1 with Manhatten-Distance:                 79.42\t(Threshold: 652.4856)\n",
      "2022-07-01 14:24:54 - Precision with Manhatten-Distance:          72.37\n",
      "2022-07-01 14:24:54 - Recall with Manhatten-Distance:             88.00\n",
      "2022-07-01 14:24:54 - Average Precision with Manhatten-Distance:  81.86\n",
      "\n",
      "2022-07-01 14:24:54 - Accuracy with Euclidean-Distance:           68.34\t(Threshold: 25.5170)\n",
      "2022-07-01 14:24:54 - F1 with Euclidean-Distance:                 79.11\t(Threshold: 32.7930)\n",
      "2022-07-01 14:24:54 - Precision with Euclidean-Distance:          65.45\n",
      "2022-07-01 14:24:54 - Recall with Euclidean-Distance:             100.00\n",
      "2022-07-01 14:24:54 - Average Precision with Euclidean-Distance:  81.57\n",
      "\n",
      "2022-07-01 14:24:54 - Accuracy with Dot-Product:           69.85\t(Threshold: 597.2764)\n",
      "2022-07-01 14:24:54 - F1 with Dot-Product:                 79.11\t(Threshold: 375.7009)\n",
      "2022-07-01 14:24:54 - Precision with Dot-Product:          65.45\n",
      "2022-07-01 14:24:54 - Recall with Dot-Product:             100.00\n",
      "2022-07-01 14:24:54 - Average Precision with Dot-Product:  81.45\n",
      "\n"
     ]
    },
    {
     "data": {
      "application/vnd.jupyter.widget-view+json": {
       "model_id": "2bd8fcb9781b4d639b48021c4e51bfda",
       "version_major": 2,
       "version_minor": 0
      },
      "text/plain": [
       "Iteration:   0%|          | 0/12 [00:00<?, ?it/s]"
      ]
     },
     "metadata": {},
     "output_type": "display_data"
    },
    {
     "name": "stdout",
     "output_type": "stream",
     "text": [
      "2022-07-01 14:24:56 - Binary Accuracy Evaluation of the model on sts-dev dataset in epoch 12 after 10 steps:\n",
      "2022-07-01 14:24:57 - Accuracy with Cosine-Similarity:           69.85\t(Threshold: 0.6294)\n",
      "2022-07-01 14:24:57 - F1 with Cosine-Similarity:                 79.11\t(Threshold: 0.4138)\n",
      "2022-07-01 14:24:57 - Precision with Cosine-Similarity:          65.45\n",
      "2022-07-01 14:24:57 - Recall with Cosine-Similarity:             100.00\n",
      "2022-07-01 14:24:57 - Average Precision with Cosine-Similarity:  81.79\n",
      "\n",
      "2022-07-01 14:24:57 - Accuracy with Manhatten-Distance:           70.85\t(Threshold: 652.7652)\n",
      "2022-07-01 14:24:57 - F1 with Manhatten-Distance:                 79.22\t(Threshold: 746.9213)\n",
      "2022-07-01 14:24:57 - Precision with Manhatten-Distance:          66.67\n",
      "2022-07-01 14:24:57 - Recall with Manhatten-Distance:             97.60\n",
      "2022-07-01 14:24:57 - Average Precision with Manhatten-Distance:  81.87\n",
      "\n",
      "2022-07-01 14:24:57 - Accuracy with Euclidean-Distance:           68.34\t(Threshold: 25.5533)\n",
      "2022-07-01 14:24:57 - F1 with Euclidean-Distance:                 79.11\t(Threshold: 32.8274)\n",
      "2022-07-01 14:24:57 - Precision with Euclidean-Distance:          65.45\n",
      "2022-07-01 14:24:57 - Recall with Euclidean-Distance:             100.00\n",
      "2022-07-01 14:24:57 - Average Precision with Euclidean-Distance:  81.54\n",
      "\n",
      "2022-07-01 14:24:57 - Accuracy with Dot-Product:           69.85\t(Threshold: 593.1429)\n",
      "2022-07-01 14:24:57 - F1 with Dot-Product:                 79.11\t(Threshold: 374.7899)\n",
      "2022-07-01 14:24:57 - Precision with Dot-Product:          65.45\n",
      "2022-07-01 14:24:57 - Recall with Dot-Product:             100.00\n",
      "2022-07-01 14:24:57 - Average Precision with Dot-Product:  81.46\n",
      "\n",
      "2022-07-01 14:24:57 - Binary Accuracy Evaluation of the model on sts-dev dataset after epoch 12:\n",
      "2022-07-01 14:24:57 - Accuracy with Cosine-Similarity:           69.85\t(Threshold: 0.6293)\n",
      "2022-07-01 14:24:57 - F1 with Cosine-Similarity:                 79.11\t(Threshold: 0.4133)\n",
      "2022-07-01 14:24:57 - Precision with Cosine-Similarity:          65.45\n",
      "2022-07-01 14:24:57 - Recall with Cosine-Similarity:             100.00\n",
      "2022-07-01 14:24:57 - Average Precision with Cosine-Similarity:  81.77\n",
      "\n",
      "2022-07-01 14:24:57 - Accuracy with Manhatten-Distance:           70.85\t(Threshold: 652.7283)\n",
      "2022-07-01 14:24:57 - F1 with Manhatten-Distance:                 79.22\t(Threshold: 747.0590)\n",
      "2022-07-01 14:24:57 - Precision with Manhatten-Distance:          66.67\n",
      "2022-07-01 14:24:57 - Recall with Manhatten-Distance:             97.60\n",
      "2022-07-01 14:24:57 - Average Precision with Manhatten-Distance:  81.88\n",
      "\n",
      "2022-07-01 14:24:57 - Accuracy with Euclidean-Distance:           68.34\t(Threshold: 25.5632)\n",
      "2022-07-01 14:24:57 - F1 with Euclidean-Distance:                 79.11\t(Threshold: 32.8347)\n",
      "2022-07-01 14:24:57 - Precision with Euclidean-Distance:          65.45\n",
      "2022-07-01 14:24:57 - Recall with Euclidean-Distance:             100.00\n",
      "2022-07-01 14:24:57 - Average Precision with Euclidean-Distance:  81.54\n",
      "\n",
      "2022-07-01 14:24:57 - Accuracy with Dot-Product:           69.85\t(Threshold: 593.0228)\n",
      "2022-07-01 14:24:57 - F1 with Dot-Product:                 79.11\t(Threshold: 374.2729)\n",
      "2022-07-01 14:24:57 - Precision with Dot-Product:          65.45\n",
      "2022-07-01 14:24:57 - Recall with Dot-Product:             100.00\n",
      "2022-07-01 14:24:57 - Average Precision with Dot-Product:  81.46\n",
      "\n"
     ]
    },
    {
     "data": {
      "application/vnd.jupyter.widget-view+json": {
       "model_id": "01bc7d1ee93b400c8d18fa40cd9d5481",
       "version_major": 2,
       "version_minor": 0
      },
      "text/plain": [
       "Iteration:   0%|          | 0/12 [00:00<?, ?it/s]"
      ]
     },
     "metadata": {},
     "output_type": "display_data"
    },
    {
     "name": "stdout",
     "output_type": "stream",
     "text": [
      "2022-07-01 14:24:59 - Binary Accuracy Evaluation of the model on sts-dev dataset in epoch 13 after 10 steps:\n",
      "2022-07-01 14:24:59 - Accuracy with Cosine-Similarity:           69.85\t(Threshold: 0.6289)\n",
      "2022-07-01 14:24:59 - F1 with Cosine-Similarity:                 79.11\t(Threshold: 0.4121)\n",
      "2022-07-01 14:24:59 - Precision with Cosine-Similarity:          65.45\n",
      "2022-07-01 14:24:59 - Recall with Cosine-Similarity:             100.00\n",
      "2022-07-01 14:24:59 - Average Precision with Cosine-Similarity:  81.70\n",
      "\n",
      "2022-07-01 14:24:59 - Accuracy with Manhatten-Distance:           70.85\t(Threshold: 653.0719)\n",
      "2022-07-01 14:24:59 - F1 with Manhatten-Distance:                 79.22\t(Threshold: 747.4995)\n",
      "2022-07-01 14:24:59 - Precision with Manhatten-Distance:          66.67\n",
      "2022-07-01 14:24:59 - Recall with Manhatten-Distance:             97.60\n",
      "2022-07-01 14:24:59 - Average Precision with Manhatten-Distance:  81.87\n",
      "\n",
      "2022-07-01 14:24:59 - Accuracy with Euclidean-Distance:           68.34\t(Threshold: 25.5943)\n",
      "2022-07-01 14:24:59 - F1 with Euclidean-Distance:                 79.11\t(Threshold: 32.8651)\n",
      "2022-07-01 14:24:59 - Precision with Euclidean-Distance:          65.45\n",
      "2022-07-01 14:24:59 - Recall with Euclidean-Distance:             100.00\n",
      "2022-07-01 14:24:59 - Average Precision with Euclidean-Distance:  81.52\n",
      "\n",
      "2022-07-01 14:24:59 - Accuracy with Dot-Product:           70.35\t(Threshold: 586.3635)\n",
      "2022-07-01 14:24:59 - F1 with Dot-Product:                 79.11\t(Threshold: 373.1609)\n",
      "2022-07-01 14:24:59 - Precision with Dot-Product:          65.45\n",
      "2022-07-01 14:24:59 - Recall with Dot-Product:             100.00\n",
      "2022-07-01 14:24:59 - Average Precision with Dot-Product:  81.43\n",
      "\n",
      "2022-07-01 14:25:00 - Binary Accuracy Evaluation of the model on sts-dev dataset after epoch 13:\n",
      "2022-07-01 14:25:00 - Accuracy with Cosine-Similarity:           69.85\t(Threshold: 0.6290)\n",
      "2022-07-01 14:25:00 - F1 with Cosine-Similarity:                 79.11\t(Threshold: 0.4121)\n",
      "2022-07-01 14:25:00 - Precision with Cosine-Similarity:          65.45\n",
      "2022-07-01 14:25:00 - Recall with Cosine-Similarity:             100.00\n",
      "2022-07-01 14:25:00 - Average Precision with Cosine-Similarity:  81.71\n",
      "\n",
      "2022-07-01 14:25:00 - Accuracy with Manhatten-Distance:           70.85\t(Threshold: 653.0229)\n",
      "2022-07-01 14:25:00 - F1 with Manhatten-Distance:                 79.22\t(Threshold: 747.4476)\n",
      "2022-07-01 14:25:00 - Precision with Manhatten-Distance:          66.67\n",
      "2022-07-01 14:25:00 - Recall with Manhatten-Distance:             97.60\n",
      "2022-07-01 14:25:00 - Average Precision with Manhatten-Distance:  81.86\n",
      "\n",
      "2022-07-01 14:25:00 - Accuracy with Euclidean-Distance:           68.34\t(Threshold: 25.5910)\n",
      "2022-07-01 14:25:00 - F1 with Euclidean-Distance:                 79.11\t(Threshold: 32.8680)\n",
      "2022-07-01 14:25:00 - Precision with Euclidean-Distance:          65.45\n",
      "2022-07-01 14:25:00 - Recall with Euclidean-Distance:             100.00\n",
      "2022-07-01 14:25:00 - Average Precision with Euclidean-Distance:  81.52\n",
      "\n",
      "2022-07-01 14:25:00 - Accuracy with Dot-Product:           70.35\t(Threshold: 586.4594)\n",
      "2022-07-01 14:25:00 - F1 with Dot-Product:                 79.11\t(Threshold: 373.1856)\n",
      "2022-07-01 14:25:00 - Precision with Dot-Product:          65.45\n",
      "2022-07-01 14:25:00 - Recall with Dot-Product:             100.00\n",
      "2022-07-01 14:25:00 - Average Precision with Dot-Product:  81.43\n",
      "\n"
     ]
    },
    {
     "data": {
      "application/vnd.jupyter.widget-view+json": {
       "model_id": "64f142b181814f88a2c327afc82a7c58",
       "version_major": 2,
       "version_minor": 0
      },
      "text/plain": [
       "Iteration:   0%|          | 0/12 [00:00<?, ?it/s]"
      ]
     },
     "metadata": {},
     "output_type": "display_data"
    },
    {
     "name": "stdout",
     "output_type": "stream",
     "text": [
      "2022-07-01 14:25:02 - Binary Accuracy Evaluation of the model on sts-dev dataset in epoch 14 after 10 steps:\n",
      "2022-07-01 14:25:02 - Accuracy with Cosine-Similarity:           69.35\t(Threshold: 0.6377)\n",
      "2022-07-01 14:25:02 - F1 with Cosine-Similarity:                 79.11\t(Threshold: 0.4116)\n",
      "2022-07-01 14:25:02 - Precision with Cosine-Similarity:          65.45\n",
      "2022-07-01 14:25:02 - Recall with Cosine-Similarity:             100.00\n",
      "2022-07-01 14:25:02 - Average Precision with Cosine-Similarity:  81.70\n",
      "\n",
      "2022-07-01 14:25:02 - Accuracy with Manhatten-Distance:           70.85\t(Threshold: 653.2681)\n",
      "2022-07-01 14:25:02 - F1 with Manhatten-Distance:                 79.22\t(Threshold: 747.7288)\n",
      "2022-07-01 14:25:02 - Precision with Manhatten-Distance:          66.67\n",
      "2022-07-01 14:25:02 - Recall with Manhatten-Distance:             97.60\n",
      "2022-07-01 14:25:02 - Average Precision with Manhatten-Distance:  81.85\n",
      "\n",
      "2022-07-01 14:25:02 - Accuracy with Euclidean-Distance:           68.34\t(Threshold: 25.6023)\n",
      "2022-07-01 14:25:02 - F1 with Euclidean-Distance:                 79.11\t(Threshold: 32.8831)\n",
      "2022-07-01 14:25:02 - Precision with Euclidean-Distance:          65.45\n",
      "2022-07-01 14:25:02 - Recall with Euclidean-Distance:             100.00\n",
      "2022-07-01 14:25:02 - Average Precision with Euclidean-Distance:  81.52\n",
      "\n",
      "2022-07-01 14:25:02 - Accuracy with Dot-Product:           70.35\t(Threshold: 586.3777)\n",
      "2022-07-01 14:25:02 - F1 with Dot-Product:                 79.11\t(Threshold: 372.7760)\n",
      "2022-07-01 14:25:02 - Precision with Dot-Product:          65.45\n",
      "2022-07-01 14:25:02 - Recall with Dot-Product:             100.00\n",
      "2022-07-01 14:25:02 - Average Precision with Dot-Product:  81.41\n",
      "\n",
      "2022-07-01 14:25:03 - Binary Accuracy Evaluation of the model on sts-dev dataset after epoch 14:\n",
      "2022-07-01 14:25:03 - Accuracy with Cosine-Similarity:           69.35\t(Threshold: 0.6377)\n",
      "2022-07-01 14:25:03 - F1 with Cosine-Similarity:                 79.11\t(Threshold: 0.4115)\n",
      "2022-07-01 14:25:03 - Precision with Cosine-Similarity:          65.45\n",
      "2022-07-01 14:25:03 - Recall with Cosine-Similarity:             100.00\n",
      "2022-07-01 14:25:03 - Average Precision with Cosine-Similarity:  81.69\n",
      "\n",
      "2022-07-01 14:25:03 - Accuracy with Manhatten-Distance:           70.85\t(Threshold: 653.2540)\n",
      "2022-07-01 14:25:03 - F1 with Manhatten-Distance:                 79.22\t(Threshold: 747.7562)\n",
      "2022-07-01 14:25:03 - Precision with Manhatten-Distance:          66.67\n",
      "2022-07-01 14:25:03 - Recall with Manhatten-Distance:             97.60\n",
      "2022-07-01 14:25:03 - Average Precision with Manhatten-Distance:  81.85\n",
      "\n",
      "2022-07-01 14:25:03 - Accuracy with Euclidean-Distance:           68.34\t(Threshold: 25.6046)\n",
      "2022-07-01 14:25:03 - F1 with Euclidean-Distance:                 79.11\t(Threshold: 32.8832)\n",
      "2022-07-01 14:25:03 - Precision with Euclidean-Distance:          65.45\n",
      "2022-07-01 14:25:03 - Recall with Euclidean-Distance:             100.00\n",
      "2022-07-01 14:25:03 - Average Precision with Euclidean-Distance:  81.52\n",
      "\n",
      "2022-07-01 14:25:03 - Accuracy with Dot-Product:           70.35\t(Threshold: 586.4219)\n",
      "2022-07-01 14:25:03 - F1 with Dot-Product:                 79.11\t(Threshold: 372.6991)\n",
      "2022-07-01 14:25:03 - Precision with Dot-Product:          65.45\n",
      "2022-07-01 14:25:03 - Recall with Dot-Product:             100.00\n",
      "2022-07-01 14:25:03 - Average Precision with Dot-Product:  81.41\n",
      "\n"
     ]
    }
   ],
   "source": [
    "trained_model, evaluator = train_model(taska_training_df, taska_valid_df, '../data/output/', \n",
    "            'sentence-transformers/nli-roberta-large', \n",
    "            num_epochs=15, train_batch_size=32,\n",
    "            model_suffix='ranking-loss', max_seq_length=512, special_tokens=[], \n",
    "            loss='MultipleNegativesRankingLoss', sentence_transformer=False, evaluation_steps=10)"
   ]
  },
  {
   "cell_type": "markdown",
   "metadata": {},
   "source": [
    "### Using the auto-generated conclusions:"
   ]
  },
  {
   "cell_type": "code",
   "execution_count": 12,
   "metadata": {},
   "outputs": [],
   "source": [
    "taska_training_df = pd.read_pickle('../data/TaskA_train_with_extra_conclusions.pkl')\n",
    "taska_valid_df = pd.read_csv('../data/TaskA_dev.csv')"
   ]
  },
  {
   "cell_type": "code",
   "execution_count": 13,
   "metadata": {},
   "outputs": [],
   "source": [
    "#Mapping labels\n",
    "taska_training_df = taska_training_df[taska_training_df.Validity != 0]\n",
    "taska_valid_df    = taska_valid_df[taska_valid_df.Validity != 0]\n",
    "\n",
    "taska_training_df['label'] = taska_training_df.Validity.apply(lambda x : 1 if x == 1 else 0)\n",
    "taska_valid_df['label'] = taska_valid_df.Validity.apply(lambda x : 1 if x == 1 else 0)\n",
    "\n",
    "taska_training_df['Premise'] = taska_training_df.apply(lambda x: x['topic'] + ' : ' +  x['Premise'], axis=1)\n",
    "taska_valid_df['Premise'] = taska_valid_df.apply(lambda x: x['topic'] + ' : ' +  x['Premise'], axis=1)"
   ]
  },
  {
   "cell_type": "code",
   "execution_count": 19,
   "metadata": {
    "scrolled": true,
    "tags": []
   },
   "outputs": [
    {
     "name": "stdout",
     "output_type": "stream",
     "text": [
      "2022-07-01 14:27:28 - Use pytorch device: cuda\n",
      "2022-07-01 14:27:28 - Read Triplet train dataset\n",
      "Len of training: 401\n",
      "Len of Dev: 199\n",
      "Evaluating before start learning.....\n",
      "2022-07-01 14:27:28 - Binary Accuracy Evaluation of the model on sts-dev dataset:\n",
      "2022-07-01 14:27:28 - Accuracy with Cosine-Similarity:           72.36\t(Threshold: 0.6503)\n",
      "2022-07-01 14:27:28 - F1 with Cosine-Similarity:                 80.69\t(Threshold: 0.5985)\n",
      "2022-07-01 14:27:28 - Precision with Cosine-Similarity:          70.91\n",
      "2022-07-01 14:27:28 - Recall with Cosine-Similarity:             93.60\n",
      "2022-07-01 14:27:28 - Average Precision with Cosine-Similarity:  82.54\n",
      "\n",
      "2022-07-01 14:27:28 - Accuracy with Manhatten-Distance:           72.36\t(Threshold: 646.3732)\n",
      "2022-07-01 14:27:28 - F1 with Manhatten-Distance:                 80.56\t(Threshold: 679.7071)\n",
      "2022-07-01 14:27:28 - Precision with Manhatten-Distance:          71.17\n",
      "2022-07-01 14:27:28 - Recall with Manhatten-Distance:             92.80\n",
      "2022-07-01 14:27:28 - Average Precision with Manhatten-Distance:  82.44\n",
      "\n",
      "2022-07-01 14:27:28 - Accuracy with Euclidean-Distance:           72.86\t(Threshold: 26.3806)\n",
      "2022-07-01 14:27:28 - F1 with Euclidean-Distance:                 80.71\t(Threshold: 26.3806)\n",
      "2022-07-01 14:27:28 - Precision with Euclidean-Distance:          72.90\n",
      "2022-07-01 14:27:28 - Recall with Euclidean-Distance:             90.40\n",
      "2022-07-01 14:27:28 - Average Precision with Euclidean-Distance:  82.79\n",
      "\n",
      "2022-07-01 14:27:28 - Accuracy with Dot-Product:           73.37\t(Threshold: 595.3230)\n",
      "2022-07-01 14:27:28 - F1 with Dot-Product:                 80.81\t(Threshold: 528.4840)\n",
      "2022-07-01 14:27:28 - Precision with Dot-Product:          69.77\n",
      "2022-07-01 14:27:28 - Recall with Dot-Product:             96.00\n",
      "2022-07-01 14:27:28 - Average Precision with Dot-Product:  81.82\n",
      "\n",
      "====== Start Training =======\n"
     ]
    },
    {
     "data": {
      "application/vnd.jupyter.widget-view+json": {
       "model_id": "a3136e780d2346608207eede2a31bf25",
       "version_major": 2,
       "version_minor": 0
      },
      "text/plain": [
       "Epoch:   0%|          | 0/15 [00:00<?, ?it/s]"
      ]
     },
     "metadata": {},
     "output_type": "display_data"
    },
    {
     "data": {
      "application/vnd.jupyter.widget-view+json": {
       "model_id": "989d36aac3684d28947d079f9d1d4783",
       "version_major": 2,
       "version_minor": 0
      },
      "text/plain": [
       "Iteration:   0%|          | 0/12 [00:00<?, ?it/s]"
      ]
     },
     "metadata": {},
     "output_type": "display_data"
    },
    {
     "name": "stdout",
     "output_type": "stream",
     "text": [
      "2022-07-01 14:27:30 - Binary Accuracy Evaluation of the model on sts-dev dataset in epoch 0 after 10 steps:\n",
      "2022-07-01 14:27:30 - Accuracy with Cosine-Similarity:           73.37\t(Threshold: 0.6399)\n",
      "2022-07-01 14:27:30 - F1 with Cosine-Similarity:                 80.59\t(Threshold: 0.6399)\n",
      "2022-07-01 14:27:30 - Precision with Cosine-Similarity:          74.32\n",
      "2022-07-01 14:27:30 - Recall with Cosine-Similarity:             88.00\n",
      "2022-07-01 14:27:30 - Average Precision with Cosine-Similarity:  83.01\n",
      "\n",
      "2022-07-01 14:27:30 - Accuracy with Manhatten-Distance:           72.86\t(Threshold: 634.2710)\n",
      "2022-07-01 14:27:30 - F1 with Manhatten-Distance:                 80.57\t(Threshold: 662.9831)\n",
      "2022-07-01 14:27:30 - Precision with Manhatten-Distance:          72.15\n",
      "2022-07-01 14:27:30 - Recall with Manhatten-Distance:             91.20\n",
      "2022-07-01 14:27:30 - Average Precision with Manhatten-Distance:  82.94\n",
      "\n",
      "2022-07-01 14:27:30 - Accuracy with Euclidean-Distance:           72.86\t(Threshold: 25.3020)\n",
      "2022-07-01 14:27:30 - F1 with Euclidean-Distance:                 81.12\t(Threshold: 26.6762)\n",
      "2022-07-01 14:27:30 - Precision with Euclidean-Distance:          72.05\n",
      "2022-07-01 14:27:30 - Recall with Euclidean-Distance:             92.80\n",
      "2022-07-01 14:27:30 - Average Precision with Euclidean-Distance:  83.30\n",
      "\n",
      "2022-07-01 14:27:30 - Accuracy with Dot-Product:           73.37\t(Threshold: 597.3547)\n",
      "2022-07-01 14:27:30 - F1 with Dot-Product:                 80.69\t(Threshold: 544.4402)\n",
      "2022-07-01 14:27:30 - Precision with Dot-Product:          70.91\n",
      "2022-07-01 14:27:30 - Recall with Dot-Product:             93.60\n",
      "2022-07-01 14:27:30 - Average Precision with Dot-Product:  82.22\n",
      "\n",
      "2022-07-01 14:27:30 - Save model to ../data/output/sentence-transformers/nli-roberta-large-ranking-loss-extra-data-2022-07-01_14-27-18\n",
      "2022-07-01 14:27:32 - Binary Accuracy Evaluation of the model on sts-dev dataset after epoch 0:\n",
      "2022-07-01 14:27:32 - Accuracy with Cosine-Similarity:           73.37\t(Threshold: 0.6146)\n",
      "2022-07-01 14:27:32 - F1 with Cosine-Similarity:                 81.27\t(Threshold: 0.6146)\n",
      "2022-07-01 14:27:32 - Precision with Cosine-Similarity:          72.78\n",
      "2022-07-01 14:27:32 - Recall with Cosine-Similarity:             92.00\n",
      "2022-07-01 14:27:32 - Average Precision with Cosine-Similarity:  83.11\n",
      "\n",
      "2022-07-01 14:27:32 - Accuracy with Manhatten-Distance:           73.37\t(Threshold: 633.5984)\n",
      "2022-07-01 14:27:32 - F1 with Manhatten-Distance:                 80.84\t(Threshold: 670.2337)\n",
      "2022-07-01 14:27:32 - Precision with Manhatten-Distance:          71.60\n",
      "2022-07-01 14:27:32 - Recall with Manhatten-Distance:             92.80\n",
      "2022-07-01 14:27:32 - Average Precision with Manhatten-Distance:  83.07\n",
      "\n",
      "2022-07-01 14:27:32 - Accuracy with Euclidean-Distance:           72.86\t(Threshold: 25.1744)\n",
      "2022-07-01 14:27:32 - F1 with Euclidean-Distance:                 81.12\t(Threshold: 26.6626)\n",
      "2022-07-01 14:27:32 - Precision with Euclidean-Distance:          72.05\n",
      "2022-07-01 14:27:32 - Recall with Euclidean-Distance:             92.80\n",
      "2022-07-01 14:27:32 - Average Precision with Euclidean-Distance:  83.24\n",
      "\n",
      "2022-07-01 14:27:32 - Accuracy with Dot-Product:           72.86\t(Threshold: 600.7883)\n",
      "2022-07-01 14:27:32 - F1 with Dot-Product:                 80.42\t(Threshold: 552.0336)\n",
      "2022-07-01 14:27:32 - Precision with Dot-Product:          71.43\n",
      "2022-07-01 14:27:32 - Recall with Dot-Product:             92.00\n",
      "2022-07-01 14:27:32 - Average Precision with Dot-Product:  82.32\n",
      "\n"
     ]
    },
    {
     "data": {
      "application/vnd.jupyter.widget-view+json": {
       "model_id": "be56809fba1d425baf7b666eac164108",
       "version_major": 2,
       "version_minor": 0
      },
      "text/plain": [
       "Iteration:   0%|          | 0/12 [00:00<?, ?it/s]"
      ]
     },
     "metadata": {},
     "output_type": "display_data"
    },
    {
     "name": "stdout",
     "output_type": "stream",
     "text": [
      "2022-07-01 14:27:34 - Binary Accuracy Evaluation of the model on sts-dev dataset in epoch 1 after 10 steps:\n",
      "2022-07-01 14:27:35 - Accuracy with Cosine-Similarity:           72.86\t(Threshold: 0.6461)\n",
      "2022-07-01 14:27:35 - F1 with Cosine-Similarity:                 80.29\t(Threshold: 0.6383)\n",
      "2022-07-01 14:27:35 - Precision with Cosine-Similarity:          73.83\n",
      "2022-07-01 14:27:35 - Recall with Cosine-Similarity:             88.00\n",
      "2022-07-01 14:27:35 - Average Precision with Cosine-Similarity:  83.42\n",
      "\n",
      "2022-07-01 14:27:35 - Accuracy with Manhatten-Distance:           75.38\t(Threshold: 621.4330)\n",
      "2022-07-01 14:27:35 - F1 with Manhatten-Distance:                 81.51\t(Threshold: 621.4330)\n",
      "2022-07-01 14:27:35 - Precision with Manhatten-Distance:          77.14\n",
      "2022-07-01 14:27:35 - Recall with Manhatten-Distance:             86.40\n",
      "2022-07-01 14:27:35 - Average Precision with Manhatten-Distance:  83.58\n",
      "\n",
      "2022-07-01 14:27:35 - Accuracy with Euclidean-Distance:           72.86\t(Threshold: 24.2606)\n",
      "2022-07-01 14:27:35 - F1 with Euclidean-Distance:                 80.85\t(Threshold: 26.0703)\n",
      "2022-07-01 14:27:35 - Precision with Euclidean-Distance:          72.61\n",
      "2022-07-01 14:27:35 - Recall with Euclidean-Distance:             91.20\n",
      "2022-07-01 14:27:35 - Average Precision with Euclidean-Distance:  83.67\n",
      "\n",
      "2022-07-01 14:27:35 - Accuracy with Dot-Product:           73.37\t(Threshold: 600.1671)\n",
      "2022-07-01 14:27:35 - F1 with Dot-Product:                 80.44\t(Threshold: 588.4904)\n",
      "2022-07-01 14:27:35 - Precision with Dot-Product:          74.66\n",
      "2022-07-01 14:27:35 - Recall with Dot-Product:             87.20\n",
      "2022-07-01 14:27:35 - Average Precision with Dot-Product:  83.17\n",
      "\n",
      "2022-07-01 14:27:35 - Save model to ../data/output/sentence-transformers/nli-roberta-large-ranking-loss-extra-data-2022-07-01_14-27-18\n",
      "2022-07-01 14:27:38 - Binary Accuracy Evaluation of the model on sts-dev dataset after epoch 1:\n",
      "2022-07-01 14:27:38 - Accuracy with Cosine-Similarity:           72.86\t(Threshold: 0.6494)\n",
      "2022-07-01 14:27:38 - F1 with Cosine-Similarity:                 80.29\t(Threshold: 0.6405)\n",
      "2022-07-01 14:27:38 - Precision with Cosine-Similarity:          73.83\n",
      "2022-07-01 14:27:38 - Recall with Cosine-Similarity:             88.00\n",
      "2022-07-01 14:27:38 - Average Precision with Cosine-Similarity:  83.61\n",
      "\n",
      "2022-07-01 14:27:38 - Accuracy with Manhatten-Distance:           75.38\t(Threshold: 618.8450)\n",
      "2022-07-01 14:27:38 - F1 with Manhatten-Distance:                 81.51\t(Threshold: 618.8450)\n",
      "2022-07-01 14:27:38 - Precision with Manhatten-Distance:          77.14\n",
      "2022-07-01 14:27:38 - Recall with Manhatten-Distance:             86.40\n",
      "2022-07-01 14:27:38 - Average Precision with Manhatten-Distance:  83.59\n",
      "\n",
      "2022-07-01 14:27:38 - Accuracy with Euclidean-Distance:           72.86\t(Threshold: 24.1319)\n",
      "2022-07-01 14:27:38 - F1 with Euclidean-Distance:                 80.29\t(Threshold: 25.8278)\n",
      "2022-07-01 14:27:38 - Precision with Euclidean-Distance:          72.73\n",
      "2022-07-01 14:27:38 - Recall with Euclidean-Distance:             89.60\n",
      "2022-07-01 14:27:38 - Average Precision with Euclidean-Distance:  83.71\n",
      "\n",
      "2022-07-01 14:27:38 - Accuracy with Dot-Product:           73.37\t(Threshold: 601.9272)\n",
      "2022-07-01 14:27:38 - F1 with Dot-Product:                 80.15\t(Threshold: 588.8440)\n",
      "2022-07-01 14:27:38 - Precision with Dot-Product:          74.15\n",
      "2022-07-01 14:27:38 - Recall with Dot-Product:             87.20\n",
      "2022-07-01 14:27:38 - Average Precision with Dot-Product:  83.30\n",
      "\n",
      "2022-07-01 14:27:38 - Save model to ../data/output/sentence-transformers/nli-roberta-large-ranking-loss-extra-data-2022-07-01_14-27-18\n"
     ]
    },
    {
     "data": {
      "application/vnd.jupyter.widget-view+json": {
       "model_id": "921feeb94cac488081331ca447393476",
       "version_major": 2,
       "version_minor": 0
      },
      "text/plain": [
       "Iteration:   0%|          | 0/12 [00:00<?, ?it/s]"
      ]
     },
     "metadata": {},
     "output_type": "display_data"
    },
    {
     "name": "stdout",
     "output_type": "stream",
     "text": [
      "2022-07-01 14:27:42 - Binary Accuracy Evaluation of the model on sts-dev dataset in epoch 2 after 10 steps:\n",
      "2022-07-01 14:27:42 - Accuracy with Cosine-Similarity:           73.37\t(Threshold: 0.6747)\n",
      "2022-07-01 14:27:42 - F1 with Cosine-Similarity:                 80.14\t(Threshold: 0.6455)\n",
      "2022-07-01 14:27:42 - Precision with Cosine-Similarity:          73.03\n",
      "2022-07-01 14:27:42 - Recall with Cosine-Similarity:             88.80\n",
      "2022-07-01 14:27:42 - Average Precision with Cosine-Similarity:  83.85\n",
      "\n",
      "2022-07-01 14:27:42 - Accuracy with Manhatten-Distance:           75.38\t(Threshold: 616.5479)\n",
      "2022-07-01 14:27:42 - F1 with Manhatten-Distance:                 81.51\t(Threshold: 616.5479)\n",
      "2022-07-01 14:27:42 - Precision with Manhatten-Distance:          77.14\n",
      "2022-07-01 14:27:42 - Recall with Manhatten-Distance:             86.40\n",
      "2022-07-01 14:27:42 - Average Precision with Manhatten-Distance:  83.82\n",
      "\n",
      "2022-07-01 14:27:42 - Accuracy with Euclidean-Distance:           73.37\t(Threshold: 24.1235)\n",
      "2022-07-01 14:27:42 - F1 with Euclidean-Distance:                 79.73\t(Threshold: 26.6904)\n",
      "2022-07-01 14:27:42 - Precision with Euclidean-Distance:          69.01\n",
      "2022-07-01 14:27:42 - Recall with Euclidean-Distance:             94.40\n",
      "2022-07-01 14:27:42 - Average Precision with Euclidean-Distance:  83.86\n",
      "\n",
      "2022-07-01 14:27:42 - Accuracy with Dot-Product:           72.86\t(Threshold: 610.5322)\n",
      "2022-07-01 14:27:42 - F1 with Dot-Product:                 80.29\t(Threshold: 586.7114)\n",
      "2022-07-01 14:27:42 - Precision with Dot-Product:          73.83\n",
      "2022-07-01 14:27:42 - Recall with Dot-Product:             88.00\n",
      "2022-07-01 14:27:42 - Average Precision with Dot-Product:  83.79\n",
      "\n",
      "2022-07-01 14:27:42 - Save model to ../data/output/sentence-transformers/nli-roberta-large-ranking-loss-extra-data-2022-07-01_14-27-18\n",
      "2022-07-01 14:27:44 - Binary Accuracy Evaluation of the model on sts-dev dataset after epoch 2:\n",
      "2022-07-01 14:27:44 - Accuracy with Cosine-Similarity:           73.37\t(Threshold: 0.6749)\n",
      "2022-07-01 14:27:44 - F1 with Cosine-Similarity:                 79.86\t(Threshold: 0.6461)\n",
      "2022-07-01 14:27:44 - Precision with Cosine-Similarity:          72.55\n",
      "2022-07-01 14:27:44 - Recall with Cosine-Similarity:             88.80\n",
      "2022-07-01 14:27:44 - Average Precision with Cosine-Similarity:  83.82\n",
      "\n",
      "2022-07-01 14:27:44 - Accuracy with Manhatten-Distance:           75.38\t(Threshold: 615.4688)\n",
      "2022-07-01 14:27:44 - F1 with Manhatten-Distance:                 81.51\t(Threshold: 615.4688)\n",
      "2022-07-01 14:27:44 - Precision with Manhatten-Distance:          77.14\n",
      "2022-07-01 14:27:44 - Recall with Manhatten-Distance:             86.40\n",
      "2022-07-01 14:27:44 - Average Precision with Manhatten-Distance:  83.77\n",
      "\n",
      "2022-07-01 14:27:44 - Accuracy with Euclidean-Distance:           73.37\t(Threshold: 24.1227)\n",
      "2022-07-01 14:27:44 - F1 with Euclidean-Distance:                 79.70\t(Threshold: 24.9460)\n",
      "2022-07-01 14:27:44 - Precision with Euclidean-Distance:          73.97\n",
      "2022-07-01 14:27:44 - Recall with Euclidean-Distance:             86.40\n",
      "2022-07-01 14:27:44 - Average Precision with Euclidean-Distance:  83.85\n",
      "\n",
      "2022-07-01 14:27:44 - Accuracy with Dot-Product:           72.86\t(Threshold: 608.2717)\n",
      "2022-07-01 14:27:44 - F1 with Dot-Product:                 80.15\t(Threshold: 591.9164)\n",
      "2022-07-01 14:27:44 - Precision with Dot-Product:          74.15\n",
      "2022-07-01 14:27:44 - Recall with Dot-Product:             87.20\n",
      "2022-07-01 14:27:44 - Average Precision with Dot-Product:  83.90\n",
      "\n",
      "2022-07-01 14:27:44 - Save model to ../data/output/sentence-transformers/nli-roberta-large-ranking-loss-extra-data-2022-07-01_14-27-18\n"
     ]
    },
    {
     "data": {
      "application/vnd.jupyter.widget-view+json": {
       "model_id": "1f3dde08c5b0485a80f57c8c163bb872",
       "version_major": 2,
       "version_minor": 0
      },
      "text/plain": [
       "Iteration:   0%|          | 0/12 [00:00<?, ?it/s]"
      ]
     },
     "metadata": {},
     "output_type": "display_data"
    },
    {
     "name": "stdout",
     "output_type": "stream",
     "text": [
      "2022-07-01 14:27:48 - Binary Accuracy Evaluation of the model on sts-dev dataset in epoch 3 after 10 steps:\n",
      "2022-07-01 14:27:48 - Accuracy with Cosine-Similarity:           72.86\t(Threshold: 0.6782)\n",
      "2022-07-01 14:27:48 - F1 with Cosine-Similarity:                 79.43\t(Threshold: 0.6391)\n",
      "2022-07-01 14:27:48 - Precision with Cosine-Similarity:          71.34\n",
      "2022-07-01 14:27:48 - Recall with Cosine-Similarity:             89.60\n",
      "2022-07-01 14:27:48 - Average Precision with Cosine-Similarity:  83.58\n",
      "\n",
      "2022-07-01 14:27:48 - Accuracy with Manhatten-Distance:           75.38\t(Threshold: 613.3158)\n",
      "2022-07-01 14:27:48 - F1 with Manhatten-Distance:                 81.51\t(Threshold: 613.3158)\n",
      "2022-07-01 14:27:48 - Precision with Manhatten-Distance:          77.14\n",
      "2022-07-01 14:27:48 - Recall with Manhatten-Distance:             86.40\n",
      "2022-07-01 14:27:48 - Average Precision with Manhatten-Distance:  83.66\n",
      "\n",
      "2022-07-01 14:27:48 - Accuracy with Euclidean-Distance:           72.36\t(Threshold: 23.9726)\n",
      "2022-07-01 14:27:48 - F1 with Euclidean-Distance:                 79.60\t(Threshold: 27.2797)\n",
      "2022-07-01 14:27:48 - Precision with Euclidean-Distance:          68.39\n",
      "2022-07-01 14:27:48 - Recall with Euclidean-Distance:             95.20\n",
      "2022-07-01 14:27:48 - Average Precision with Euclidean-Distance:  83.66\n",
      "\n",
      "2022-07-01 14:27:48 - Accuracy with Dot-Product:           72.36\t(Threshold: 602.6542)\n",
      "2022-07-01 14:27:48 - F1 with Dot-Product:                 79.56\t(Threshold: 594.0719)\n",
      "2022-07-01 14:27:48 - Precision with Dot-Product:          73.15\n",
      "2022-07-01 14:27:48 - Recall with Dot-Product:             87.20\n",
      "2022-07-01 14:27:48 - Average Precision with Dot-Product:  83.50\n",
      "\n",
      "2022-07-01 14:27:49 - Binary Accuracy Evaluation of the model on sts-dev dataset after epoch 3:\n",
      "2022-07-01 14:27:49 - Accuracy with Cosine-Similarity:           72.86\t(Threshold: 0.6775)\n",
      "2022-07-01 14:27:49 - F1 with Cosine-Similarity:                 79.43\t(Threshold: 0.6386)\n",
      "2022-07-01 14:27:49 - Precision with Cosine-Similarity:          71.34\n",
      "2022-07-01 14:27:49 - Recall with Cosine-Similarity:             89.60\n",
      "2022-07-01 14:27:49 - Average Precision with Cosine-Similarity:  83.59\n",
      "\n",
      "2022-07-01 14:27:49 - Accuracy with Manhatten-Distance:           74.87\t(Threshold: 611.5964)\n",
      "2022-07-01 14:27:49 - F1 with Manhatten-Distance:                 81.06\t(Threshold: 611.5964)\n",
      "2022-07-01 14:27:49 - Precision with Manhatten-Distance:          76.98\n",
      "2022-07-01 14:27:49 - Recall with Manhatten-Distance:             85.60\n",
      "2022-07-01 14:27:49 - Average Precision with Manhatten-Distance:  83.55\n",
      "\n",
      "2022-07-01 14:27:49 - Accuracy with Euclidean-Distance:           72.36\t(Threshold: 24.4038)\n",
      "2022-07-01 14:27:49 - F1 with Euclidean-Distance:                 79.33\t(Threshold: 27.4138)\n",
      "2022-07-01 14:27:49 - Precision with Euclidean-Distance:          68.00\n",
      "2022-07-01 14:27:49 - Recall with Euclidean-Distance:             95.20\n",
      "2022-07-01 14:27:49 - Average Precision with Euclidean-Distance:  83.54\n",
      "\n",
      "2022-07-01 14:27:49 - Accuracy with Dot-Product:           71.86\t(Threshold: 627.3257)\n",
      "2022-07-01 14:27:49 - F1 with Dot-Product:                 79.71\t(Threshold: 592.9658)\n",
      "2022-07-01 14:27:49 - Precision with Dot-Product:          72.85\n",
      "2022-07-01 14:27:49 - Recall with Dot-Product:             88.00\n",
      "2022-07-01 14:27:49 - Average Precision with Dot-Product:  83.46\n",
      "\n"
     ]
    },
    {
     "data": {
      "application/vnd.jupyter.widget-view+json": {
       "model_id": "60a7894a17264cf0ad7f96185b1fd678",
       "version_major": 2,
       "version_minor": 0
      },
      "text/plain": [
       "Iteration:   0%|          | 0/12 [00:00<?, ?it/s]"
      ]
     },
     "metadata": {},
     "output_type": "display_data"
    },
    {
     "name": "stdout",
     "output_type": "stream",
     "text": [
      "2022-07-01 14:27:51 - Binary Accuracy Evaluation of the model on sts-dev dataset in epoch 4 after 10 steps:\n",
      "2022-07-01 14:27:51 - Accuracy with Cosine-Similarity:           71.36\t(Threshold: 0.6786)\n",
      "2022-07-01 14:27:51 - F1 with Cosine-Similarity:                 79.11\t(Threshold: 0.4746)\n",
      "2022-07-01 14:27:51 - Precision with Cosine-Similarity:          65.45\n",
      "2022-07-01 14:27:51 - Recall with Cosine-Similarity:             100.00\n",
      "2022-07-01 14:27:51 - Average Precision with Cosine-Similarity:  83.13\n",
      "\n",
      "2022-07-01 14:27:51 - Accuracy with Manhatten-Distance:           73.87\t(Threshold: 617.1617)\n",
      "2022-07-01 14:27:51 - F1 with Manhatten-Distance:                 80.60\t(Threshold: 617.1617)\n",
      "2022-07-01 14:27:51 - Precision with Manhatten-Distance:          75.52\n",
      "2022-07-01 14:27:51 - Recall with Manhatten-Distance:             86.40\n",
      "2022-07-01 14:27:51 - Average Precision with Manhatten-Distance:  83.24\n",
      "\n",
      "2022-07-01 14:27:51 - Accuracy with Euclidean-Distance:           71.36\t(Threshold: 24.5430)\n",
      "2022-07-01 14:27:51 - F1 with Euclidean-Distance:                 79.32\t(Threshold: 27.1412)\n",
      "2022-07-01 14:27:51 - Precision with Euclidean-Distance:          68.82\n",
      "2022-07-01 14:27:51 - Recall with Euclidean-Distance:             93.60\n",
      "2022-07-01 14:27:51 - Average Precision with Euclidean-Distance:  83.13\n",
      "\n",
      "2022-07-01 14:27:51 - Accuracy with Dot-Product:           71.86\t(Threshold: 594.4357)\n",
      "2022-07-01 14:27:51 - F1 with Dot-Product:                 79.86\t(Threshold: 594.4357)\n",
      "2022-07-01 14:27:51 - Precision with Dot-Product:          72.55\n",
      "2022-07-01 14:27:51 - Recall with Dot-Product:             88.80\n",
      "2022-07-01 14:27:51 - Average Precision with Dot-Product:  83.06\n",
      "\n",
      "2022-07-01 14:27:51 - Binary Accuracy Evaluation of the model on sts-dev dataset after epoch 4:\n",
      "2022-07-01 14:27:52 - Accuracy with Cosine-Similarity:           70.85\t(Threshold: 0.6792)\n",
      "2022-07-01 14:27:52 - F1 with Cosine-Similarity:                 79.11\t(Threshold: 0.4730)\n",
      "2022-07-01 14:27:52 - Precision with Cosine-Similarity:          65.45\n",
      "2022-07-01 14:27:52 - Recall with Cosine-Similarity:             100.00\n",
      "2022-07-01 14:27:52 - Average Precision with Cosine-Similarity:  82.99\n",
      "\n",
      "2022-07-01 14:27:52 - Accuracy with Manhatten-Distance:           73.37\t(Threshold: 615.2250)\n",
      "2022-07-01 14:27:52 - F1 with Manhatten-Distance:                 80.30\t(Threshold: 620.7067)\n",
      "2022-07-01 14:27:52 - Precision with Manhatten-Distance:          75.00\n",
      "2022-07-01 14:27:52 - Recall with Manhatten-Distance:             86.40\n",
      "2022-07-01 14:27:52 - Average Precision with Manhatten-Distance:  83.18\n",
      "\n",
      "2022-07-01 14:27:52 - Accuracy with Euclidean-Distance:           70.85\t(Threshold: 24.6628)\n",
      "2022-07-01 14:27:52 - F1 with Euclidean-Distance:                 79.32\t(Threshold: 27.1628)\n",
      "2022-07-01 14:27:52 - Precision with Euclidean-Distance:          68.82\n",
      "2022-07-01 14:27:52 - Recall with Euclidean-Distance:             93.60\n",
      "2022-07-01 14:27:52 - Average Precision with Euclidean-Distance:  83.04\n",
      "\n",
      "2022-07-01 14:27:52 - Accuracy with Dot-Product:           71.86\t(Threshold: 593.4985)\n",
      "2022-07-01 14:27:52 - F1 with Dot-Product:                 79.86\t(Threshold: 593.4985)\n",
      "2022-07-01 14:27:52 - Precision with Dot-Product:          72.55\n",
      "2022-07-01 14:27:52 - Recall with Dot-Product:             88.80\n",
      "2022-07-01 14:27:52 - Average Precision with Dot-Product:  82.98\n",
      "\n"
     ]
    },
    {
     "data": {
      "application/vnd.jupyter.widget-view+json": {
       "model_id": "64bb48d2a9b74a4bb6b12bc5276cc25d",
       "version_major": 2,
       "version_minor": 0
      },
      "text/plain": [
       "Iteration:   0%|          | 0/12 [00:00<?, ?it/s]"
      ]
     },
     "metadata": {},
     "output_type": "display_data"
    },
    {
     "name": "stdout",
     "output_type": "stream",
     "text": [
      "2022-07-01 14:27:53 - Binary Accuracy Evaluation of the model on sts-dev dataset in epoch 5 after 10 steps:\n",
      "2022-07-01 14:27:54 - Accuracy with Cosine-Similarity:           70.85\t(Threshold: 0.6585)\n",
      "2022-07-01 14:27:54 - F1 with Cosine-Similarity:                 79.37\t(Threshold: 0.4830)\n",
      "2022-07-01 14:27:54 - Precision with Cosine-Similarity:          65.79\n",
      "2022-07-01 14:27:54 - Recall with Cosine-Similarity:             100.00\n",
      "2022-07-01 14:27:54 - Average Precision with Cosine-Similarity:  82.74\n",
      "\n",
      "2022-07-01 14:27:54 - Accuracy with Manhatten-Distance:           72.86\t(Threshold: 621.9987)\n",
      "2022-07-01 14:27:54 - F1 with Manhatten-Distance:                 79.85\t(Threshold: 631.2996)\n",
      "2022-07-01 14:27:54 - Precision with Manhatten-Distance:          73.65\n",
      "2022-07-01 14:27:54 - Recall with Manhatten-Distance:             87.20\n",
      "2022-07-01 14:27:54 - Average Precision with Manhatten-Distance:  82.67\n",
      "\n",
      "2022-07-01 14:27:54 - Accuracy with Euclidean-Distance:           70.85\t(Threshold: 25.0333)\n",
      "2022-07-01 14:27:54 - F1 with Euclidean-Distance:                 79.11\t(Threshold: 31.2746)\n",
      "2022-07-01 14:27:54 - Precision with Euclidean-Distance:          65.45\n",
      "2022-07-01 14:27:54 - Recall with Euclidean-Distance:             100.00\n",
      "2022-07-01 14:27:54 - Average Precision with Euclidean-Distance:  82.70\n",
      "\n",
      "2022-07-01 14:27:54 - Accuracy with Dot-Product:           70.85\t(Threshold: 606.2878)\n",
      "2022-07-01 14:27:54 - F1 with Dot-Product:                 79.37\t(Threshold: 443.0414)\n",
      "2022-07-01 14:27:54 - Precision with Dot-Product:          65.79\n",
      "2022-07-01 14:27:54 - Recall with Dot-Product:             100.00\n",
      "2022-07-01 14:27:54 - Average Precision with Dot-Product:  82.44\n",
      "\n",
      "2022-07-01 14:27:54 - Binary Accuracy Evaluation of the model on sts-dev dataset after epoch 5:\n",
      "2022-07-01 14:27:54 - Accuracy with Cosine-Similarity:           71.36\t(Threshold: 0.6551)\n",
      "2022-07-01 14:27:54 - F1 with Cosine-Similarity:                 79.37\t(Threshold: 0.4806)\n",
      "2022-07-01 14:27:54 - Precision with Cosine-Similarity:          65.79\n",
      "2022-07-01 14:27:54 - Recall with Cosine-Similarity:             100.00\n",
      "2022-07-01 14:27:54 - Average Precision with Cosine-Similarity:  82.70\n",
      "\n",
      "2022-07-01 14:27:54 - Accuracy with Manhatten-Distance:           72.86\t(Threshold: 629.4095)\n",
      "2022-07-01 14:27:54 - F1 with Manhatten-Distance:                 80.15\t(Threshold: 629.4095)\n",
      "2022-07-01 14:27:54 - Precision with Manhatten-Distance:          74.15\n",
      "2022-07-01 14:27:54 - Recall with Manhatten-Distance:             87.20\n",
      "2022-07-01 14:27:54 - Average Precision with Manhatten-Distance:  82.72\n",
      "\n",
      "2022-07-01 14:27:54 - Accuracy with Euclidean-Distance:           70.85\t(Threshold: 25.0904)\n",
      "2022-07-01 14:27:54 - F1 with Euclidean-Distance:                 79.11\t(Threshold: 31.3288)\n",
      "2022-07-01 14:27:54 - Precision with Euclidean-Distance:          65.45\n",
      "2022-07-01 14:27:54 - Recall with Euclidean-Distance:             100.00\n",
      "2022-07-01 14:27:54 - Average Precision with Euclidean-Distance:  82.67\n",
      "\n",
      "2022-07-01 14:27:54 - Accuracy with Dot-Product:           70.85\t(Threshold: 605.3307)\n",
      "2022-07-01 14:27:54 - F1 with Dot-Product:                 79.37\t(Threshold: 441.0630)\n",
      "2022-07-01 14:27:54 - Precision with Dot-Product:          65.79\n",
      "2022-07-01 14:27:54 - Recall with Dot-Product:             100.00\n",
      "2022-07-01 14:27:54 - Average Precision with Dot-Product:  82.36\n",
      "\n"
     ]
    },
    {
     "data": {
      "application/vnd.jupyter.widget-view+json": {
       "model_id": "f7c82769803247a1b3c453fd7e0d7082",
       "version_major": 2,
       "version_minor": 0
      },
      "text/plain": [
       "Iteration:   0%|          | 0/12 [00:00<?, ?it/s]"
      ]
     },
     "metadata": {},
     "output_type": "display_data"
    },
    {
     "name": "stdout",
     "output_type": "stream",
     "text": [
      "2022-07-01 14:27:56 - Binary Accuracy Evaluation of the model on sts-dev dataset in epoch 6 after 10 steps:\n",
      "2022-07-01 14:27:56 - Accuracy with Cosine-Similarity:           71.36\t(Threshold: 0.6509)\n",
      "2022-07-01 14:27:56 - F1 with Cosine-Similarity:                 79.37\t(Threshold: 0.4705)\n",
      "2022-07-01 14:27:56 - Precision with Cosine-Similarity:          65.79\n",
      "2022-07-01 14:27:56 - Recall with Cosine-Similarity:             100.00\n",
      "2022-07-01 14:27:56 - Average Precision with Cosine-Similarity:  82.26\n",
      "\n",
      "2022-07-01 14:27:56 - Accuracy with Manhatten-Distance:           72.86\t(Threshold: 635.5295)\n",
      "2022-07-01 14:27:56 - F1 with Manhatten-Distance:                 80.15\t(Threshold: 635.5295)\n",
      "2022-07-01 14:27:56 - Precision with Manhatten-Distance:          74.15\n",
      "2022-07-01 14:27:56 - Recall with Manhatten-Distance:             87.20\n",
      "2022-07-01 14:27:56 - Average Precision with Manhatten-Distance:  82.45\n",
      "\n",
      "2022-07-01 14:27:56 - Accuracy with Euclidean-Distance:           70.85\t(Threshold: 25.2557)\n",
      "2022-07-01 14:27:56 - F1 with Euclidean-Distance:                 79.37\t(Threshold: 31.2207)\n",
      "2022-07-01 14:27:56 - Precision with Euclidean-Distance:          65.79\n",
      "2022-07-01 14:27:56 - Recall with Euclidean-Distance:             100.00\n",
      "2022-07-01 14:27:56 - Average Precision with Euclidean-Distance:  82.49\n",
      "\n",
      "2022-07-01 14:27:56 - Accuracy with Dot-Product:           70.85\t(Threshold: 612.6432)\n",
      "2022-07-01 14:27:56 - F1 with Dot-Product:                 79.37\t(Threshold: 431.7304)\n",
      "2022-07-01 14:27:56 - Precision with Dot-Product:          65.79\n",
      "2022-07-01 14:27:56 - Recall with Dot-Product:             100.00\n",
      "2022-07-01 14:27:56 - Average Precision with Dot-Product:  82.20\n",
      "\n",
      "2022-07-01 14:27:57 - Binary Accuracy Evaluation of the model on sts-dev dataset after epoch 6:\n",
      "2022-07-01 14:27:57 - Accuracy with Cosine-Similarity:           71.36\t(Threshold: 0.6501)\n",
      "2022-07-01 14:27:57 - F1 with Cosine-Similarity:                 79.37\t(Threshold: 0.4688)\n",
      "2022-07-01 14:27:57 - Precision with Cosine-Similarity:          65.79\n",
      "2022-07-01 14:27:57 - Recall with Cosine-Similarity:             100.00\n",
      "2022-07-01 14:27:57 - Average Precision with Cosine-Similarity:  82.19\n",
      "\n",
      "2022-07-01 14:27:57 - Accuracy with Manhatten-Distance:           72.36\t(Threshold: 635.3552)\n",
      "2022-07-01 14:27:57 - F1 with Manhatten-Distance:                 79.70\t(Threshold: 635.3552)\n",
      "2022-07-01 14:27:57 - Precision with Manhatten-Distance:          73.97\n",
      "2022-07-01 14:27:57 - Recall with Manhatten-Distance:             86.40\n",
      "2022-07-01 14:27:57 - Average Precision with Manhatten-Distance:  82.38\n",
      "\n",
      "2022-07-01 14:27:57 - Accuracy with Euclidean-Distance:           70.35\t(Threshold: 25.3893)\n",
      "2022-07-01 14:27:57 - F1 with Euclidean-Distance:                 79.37\t(Threshold: 31.2767)\n",
      "2022-07-01 14:27:57 - Precision with Euclidean-Distance:          65.79\n",
      "2022-07-01 14:27:57 - Recall with Euclidean-Distance:             100.00\n",
      "2022-07-01 14:27:57 - Average Precision with Euclidean-Distance:  82.43\n",
      "\n",
      "2022-07-01 14:27:57 - Accuracy with Dot-Product:           70.85\t(Threshold: 612.5620)\n",
      "2022-07-01 14:27:57 - F1 with Dot-Product:                 79.37\t(Threshold: 430.1934)\n",
      "2022-07-01 14:27:57 - Precision with Dot-Product:          65.79\n",
      "2022-07-01 14:27:57 - Recall with Dot-Product:             100.00\n",
      "2022-07-01 14:27:57 - Average Precision with Dot-Product:  82.13\n",
      "\n"
     ]
    },
    {
     "data": {
      "application/vnd.jupyter.widget-view+json": {
       "model_id": "f9943841685f40c88a69c2f85cbad096",
       "version_major": 2,
       "version_minor": 0
      },
      "text/plain": [
       "Iteration:   0%|          | 0/12 [00:00<?, ?it/s]"
      ]
     },
     "metadata": {},
     "output_type": "display_data"
    },
    {
     "name": "stdout",
     "output_type": "stream",
     "text": [
      "2022-07-01 14:27:59 - Binary Accuracy Evaluation of the model on sts-dev dataset in epoch 7 after 10 steps:\n",
      "2022-07-01 14:27:59 - Accuracy with Cosine-Similarity:           70.85\t(Threshold: 0.6468)\n",
      "2022-07-01 14:27:59 - F1 with Cosine-Similarity:                 79.37\t(Threshold: 0.4598)\n",
      "2022-07-01 14:27:59 - Precision with Cosine-Similarity:          65.79\n",
      "2022-07-01 14:27:59 - Recall with Cosine-Similarity:             100.00\n",
      "2022-07-01 14:27:59 - Average Precision with Cosine-Similarity:  82.07\n",
      "\n",
      "2022-07-01 14:27:59 - Accuracy with Manhatten-Distance:           71.36\t(Threshold: 643.0668)\n",
      "2022-07-01 14:27:59 - F1 with Manhatten-Distance:                 79.42\t(Threshold: 643.0668)\n",
      "2022-07-01 14:27:59 - Precision with Manhatten-Distance:          72.37\n",
      "2022-07-01 14:27:59 - Recall with Manhatten-Distance:             88.00\n",
      "2022-07-01 14:27:59 - Average Precision with Manhatten-Distance:  82.28\n",
      "\n",
      "2022-07-01 14:27:59 - Accuracy with Euclidean-Distance:           69.35\t(Threshold: 25.5774)\n",
      "2022-07-01 14:27:59 - F1 with Euclidean-Distance:                 79.37\t(Threshold: 31.5332)\n",
      "2022-07-01 14:27:59 - Precision with Euclidean-Distance:          65.79\n",
      "2022-07-01 14:27:59 - Recall with Euclidean-Distance:             100.00\n",
      "2022-07-01 14:27:59 - Average Precision with Euclidean-Distance:  82.16\n",
      "\n",
      "2022-07-01 14:27:59 - Accuracy with Dot-Product:           70.35\t(Threshold: 597.1481)\n",
      "2022-07-01 14:27:59 - F1 with Dot-Product:                 79.37\t(Threshold: 420.5821)\n",
      "2022-07-01 14:27:59 - Precision with Dot-Product:          65.79\n",
      "2022-07-01 14:27:59 - Recall with Dot-Product:             100.00\n",
      "2022-07-01 14:27:59 - Average Precision with Dot-Product:  81.94\n",
      "\n",
      "2022-07-01 14:28:00 - Binary Accuracy Evaluation of the model on sts-dev dataset after epoch 7:\n",
      "2022-07-01 14:28:00 - Accuracy with Cosine-Similarity:           70.85\t(Threshold: 0.6468)\n",
      "2022-07-01 14:28:00 - F1 with Cosine-Similarity:                 79.37\t(Threshold: 0.4583)\n",
      "2022-07-01 14:28:00 - Precision with Cosine-Similarity:          65.79\n",
      "2022-07-01 14:28:00 - Recall with Cosine-Similarity:             100.00\n",
      "2022-07-01 14:28:00 - Average Precision with Cosine-Similarity:  82.04\n",
      "\n",
      "2022-07-01 14:28:00 - Accuracy with Manhatten-Distance:           71.36\t(Threshold: 643.1497)\n",
      "2022-07-01 14:28:00 - F1 with Manhatten-Distance:                 79.42\t(Threshold: 643.1497)\n",
      "2022-07-01 14:28:00 - Precision with Manhatten-Distance:          72.37\n",
      "2022-07-01 14:28:00 - Recall with Manhatten-Distance:             88.00\n",
      "2022-07-01 14:28:00 - Average Precision with Manhatten-Distance:  82.25\n",
      "\n",
      "2022-07-01 14:28:00 - Accuracy with Euclidean-Distance:           69.35\t(Threshold: 25.6014)\n",
      "2022-07-01 14:28:00 - F1 with Euclidean-Distance:                 79.37\t(Threshold: 31.5717)\n",
      "2022-07-01 14:28:00 - Precision with Euclidean-Distance:          65.79\n",
      "2022-07-01 14:28:00 - Recall with Euclidean-Distance:             100.00\n",
      "2022-07-01 14:28:00 - Average Precision with Euclidean-Distance:  82.13\n",
      "\n",
      "2022-07-01 14:28:00 - Accuracy with Dot-Product:           70.35\t(Threshold: 597.0773)\n",
      "2022-07-01 14:28:00 - F1 with Dot-Product:                 79.37\t(Threshold: 418.5814)\n",
      "2022-07-01 14:28:00 - Precision with Dot-Product:          65.79\n",
      "2022-07-01 14:28:00 - Recall with Dot-Product:             100.00\n",
      "2022-07-01 14:28:00 - Average Precision with Dot-Product:  81.89\n",
      "\n"
     ]
    },
    {
     "data": {
      "application/vnd.jupyter.widget-view+json": {
       "model_id": "664d1ac3c4ed424f9a2ec28906dc8c86",
       "version_major": 2,
       "version_minor": 0
      },
      "text/plain": [
       "Iteration:   0%|          | 0/12 [00:00<?, ?it/s]"
      ]
     },
     "metadata": {},
     "output_type": "display_data"
    },
    {
     "name": "stdout",
     "output_type": "stream",
     "text": [
      "2022-07-01 14:28:02 - Binary Accuracy Evaluation of the model on sts-dev dataset in epoch 8 after 10 steps:\n",
      "2022-07-01 14:28:02 - Accuracy with Cosine-Similarity:           70.35\t(Threshold: 0.6418)\n",
      "2022-07-01 14:28:02 - F1 with Cosine-Similarity:                 79.37\t(Threshold: 0.4509)\n",
      "2022-07-01 14:28:02 - Precision with Cosine-Similarity:          65.79\n",
      "2022-07-01 14:28:02 - Recall with Cosine-Similarity:             100.00\n",
      "2022-07-01 14:28:02 - Average Precision with Cosine-Similarity:  81.91\n",
      "\n",
      "2022-07-01 14:28:02 - Accuracy with Manhatten-Distance:           70.85\t(Threshold: 649.6815)\n",
      "2022-07-01 14:28:02 - F1 with Manhatten-Distance:                 79.14\t(Threshold: 649.6815)\n",
      "2022-07-01 14:28:02 - Precision with Manhatten-Distance:          71.90\n",
      "2022-07-01 14:28:02 - Recall with Manhatten-Distance:             88.00\n",
      "2022-07-01 14:28:02 - Average Precision with Manhatten-Distance:  82.18\n",
      "\n",
      "2022-07-01 14:28:02 - Accuracy with Euclidean-Distance:           68.84\t(Threshold: 25.5199)\n",
      "2022-07-01 14:28:02 - F1 with Euclidean-Distance:                 79.37\t(Threshold: 31.7198)\n",
      "2022-07-01 14:28:02 - Precision with Euclidean-Distance:          65.79\n",
      "2022-07-01 14:28:02 - Recall with Euclidean-Distance:             100.00\n",
      "2022-07-01 14:28:02 - Average Precision with Euclidean-Distance:  81.90\n",
      "\n",
      "2022-07-01 14:28:02 - Accuracy with Dot-Product:           69.85\t(Threshold: 601.9248)\n",
      "2022-07-01 14:28:02 - F1 with Dot-Product:                 79.37\t(Threshold: 411.9604)\n",
      "2022-07-01 14:28:02 - Precision with Dot-Product:          65.79\n",
      "2022-07-01 14:28:02 - Recall with Dot-Product:             100.00\n",
      "2022-07-01 14:28:02 - Average Precision with Dot-Product:  81.88\n",
      "\n",
      "2022-07-01 14:28:02 - Binary Accuracy Evaluation of the model on sts-dev dataset after epoch 8:\n",
      "2022-07-01 14:28:03 - Accuracy with Cosine-Similarity:           70.35\t(Threshold: 0.6414)\n",
      "2022-07-01 14:28:03 - F1 with Cosine-Similarity:                 79.37\t(Threshold: 0.4504)\n",
      "2022-07-01 14:28:03 - Precision with Cosine-Similarity:          65.79\n",
      "2022-07-01 14:28:03 - Recall with Cosine-Similarity:             100.00\n",
      "2022-07-01 14:28:03 - Average Precision with Cosine-Similarity:  81.95\n",
      "\n",
      "2022-07-01 14:28:03 - Accuracy with Manhatten-Distance:           70.85\t(Threshold: 650.2865)\n",
      "2022-07-01 14:28:03 - F1 with Manhatten-Distance:                 79.14\t(Threshold: 650.2865)\n",
      "2022-07-01 14:28:03 - Precision with Manhatten-Distance:          71.90\n",
      "2022-07-01 14:28:03 - Recall with Manhatten-Distance:             88.00\n",
      "2022-07-01 14:28:03 - Average Precision with Manhatten-Distance:  82.19\n",
      "\n",
      "2022-07-01 14:28:03 - Accuracy with Euclidean-Distance:           68.34\t(Threshold: 25.4114)\n",
      "2022-07-01 14:28:03 - F1 with Euclidean-Distance:                 79.37\t(Threshold: 31.7350)\n",
      "2022-07-01 14:28:03 - Precision with Euclidean-Distance:          65.79\n",
      "2022-07-01 14:28:03 - Recall with Euclidean-Distance:             100.00\n",
      "2022-07-01 14:28:03 - Average Precision with Euclidean-Distance:  81.86\n",
      "\n",
      "2022-07-01 14:28:03 - Accuracy with Dot-Product:           69.85\t(Threshold: 601.3595)\n",
      "2022-07-01 14:28:03 - F1 with Dot-Product:                 79.37\t(Threshold: 411.5621)\n",
      "2022-07-01 14:28:03 - Precision with Dot-Product:          65.79\n",
      "2022-07-01 14:28:03 - Recall with Dot-Product:             100.00\n",
      "2022-07-01 14:28:03 - Average Precision with Dot-Product:  81.84\n",
      "\n"
     ]
    },
    {
     "data": {
      "application/vnd.jupyter.widget-view+json": {
       "model_id": "c5f58a2741c743538b9b4400793a7ba7",
       "version_major": 2,
       "version_minor": 0
      },
      "text/plain": [
       "Iteration:   0%|          | 0/12 [00:00<?, ?it/s]"
      ]
     },
     "metadata": {},
     "output_type": "display_data"
    },
    {
     "name": "stdout",
     "output_type": "stream",
     "text": [
      "2022-07-01 14:28:05 - Binary Accuracy Evaluation of the model on sts-dev dataset in epoch 9 after 10 steps:\n",
      "2022-07-01 14:28:05 - Accuracy with Cosine-Similarity:           69.85\t(Threshold: 0.6397)\n",
      "2022-07-01 14:28:05 - F1 with Cosine-Similarity:                 79.37\t(Threshold: 0.4480)\n",
      "2022-07-01 14:28:05 - Precision with Cosine-Similarity:          65.79\n",
      "2022-07-01 14:28:05 - Recall with Cosine-Similarity:             100.00\n",
      "2022-07-01 14:28:05 - Average Precision with Cosine-Similarity:  81.81\n",
      "\n",
      "2022-07-01 14:28:05 - Accuracy with Manhatten-Distance:           71.36\t(Threshold: 649.6365)\n",
      "2022-07-01 14:28:05 - F1 with Manhatten-Distance:                 79.42\t(Threshold: 649.6365)\n",
      "2022-07-01 14:28:05 - Precision with Manhatten-Distance:          72.37\n",
      "2022-07-01 14:28:05 - Recall with Manhatten-Distance:             88.00\n",
      "2022-07-01 14:28:05 - Average Precision with Manhatten-Distance:  82.17\n",
      "\n",
      "2022-07-01 14:28:05 - Accuracy with Euclidean-Distance:           68.34\t(Threshold: 25.4286)\n",
      "2022-07-01 14:28:05 - F1 with Euclidean-Distance:                 79.37\t(Threshold: 31.8170)\n",
      "2022-07-01 14:28:05 - Precision with Euclidean-Distance:          65.79\n",
      "2022-07-01 14:28:05 - Recall with Euclidean-Distance:             100.00\n",
      "2022-07-01 14:28:05 - Average Precision with Euclidean-Distance:  81.85\n",
      "\n",
      "2022-07-01 14:28:05 - Accuracy with Dot-Product:           69.85\t(Threshold: 599.1821)\n",
      "2022-07-01 14:28:05 - F1 with Dot-Product:                 79.37\t(Threshold: 409.4958)\n",
      "2022-07-01 14:28:05 - Precision with Dot-Product:          65.79\n",
      "2022-07-01 14:28:05 - Recall with Dot-Product:             100.00\n",
      "2022-07-01 14:28:05 - Average Precision with Dot-Product:  81.73\n",
      "\n",
      "2022-07-01 14:28:05 - Binary Accuracy Evaluation of the model on sts-dev dataset after epoch 9:\n",
      "2022-07-01 14:28:05 - Accuracy with Cosine-Similarity:           69.35\t(Threshold: 0.6455)\n",
      "2022-07-01 14:28:05 - F1 with Cosine-Similarity:                 79.37\t(Threshold: 0.4474)\n",
      "2022-07-01 14:28:05 - Precision with Cosine-Similarity:          65.79\n",
      "2022-07-01 14:28:05 - Recall with Cosine-Similarity:             100.00\n",
      "2022-07-01 14:28:05 - Average Precision with Cosine-Similarity:  81.80\n",
      "\n",
      "2022-07-01 14:28:05 - Accuracy with Manhatten-Distance:           71.36\t(Threshold: 650.1948)\n",
      "2022-07-01 14:28:05 - F1 with Manhatten-Distance:                 79.42\t(Threshold: 650.1948)\n",
      "2022-07-01 14:28:05 - Precision with Manhatten-Distance:          72.37\n",
      "2022-07-01 14:28:05 - Recall with Manhatten-Distance:             88.00\n",
      "2022-07-01 14:28:05 - Average Precision with Manhatten-Distance:  82.20\n",
      "\n",
      "2022-07-01 14:28:05 - Accuracy with Euclidean-Distance:           68.34\t(Threshold: 25.4339)\n",
      "2022-07-01 14:28:05 - F1 with Euclidean-Distance:                 79.37\t(Threshold: 31.8302)\n",
      "2022-07-01 14:28:05 - Precision with Euclidean-Distance:          65.79\n",
      "2022-07-01 14:28:05 - Recall with Euclidean-Distance:             100.00\n",
      "2022-07-01 14:28:05 - Average Precision with Euclidean-Distance:  81.84\n",
      "\n",
      "2022-07-01 14:28:05 - Accuracy with Dot-Product:           69.85\t(Threshold: 598.6877)\n",
      "2022-07-01 14:28:05 - F1 with Dot-Product:                 79.37\t(Threshold: 408.9045)\n",
      "2022-07-01 14:28:05 - Precision with Dot-Product:          65.79\n",
      "2022-07-01 14:28:05 - Recall with Dot-Product:             100.00\n",
      "2022-07-01 14:28:05 - Average Precision with Dot-Product:  81.66\n",
      "\n"
     ]
    },
    {
     "data": {
      "application/vnd.jupyter.widget-view+json": {
       "model_id": "4d2d44b99a0e4cd7bc8e4cc501cca776",
       "version_major": 2,
       "version_minor": 0
      },
      "text/plain": [
       "Iteration:   0%|          | 0/12 [00:00<?, ?it/s]"
      ]
     },
     "metadata": {},
     "output_type": "display_data"
    },
    {
     "name": "stdout",
     "output_type": "stream",
     "text": [
      "2022-07-01 14:28:07 - Binary Accuracy Evaluation of the model on sts-dev dataset in epoch 10 after 10 steps:\n",
      "2022-07-01 14:28:08 - Accuracy with Cosine-Similarity:           69.35\t(Threshold: 0.6399)\n",
      "2022-07-01 14:28:08 - F1 with Cosine-Similarity:                 79.37\t(Threshold: 0.4442)\n",
      "2022-07-01 14:28:08 - Precision with Cosine-Similarity:          65.79\n",
      "2022-07-01 14:28:08 - Recall with Cosine-Similarity:             100.00\n",
      "2022-07-01 14:28:08 - Average Precision with Cosine-Similarity:  81.66\n",
      "\n",
      "2022-07-01 14:28:08 - Accuracy with Manhatten-Distance:           71.36\t(Threshold: 654.9318)\n",
      "2022-07-01 14:28:08 - F1 with Manhatten-Distance:                 79.42\t(Threshold: 654.9318)\n",
      "2022-07-01 14:28:08 - Precision with Manhatten-Distance:          72.37\n",
      "2022-07-01 14:28:08 - Recall with Manhatten-Distance:             88.00\n",
      "2022-07-01 14:28:08 - Average Precision with Manhatten-Distance:  82.20\n",
      "\n",
      "2022-07-01 14:28:08 - Accuracy with Euclidean-Distance:           68.84\t(Threshold: 25.4563)\n",
      "2022-07-01 14:28:08 - F1 with Euclidean-Distance:                 79.37\t(Threshold: 31.9425)\n",
      "2022-07-01 14:28:08 - Precision with Euclidean-Distance:          65.79\n",
      "2022-07-01 14:28:08 - Recall with Euclidean-Distance:             100.00\n",
      "2022-07-01 14:28:08 - Average Precision with Euclidean-Distance:  81.66\n",
      "\n",
      "2022-07-01 14:28:08 - Accuracy with Dot-Product:           69.35\t(Threshold: 584.5269)\n",
      "2022-07-01 14:28:08 - F1 with Dot-Product:                 79.37\t(Threshold: 406.1730)\n",
      "2022-07-01 14:28:08 - Precision with Dot-Product:          65.79\n",
      "2022-07-01 14:28:08 - Recall with Dot-Product:             100.00\n",
      "2022-07-01 14:28:08 - Average Precision with Dot-Product:  81.51\n",
      "\n",
      "2022-07-01 14:28:08 - Binary Accuracy Evaluation of the model on sts-dev dataset after epoch 10:\n",
      "2022-07-01 14:28:08 - Accuracy with Cosine-Similarity:           68.84\t(Threshold: 0.6471)\n",
      "2022-07-01 14:28:08 - F1 with Cosine-Similarity:                 79.37\t(Threshold: 0.4435)\n",
      "2022-07-01 14:28:08 - Precision with Cosine-Similarity:          65.79\n",
      "2022-07-01 14:28:08 - Recall with Cosine-Similarity:             100.00\n",
      "2022-07-01 14:28:08 - Average Precision with Cosine-Similarity:  81.69\n",
      "\n",
      "2022-07-01 14:28:08 - Accuracy with Manhatten-Distance:           71.36\t(Threshold: 655.1903)\n",
      "2022-07-01 14:28:08 - F1 with Manhatten-Distance:                 79.42\t(Threshold: 655.1903)\n",
      "2022-07-01 14:28:08 - Precision with Manhatten-Distance:          72.37\n",
      "2022-07-01 14:28:08 - Recall with Manhatten-Distance:             88.00\n",
      "2022-07-01 14:28:08 - Average Precision with Manhatten-Distance:  82.18\n",
      "\n",
      "2022-07-01 14:28:08 - Accuracy with Euclidean-Distance:           68.84\t(Threshold: 25.4759)\n",
      "2022-07-01 14:28:08 - F1 with Euclidean-Distance:                 79.37\t(Threshold: 31.9592)\n",
      "2022-07-01 14:28:08 - Precision with Euclidean-Distance:          65.79\n",
      "2022-07-01 14:28:08 - Recall with Euclidean-Distance:             100.00\n",
      "2022-07-01 14:28:08 - Average Precision with Euclidean-Distance:  81.66\n",
      "\n",
      "2022-07-01 14:28:08 - Accuracy with Dot-Product:           69.85\t(Threshold: 584.2280)\n",
      "2022-07-01 14:28:08 - F1 with Dot-Product:                 79.37\t(Threshold: 405.6241)\n",
      "2022-07-01 14:28:08 - Precision with Dot-Product:          65.79\n",
      "2022-07-01 14:28:08 - Recall with Dot-Product:             100.00\n",
      "2022-07-01 14:28:08 - Average Precision with Dot-Product:  81.49\n",
      "\n"
     ]
    },
    {
     "data": {
      "application/vnd.jupyter.widget-view+json": {
       "model_id": "8e4f2a742f4b4829a22bcae455cadbaa",
       "version_major": 2,
       "version_minor": 0
      },
      "text/plain": [
       "Iteration:   0%|          | 0/12 [00:00<?, ?it/s]"
      ]
     },
     "metadata": {},
     "output_type": "display_data"
    },
    {
     "name": "stdout",
     "output_type": "stream",
     "text": [
      "2022-07-01 14:28:10 - Binary Accuracy Evaluation of the model on sts-dev dataset in epoch 11 after 10 steps:\n",
      "2022-07-01 14:28:10 - Accuracy with Cosine-Similarity:           68.84\t(Threshold: 0.6449)\n",
      "2022-07-01 14:28:10 - F1 with Cosine-Similarity:                 79.37\t(Threshold: 0.4417)\n",
      "2022-07-01 14:28:10 - Precision with Cosine-Similarity:          65.79\n",
      "2022-07-01 14:28:10 - Recall with Cosine-Similarity:             100.00\n",
      "2022-07-01 14:28:10 - Average Precision with Cosine-Similarity:  81.66\n",
      "\n",
      "2022-07-01 14:28:10 - Accuracy with Manhatten-Distance:           71.36\t(Threshold: 656.2858)\n",
      "2022-07-01 14:28:10 - F1 with Manhatten-Distance:                 79.42\t(Threshold: 656.2858)\n",
      "2022-07-01 14:28:10 - Precision with Manhatten-Distance:          72.37\n",
      "2022-07-01 14:28:10 - Recall with Manhatten-Distance:             88.00\n",
      "2022-07-01 14:28:10 - Average Precision with Manhatten-Distance:  82.14\n",
      "\n",
      "2022-07-01 14:28:10 - Accuracy with Euclidean-Distance:           68.84\t(Threshold: 25.5742)\n",
      "2022-07-01 14:28:10 - F1 with Euclidean-Distance:                 79.37\t(Threshold: 32.0249)\n",
      "2022-07-01 14:28:10 - Precision with Euclidean-Distance:          65.79\n",
      "2022-07-01 14:28:10 - Recall with Euclidean-Distance:             100.00\n",
      "2022-07-01 14:28:10 - Average Precision with Euclidean-Distance:  81.67\n",
      "\n",
      "2022-07-01 14:28:10 - Accuracy with Dot-Product:           69.35\t(Threshold: 580.9017)\n",
      "2022-07-01 14:28:10 - F1 with Dot-Product:                 79.37\t(Threshold: 404.2995)\n",
      "2022-07-01 14:28:10 - Precision with Dot-Product:          65.79\n",
      "2022-07-01 14:28:10 - Recall with Dot-Product:             100.00\n",
      "2022-07-01 14:28:10 - Average Precision with Dot-Product:  81.36\n",
      "\n",
      "2022-07-01 14:28:11 - Binary Accuracy Evaluation of the model on sts-dev dataset after epoch 11:\n",
      "2022-07-01 14:28:11 - Accuracy with Cosine-Similarity:           68.84\t(Threshold: 0.6447)\n",
      "2022-07-01 14:28:11 - F1 with Cosine-Similarity:                 79.37\t(Threshold: 0.4412)\n",
      "2022-07-01 14:28:11 - Precision with Cosine-Similarity:          65.79\n",
      "2022-07-01 14:28:11 - Recall with Cosine-Similarity:             100.00\n",
      "2022-07-01 14:28:11 - Average Precision with Cosine-Similarity:  81.65\n",
      "\n",
      "2022-07-01 14:28:11 - Accuracy with Manhatten-Distance:           71.36\t(Threshold: 656.3932)\n",
      "2022-07-01 14:28:11 - F1 with Manhatten-Distance:                 79.42\t(Threshold: 656.3932)\n",
      "2022-07-01 14:28:11 - Precision with Manhatten-Distance:          72.37\n",
      "2022-07-01 14:28:11 - Recall with Manhatten-Distance:             88.00\n",
      "2022-07-01 14:28:11 - Average Precision with Manhatten-Distance:  82.12\n",
      "\n",
      "2022-07-01 14:28:11 - Accuracy with Euclidean-Distance:           68.84\t(Threshold: 25.5798)\n",
      "2022-07-01 14:28:11 - F1 with Euclidean-Distance:                 79.37\t(Threshold: 32.0392)\n",
      "2022-07-01 14:28:11 - Precision with Euclidean-Distance:          65.79\n",
      "2022-07-01 14:28:11 - Recall with Euclidean-Distance:             100.00\n",
      "2022-07-01 14:28:11 - Average Precision with Euclidean-Distance:  81.65\n",
      "\n",
      "2022-07-01 14:28:11 - Accuracy with Dot-Product:           69.35\t(Threshold: 580.9896)\n",
      "2022-07-01 14:28:11 - F1 with Dot-Product:                 79.37\t(Threshold: 403.8746)\n",
      "2022-07-01 14:28:11 - Precision with Dot-Product:          65.79\n",
      "2022-07-01 14:28:11 - Recall with Dot-Product:             100.00\n",
      "2022-07-01 14:28:11 - Average Precision with Dot-Product:  81.35\n",
      "\n"
     ]
    },
    {
     "data": {
      "application/vnd.jupyter.widget-view+json": {
       "model_id": "ed89b40f4e6a47d1b9442b6c31d08f0d",
       "version_major": 2,
       "version_minor": 0
      },
      "text/plain": [
       "Iteration:   0%|          | 0/12 [00:00<?, ?it/s]"
      ]
     },
     "metadata": {},
     "output_type": "display_data"
    },
    {
     "name": "stdout",
     "output_type": "stream",
     "text": [
      "2022-07-01 14:28:13 - Binary Accuracy Evaluation of the model on sts-dev dataset in epoch 12 after 10 steps:\n",
      "2022-07-01 14:28:13 - Accuracy with Cosine-Similarity:           68.84\t(Threshold: 0.6408)\n",
      "2022-07-01 14:28:13 - F1 with Cosine-Similarity:                 79.37\t(Threshold: 0.4405)\n",
      "2022-07-01 14:28:13 - Precision with Cosine-Similarity:          65.79\n",
      "2022-07-01 14:28:13 - Recall with Cosine-Similarity:             100.00\n",
      "2022-07-01 14:28:13 - Average Precision with Cosine-Similarity:  81.68\n",
      "\n",
      "2022-07-01 14:28:13 - Accuracy with Manhatten-Distance:           71.36\t(Threshold: 655.5350)\n",
      "2022-07-01 14:28:13 - F1 with Manhatten-Distance:                 79.42\t(Threshold: 655.8931)\n",
      "2022-07-01 14:28:13 - Precision with Manhatten-Distance:          72.37\n",
      "2022-07-01 14:28:13 - Recall with Manhatten-Distance:             88.00\n",
      "2022-07-01 14:28:13 - Average Precision with Manhatten-Distance:  82.17\n",
      "\n",
      "2022-07-01 14:28:13 - Accuracy with Euclidean-Distance:           68.84\t(Threshold: 25.5740)\n",
      "2022-07-01 14:28:13 - F1 with Euclidean-Distance:                 79.37\t(Threshold: 32.0777)\n",
      "2022-07-01 14:28:13 - Precision with Euclidean-Distance:          65.79\n",
      "2022-07-01 14:28:13 - Recall with Euclidean-Distance:             100.00\n",
      "2022-07-01 14:28:13 - Average Precision with Euclidean-Distance:  81.57\n",
      "\n",
      "2022-07-01 14:28:13 - Accuracy with Dot-Product:           68.84\t(Threshold: 579.7322)\n",
      "2022-07-01 14:28:13 - F1 with Dot-Product:                 79.37\t(Threshold: 403.3519)\n",
      "2022-07-01 14:28:13 - Precision with Dot-Product:          65.79\n",
      "2022-07-01 14:28:13 - Recall with Dot-Product:             100.00\n",
      "2022-07-01 14:28:13 - Average Precision with Dot-Product:  81.31\n",
      "\n",
      "2022-07-01 14:28:14 - Binary Accuracy Evaluation of the model on sts-dev dataset after epoch 12:\n",
      "2022-07-01 14:28:14 - Accuracy with Cosine-Similarity:           68.84\t(Threshold: 0.6411)\n",
      "2022-07-01 14:28:14 - F1 with Cosine-Similarity:                 79.37\t(Threshold: 0.4403)\n",
      "2022-07-01 14:28:14 - Precision with Cosine-Similarity:          65.79\n",
      "2022-07-01 14:28:14 - Recall with Cosine-Similarity:             100.00\n",
      "2022-07-01 14:28:14 - Average Precision with Cosine-Similarity:  81.64\n",
      "\n",
      "2022-07-01 14:28:14 - Accuracy with Manhatten-Distance:           71.36\t(Threshold: 655.6409)\n",
      "2022-07-01 14:28:14 - F1 with Manhatten-Distance:                 79.27\t(Threshold: 655.6409)\n",
      "2022-07-01 14:28:14 - Precision with Manhatten-Distance:          72.67\n",
      "2022-07-01 14:28:14 - Recall with Manhatten-Distance:             87.20\n",
      "2022-07-01 14:28:14 - Average Precision with Manhatten-Distance:  82.17\n",
      "\n",
      "2022-07-01 14:28:14 - Accuracy with Euclidean-Distance:           68.84\t(Threshold: 25.5808)\n",
      "2022-07-01 14:28:14 - F1 with Euclidean-Distance:                 79.37\t(Threshold: 32.0831)\n",
      "2022-07-01 14:28:14 - Precision with Euclidean-Distance:          65.79\n",
      "2022-07-01 14:28:14 - Recall with Euclidean-Distance:             100.00\n",
      "2022-07-01 14:28:14 - Average Precision with Euclidean-Distance:  81.52\n",
      "\n",
      "2022-07-01 14:28:14 - Accuracy with Dot-Product:           68.84\t(Threshold: 579.9574)\n",
      "2022-07-01 14:28:14 - F1 with Dot-Product:                 79.37\t(Threshold: 403.2259)\n",
      "2022-07-01 14:28:14 - Precision with Dot-Product:          65.79\n",
      "2022-07-01 14:28:14 - Recall with Dot-Product:             100.00\n",
      "2022-07-01 14:28:14 - Average Precision with Dot-Product:  81.29\n",
      "\n"
     ]
    },
    {
     "data": {
      "application/vnd.jupyter.widget-view+json": {
       "model_id": "15368b5d8018456a80ed2b4612178437",
       "version_major": 2,
       "version_minor": 0
      },
      "text/plain": [
       "Iteration:   0%|          | 0/12 [00:00<?, ?it/s]"
      ]
     },
     "metadata": {},
     "output_type": "display_data"
    },
    {
     "name": "stdout",
     "output_type": "stream",
     "text": [
      "2022-07-01 14:28:16 - Binary Accuracy Evaluation of the model on sts-dev dataset in epoch 13 after 10 steps:\n",
      "2022-07-01 14:28:16 - Accuracy with Cosine-Similarity:           68.34\t(Threshold: 0.6423)\n",
      "2022-07-01 14:28:16 - F1 with Cosine-Similarity:                 79.37\t(Threshold: 0.4397)\n",
      "2022-07-01 14:28:16 - Precision with Cosine-Similarity:          65.79\n",
      "2022-07-01 14:28:16 - Recall with Cosine-Similarity:             100.00\n",
      "2022-07-01 14:28:16 - Average Precision with Cosine-Similarity:  81.57\n",
      "\n",
      "2022-07-01 14:28:16 - Accuracy with Manhatten-Distance:           70.85\t(Threshold: 645.9094)\n",
      "2022-07-01 14:28:16 - F1 with Manhatten-Distance:                 79.22\t(Threshold: 753.9757)\n",
      "2022-07-01 14:28:16 - Precision with Manhatten-Distance:          66.67\n",
      "2022-07-01 14:28:16 - Recall with Manhatten-Distance:             97.60\n",
      "2022-07-01 14:28:16 - Average Precision with Manhatten-Distance:  82.10\n",
      "\n",
      "2022-07-01 14:28:16 - Accuracy with Euclidean-Distance:           68.84\t(Threshold: 25.6031)\n",
      "2022-07-01 14:28:16 - F1 with Euclidean-Distance:                 79.37\t(Threshold: 32.1074)\n",
      "2022-07-01 14:28:16 - Precision with Euclidean-Distance:          65.79\n",
      "2022-07-01 14:28:16 - Recall with Euclidean-Distance:             100.00\n",
      "2022-07-01 14:28:16 - Average Precision with Euclidean-Distance:  81.51\n",
      "\n",
      "2022-07-01 14:28:16 - Accuracy with Dot-Product:           68.34\t(Threshold: 590.2953)\n",
      "2022-07-01 14:28:16 - F1 with Dot-Product:                 79.37\t(Threshold: 402.7823)\n",
      "2022-07-01 14:28:16 - Precision with Dot-Product:          65.79\n",
      "2022-07-01 14:28:16 - Recall with Dot-Product:             100.00\n",
      "2022-07-01 14:28:16 - Average Precision with Dot-Product:  81.29\n",
      "\n",
      "2022-07-01 14:28:16 - Binary Accuracy Evaluation of the model on sts-dev dataset after epoch 13:\n",
      "2022-07-01 14:28:17 - Accuracy with Cosine-Similarity:           68.34\t(Threshold: 0.6450)\n",
      "2022-07-01 14:28:17 - F1 with Cosine-Similarity:                 79.37\t(Threshold: 0.4397)\n",
      "2022-07-01 14:28:17 - Precision with Cosine-Similarity:          65.79\n",
      "2022-07-01 14:28:17 - Recall with Cosine-Similarity:             100.00\n",
      "2022-07-01 14:28:17 - Average Precision with Cosine-Similarity:  81.56\n",
      "\n",
      "2022-07-01 14:28:17 - Accuracy with Manhatten-Distance:           70.85\t(Threshold: 646.1290)\n",
      "2022-07-01 14:28:17 - F1 with Manhatten-Distance:                 79.22\t(Threshold: 753.9821)\n",
      "2022-07-01 14:28:17 - Precision with Manhatten-Distance:          66.67\n",
      "2022-07-01 14:28:17 - Recall with Manhatten-Distance:             97.60\n",
      "2022-07-01 14:28:17 - Average Precision with Manhatten-Distance:  82.09\n",
      "\n",
      "2022-07-01 14:28:17 - Accuracy with Euclidean-Distance:           68.84\t(Threshold: 25.6076)\n",
      "2022-07-01 14:28:17 - F1 with Euclidean-Distance:                 79.37\t(Threshold: 32.1123)\n",
      "2022-07-01 14:28:17 - Precision with Euclidean-Distance:          65.79\n",
      "2022-07-01 14:28:17 - Recall with Euclidean-Distance:             100.00\n",
      "2022-07-01 14:28:17 - Average Precision with Euclidean-Distance:  81.52\n",
      "\n",
      "2022-07-01 14:28:17 - Accuracy with Dot-Product:           68.34\t(Threshold: 590.0658)\n",
      "2022-07-01 14:28:17 - F1 with Dot-Product:                 79.37\t(Threshold: 402.7964)\n",
      "2022-07-01 14:28:17 - Precision with Dot-Product:          65.79\n",
      "2022-07-01 14:28:17 - Recall with Dot-Product:             100.00\n",
      "2022-07-01 14:28:17 - Average Precision with Dot-Product:  81.29\n",
      "\n"
     ]
    },
    {
     "data": {
      "application/vnd.jupyter.widget-view+json": {
       "model_id": "59b3e0894d324631a901a178479ec93a",
       "version_major": 2,
       "version_minor": 0
      },
      "text/plain": [
       "Iteration:   0%|          | 0/12 [00:00<?, ?it/s]"
      ]
     },
     "metadata": {},
     "output_type": "display_data"
    },
    {
     "name": "stdout",
     "output_type": "stream",
     "text": [
      "2022-07-01 14:28:19 - Binary Accuracy Evaluation of the model on sts-dev dataset in epoch 14 after 10 steps:\n",
      "2022-07-01 14:28:19 - Accuracy with Cosine-Similarity:           68.34\t(Threshold: 0.6422)\n",
      "2022-07-01 14:28:19 - F1 with Cosine-Similarity:                 79.37\t(Threshold: 0.4395)\n",
      "2022-07-01 14:28:19 - Precision with Cosine-Similarity:          65.79\n",
      "2022-07-01 14:28:19 - Recall with Cosine-Similarity:             100.00\n",
      "2022-07-01 14:28:19 - Average Precision with Cosine-Similarity:  81.55\n",
      "\n",
      "2022-07-01 14:28:19 - Accuracy with Manhatten-Distance:           70.85\t(Threshold: 646.4954)\n",
      "2022-07-01 14:28:19 - F1 with Manhatten-Distance:                 79.22\t(Threshold: 754.0268)\n",
      "2022-07-01 14:28:19 - Precision with Manhatten-Distance:          66.67\n",
      "2022-07-01 14:28:19 - Recall with Manhatten-Distance:             97.60\n",
      "2022-07-01 14:28:19 - Average Precision with Manhatten-Distance:  82.11\n",
      "\n",
      "2022-07-01 14:28:19 - Accuracy with Euclidean-Distance:           68.84\t(Threshold: 25.6298)\n",
      "2022-07-01 14:28:19 - F1 with Euclidean-Distance:                 79.37\t(Threshold: 32.1274)\n",
      "2022-07-01 14:28:19 - Precision with Euclidean-Distance:          65.79\n",
      "2022-07-01 14:28:19 - Recall with Euclidean-Distance:             100.00\n",
      "2022-07-01 14:28:19 - Average Precision with Euclidean-Distance:  81.51\n",
      "\n",
      "2022-07-01 14:28:19 - Accuracy with Dot-Product:           68.34\t(Threshold: 590.0258)\n",
      "2022-07-01 14:28:19 - F1 with Dot-Product:                 79.37\t(Threshold: 402.5827)\n",
      "2022-07-01 14:28:19 - Precision with Dot-Product:          65.79\n",
      "2022-07-01 14:28:19 - Recall with Dot-Product:             100.00\n",
      "2022-07-01 14:28:19 - Average Precision with Dot-Product:  81.30\n",
      "\n",
      "2022-07-01 14:28:19 - Binary Accuracy Evaluation of the model on sts-dev dataset after epoch 14:\n",
      "2022-07-01 14:28:19 - Accuracy with Cosine-Similarity:           68.34\t(Threshold: 0.6422)\n",
      "2022-07-01 14:28:19 - F1 with Cosine-Similarity:                 79.37\t(Threshold: 0.4394)\n",
      "2022-07-01 14:28:19 - Precision with Cosine-Similarity:          65.79\n",
      "2022-07-01 14:28:19 - Recall with Cosine-Similarity:             100.00\n",
      "2022-07-01 14:28:19 - Average Precision with Cosine-Similarity:  81.56\n",
      "\n",
      "2022-07-01 14:28:19 - Accuracy with Manhatten-Distance:           70.85\t(Threshold: 646.5269)\n",
      "2022-07-01 14:28:19 - F1 with Manhatten-Distance:                 79.22\t(Threshold: 754.0278)\n",
      "2022-07-01 14:28:19 - Precision with Manhatten-Distance:          66.67\n",
      "2022-07-01 14:28:19 - Recall with Manhatten-Distance:             97.60\n",
      "2022-07-01 14:28:19 - Average Precision with Manhatten-Distance:  82.09\n",
      "\n",
      "2022-07-01 14:28:19 - Accuracy with Euclidean-Distance:           68.84\t(Threshold: 25.6316)\n",
      "2022-07-01 14:28:19 - F1 with Euclidean-Distance:                 79.37\t(Threshold: 32.1270)\n",
      "2022-07-01 14:28:19 - Precision with Euclidean-Distance:          65.79\n",
      "2022-07-01 14:28:19 - Recall with Euclidean-Distance:             100.00\n",
      "2022-07-01 14:28:19 - Average Precision with Euclidean-Distance:  81.51\n",
      "\n",
      "2022-07-01 14:28:19 - Accuracy with Dot-Product:           68.34\t(Threshold: 590.1093)\n",
      "2022-07-01 14:28:19 - F1 with Dot-Product:                 79.37\t(Threshold: 402.5258)\n",
      "2022-07-01 14:28:19 - Precision with Dot-Product:          65.79\n",
      "2022-07-01 14:28:19 - Recall with Dot-Product:             100.00\n",
      "2022-07-01 14:28:19 - Average Precision with Dot-Product:  81.31\n",
      "\n"
     ]
    },
    {
     "data": {
      "text/plain": [
       "(SentenceTransformer(\n",
       "   (0): Transformer({'max_seq_length': 512, 'do_lower_case': False}) with Transformer model: RobertaModel \n",
       "   (1): Pooling({'word_embedding_dimension': 1024, 'pooling_mode_cls_token': False, 'pooling_mode_mean_tokens': True, 'pooling_mode_max_tokens': False, 'pooling_mode_mean_sqrt_len_tokens': False})\n",
       " ),\n",
       " <sentence_transformers.evaluation.BinaryClassificationEvaluator.BinaryClassificationEvaluator at 0x7ff178ede910>)"
      ]
     },
     "execution_count": 19,
     "metadata": {},
     "output_type": "execute_result"
    }
   ],
   "source": [
    "train_model(taska_training_df, taska_valid_df, '../data/output/', \n",
    "            'sentence-transformers/nli-roberta-large', \n",
    "            num_epochs=15, train_batch_size=32,\n",
    "            model_suffix='ranking-loss-extra-data', max_seq_length=512, special_tokens=[], \n",
    "            loss='MultipleNegativesRankingLoss', sentence_transformer=False, evaluation_steps=10)"
   ]
  },
  {
   "cell_type": "markdown",
   "metadata": {},
   "source": [
    "#### Generating predictions for argument validity:"
   ]
  },
  {
   "cell_type": "markdown",
   "metadata": {},
   "source": [
    "- Load best model and use it to predict the labels for the eval_df.\n",
    "- Best model is: nli-roberta-large-ranking-loss-extra-data-2022-07-01_14-27-18"
   ]
  },
  {
   "cell_type": "code",
   "execution_count": 43,
   "metadata": {},
   "outputs": [],
   "source": [
    "taska_valid_df = pd.read_csv('../data/TaskA_dev.csv')\n",
    "taska_valid_df = taska_valid_df[taska_valid_df.Validity != 0]"
   ]
  },
  {
   "cell_type": "code",
   "execution_count": 47,
   "metadata": {},
   "outputs": [],
   "source": [
    "def predict_labels(df, model_path, clm1, clm2, threshold):\n",
    "    best_model = SentenceTransformer(model_path)\n",
    "\n",
    "    encoded_premises = best_model.encode(taska_valid_df[clm1].tolist())\n",
    "    encoded_conclusions = best_model.encode(taska_valid_df[clm2].tolist())\n",
    "    \n",
    "    scores = [util.pytorch_cos_sim(x[0], x[1]).item() for x in zip(encoded_conclusions, encoded_premises)]\n",
    "    labels = [1 if x > threshold else -1 for x in scores]\n",
    "    \n",
    "    df['pred_labels'] = labels\n",
    "    \n",
    "    return df"
   ]
  },
  {
   "cell_type": "code",
   "execution_count": 58,
   "metadata": {},
   "outputs": [
    {
     "name": "stdout",
     "output_type": "stream",
     "text": [
      "2022-07-01 15:09:48 - Load pretrained SentenceTransformer: ../data/output/sentence-transformers/nli-roberta-large-ranking-loss-extra-data-2022-07-01_14-27-18/\n",
      "2022-07-01 15:09:50 - Use pytorch device: cuda\n"
     ]
    },
    {
     "data": {
      "application/vnd.jupyter.widget-view+json": {
       "model_id": "79dc011c10bb4da8b3d23e9e0ea46ac5",
       "version_major": 2,
       "version_minor": 0
      },
      "text/plain": [
       "Batches:   0%|          | 0/7 [00:00<?, ?it/s]"
      ]
     },
     "metadata": {},
     "output_type": "display_data"
    },
    {
     "data": {
      "application/vnd.jupyter.widget-view+json": {
       "model_id": "8989bf687b724830851f9f03057189ad",
       "version_major": 2,
       "version_minor": 0
      },
      "text/plain": [
       "Batches:   0%|          | 0/7 [00:00<?, ?it/s]"
      ]
     },
     "metadata": {},
     "output_type": "display_data"
    }
   ],
   "source": [
    "eval_df = predict_labels(taska_valid_df, '../data/output/sentence-transformers/nli-roberta-large-ranking-loss-extra-data-2022-07-01_14-27-18/', 'Premise', 'Conclusion', 0.6146)\n",
    "#eval_df = predict_labels(taska_valid_df, '../data/output/sentence-transformers/nli-roberta-large-ranking-loss-2022-07-01_14-24-04', 'Premise', 'Conclusion', 0.6146)"
   ]
  },
  {
   "cell_type": "code",
   "execution_count": 59,
   "metadata": {},
   "outputs": [
    {
     "name": "stdout",
     "output_type": "stream",
     "text": [
      "Precision: 0.7, Recall 0.896, F1: 0.7859649122807016\n"
     ]
    }
   ],
   "source": [
    "precision, recall, f1, _ = precision_recall_fscore_support(eval_df.Validity.tolist(), eval_df.pred_labels.tolist(), average='binary')\n",
    "\n",
    "print('Precision: {}, Recall {}, F1: {}'.format(precision, recall, f1))"
   ]
  },
  {
   "cell_type": "code",
   "execution_count": null,
   "metadata": {},
   "outputs": [],
   "source": []
  }
 ],
 "metadata": {
  "kernelspec": {
   "display_name": "Python 3",
   "language": "python",
   "name": "python3"
  },
  "language_info": {
   "codemirror_mode": {
    "name": "ipython",
    "version": 3
   },
   "file_extension": ".py",
   "mimetype": "text/x-python",
   "name": "python",
   "nbconvert_exporter": "python",
   "pygments_lexer": "ipython3",
   "version": "3.8.10"
  }
 },
 "nbformat": 4,
 "nbformat_minor": 4
}
