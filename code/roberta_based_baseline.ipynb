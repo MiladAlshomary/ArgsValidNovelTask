{
 "cells": [
  {
   "cell_type": "code",
   "execution_count": 1,
   "metadata": {},
   "outputs": [],
   "source": [
    "import json\n",
    "import pandas as pd\n",
    "import numpy as np\n",
    "import sys\n",
    "\n",
    "pd.set_option('display.max_colwidth', None)\n",
    "sys.path.append('./src-py')"
   ]
  },
  {
   "cell_type": "code",
   "execution_count": 2,
   "metadata": {},
   "outputs": [],
   "source": [
    "import sbert_training\n",
    "from utils import *"
   ]
  },
  {
   "cell_type": "code",
   "execution_count": 6,
   "metadata": {},
   "outputs": [],
   "source": [
    "from datasets import load_dataset, load_metric, Dataset, Split\n",
    "from transformers import AutoModelForSeq2SeqLM, DataCollatorForSeq2Seq, Seq2SeqTrainingArguments, Seq2SeqTrainer, AutoTokenizer, AutoModelForSequenceClassification, TextClassificationPipeline, DebertaForSequenceClassification\n",
    "from transformers import TrainingArguments, Trainer\n",
    "import wandb\n",
    "import torch\n",
    "from tqdm import tqdm\n",
    "\n",
    "from imblearn.over_sampling import RandomOverSampler\n",
    "ros = RandomOverSampler(random_state=123)"
   ]
  },
  {
   "cell_type": "code",
   "execution_count": 4,
   "metadata": {},
   "outputs": [],
   "source": [
    "output_path = \"../../data-ceph/arguana/argmining22-sharedtask/models/\""
   ]
  },
  {
   "cell_type": "code",
   "execution_count": 7,
   "metadata": {},
   "outputs": [],
   "source": [
    "taska_training_df = pd.read_csv('../data/TaskA_train.csv')\n",
    "taska_valid_df    = pd.read_csv('../data/TaskA_dev.csv')\n",
    "taska_test_df     = pd.read_csv('../data/TaskA_test.csv') #Replace this with the path to the test file\n",
    "\n",
    "taska_training_df.insert(loc=0,column='row_num',value=np.arange(len(taska_training_df)))\n",
    "taska_valid_df.insert(loc=0,column='row_num',value=np.arange(len(taska_valid_df)))\n",
    "taska_test_df.insert(loc=0,column='row_num',value=np.arange(len(taska_test_df)))\n",
    "\n",
    "#The </s></s>  is the separator used in the pre-trained nli model..\n",
    "taska_training_df['input_txt'] = taska_training_df.apply(lambda x: '{}:{}  </s></s> {} '.format(x['topic'], x['Premise'], x['Conclusion']), axis=1)\n",
    "taska_valid_df['input_txt']    = taska_valid_df.apply(lambda x: '{}:{} </s></s> {}'.format(x['topic'], x['Premise'], x['Conclusion']), axis=1)\n",
    "taska_test_df['input_txt']     = taska_test_df.apply(lambda x: '{}:{} </s></s> {}'.format(x['topic'], x['Premise'], x['Conclusion']), axis=1)\n",
    "\n",
    "taska_validity_train_df = taska_training_df[taska_training_df.Validity != 0].copy()\n",
    "taska_validity_valid_df = taska_valid_df[taska_valid_df.Validity != 0].copy()\n",
    "taska_validity_test_df  = taska_test_df[taska_test_df.Validity != 0].copy()\n",
    "\n",
    "taska_validity_train_df['label'] = taska_validity_train_df.Validity.apply(lambda x : \"valid\" if x == 1 else \"invalid\")\n",
    "taska_validity_valid_df['label'] = taska_validity_valid_df.Validity.apply(lambda x : \"valid\" if x == 1 else \"invalid\")\n",
    "taska_validity_test_df['label']  = taska_validity_test_df.Validity.apply(lambda x  : \"valid\" if x == 1 else \"invalid\")\n",
    "\n",
    "\n",
    "taska_novelty_train_df = taska_training_df[taska_training_df.Novelty != 0].copy()\n",
    "taska_novelty_valid_df = taska_valid_df[taska_valid_df.Novelty != 0].copy()\n",
    "taska_novelty_test_df  = taska_test_df[taska_test_df.Novelty != 0].copy()\n",
    "\n",
    "#Balancing the data for novelty task..\n",
    "taska_novelty_train_balanced_df, y = ros.fit_resample(taska_novelty_train_df, taska_novelty_train_df['Novelty'])\n",
    "taska_novelty_train_balanced_df['Novelty'] = y\n",
    "\n",
    "taska_novelty_train_df['label'] = taska_novelty_train_df.Novelty.apply(lambda x : \"novel\" if x == 1 else \"conservative\")\n",
    "taska_novelty_train_balanced_df['label'] = taska_novelty_train_balanced_df.Novelty.apply(lambda x : \"novel\" if x == 1 else \"conservative\")\n",
    "taska_novelty_valid_df['label'] = taska_novelty_valid_df.Novelty.apply(lambda x : \"novel\" if x == 1 else \"conservative\")\n",
    "taska_novelty_test_df['label']  = taska_novelty_test_df.Novelty.apply(lambda x  : \"novel\" if x == 1 else \"conservative\")"
   ]
  },
  {
   "cell_type": "markdown",
   "metadata": {
    "tags": []
   },
   "source": [
    "## Fine-tune simple RoBERTa model on the training data for Novelty:"
   ]
  },
  {
   "cell_type": "code",
   "execution_count": 9,
   "metadata": {
    "scrolled": true,
    "tags": []
   },
   "outputs": [],
   "source": [
    "bert_tokenizer = AutoTokenizer.from_pretrained('roberta-base')"
   ]
  },
  {
   "cell_type": "code",
   "execution_count": 10,
   "metadata": {},
   "outputs": [
    {
     "data": {
      "text/plain": [
       "Index(['row_num', 'topic', 'Premise', 'Conclusion', 'Validity',\n",
       "       'Validity-Confidence', 'Novelty', 'Novelty-Confidence', 'input_txt',\n",
       "       'label'],\n",
       "      dtype='object')"
      ]
     },
     "execution_count": 10,
     "metadata": {},
     "output_type": "execute_result"
    }
   ],
   "source": [
    "taska_novelty_train_df.columns"
   ]
  },
  {
   "cell_type": "code",
   "execution_count": 11,
   "metadata": {},
   "outputs": [
    {
     "data": {
      "text/plain": [
       "-1    595\n",
       " 1    123\n",
       "Name: Novelty, dtype: int64"
      ]
     },
     "execution_count": 11,
     "metadata": {},
     "output_type": "execute_result"
    }
   ],
   "source": [
    "taska_novelty_train_df.Novelty.value_counts()"
   ]
  },
  {
   "cell_type": "code",
   "execution_count": 22,
   "metadata": {},
   "outputs": [],
   "source": [
    "validity_map = dict([ # avoid negative labels\n",
    "    (\"novel\", 1), \n",
    "    (\"conservative\", 0)\n",
    "])"
   ]
  },
  {
   "cell_type": "code",
   "execution_count": 30,
   "metadata": {},
   "outputs": [],
   "source": [
    "train_dataset = Dataset.from_pandas(taska_novelty_train_df)\n",
    "eval_dataset = Dataset.from_pandas(taska_novelty_valid_df)\n",
    "test_dataset = Dataset.from_pandas(taska_novelty_test_df)"
   ]
  },
  {
   "cell_type": "code",
   "execution_count": 31,
   "metadata": {},
   "outputs": [],
   "source": [
    "def preprocess(example):\n",
    "    inputs = bert_tokenizer(example[\"input_txt\"], add_special_tokens=False, padding=True, truncation=True, max_length=512)\n",
    "    inputs['label'] = list(map(validity_map.get, example['label']))\n",
    "    return inputs"
   ]
  },
  {
   "cell_type": "code",
   "execution_count": 32,
   "metadata": {},
   "outputs": [
    {
     "data": {
      "application/vnd.jupyter.widget-view+json": {
       "model_id": "fca179bbd05c4333af8a6c994538e27a",
       "version_major": 2,
       "version_minor": 0
      },
      "text/plain": [
       "  0%|          | 0/1 [00:00<?, ?ba/s]"
      ]
     },
     "metadata": {},
     "output_type": "display_data"
    },
    {
     "data": {
      "application/vnd.jupyter.widget-view+json": {
       "model_id": "5426f1afa613427a8112424ae0c7fb49",
       "version_major": 2,
       "version_minor": 0
      },
      "text/plain": [
       "  0%|          | 0/1 [00:00<?, ?ba/s]"
      ]
     },
     "metadata": {},
     "output_type": "display_data"
    },
    {
     "data": {
      "application/vnd.jupyter.widget-view+json": {
       "model_id": "c1d029ef6a0f4898bf8ba1f3e35e2f2f",
       "version_major": 2,
       "version_minor": 0
      },
      "text/plain": [
       "  0%|          | 0/1 [00:00<?, ?ba/s]"
      ]
     },
     "metadata": {},
     "output_type": "display_data"
    }
   ],
   "source": [
    "train_dataset = train_dataset.map(preprocess, batched=True)\n",
    "eval_dataset = eval_dataset.map(preprocess, batched=True)\n",
    "test_dataset = test_dataset.map(preprocess, batched=True)"
   ]
  },
  {
   "cell_type": "code",
   "execution_count": 33,
   "metadata": {
    "scrolled": true,
    "tags": []
   },
   "outputs": [
    {
     "name": "stderr",
     "output_type": "stream",
     "text": [
      "loading configuration file https://huggingface.co/roberta-base/resolve/main/config.json from cache at /mnt/ceph/storage/data-tmp/current//sile2804/.cache/huggingface/transformers/733bade19e5f0ce98e6531021dd5180994bb2f7b8bd7e80c7968805834ba351e.35205c6cfc956461d8515139f0f8dd5d207a2f336c0c3a83b4bc8dca3518e37b\n",
      "Model config RobertaConfig {\n",
      "  \"_name_or_path\": \"roberta-base\",\n",
      "  \"architectures\": [\n",
      "    \"RobertaForMaskedLM\"\n",
      "  ],\n",
      "  \"attention_probs_dropout_prob\": 0.1,\n",
      "  \"bos_token_id\": 0,\n",
      "  \"classifier_dropout\": null,\n",
      "  \"eos_token_id\": 2,\n",
      "  \"hidden_act\": \"gelu\",\n",
      "  \"hidden_dropout_prob\": 0.1,\n",
      "  \"hidden_size\": 768,\n",
      "  \"initializer_range\": 0.02,\n",
      "  \"intermediate_size\": 3072,\n",
      "  \"layer_norm_eps\": 1e-05,\n",
      "  \"max_position_embeddings\": 514,\n",
      "  \"model_type\": \"roberta\",\n",
      "  \"num_attention_heads\": 12,\n",
      "  \"num_hidden_layers\": 12,\n",
      "  \"pad_token_id\": 1,\n",
      "  \"position_embedding_type\": \"absolute\",\n",
      "  \"transformers_version\": \"4.18.0\",\n",
      "  \"type_vocab_size\": 1,\n",
      "  \"use_cache\": true,\n",
      "  \"vocab_size\": 50265\n",
      "}\n",
      "\n",
      "loading weights file https://huggingface.co/roberta-base/resolve/main/pytorch_model.bin from cache at /mnt/ceph/storage/data-tmp/current//sile2804/.cache/huggingface/transformers/51ba668f7ff34e7cdfa9561e8361747738113878850a7d717dbc69de8683aaad.c7efaa30a0d80b2958b876969faa180e485944a849deee4ad482332de65365a7\n",
      "Some weights of the model checkpoint at roberta-base were not used when initializing RobertaForSequenceClassification: ['lm_head.layer_norm.bias', 'lm_head.bias', 'lm_head.dense.weight', 'lm_head.decoder.weight', 'roberta.pooler.dense.bias', 'lm_head.dense.bias', 'lm_head.layer_norm.weight', 'roberta.pooler.dense.weight']\n",
      "- This IS expected if you are initializing RobertaForSequenceClassification from the checkpoint of a model trained on another task or with another architecture (e.g. initializing a BertForSequenceClassification model from a BertForPreTraining model).\n",
      "- This IS NOT expected if you are initializing RobertaForSequenceClassification from the checkpoint of a model that you expect to be exactly identical (initializing a BertForSequenceClassification model from a BertForSequenceClassification model).\n",
      "Some weights of RobertaForSequenceClassification were not initialized from the model checkpoint at roberta-base and are newly initialized: ['classifier.dense.weight', 'classifier.dense.bias', 'classifier.out_proj.bias', 'classifier.out_proj.weight']\n",
      "You should probably TRAIN this model on a down-stream task to be able to use it for predictions and inference.\n",
      "PyTorch: setting up devices\n",
      "The default value for the training argument `--report_to` will change in v5 (from all installed integrations to none). In v5, you will need to use `--report_to all` to get the same behavior as now. You should start updating your code and make this info disappear :-).\n",
      "max_steps is given, it will override any value given in num_train_epochs\n"
     ]
    }
   ],
   "source": [
    "bert_model     = AutoModelForSequenceClassification.from_pretrained('roberta-base', num_labels=2)\n",
    "\n",
    "training_args = TrainingArguments(\n",
    "    output_dir= output_path + \"/novelty/roberta\", \n",
    "    #report_to=\"wandb\",\n",
    "    logging_dir='/var/argmining-sharedtask/roberta-baseline-novelty',\n",
    "    overwrite_output_dir=True,\n",
    "    metric_for_best_model = 'f1',\n",
    "    evaluation_strategy = 'steps',          # check evaluation metrics at each epoch\n",
    "    learning_rate = 5e-6,                   # we can customize learning rate\n",
    "    max_steps = 600,\n",
    "    logging_steps = 50,                    # we will log every 50 steps which is an epoch given the 700 examples and 16 batch size\n",
    "    eval_steps = 50,                      # we will perform evaluation every 500 steps\n",
    "    save_steps = 50,\n",
    "    load_best_model_at_end = True,\n",
    ")\n",
    "\n",
    "trainer = Trainer(\n",
    "    model=bert_model,\n",
    "    args=training_args,\n",
    "    train_dataset=train_dataset,\n",
    "    eval_dataset=eval_dataset,\n",
    "    compute_metrics=lambda x: compute_metrics(x, average='macro')\n",
    ")"
   ]
  },
  {
   "cell_type": "code",
   "execution_count": 34,
   "metadata": {
    "scrolled": true,
    "tags": []
   },
   "outputs": [
    {
     "name": "stderr",
     "output_type": "stream",
     "text": [
      "The following columns in the training set  don't have a corresponding argument in `RobertaForSequenceClassification.forward` and have been ignored: Novelty-Confidence, Premise, __index_level_0__, Validity, Validity-Confidence, Novelty, topic, row_num, Conclusion, input_txt. If Novelty-Confidence, Premise, __index_level_0__, Validity, Validity-Confidence, Novelty, topic, row_num, Conclusion, input_txt are not expected by `RobertaForSequenceClassification.forward`,  you can safely ignore this message.\n",
      "***** Running training *****\n",
      "  Num examples = 718\n",
      "  Num Epochs = 7\n",
      "  Instantaneous batch size per device = 8\n",
      "  Total train batch size (w. parallel, distributed & accumulation) = 8\n",
      "  Gradient Accumulation steps = 1\n",
      "  Total optimization steps = 600\n",
      "Automatic Weights & Biases logging enabled, to disable set os.environ[\"WANDB_DISABLED\"] = \"true\"\n"
     ]
    },
    {
     "data": {
      "text/html": [
       "\n",
       "    <div>\n",
       "      \n",
       "      <progress value='600' max='600' style='width:300px; height:20px; vertical-align: middle;'></progress>\n",
       "      [600/600 00:52, Epoch 6/7]\n",
       "    </div>\n",
       "    <table border=\"1\" class=\"dataframe\">\n",
       "  <thead>\n",
       " <tr style=\"text-align: left;\">\n",
       "      <th>Step</th>\n",
       "      <th>Training Loss</th>\n",
       "      <th>Validation Loss</th>\n",
       "      <th>Recall</th>\n",
       "      <th>Precision</th>\n",
       "      <th>F1</th>\n",
       "    </tr>\n",
       "  </thead>\n",
       "  <tbody>\n",
       "    <tr>\n",
       "      <td>50</td>\n",
       "      <td>0.552400</td>\n",
       "      <td>0.869074</td>\n",
       "      <td>0.500000</td>\n",
       "      <td>0.295000</td>\n",
       "      <td>0.371069</td>\n",
       "    </tr>\n",
       "    <tr>\n",
       "      <td>100</td>\n",
       "      <td>0.462000</td>\n",
       "      <td>0.827728</td>\n",
       "      <td>0.500000</td>\n",
       "      <td>0.295000</td>\n",
       "      <td>0.371069</td>\n",
       "    </tr>\n",
       "    <tr>\n",
       "      <td>150</td>\n",
       "      <td>0.472900</td>\n",
       "      <td>0.872351</td>\n",
       "      <td>0.500000</td>\n",
       "      <td>0.295000</td>\n",
       "      <td>0.371069</td>\n",
       "    </tr>\n",
       "    <tr>\n",
       "      <td>200</td>\n",
       "      <td>0.470500</td>\n",
       "      <td>0.873571</td>\n",
       "      <td>0.500000</td>\n",
       "      <td>0.295000</td>\n",
       "      <td>0.371069</td>\n",
       "    </tr>\n",
       "    <tr>\n",
       "      <td>250</td>\n",
       "      <td>0.452100</td>\n",
       "      <td>0.916692</td>\n",
       "      <td>0.500000</td>\n",
       "      <td>0.295000</td>\n",
       "      <td>0.371069</td>\n",
       "    </tr>\n",
       "    <tr>\n",
       "      <td>300</td>\n",
       "      <td>0.515100</td>\n",
       "      <td>0.817454</td>\n",
       "      <td>0.500000</td>\n",
       "      <td>0.295000</td>\n",
       "      <td>0.371069</td>\n",
       "    </tr>\n",
       "    <tr>\n",
       "      <td>350</td>\n",
       "      <td>0.407500</td>\n",
       "      <td>1.046887</td>\n",
       "      <td>0.500000</td>\n",
       "      <td>0.295000</td>\n",
       "      <td>0.371069</td>\n",
       "    </tr>\n",
       "    <tr>\n",
       "      <td>400</td>\n",
       "      <td>0.528400</td>\n",
       "      <td>0.891924</td>\n",
       "      <td>0.500000</td>\n",
       "      <td>0.295000</td>\n",
       "      <td>0.371069</td>\n",
       "    </tr>\n",
       "    <tr>\n",
       "      <td>450</td>\n",
       "      <td>0.416000</td>\n",
       "      <td>0.949494</td>\n",
       "      <td>0.500000</td>\n",
       "      <td>0.295000</td>\n",
       "      <td>0.371069</td>\n",
       "    </tr>\n",
       "    <tr>\n",
       "      <td>500</td>\n",
       "      <td>0.432100</td>\n",
       "      <td>0.967815</td>\n",
       "      <td>0.500000</td>\n",
       "      <td>0.295000</td>\n",
       "      <td>0.371069</td>\n",
       "    </tr>\n",
       "    <tr>\n",
       "      <td>550</td>\n",
       "      <td>0.462700</td>\n",
       "      <td>0.935189</td>\n",
       "      <td>0.500000</td>\n",
       "      <td>0.295000</td>\n",
       "      <td>0.371069</td>\n",
       "    </tr>\n",
       "    <tr>\n",
       "      <td>600</td>\n",
       "      <td>0.409800</td>\n",
       "      <td>0.952921</td>\n",
       "      <td>0.500000</td>\n",
       "      <td>0.295000</td>\n",
       "      <td>0.371069</td>\n",
       "    </tr>\n",
       "  </tbody>\n",
       "</table><p>"
      ],
      "text/plain": [
       "<IPython.core.display.HTML object>"
      ]
     },
     "metadata": {},
     "output_type": "display_data"
    },
    {
     "name": "stderr",
     "output_type": "stream",
     "text": [
      "The following columns in the evaluation set  don't have a corresponding argument in `RobertaForSequenceClassification.forward` and have been ignored: Novelty-Confidence, Premise, __index_level_0__, Validity, Validity-Confidence, Novelty, topic, row_num, Conclusion, input_txt. If Novelty-Confidence, Premise, __index_level_0__, Validity, Validity-Confidence, Novelty, topic, row_num, Conclusion, input_txt are not expected by `RobertaForSequenceClassification.forward`,  you can safely ignore this message.\n",
      "***** Running Evaluation *****\n",
      "  Num examples = 200\n",
      "  Batch size = 8\n",
      "/usr/local/lib/python3.8/dist-packages/sklearn/metrics/_classification.py:1327: UndefinedMetricWarning: Precision and F-score are ill-defined and being set to 0.0 in labels with no predicted samples. Use `zero_division` parameter to control this behavior.\n",
      "  _warn_prf(average, modifier, msg_start, len(result))\n",
      "Saving model checkpoint to ../../data-ceph/arguana/argmining22-sharedtask/models//novelty/roberta/checkpoint-50\n",
      "Configuration saved in ../../data-ceph/arguana/argmining22-sharedtask/models//novelty/roberta/checkpoint-50/config.json\n",
      "Model weights saved in ../../data-ceph/arguana/argmining22-sharedtask/models//novelty/roberta/checkpoint-50/pytorch_model.bin\n",
      "The following columns in the evaluation set  don't have a corresponding argument in `RobertaForSequenceClassification.forward` and have been ignored: Novelty-Confidence, Premise, __index_level_0__, Validity, Validity-Confidence, Novelty, topic, row_num, Conclusion, input_txt. If Novelty-Confidence, Premise, __index_level_0__, Validity, Validity-Confidence, Novelty, topic, row_num, Conclusion, input_txt are not expected by `RobertaForSequenceClassification.forward`,  you can safely ignore this message.\n",
      "***** Running Evaluation *****\n",
      "  Num examples = 200\n",
      "  Batch size = 8\n",
      "/usr/local/lib/python3.8/dist-packages/sklearn/metrics/_classification.py:1327: UndefinedMetricWarning: Precision and F-score are ill-defined and being set to 0.0 in labels with no predicted samples. Use `zero_division` parameter to control this behavior.\n",
      "  _warn_prf(average, modifier, msg_start, len(result))\n",
      "Saving model checkpoint to ../../data-ceph/arguana/argmining22-sharedtask/models//novelty/roberta/checkpoint-100\n",
      "Configuration saved in ../../data-ceph/arguana/argmining22-sharedtask/models//novelty/roberta/checkpoint-100/config.json\n",
      "Model weights saved in ../../data-ceph/arguana/argmining22-sharedtask/models//novelty/roberta/checkpoint-100/pytorch_model.bin\n",
      "The following columns in the evaluation set  don't have a corresponding argument in `RobertaForSequenceClassification.forward` and have been ignored: Novelty-Confidence, Premise, __index_level_0__, Validity, Validity-Confidence, Novelty, topic, row_num, Conclusion, input_txt. If Novelty-Confidence, Premise, __index_level_0__, Validity, Validity-Confidence, Novelty, topic, row_num, Conclusion, input_txt are not expected by `RobertaForSequenceClassification.forward`,  you can safely ignore this message.\n",
      "***** Running Evaluation *****\n",
      "  Num examples = 200\n",
      "  Batch size = 8\n",
      "/usr/local/lib/python3.8/dist-packages/sklearn/metrics/_classification.py:1327: UndefinedMetricWarning: Precision and F-score are ill-defined and being set to 0.0 in labels with no predicted samples. Use `zero_division` parameter to control this behavior.\n",
      "  _warn_prf(average, modifier, msg_start, len(result))\n",
      "Saving model checkpoint to ../../data-ceph/arguana/argmining22-sharedtask/models//novelty/roberta/checkpoint-150\n",
      "Configuration saved in ../../data-ceph/arguana/argmining22-sharedtask/models//novelty/roberta/checkpoint-150/config.json\n",
      "Model weights saved in ../../data-ceph/arguana/argmining22-sharedtask/models//novelty/roberta/checkpoint-150/pytorch_model.bin\n",
      "The following columns in the evaluation set  don't have a corresponding argument in `RobertaForSequenceClassification.forward` and have been ignored: Novelty-Confidence, Premise, __index_level_0__, Validity, Validity-Confidence, Novelty, topic, row_num, Conclusion, input_txt. If Novelty-Confidence, Premise, __index_level_0__, Validity, Validity-Confidence, Novelty, topic, row_num, Conclusion, input_txt are not expected by `RobertaForSequenceClassification.forward`,  you can safely ignore this message.\n",
      "***** Running Evaluation *****\n",
      "  Num examples = 200\n",
      "  Batch size = 8\n",
      "/usr/local/lib/python3.8/dist-packages/sklearn/metrics/_classification.py:1327: UndefinedMetricWarning: Precision and F-score are ill-defined and being set to 0.0 in labels with no predicted samples. Use `zero_division` parameter to control this behavior.\n",
      "  _warn_prf(average, modifier, msg_start, len(result))\n",
      "Saving model checkpoint to ../../data-ceph/arguana/argmining22-sharedtask/models//novelty/roberta/checkpoint-200\n",
      "Configuration saved in ../../data-ceph/arguana/argmining22-sharedtask/models//novelty/roberta/checkpoint-200/config.json\n",
      "Model weights saved in ../../data-ceph/arguana/argmining22-sharedtask/models//novelty/roberta/checkpoint-200/pytorch_model.bin\n",
      "The following columns in the evaluation set  don't have a corresponding argument in `RobertaForSequenceClassification.forward` and have been ignored: Novelty-Confidence, Premise, __index_level_0__, Validity, Validity-Confidence, Novelty, topic, row_num, Conclusion, input_txt. If Novelty-Confidence, Premise, __index_level_0__, Validity, Validity-Confidence, Novelty, topic, row_num, Conclusion, input_txt are not expected by `RobertaForSequenceClassification.forward`,  you can safely ignore this message.\n",
      "***** Running Evaluation *****\n",
      "  Num examples = 200\n",
      "  Batch size = 8\n",
      "/usr/local/lib/python3.8/dist-packages/sklearn/metrics/_classification.py:1327: UndefinedMetricWarning: Precision and F-score are ill-defined and being set to 0.0 in labels with no predicted samples. Use `zero_division` parameter to control this behavior.\n",
      "  _warn_prf(average, modifier, msg_start, len(result))\n",
      "Saving model checkpoint to ../../data-ceph/arguana/argmining22-sharedtask/models//novelty/roberta/checkpoint-250\n",
      "Configuration saved in ../../data-ceph/arguana/argmining22-sharedtask/models//novelty/roberta/checkpoint-250/config.json\n",
      "Model weights saved in ../../data-ceph/arguana/argmining22-sharedtask/models//novelty/roberta/checkpoint-250/pytorch_model.bin\n",
      "The following columns in the evaluation set  don't have a corresponding argument in `RobertaForSequenceClassification.forward` and have been ignored: Novelty-Confidence, Premise, __index_level_0__, Validity, Validity-Confidence, Novelty, topic, row_num, Conclusion, input_txt. If Novelty-Confidence, Premise, __index_level_0__, Validity, Validity-Confidence, Novelty, topic, row_num, Conclusion, input_txt are not expected by `RobertaForSequenceClassification.forward`,  you can safely ignore this message.\n",
      "***** Running Evaluation *****\n",
      "  Num examples = 200\n",
      "  Batch size = 8\n",
      "/usr/local/lib/python3.8/dist-packages/sklearn/metrics/_classification.py:1327: UndefinedMetricWarning: Precision and F-score are ill-defined and being set to 0.0 in labels with no predicted samples. Use `zero_division` parameter to control this behavior.\n",
      "  _warn_prf(average, modifier, msg_start, len(result))\n",
      "Saving model checkpoint to ../../data-ceph/arguana/argmining22-sharedtask/models//novelty/roberta/checkpoint-300\n",
      "Configuration saved in ../../data-ceph/arguana/argmining22-sharedtask/models//novelty/roberta/checkpoint-300/config.json\n",
      "Model weights saved in ../../data-ceph/arguana/argmining22-sharedtask/models//novelty/roberta/checkpoint-300/pytorch_model.bin\n",
      "The following columns in the evaluation set  don't have a corresponding argument in `RobertaForSequenceClassification.forward` and have been ignored: Novelty-Confidence, Premise, __index_level_0__, Validity, Validity-Confidence, Novelty, topic, row_num, Conclusion, input_txt. If Novelty-Confidence, Premise, __index_level_0__, Validity, Validity-Confidence, Novelty, topic, row_num, Conclusion, input_txt are not expected by `RobertaForSequenceClassification.forward`,  you can safely ignore this message.\n",
      "***** Running Evaluation *****\n",
      "  Num examples = 200\n",
      "  Batch size = 8\n",
      "/usr/local/lib/python3.8/dist-packages/sklearn/metrics/_classification.py:1327: UndefinedMetricWarning: Precision and F-score are ill-defined and being set to 0.0 in labels with no predicted samples. Use `zero_division` parameter to control this behavior.\n",
      "  _warn_prf(average, modifier, msg_start, len(result))\n",
      "Saving model checkpoint to ../../data-ceph/arguana/argmining22-sharedtask/models//novelty/roberta/checkpoint-350\n",
      "Configuration saved in ../../data-ceph/arguana/argmining22-sharedtask/models//novelty/roberta/checkpoint-350/config.json\n",
      "Model weights saved in ../../data-ceph/arguana/argmining22-sharedtask/models//novelty/roberta/checkpoint-350/pytorch_model.bin\n",
      "The following columns in the evaluation set  don't have a corresponding argument in `RobertaForSequenceClassification.forward` and have been ignored: Novelty-Confidence, Premise, __index_level_0__, Validity, Validity-Confidence, Novelty, topic, row_num, Conclusion, input_txt. If Novelty-Confidence, Premise, __index_level_0__, Validity, Validity-Confidence, Novelty, topic, row_num, Conclusion, input_txt are not expected by `RobertaForSequenceClassification.forward`,  you can safely ignore this message.\n",
      "***** Running Evaluation *****\n",
      "  Num examples = 200\n",
      "  Batch size = 8\n",
      "/usr/local/lib/python3.8/dist-packages/sklearn/metrics/_classification.py:1327: UndefinedMetricWarning: Precision and F-score are ill-defined and being set to 0.0 in labels with no predicted samples. Use `zero_division` parameter to control this behavior.\n",
      "  _warn_prf(average, modifier, msg_start, len(result))\n",
      "Saving model checkpoint to ../../data-ceph/arguana/argmining22-sharedtask/models//novelty/roberta/checkpoint-400\n",
      "Configuration saved in ../../data-ceph/arguana/argmining22-sharedtask/models//novelty/roberta/checkpoint-400/config.json\n",
      "Model weights saved in ../../data-ceph/arguana/argmining22-sharedtask/models//novelty/roberta/checkpoint-400/pytorch_model.bin\n",
      "The following columns in the evaluation set  don't have a corresponding argument in `RobertaForSequenceClassification.forward` and have been ignored: Novelty-Confidence, Premise, __index_level_0__, Validity, Validity-Confidence, Novelty, topic, row_num, Conclusion, input_txt. If Novelty-Confidence, Premise, __index_level_0__, Validity, Validity-Confidence, Novelty, topic, row_num, Conclusion, input_txt are not expected by `RobertaForSequenceClassification.forward`,  you can safely ignore this message.\n",
      "***** Running Evaluation *****\n",
      "  Num examples = 200\n",
      "  Batch size = 8\n",
      "/usr/local/lib/python3.8/dist-packages/sklearn/metrics/_classification.py:1327: UndefinedMetricWarning: Precision and F-score are ill-defined and being set to 0.0 in labels with no predicted samples. Use `zero_division` parameter to control this behavior.\n",
      "  _warn_prf(average, modifier, msg_start, len(result))\n",
      "Saving model checkpoint to ../../data-ceph/arguana/argmining22-sharedtask/models//novelty/roberta/checkpoint-450\n",
      "Configuration saved in ../../data-ceph/arguana/argmining22-sharedtask/models//novelty/roberta/checkpoint-450/config.json\n",
      "Model weights saved in ../../data-ceph/arguana/argmining22-sharedtask/models//novelty/roberta/checkpoint-450/pytorch_model.bin\n",
      "The following columns in the evaluation set  don't have a corresponding argument in `RobertaForSequenceClassification.forward` and have been ignored: Novelty-Confidence, Premise, __index_level_0__, Validity, Validity-Confidence, Novelty, topic, row_num, Conclusion, input_txt. If Novelty-Confidence, Premise, __index_level_0__, Validity, Validity-Confidence, Novelty, topic, row_num, Conclusion, input_txt are not expected by `RobertaForSequenceClassification.forward`,  you can safely ignore this message.\n",
      "***** Running Evaluation *****\n",
      "  Num examples = 200\n",
      "  Batch size = 8\n",
      "/usr/local/lib/python3.8/dist-packages/sklearn/metrics/_classification.py:1327: UndefinedMetricWarning: Precision and F-score are ill-defined and being set to 0.0 in labels with no predicted samples. Use `zero_division` parameter to control this behavior.\n",
      "  _warn_prf(average, modifier, msg_start, len(result))\n",
      "Saving model checkpoint to ../../data-ceph/arguana/argmining22-sharedtask/models//novelty/roberta/checkpoint-500\n",
      "Configuration saved in ../../data-ceph/arguana/argmining22-sharedtask/models//novelty/roberta/checkpoint-500/config.json\n",
      "Model weights saved in ../../data-ceph/arguana/argmining22-sharedtask/models//novelty/roberta/checkpoint-500/pytorch_model.bin\n",
      "The following columns in the evaluation set  don't have a corresponding argument in `RobertaForSequenceClassification.forward` and have been ignored: Novelty-Confidence, Premise, __index_level_0__, Validity, Validity-Confidence, Novelty, topic, row_num, Conclusion, input_txt. If Novelty-Confidence, Premise, __index_level_0__, Validity, Validity-Confidence, Novelty, topic, row_num, Conclusion, input_txt are not expected by `RobertaForSequenceClassification.forward`,  you can safely ignore this message.\n",
      "***** Running Evaluation *****\n",
      "  Num examples = 200\n",
      "  Batch size = 8\n",
      "/usr/local/lib/python3.8/dist-packages/sklearn/metrics/_classification.py:1327: UndefinedMetricWarning: Precision and F-score are ill-defined and being set to 0.0 in labels with no predicted samples. Use `zero_division` parameter to control this behavior.\n",
      "  _warn_prf(average, modifier, msg_start, len(result))\n",
      "Saving model checkpoint to ../../data-ceph/arguana/argmining22-sharedtask/models//novelty/roberta/checkpoint-550\n",
      "Configuration saved in ../../data-ceph/arguana/argmining22-sharedtask/models//novelty/roberta/checkpoint-550/config.json\n",
      "Model weights saved in ../../data-ceph/arguana/argmining22-sharedtask/models//novelty/roberta/checkpoint-550/pytorch_model.bin\n",
      "The following columns in the evaluation set  don't have a corresponding argument in `RobertaForSequenceClassification.forward` and have been ignored: Novelty-Confidence, Premise, __index_level_0__, Validity, Validity-Confidence, Novelty, topic, row_num, Conclusion, input_txt. If Novelty-Confidence, Premise, __index_level_0__, Validity, Validity-Confidence, Novelty, topic, row_num, Conclusion, input_txt are not expected by `RobertaForSequenceClassification.forward`,  you can safely ignore this message.\n",
      "***** Running Evaluation *****\n",
      "  Num examples = 200\n",
      "  Batch size = 8\n",
      "/usr/local/lib/python3.8/dist-packages/sklearn/metrics/_classification.py:1327: UndefinedMetricWarning: Precision and F-score are ill-defined and being set to 0.0 in labels with no predicted samples. Use `zero_division` parameter to control this behavior.\n",
      "  _warn_prf(average, modifier, msg_start, len(result))\n",
      "Saving model checkpoint to ../../data-ceph/arguana/argmining22-sharedtask/models//novelty/roberta/checkpoint-600\n",
      "Configuration saved in ../../data-ceph/arguana/argmining22-sharedtask/models//novelty/roberta/checkpoint-600/config.json\n",
      "Model weights saved in ../../data-ceph/arguana/argmining22-sharedtask/models//novelty/roberta/checkpoint-600/pytorch_model.bin\n",
      "\n",
      "\n",
      "Training completed. Do not forget to share your model on huggingface.co/models =)\n",
      "\n",
      "\n",
      "Loading best model from ../../data-ceph/arguana/argmining22-sharedtask/models//novelty/roberta/checkpoint-50 (score: 0.37106918238993714).\n"
     ]
    },
    {
     "data": {
      "text/plain": [
       "TrainOutput(global_step=600, training_loss=0.46512770970662437, metrics={'train_runtime': 52.4808, 'train_samples_per_second': 91.462, 'train_steps_per_second': 11.433, 'total_flos': 305101935351360.0, 'train_loss': 0.46512770970662437, 'epoch': 6.67})"
      ]
     },
     "execution_count": 34,
     "metadata": {},
     "output_type": "execute_result"
    }
   ],
   "source": [
    "trainer.train()"
   ]
  },
  {
   "cell_type": "code",
   "execution_count": 35,
   "metadata": {},
   "outputs": [
    {
     "name": "stderr",
     "output_type": "stream",
     "text": [
      "The following columns in the evaluation set  don't have a corresponding argument in `RobertaForSequenceClassification.forward` and have been ignored: Novelty-Confidence, Premise, __index_level_0__, Validity, Validity-Confidence, Novelty, topic, row_num, Conclusion, Topic-in-dev-split, input_txt. If Novelty-Confidence, Premise, __index_level_0__, Validity, Validity-Confidence, Novelty, topic, row_num, Conclusion, Topic-in-dev-split, input_txt are not expected by `RobertaForSequenceClassification.forward`,  you can safely ignore this message.\n",
      "***** Running Evaluation *****\n",
      "  Num examples = 520\n",
      "  Batch size = 8\n"
     ]
    },
    {
     "data": {
      "text/html": [
       "\n",
       "    <div>\n",
       "      \n",
       "      <progress value='65' max='65' style='width:300px; height:20px; vertical-align: middle;'></progress>\n",
       "      [65/65 00:00]\n",
       "    </div>\n",
       "    "
      ],
      "text/plain": [
       "<IPython.core.display.HTML object>"
      ]
     },
     "metadata": {},
     "output_type": "display_data"
    },
    {
     "name": "stderr",
     "output_type": "stream",
     "text": [
      "/usr/local/lib/python3.8/dist-packages/sklearn/metrics/_classification.py:1327: UndefinedMetricWarning: Precision and F-score are ill-defined and being set to 0.0 in labels with no predicted samples. Use `zero_division` parameter to control this behavior.\n",
      "  _warn_prf(average, modifier, msg_start, len(result))\n"
     ]
    },
    {
     "data": {
      "text/plain": [
       "{'eval_loss': 0.9001587629318237,\n",
       " 'eval_recall': 0.5,\n",
       " 'eval_precision': 0.2826923076923077,\n",
       " 'eval_f1': 0.36117936117936117,\n",
       " 'eval_runtime': 0.724,\n",
       " 'eval_samples_per_second': 718.211,\n",
       " 'eval_steps_per_second': 89.776,\n",
       " 'epoch': 6.67}"
      ]
     },
     "execution_count": 35,
     "metadata": {},
     "output_type": "execute_result"
    }
   ],
   "source": [
    "trainer.evaluate(test_dataset)"
   ]
  },
  {
   "cell_type": "markdown",
   "metadata": {},
   "source": [
    "## Fine-tune simple RoBERTa model on the training data for Validity:"
   ]
  },
  {
   "cell_type": "code",
   "execution_count": 36,
   "metadata": {},
   "outputs": [],
   "source": [
    "train_dataset = Dataset.from_pandas(taska_validity_train_df)\n",
    "eval_dataset = Dataset.from_pandas(taska_validity_valid_df)\n",
    "test_dataset = Dataset.from_pandas(taska_validity_test_df)"
   ]
  },
  {
   "cell_type": "code",
   "execution_count": 37,
   "metadata": {},
   "outputs": [
    {
     "data": {
      "application/vnd.jupyter.widget-view+json": {
       "model_id": "ee01fd3726184abca96a9b796e58f7bb",
       "version_major": 2,
       "version_minor": 0
      },
      "text/plain": [
       "  0%|          | 0/1 [00:00<?, ?ba/s]"
      ]
     },
     "metadata": {},
     "output_type": "display_data"
    },
    {
     "data": {
      "application/vnd.jupyter.widget-view+json": {
       "model_id": "e28f55ee526046d69c3cadc439ff5006",
       "version_major": 2,
       "version_minor": 0
      },
      "text/plain": [
       "  0%|          | 0/1 [00:00<?, ?ba/s]"
      ]
     },
     "metadata": {},
     "output_type": "display_data"
    },
    {
     "data": {
      "application/vnd.jupyter.widget-view+json": {
       "model_id": "92c53dce59b745d0a59f91057a7c3064",
       "version_major": 2,
       "version_minor": 0
      },
      "text/plain": [
       "  0%|          | 0/1 [00:00<?, ?ba/s]"
      ]
     },
     "metadata": {},
     "output_type": "display_data"
    }
   ],
   "source": [
    "validity_map = dict([ # avoid negative labels\n",
    "    (\"valid\", 1), \n",
    "    (\"invalid\", 0)\n",
    "])\n",
    "\n",
    "train_dataset = train_dataset.map(preprocess, batched=True)\n",
    "eval_dataset = eval_dataset.map(preprocess, batched=True)\n",
    "test_dataset = test_dataset.map(preprocess, batched=True)"
   ]
  },
  {
   "cell_type": "code",
   "execution_count": 38,
   "metadata": {},
   "outputs": [
    {
     "data": {
      "text/plain": [
       "valid      401\n",
       "invalid    320\n",
       "Name: label, dtype: int64"
      ]
     },
     "execution_count": 38,
     "metadata": {},
     "output_type": "execute_result"
    }
   ],
   "source": [
    "taska_validity_train_df.label.value_counts()"
   ]
  },
  {
   "cell_type": "code",
   "execution_count": 39,
   "metadata": {
    "scrolled": true,
    "tags": []
   },
   "outputs": [
    {
     "name": "stderr",
     "output_type": "stream",
     "text": [
      "loading configuration file https://huggingface.co/roberta-base/resolve/main/config.json from cache at /mnt/ceph/storage/data-tmp/current//sile2804/.cache/huggingface/transformers/733bade19e5f0ce98e6531021dd5180994bb2f7b8bd7e80c7968805834ba351e.35205c6cfc956461d8515139f0f8dd5d207a2f336c0c3a83b4bc8dca3518e37b\n",
      "Model config RobertaConfig {\n",
      "  \"_name_or_path\": \"roberta-base\",\n",
      "  \"architectures\": [\n",
      "    \"RobertaForMaskedLM\"\n",
      "  ],\n",
      "  \"attention_probs_dropout_prob\": 0.1,\n",
      "  \"bos_token_id\": 0,\n",
      "  \"classifier_dropout\": null,\n",
      "  \"eos_token_id\": 2,\n",
      "  \"hidden_act\": \"gelu\",\n",
      "  \"hidden_dropout_prob\": 0.1,\n",
      "  \"hidden_size\": 768,\n",
      "  \"initializer_range\": 0.02,\n",
      "  \"intermediate_size\": 3072,\n",
      "  \"layer_norm_eps\": 1e-05,\n",
      "  \"max_position_embeddings\": 514,\n",
      "  \"model_type\": \"roberta\",\n",
      "  \"num_attention_heads\": 12,\n",
      "  \"num_hidden_layers\": 12,\n",
      "  \"pad_token_id\": 1,\n",
      "  \"position_embedding_type\": \"absolute\",\n",
      "  \"transformers_version\": \"4.18.0\",\n",
      "  \"type_vocab_size\": 1,\n",
      "  \"use_cache\": true,\n",
      "  \"vocab_size\": 50265\n",
      "}\n",
      "\n",
      "loading weights file https://huggingface.co/roberta-base/resolve/main/pytorch_model.bin from cache at /mnt/ceph/storage/data-tmp/current//sile2804/.cache/huggingface/transformers/51ba668f7ff34e7cdfa9561e8361747738113878850a7d717dbc69de8683aaad.c7efaa30a0d80b2958b876969faa180e485944a849deee4ad482332de65365a7\n",
      "Some weights of the model checkpoint at roberta-base were not used when initializing RobertaForSequenceClassification: ['lm_head.layer_norm.bias', 'lm_head.bias', 'lm_head.dense.weight', 'lm_head.decoder.weight', 'roberta.pooler.dense.bias', 'lm_head.dense.bias', 'lm_head.layer_norm.weight', 'roberta.pooler.dense.weight']\n",
      "- This IS expected if you are initializing RobertaForSequenceClassification from the checkpoint of a model trained on another task or with another architecture (e.g. initializing a BertForSequenceClassification model from a BertForPreTraining model).\n",
      "- This IS NOT expected if you are initializing RobertaForSequenceClassification from the checkpoint of a model that you expect to be exactly identical (initializing a BertForSequenceClassification model from a BertForSequenceClassification model).\n",
      "Some weights of RobertaForSequenceClassification were not initialized from the model checkpoint at roberta-base and are newly initialized: ['classifier.dense.weight', 'classifier.dense.bias', 'classifier.out_proj.bias', 'classifier.out_proj.weight']\n",
      "You should probably TRAIN this model on a down-stream task to be able to use it for predictions and inference.\n",
      "PyTorch: setting up devices\n",
      "The default value for the training argument `--report_to` will change in v5 (from all installed integrations to none). In v5, you will need to use `--report_to all` to get the same behavior as now. You should start updating your code and make this info disappear :-).\n",
      "max_steps is given, it will override any value given in num_train_epochs\n"
     ]
    }
   ],
   "source": [
    "bert_model     = AutoModelForSequenceClassification.from_pretrained('roberta-base', num_labels=2)\n",
    "\n",
    "training_args = TrainingArguments(\n",
    "    output_dir= output_path + \"/validity/roberta\", \n",
    "    #report_to=\"wandb\",\n",
    "    logging_dir='/var/argmining-sharedtask/roberta-baseline-validity',\n",
    "    overwrite_output_dir=True,\n",
    "    metric_for_best_model = 'f1',\n",
    "    evaluation_strategy = 'steps',          # check evaluation metrics at each epoch\n",
    "    learning_rate = 5e-6,                   # we can customize learning rate\n",
    "    max_steps = 600,\n",
    "    logging_steps = 50,                    # we will log every 50 steps which is an epoch given the 700 examples and 16 batch size\n",
    "    eval_steps = 50,                      # we will perform evaluation every 500 steps\n",
    "    save_steps = 50,\n",
    "    load_best_model_at_end = True,\n",
    ")\n",
    "\n",
    "trainer = Trainer(\n",
    "    model=bert_model,\n",
    "    args=training_args,\n",
    "    train_dataset=train_dataset,\n",
    "    eval_dataset=eval_dataset,\n",
    "    compute_metrics=lambda x: compute_metrics(x, average='macro')\n",
    ")"
   ]
  },
  {
   "cell_type": "code",
   "execution_count": 40,
   "metadata": {
    "scrolled": true,
    "tags": []
   },
   "outputs": [
    {
     "name": "stderr",
     "output_type": "stream",
     "text": [
      "The following columns in the training set  don't have a corresponding argument in `RobertaForSequenceClassification.forward` and have been ignored: Novelty-Confidence, Premise, __index_level_0__, Validity, Validity-Confidence, Novelty, topic, row_num, Conclusion, input_txt. If Novelty-Confidence, Premise, __index_level_0__, Validity, Validity-Confidence, Novelty, topic, row_num, Conclusion, input_txt are not expected by `RobertaForSequenceClassification.forward`,  you can safely ignore this message.\n",
      "/usr/local/lib/python3.8/dist-packages/transformers/optimization.py:306: FutureWarning: This implementation of AdamW is deprecated and will be removed in a future version. Use the PyTorch implementation torch.optim.AdamW instead, or set `no_deprecation_warning=True` to disable this warning\n",
      "  warnings.warn(\n",
      "***** Running training *****\n",
      "  Num examples = 721\n",
      "  Num Epochs = 7\n",
      "  Instantaneous batch size per device = 8\n",
      "  Total train batch size (w. parallel, distributed & accumulation) = 8\n",
      "  Gradient Accumulation steps = 1\n",
      "  Total optimization steps = 600\n",
      "Automatic Weights & Biases logging enabled, to disable set os.environ[\"WANDB_DISABLED\"] = \"true\"\n"
     ]
    },
    {
     "data": {
      "text/html": [
       "\n",
       "    <div>\n",
       "      \n",
       "      <progress value='600' max='600' style='width:300px; height:20px; vertical-align: middle;'></progress>\n",
       "      [600/600 00:53, Epoch 6/7]\n",
       "    </div>\n",
       "    <table border=\"1\" class=\"dataframe\">\n",
       "  <thead>\n",
       " <tr style=\"text-align: left;\">\n",
       "      <th>Step</th>\n",
       "      <th>Training Loss</th>\n",
       "      <th>Validation Loss</th>\n",
       "      <th>Recall</th>\n",
       "      <th>Precision</th>\n",
       "      <th>F1</th>\n",
       "    </tr>\n",
       "  </thead>\n",
       "  <tbody>\n",
       "    <tr>\n",
       "      <td>50</td>\n",
       "      <td>0.680700</td>\n",
       "      <td>0.668967</td>\n",
       "      <td>0.500000</td>\n",
       "      <td>0.314070</td>\n",
       "      <td>0.385802</td>\n",
       "    </tr>\n",
       "    <tr>\n",
       "      <td>100</td>\n",
       "      <td>0.683100</td>\n",
       "      <td>0.672886</td>\n",
       "      <td>0.500000</td>\n",
       "      <td>0.314070</td>\n",
       "      <td>0.385802</td>\n",
       "    </tr>\n",
       "    <tr>\n",
       "      <td>150</td>\n",
       "      <td>0.694200</td>\n",
       "      <td>0.668910</td>\n",
       "      <td>0.500000</td>\n",
       "      <td>0.314070</td>\n",
       "      <td>0.385802</td>\n",
       "    </tr>\n",
       "    <tr>\n",
       "      <td>200</td>\n",
       "      <td>0.680500</td>\n",
       "      <td>0.662388</td>\n",
       "      <td>0.500000</td>\n",
       "      <td>0.314070</td>\n",
       "      <td>0.385802</td>\n",
       "    </tr>\n",
       "    <tr>\n",
       "      <td>250</td>\n",
       "      <td>0.643500</td>\n",
       "      <td>0.640338</td>\n",
       "      <td>0.527297</td>\n",
       "      <td>0.612522</td>\n",
       "      <td>0.466011</td>\n",
       "    </tr>\n",
       "    <tr>\n",
       "      <td>300</td>\n",
       "      <td>0.592700</td>\n",
       "      <td>0.597025</td>\n",
       "      <td>0.603135</td>\n",
       "      <td>0.699248</td>\n",
       "      <td>0.591349</td>\n",
       "    </tr>\n",
       "    <tr>\n",
       "      <td>350</td>\n",
       "      <td>0.492400</td>\n",
       "      <td>0.640004</td>\n",
       "      <td>0.605892</td>\n",
       "      <td>0.693195</td>\n",
       "      <td>0.596481</td>\n",
       "    </tr>\n",
       "    <tr>\n",
       "      <td>400</td>\n",
       "      <td>0.514800</td>\n",
       "      <td>0.663460</td>\n",
       "      <td>0.559568</td>\n",
       "      <td>0.745544</td>\n",
       "      <td>0.510510</td>\n",
       "    </tr>\n",
       "    <tr>\n",
       "      <td>450</td>\n",
       "      <td>0.448000</td>\n",
       "      <td>0.610603</td>\n",
       "      <td>0.607405</td>\n",
       "      <td>0.673084</td>\n",
       "      <td>0.602013</td>\n",
       "    </tr>\n",
       "    <tr>\n",
       "      <td>500</td>\n",
       "      <td>0.489400</td>\n",
       "      <td>0.642097</td>\n",
       "      <td>0.578865</td>\n",
       "      <td>0.662183</td>\n",
       "      <td>0.559262</td>\n",
       "    </tr>\n",
       "    <tr>\n",
       "      <td>550</td>\n",
       "      <td>0.416700</td>\n",
       "      <td>0.636004</td>\n",
       "      <td>0.578865</td>\n",
       "      <td>0.662183</td>\n",
       "      <td>0.559262</td>\n",
       "    </tr>\n",
       "    <tr>\n",
       "      <td>600</td>\n",
       "      <td>0.452300</td>\n",
       "      <td>0.659207</td>\n",
       "      <td>0.577351</td>\n",
       "      <td>0.691413</td>\n",
       "      <td>0.550634</td>\n",
       "    </tr>\n",
       "  </tbody>\n",
       "</table><p>"
      ],
      "text/plain": [
       "<IPython.core.display.HTML object>"
      ]
     },
     "metadata": {},
     "output_type": "display_data"
    },
    {
     "name": "stderr",
     "output_type": "stream",
     "text": [
      "The following columns in the evaluation set  don't have a corresponding argument in `RobertaForSequenceClassification.forward` and have been ignored: Novelty-Confidence, Premise, __index_level_0__, Validity, Validity-Confidence, Novelty, topic, row_num, Conclusion, input_txt. If Novelty-Confidence, Premise, __index_level_0__, Validity, Validity-Confidence, Novelty, topic, row_num, Conclusion, input_txt are not expected by `RobertaForSequenceClassification.forward`,  you can safely ignore this message.\n",
      "***** Running Evaluation *****\n",
      "  Num examples = 199\n",
      "  Batch size = 8\n",
      "/usr/local/lib/python3.8/dist-packages/sklearn/metrics/_classification.py:1327: UndefinedMetricWarning: Precision and F-score are ill-defined and being set to 0.0 in labels with no predicted samples. Use `zero_division` parameter to control this behavior.\n",
      "  _warn_prf(average, modifier, msg_start, len(result))\n",
      "Saving model checkpoint to ../../data-ceph/arguana/argmining22-sharedtask/models//validity/roberta/checkpoint-50\n",
      "Configuration saved in ../../data-ceph/arguana/argmining22-sharedtask/models//validity/roberta/checkpoint-50/config.json\n",
      "Model weights saved in ../../data-ceph/arguana/argmining22-sharedtask/models//validity/roberta/checkpoint-50/pytorch_model.bin\n",
      "The following columns in the evaluation set  don't have a corresponding argument in `RobertaForSequenceClassification.forward` and have been ignored: Novelty-Confidence, Premise, __index_level_0__, Validity, Validity-Confidence, Novelty, topic, row_num, Conclusion, input_txt. If Novelty-Confidence, Premise, __index_level_0__, Validity, Validity-Confidence, Novelty, topic, row_num, Conclusion, input_txt are not expected by `RobertaForSequenceClassification.forward`,  you can safely ignore this message.\n",
      "***** Running Evaluation *****\n",
      "  Num examples = 199\n",
      "  Batch size = 8\n",
      "/usr/local/lib/python3.8/dist-packages/sklearn/metrics/_classification.py:1327: UndefinedMetricWarning: Precision and F-score are ill-defined and being set to 0.0 in labels with no predicted samples. Use `zero_division` parameter to control this behavior.\n",
      "  _warn_prf(average, modifier, msg_start, len(result))\n",
      "Saving model checkpoint to ../../data-ceph/arguana/argmining22-sharedtask/models//validity/roberta/checkpoint-100\n",
      "Configuration saved in ../../data-ceph/arguana/argmining22-sharedtask/models//validity/roberta/checkpoint-100/config.json\n",
      "Model weights saved in ../../data-ceph/arguana/argmining22-sharedtask/models//validity/roberta/checkpoint-100/pytorch_model.bin\n",
      "The following columns in the evaluation set  don't have a corresponding argument in `RobertaForSequenceClassification.forward` and have been ignored: Novelty-Confidence, Premise, __index_level_0__, Validity, Validity-Confidence, Novelty, topic, row_num, Conclusion, input_txt. If Novelty-Confidence, Premise, __index_level_0__, Validity, Validity-Confidence, Novelty, topic, row_num, Conclusion, input_txt are not expected by `RobertaForSequenceClassification.forward`,  you can safely ignore this message.\n",
      "***** Running Evaluation *****\n",
      "  Num examples = 199\n",
      "  Batch size = 8\n",
      "/usr/local/lib/python3.8/dist-packages/sklearn/metrics/_classification.py:1327: UndefinedMetricWarning: Precision and F-score are ill-defined and being set to 0.0 in labels with no predicted samples. Use `zero_division` parameter to control this behavior.\n",
      "  _warn_prf(average, modifier, msg_start, len(result))\n",
      "Saving model checkpoint to ../../data-ceph/arguana/argmining22-sharedtask/models//validity/roberta/checkpoint-150\n",
      "Configuration saved in ../../data-ceph/arguana/argmining22-sharedtask/models//validity/roberta/checkpoint-150/config.json\n",
      "Model weights saved in ../../data-ceph/arguana/argmining22-sharedtask/models//validity/roberta/checkpoint-150/pytorch_model.bin\n",
      "The following columns in the evaluation set  don't have a corresponding argument in `RobertaForSequenceClassification.forward` and have been ignored: Novelty-Confidence, Premise, __index_level_0__, Validity, Validity-Confidence, Novelty, topic, row_num, Conclusion, input_txt. If Novelty-Confidence, Premise, __index_level_0__, Validity, Validity-Confidence, Novelty, topic, row_num, Conclusion, input_txt are not expected by `RobertaForSequenceClassification.forward`,  you can safely ignore this message.\n",
      "***** Running Evaluation *****\n",
      "  Num examples = 199\n",
      "  Batch size = 8\n",
      "/usr/local/lib/python3.8/dist-packages/sklearn/metrics/_classification.py:1327: UndefinedMetricWarning: Precision and F-score are ill-defined and being set to 0.0 in labels with no predicted samples. Use `zero_division` parameter to control this behavior.\n",
      "  _warn_prf(average, modifier, msg_start, len(result))\n",
      "Saving model checkpoint to ../../data-ceph/arguana/argmining22-sharedtask/models//validity/roberta/checkpoint-200\n",
      "Configuration saved in ../../data-ceph/arguana/argmining22-sharedtask/models//validity/roberta/checkpoint-200/config.json\n",
      "Model weights saved in ../../data-ceph/arguana/argmining22-sharedtask/models//validity/roberta/checkpoint-200/pytorch_model.bin\n",
      "The following columns in the evaluation set  don't have a corresponding argument in `RobertaForSequenceClassification.forward` and have been ignored: Novelty-Confidence, Premise, __index_level_0__, Validity, Validity-Confidence, Novelty, topic, row_num, Conclusion, input_txt. If Novelty-Confidence, Premise, __index_level_0__, Validity, Validity-Confidence, Novelty, topic, row_num, Conclusion, input_txt are not expected by `RobertaForSequenceClassification.forward`,  you can safely ignore this message.\n",
      "***** Running Evaluation *****\n",
      "  Num examples = 199\n",
      "  Batch size = 8\n",
      "Saving model checkpoint to ../../data-ceph/arguana/argmining22-sharedtask/models//validity/roberta/checkpoint-250\n",
      "Configuration saved in ../../data-ceph/arguana/argmining22-sharedtask/models//validity/roberta/checkpoint-250/config.json\n",
      "Model weights saved in ../../data-ceph/arguana/argmining22-sharedtask/models//validity/roberta/checkpoint-250/pytorch_model.bin\n",
      "The following columns in the evaluation set  don't have a corresponding argument in `RobertaForSequenceClassification.forward` and have been ignored: Novelty-Confidence, Premise, __index_level_0__, Validity, Validity-Confidence, Novelty, topic, row_num, Conclusion, input_txt. If Novelty-Confidence, Premise, __index_level_0__, Validity, Validity-Confidence, Novelty, topic, row_num, Conclusion, input_txt are not expected by `RobertaForSequenceClassification.forward`,  you can safely ignore this message.\n",
      "***** Running Evaluation *****\n",
      "  Num examples = 199\n",
      "  Batch size = 8\n",
      "Saving model checkpoint to ../../data-ceph/arguana/argmining22-sharedtask/models//validity/roberta/checkpoint-300\n",
      "Configuration saved in ../../data-ceph/arguana/argmining22-sharedtask/models//validity/roberta/checkpoint-300/config.json\n",
      "Model weights saved in ../../data-ceph/arguana/argmining22-sharedtask/models//validity/roberta/checkpoint-300/pytorch_model.bin\n",
      "The following columns in the evaluation set  don't have a corresponding argument in `RobertaForSequenceClassification.forward` and have been ignored: Novelty-Confidence, Premise, __index_level_0__, Validity, Validity-Confidence, Novelty, topic, row_num, Conclusion, input_txt. If Novelty-Confidence, Premise, __index_level_0__, Validity, Validity-Confidence, Novelty, topic, row_num, Conclusion, input_txt are not expected by `RobertaForSequenceClassification.forward`,  you can safely ignore this message.\n",
      "***** Running Evaluation *****\n",
      "  Num examples = 199\n",
      "  Batch size = 8\n",
      "Saving model checkpoint to ../../data-ceph/arguana/argmining22-sharedtask/models//validity/roberta/checkpoint-350\n",
      "Configuration saved in ../../data-ceph/arguana/argmining22-sharedtask/models//validity/roberta/checkpoint-350/config.json\n",
      "Model weights saved in ../../data-ceph/arguana/argmining22-sharedtask/models//validity/roberta/checkpoint-350/pytorch_model.bin\n",
      "The following columns in the evaluation set  don't have a corresponding argument in `RobertaForSequenceClassification.forward` and have been ignored: Novelty-Confidence, Premise, __index_level_0__, Validity, Validity-Confidence, Novelty, topic, row_num, Conclusion, input_txt. If Novelty-Confidence, Premise, __index_level_0__, Validity, Validity-Confidence, Novelty, topic, row_num, Conclusion, input_txt are not expected by `RobertaForSequenceClassification.forward`,  you can safely ignore this message.\n",
      "***** Running Evaluation *****\n",
      "  Num examples = 199\n",
      "  Batch size = 8\n",
      "Saving model checkpoint to ../../data-ceph/arguana/argmining22-sharedtask/models//validity/roberta/checkpoint-400\n",
      "Configuration saved in ../../data-ceph/arguana/argmining22-sharedtask/models//validity/roberta/checkpoint-400/config.json\n",
      "Model weights saved in ../../data-ceph/arguana/argmining22-sharedtask/models//validity/roberta/checkpoint-400/pytorch_model.bin\n",
      "The following columns in the evaluation set  don't have a corresponding argument in `RobertaForSequenceClassification.forward` and have been ignored: Novelty-Confidence, Premise, __index_level_0__, Validity, Validity-Confidence, Novelty, topic, row_num, Conclusion, input_txt. If Novelty-Confidence, Premise, __index_level_0__, Validity, Validity-Confidence, Novelty, topic, row_num, Conclusion, input_txt are not expected by `RobertaForSequenceClassification.forward`,  you can safely ignore this message.\n",
      "***** Running Evaluation *****\n",
      "  Num examples = 199\n",
      "  Batch size = 8\n",
      "Saving model checkpoint to ../../data-ceph/arguana/argmining22-sharedtask/models//validity/roberta/checkpoint-450\n",
      "Configuration saved in ../../data-ceph/arguana/argmining22-sharedtask/models//validity/roberta/checkpoint-450/config.json\n",
      "Model weights saved in ../../data-ceph/arguana/argmining22-sharedtask/models//validity/roberta/checkpoint-450/pytorch_model.bin\n",
      "The following columns in the evaluation set  don't have a corresponding argument in `RobertaForSequenceClassification.forward` and have been ignored: Novelty-Confidence, Premise, __index_level_0__, Validity, Validity-Confidence, Novelty, topic, row_num, Conclusion, input_txt. If Novelty-Confidence, Premise, __index_level_0__, Validity, Validity-Confidence, Novelty, topic, row_num, Conclusion, input_txt are not expected by `RobertaForSequenceClassification.forward`,  you can safely ignore this message.\n",
      "***** Running Evaluation *****\n",
      "  Num examples = 199\n",
      "  Batch size = 8\n",
      "Saving model checkpoint to ../../data-ceph/arguana/argmining22-sharedtask/models//validity/roberta/checkpoint-500\n",
      "Configuration saved in ../../data-ceph/arguana/argmining22-sharedtask/models//validity/roberta/checkpoint-500/config.json\n",
      "Model weights saved in ../../data-ceph/arguana/argmining22-sharedtask/models//validity/roberta/checkpoint-500/pytorch_model.bin\n",
      "The following columns in the evaluation set  don't have a corresponding argument in `RobertaForSequenceClassification.forward` and have been ignored: Novelty-Confidence, Premise, __index_level_0__, Validity, Validity-Confidence, Novelty, topic, row_num, Conclusion, input_txt. If Novelty-Confidence, Premise, __index_level_0__, Validity, Validity-Confidence, Novelty, topic, row_num, Conclusion, input_txt are not expected by `RobertaForSequenceClassification.forward`,  you can safely ignore this message.\n",
      "***** Running Evaluation *****\n",
      "  Num examples = 199\n",
      "  Batch size = 8\n",
      "Saving model checkpoint to ../../data-ceph/arguana/argmining22-sharedtask/models//validity/roberta/checkpoint-550\n",
      "Configuration saved in ../../data-ceph/arguana/argmining22-sharedtask/models//validity/roberta/checkpoint-550/config.json\n",
      "Model weights saved in ../../data-ceph/arguana/argmining22-sharedtask/models//validity/roberta/checkpoint-550/pytorch_model.bin\n",
      "The following columns in the evaluation set  don't have a corresponding argument in `RobertaForSequenceClassification.forward` and have been ignored: Novelty-Confidence, Premise, __index_level_0__, Validity, Validity-Confidence, Novelty, topic, row_num, Conclusion, input_txt. If Novelty-Confidence, Premise, __index_level_0__, Validity, Validity-Confidence, Novelty, topic, row_num, Conclusion, input_txt are not expected by `RobertaForSequenceClassification.forward`,  you can safely ignore this message.\n",
      "***** Running Evaluation *****\n",
      "  Num examples = 199\n",
      "  Batch size = 8\n",
      "Saving model checkpoint to ../../data-ceph/arguana/argmining22-sharedtask/models//validity/roberta/checkpoint-600\n",
      "Configuration saved in ../../data-ceph/arguana/argmining22-sharedtask/models//validity/roberta/checkpoint-600/config.json\n",
      "Model weights saved in ../../data-ceph/arguana/argmining22-sharedtask/models//validity/roberta/checkpoint-600/pytorch_model.bin\n",
      "\n",
      "\n",
      "Training completed. Do not forget to share your model on huggingface.co/models =)\n",
      "\n",
      "\n",
      "Loading best model from ../../data-ceph/arguana/argmining22-sharedtask/models//validity/roberta/checkpoint-450 (score: 0.6020126345195391).\n"
     ]
    },
    {
     "data": {
      "text/plain": [
       "TrainOutput(global_step=600, training_loss=0.5656990305582682, metrics={'train_runtime': 53.7578, 'train_samples_per_second': 89.289, 'train_steps_per_second': 11.161, 'total_flos': 303190269089760.0, 'train_loss': 0.5656990305582682, 'epoch': 6.59})"
      ]
     },
     "execution_count": 40,
     "metadata": {},
     "output_type": "execute_result"
    }
   ],
   "source": [
    "trainer.train()"
   ]
  },
  {
   "cell_type": "code",
   "execution_count": 41,
   "metadata": {},
   "outputs": [
    {
     "name": "stderr",
     "output_type": "stream",
     "text": [
      "The following columns in the evaluation set  don't have a corresponding argument in `RobertaForSequenceClassification.forward` and have been ignored: Novelty-Confidence, Premise, __index_level_0__, Validity, Validity-Confidence, Novelty, topic, row_num, Conclusion, Topic-in-dev-split, input_txt. If Novelty-Confidence, Premise, __index_level_0__, Validity, Validity-Confidence, Novelty, topic, row_num, Conclusion, Topic-in-dev-split, input_txt are not expected by `RobertaForSequenceClassification.forward`,  you can safely ignore this message.\n",
      "***** Running Evaluation *****\n",
      "  Num examples = 520\n",
      "  Batch size = 8\n"
     ]
    },
    {
     "data": {
      "text/html": [
       "\n",
       "    <div>\n",
       "      \n",
       "      <progress value='65' max='65' style='width:300px; height:20px; vertical-align: middle;'></progress>\n",
       "      [65/65 00:00]\n",
       "    </div>\n",
       "    "
      ],
      "text/plain": [
       "<IPython.core.display.HTML object>"
      ]
     },
     "metadata": {},
     "output_type": "display_data"
    },
    {
     "data": {
      "text/plain": [
       "{'eval_loss': 0.6971383094787598,\n",
       " 'eval_recall': 0.5998392183538434,\n",
       " 'eval_precision': 0.6395298591305851,\n",
       " 'eval_f1': 0.59375,\n",
       " 'eval_runtime': 0.7225,\n",
       " 'eval_samples_per_second': 719.766,\n",
       " 'eval_steps_per_second': 89.971,\n",
       " 'epoch': 6.59}"
      ]
     },
     "execution_count": 41,
     "metadata": {},
     "output_type": "execute_result"
    }
   ],
   "source": [
    "trainer.evaluate(test_dataset)"
   ]
  },
  {
   "cell_type": "code",
   "execution_count": null,
   "metadata": {},
   "outputs": [],
   "source": []
  }
 ],
 "metadata": {
  "kernelspec": {
   "display_name": "Python 3",
   "language": "python",
   "name": "python3"
  },
  "language_info": {
   "codemirror_mode": {
    "name": "ipython",
    "version": 3
   },
   "file_extension": ".py",
   "mimetype": "text/x-python",
   "name": "python",
   "nbconvert_exporter": "python",
   "pygments_lexer": "ipython3",
   "version": "3.8.10"
  }
 },
 "nbformat": 4,
 "nbformat_minor": 4
}
