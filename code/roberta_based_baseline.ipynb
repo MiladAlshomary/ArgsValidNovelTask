{
 "cells": [
  {
   "cell_type": "code",
   "execution_count": 1,
   "metadata": {},
   "outputs": [],
   "source": [
    "import json\n",
    "import pandas as pd\n",
    "import numpy as np\n",
    "import sys\n",
    "\n",
    "pd.set_option('display.max_colwidth', None)\n",
    "sys.path.append('./src-py')"
   ]
  },
  {
   "cell_type": "code",
   "execution_count": 2,
   "metadata": {},
   "outputs": [],
   "source": [
    "import sbert_training\n",
    "from utils import *"
   ]
  },
  {
   "cell_type": "code",
   "execution_count": 3,
   "metadata": {},
   "outputs": [],
   "source": [
    "from datasets import load_dataset, load_metric, Dataset, Split\n",
    "from transformers import AutoModelForSeq2SeqLM, DataCollatorForSeq2Seq, Seq2SeqTrainingArguments, Seq2SeqTrainer, AutoTokenizer, AutoModelForSequenceClassification, TextClassificationPipeline, DebertaForSequenceClassification\n",
    "from transformers import TrainingArguments, Trainer\n",
    "import wandb\n",
    "import torch\n",
    "from tqdm import tqdm\n",
    "\n",
    "from imblearn.over_sampling import RandomOverSampler\n",
    "ros = RandomOverSampler(random_state=123)"
   ]
  },
  {
   "cell_type": "code",
   "execution_count": 4,
   "metadata": {},
   "outputs": [],
   "source": [
    "output_path = \"../../data-ceph/arguana/argmining22-sharedtask/models/\""
   ]
  },
  {
   "cell_type": "code",
   "execution_count": 5,
   "metadata": {},
   "outputs": [],
   "source": [
    "taska_training_df = pd.read_csv('../data/TaskA_train.csv')\n",
    "taska_valid_df    = pd.read_csv('../data/TaskA_dev.csv')\n",
    "taska_test_df     = pd.read_csv('../data/TaskA_test.csv') #Replace this with the path to the test file\n",
    "\n",
    "taska_training_df.insert(loc=0,column='row_num',value=np.arange(len(taska_training_df)))\n",
    "taska_valid_df.insert(loc=0,column='row_num',value=np.arange(len(taska_valid_df)))\n",
    "taska_test_df.insert(loc=0,column='row_num',value=np.arange(len(taska_test_df)))\n",
    "\n",
    "#The </s></s>  is the separator used in the pre-trained nli model..\n",
    "taska_training_df['input_txt'] = taska_training_df.apply(lambda x: '{}:{}  </s></s> {} '.format(x['topic'], x['Premise'], x['Conclusion']), axis=1)\n",
    "taska_valid_df['input_txt']    = taska_valid_df.apply(lambda x: '{}:{} </s></s> {}'.format(x['topic'], x['Premise'], x['Conclusion']), axis=1)\n",
    "taska_test_df['input_txt']     = taska_test_df.apply(lambda x: '{}:{} </s></s> {}'.format(x['topic'], x['Premise'], x['Conclusion']), axis=1)\n",
    "\n",
    "taska_validity_train_df = taska_training_df[taska_training_df.Validity != 0].copy()\n",
    "taska_validity_valid_df = taska_valid_df[taska_valid_df.Validity != 0].copy()\n",
    "taska_validity_test_df  = taska_test_df[taska_test_df.Validity != 0].copy()\n",
    "\n",
    "taska_validity_train_df['label'] = taska_validity_train_df.Validity.apply(lambda x : \"valid\" if x == 1 else \"invalid\")\n",
    "taska_validity_valid_df['label'] = taska_validity_valid_df.Validity.apply(lambda x : \"valid\" if x == 1 else \"invalid\")\n",
    "taska_validity_test_df['label']  = taska_validity_test_df.Validity.apply(lambda x  : \"valid\" if x == 1 else \"invalid\")\n",
    "\n",
    "\n",
    "taska_novelty_train_df = taska_training_df[taska_training_df.Novelty != 0].copy()\n",
    "taska_novelty_valid_df = taska_valid_df[taska_valid_df.Novelty != 0].copy()\n",
    "taska_novelty_test_df  = taska_test_df[taska_test_df.Novelty != 0].copy()\n",
    "\n",
    "#Balancing the data for novelty task..\n",
    "taska_novelty_train_balanced_df, y = ros.fit_resample(taska_novelty_train_df, taska_novelty_train_df['Novelty'])\n",
    "taska_novelty_train_balanced_df['Novelty'] = y\n",
    "\n",
    "taska_novelty_train_df['label'] = taska_novelty_train_df.Novelty.apply(lambda x : \"novel\" if x == 1 else \"conservative\")\n",
    "taska_novelty_train_balanced_df['label'] = taska_novelty_train_balanced_df.Novelty.apply(lambda x : \"novel\" if x == 1 else \"conservative\")\n",
    "taska_novelty_valid_df['label'] = taska_novelty_valid_df.Novelty.apply(lambda x : \"novel\" if x == 1 else \"conservative\")\n",
    "taska_novelty_test_df['label']  = taska_novelty_test_df.Novelty.apply(lambda x  : \"novel\" if x == 1 else \"conservative\")"
   ]
  },
  {
   "cell_type": "markdown",
   "metadata": {
    "tags": []
   },
   "source": [
    "## Fine-tune simple RoBERTa model on the training data for Novelty:"
   ]
  },
  {
   "cell_type": "code",
   "execution_count": 6,
   "metadata": {
    "scrolled": true,
    "tags": []
   },
   "outputs": [],
   "source": [
    "bert_tokenizer = AutoTokenizer.from_pretrained('roberta-base')"
   ]
  },
  {
   "cell_type": "code",
   "execution_count": 7,
   "metadata": {},
   "outputs": [
    {
     "data": {
      "text/plain": [
       "Index(['row_num', 'topic', 'Premise', 'Conclusion', 'Validity',\n",
       "       'Validity-Confidence', 'Novelty', 'Novelty-Confidence', 'input_txt',\n",
       "       'label'],\n",
       "      dtype='object')"
      ]
     },
     "execution_count": 7,
     "metadata": {},
     "output_type": "execute_result"
    }
   ],
   "source": [
    "taska_novelty_train_df.columns"
   ]
  },
  {
   "cell_type": "code",
   "execution_count": 8,
   "metadata": {},
   "outputs": [
    {
     "data": {
      "text/plain": [
       "-1    595\n",
       " 1    123\n",
       "Name: Novelty, dtype: int64"
      ]
     },
     "execution_count": 8,
     "metadata": {},
     "output_type": "execute_result"
    }
   ],
   "source": [
    "taska_novelty_train_df.Novelty.value_counts()"
   ]
  },
  {
   "cell_type": "code",
   "execution_count": 9,
   "metadata": {},
   "outputs": [],
   "source": [
    "validity_map = dict([ # avoid negative labels\n",
    "    (\"novel\", 1), \n",
    "    (\"conservative\", 0)\n",
    "])"
   ]
  },
  {
   "cell_type": "code",
   "execution_count": 10,
   "metadata": {},
   "outputs": [],
   "source": [
    "#train_dataset = Dataset.from_pandas(taska_novelty_train_df)\n",
    "train_dataset = Dataset.from_pandas(taska_novelty_train_balanced_df)\n",
    "eval_dataset = Dataset.from_pandas(taska_novelty_valid_df)\n",
    "test_dataset = Dataset.from_pandas(taska_novelty_test_df)"
   ]
  },
  {
   "cell_type": "code",
   "execution_count": 11,
   "metadata": {},
   "outputs": [],
   "source": [
    "def preprocess(example):\n",
    "    inputs = bert_tokenizer(example[\"input_txt\"], add_special_tokens=False, padding=True, truncation=True, max_length=512)\n",
    "    inputs['label'] = list(map(validity_map.get, example['label']))\n",
    "    return inputs"
   ]
  },
  {
   "cell_type": "code",
   "execution_count": 12,
   "metadata": {},
   "outputs": [
    {
     "name": "stdout",
     "output_type": "stream",
     "text": [
      "2022-08-23 16:56:36 - Parameter 'function'=<function preprocess at 0x7f54ddf91f70> of the transform datasets.arrow_dataset.Dataset._map_single couldn't be hashed properly, a random hash was used instead. Make sure your transforms and parameters are serializable with pickle or dill for the dataset fingerprinting and caching to work. If you reuse this transform, the caching mechanism will consider it to be different from the previous calls and recompute everything. This warning is only showed once. Subsequent hashing failures won't be showed.\n"
     ]
    },
    {
     "data": {
      "application/vnd.jupyter.widget-view+json": {
       "model_id": "792371a2cceb41cbb2e540aa279d406a",
       "version_major": 2,
       "version_minor": 0
      },
      "text/plain": [
       "  0%|          | 0/2 [00:00<?, ?ba/s]"
      ]
     },
     "metadata": {},
     "output_type": "display_data"
    },
    {
     "data": {
      "application/vnd.jupyter.widget-view+json": {
       "model_id": "6c060f2e7d08430f88e165f6815d8003",
       "version_major": 2,
       "version_minor": 0
      },
      "text/plain": [
       "  0%|          | 0/1 [00:00<?, ?ba/s]"
      ]
     },
     "metadata": {},
     "output_type": "display_data"
    },
    {
     "data": {
      "application/vnd.jupyter.widget-view+json": {
       "model_id": "bc61e1058f3a4b8a84ca99247bc5d401",
       "version_major": 2,
       "version_minor": 0
      },
      "text/plain": [
       "  0%|          | 0/1 [00:00<?, ?ba/s]"
      ]
     },
     "metadata": {},
     "output_type": "display_data"
    }
   ],
   "source": [
    "train_dataset = train_dataset.map(preprocess, batched=True)\n",
    "eval_dataset = eval_dataset.map(preprocess, batched=True)\n",
    "test_dataset = test_dataset.map(preprocess, batched=True)"
   ]
  },
  {
   "cell_type": "code",
   "execution_count": 13,
   "metadata": {},
   "outputs": [
    {
     "data": {
      "text/plain": [
       " 1    595\n",
       "-1    595\n",
       "Name: Novelty, dtype: int64"
      ]
     },
     "execution_count": 13,
     "metadata": {},
     "output_type": "execute_result"
    }
   ],
   "source": [
    "taska_novelty_train_balanced_df.Novelty.value_counts()"
   ]
  },
  {
   "cell_type": "code",
   "execution_count": 14,
   "metadata": {
    "scrolled": true,
    "tags": []
   },
   "outputs": [
    {
     "name": "stderr",
     "output_type": "stream",
     "text": [
      "Some weights of the model checkpoint at roberta-base were not used when initializing RobertaForSequenceClassification: ['roberta.pooler.dense.bias', 'lm_head.layer_norm.weight', 'roberta.pooler.dense.weight', 'lm_head.dense.bias', 'lm_head.bias', 'lm_head.layer_norm.bias', 'lm_head.dense.weight', 'lm_head.decoder.weight']\n",
      "- This IS expected if you are initializing RobertaForSequenceClassification from the checkpoint of a model trained on another task or with another architecture (e.g. initializing a BertForSequenceClassification model from a BertForPreTraining model).\n",
      "- This IS NOT expected if you are initializing RobertaForSequenceClassification from the checkpoint of a model that you expect to be exactly identical (initializing a BertForSequenceClassification model from a BertForSequenceClassification model).\n",
      "Some weights of RobertaForSequenceClassification were not initialized from the model checkpoint at roberta-base and are newly initialized: ['classifier.out_proj.weight', 'classifier.dense.bias', 'classifier.dense.weight', 'classifier.out_proj.bias']\n",
      "You should probably TRAIN this model on a down-stream task to be able to use it for predictions and inference.\n",
      "max_steps is given, it will override any value given in num_train_epochs\n"
     ]
    }
   ],
   "source": [
    "bert_model     = AutoModelForSequenceClassification.from_pretrained('roberta-base', num_labels=2)\n",
    "\n",
    "training_args = TrainingArguments(\n",
    "    output_dir= output_path + \"/novelty/roberta\", \n",
    "    #report_to=\"wandb\",\n",
    "    logging_dir='/var/argmining-sharedtask/roberta-baseline-novelty',\n",
    "    overwrite_output_dir=True,\n",
    "    metric_for_best_model = 'f1',\n",
    "    evaluation_strategy = 'steps',          # check evaluation metrics at each epoch\n",
    "    learning_rate = 5e-6,                   # we can customize learning rate\n",
    "    max_steps = 600,\n",
    "    logging_steps = 50,                    # we will log every 50 steps which is an epoch given the 700 examples and 16 batch size\n",
    "    eval_steps = 50,                      # we will perform evaluation every 500 steps\n",
    "    save_steps = 50,\n",
    "    load_best_model_at_end = True,\n",
    ")\n",
    "\n",
    "trainer = Trainer(\n",
    "    model=bert_model,\n",
    "    args=training_args,\n",
    "    train_dataset=train_dataset,\n",
    "    eval_dataset=eval_dataset,\n",
    "    compute_metrics=lambda x: compute_metrics(x, average='macro')\n",
    ")"
   ]
  },
  {
   "cell_type": "code",
   "execution_count": 15,
   "metadata": {
    "scrolled": true,
    "tags": []
   },
   "outputs": [
    {
     "name": "stderr",
     "output_type": "stream",
     "text": [
      "The following columns in the training set  don't have a corresponding argument in `RobertaForSequenceClassification.forward` and have been ignored: topic, input_txt, Conclusion, Validity-Confidence, Novelty-Confidence, Validity, row_num, Premise, Novelty. If topic, input_txt, Conclusion, Validity-Confidence, Novelty-Confidence, Validity, row_num, Premise, Novelty are not expected by `RobertaForSequenceClassification.forward`,  you can safely ignore this message.\n",
      "/usr/local/lib/python3.8/dist-packages/transformers/optimization.py:306: FutureWarning: This implementation of AdamW is deprecated and will be removed in a future version. Use the PyTorch implementation torch.optim.AdamW instead, or set `no_deprecation_warning=True` to disable this warning\n",
      "  warnings.warn(\n",
      "***** Running training *****\n",
      "  Num examples = 1190\n",
      "  Num Epochs = 5\n",
      "  Instantaneous batch size per device = 8\n",
      "  Total train batch size (w. parallel, distributed & accumulation) = 8\n",
      "  Gradient Accumulation steps = 1\n",
      "  Total optimization steps = 600\n",
      "Automatic Weights & Biases logging enabled, to disable set os.environ[\"WANDB_DISABLED\"] = \"true\"\n",
      "\u001b[34m\u001b[1mwandb\u001b[0m: Currently logged in as: \u001b[33mmiladalsh\u001b[0m. Use \u001b[1m`wandb login --relogin`\u001b[0m to force relogin\n"
     ]
    },
    {
     "data": {
      "text/html": [
       "wandb version 0.13.2 is available!  To upgrade, please run:\n",
       " $ pip install wandb --upgrade"
      ],
      "text/plain": [
       "<IPython.core.display.HTML object>"
      ]
     },
     "metadata": {},
     "output_type": "display_data"
    },
    {
     "data": {
      "text/html": [
       "Tracking run with wandb version 0.12.20"
      ],
      "text/plain": [
       "<IPython.core.display.HTML object>"
      ]
     },
     "metadata": {},
     "output_type": "display_data"
    },
    {
     "data": {
      "text/html": [
       "Run data is saved locally in <code>/home/sile2804/ArgsValidNovel/code/wandb/run-20220823_165732-29bdq066</code>"
      ],
      "text/plain": [
       "<IPython.core.display.HTML object>"
      ]
     },
     "metadata": {},
     "output_type": "display_data"
    },
    {
     "data": {
      "text/html": [
       "Syncing run <strong><a href=\"https://wandb.ai/miladalsh/huggingface/runs/29bdq066\" target=\"_blank\">../../data-ceph/arguana/argmining22-sharedtask/models//novelty/roberta</a></strong> to <a href=\"https://wandb.ai/miladalsh/huggingface\" target=\"_blank\">Weights & Biases</a> (<a href=\"https://wandb.me/run\" target=\"_blank\">docs</a>)<br/>"
      ],
      "text/plain": [
       "<IPython.core.display.HTML object>"
      ]
     },
     "metadata": {},
     "output_type": "display_data"
    },
    {
     "data": {
      "text/html": [
       "\n",
       "    <div>\n",
       "      \n",
       "      <progress value='600' max='600' style='width:300px; height:20px; vertical-align: middle;'></progress>\n",
       "      [600/600 00:56, Epoch 4/5]\n",
       "    </div>\n",
       "    <table border=\"1\" class=\"dataframe\">\n",
       "  <thead>\n",
       " <tr style=\"text-align: left;\">\n",
       "      <th>Step</th>\n",
       "      <th>Training Loss</th>\n",
       "      <th>Validation Loss</th>\n",
       "      <th>Recall</th>\n",
       "      <th>Precision</th>\n",
       "      <th>F1</th>\n",
       "    </tr>\n",
       "  </thead>\n",
       "  <tbody>\n",
       "    <tr>\n",
       "      <td>50</td>\n",
       "      <td>0.697800</td>\n",
       "      <td>0.705404</td>\n",
       "      <td>0.500000</td>\n",
       "      <td>0.205000</td>\n",
       "      <td>0.290780</td>\n",
       "    </tr>\n",
       "    <tr>\n",
       "      <td>100</td>\n",
       "      <td>0.698100</td>\n",
       "      <td>0.697526</td>\n",
       "      <td>0.484601</td>\n",
       "      <td>0.428331</td>\n",
       "      <td>0.319202</td>\n",
       "    </tr>\n",
       "    <tr>\n",
       "      <td>150</td>\n",
       "      <td>0.693100</td>\n",
       "      <td>0.697641</td>\n",
       "      <td>0.465482</td>\n",
       "      <td>0.426172</td>\n",
       "      <td>0.348958</td>\n",
       "    </tr>\n",
       "    <tr>\n",
       "      <td>200</td>\n",
       "      <td>0.679100</td>\n",
       "      <td>0.692525</td>\n",
       "      <td>0.500000</td>\n",
       "      <td>0.295000</td>\n",
       "      <td>0.371069</td>\n",
       "    </tr>\n",
       "    <tr>\n",
       "      <td>250</td>\n",
       "      <td>0.669500</td>\n",
       "      <td>0.726181</td>\n",
       "      <td>0.437784</td>\n",
       "      <td>0.346272</td>\n",
       "      <td>0.363306</td>\n",
       "    </tr>\n",
       "    <tr>\n",
       "      <td>300</td>\n",
       "      <td>0.627800</td>\n",
       "      <td>0.776755</td>\n",
       "      <td>0.343634</td>\n",
       "      <td>0.347955</td>\n",
       "      <td>0.344762</td>\n",
       "    </tr>\n",
       "    <tr>\n",
       "      <td>350</td>\n",
       "      <td>0.597900</td>\n",
       "      <td>0.806083</td>\n",
       "      <td>0.422695</td>\n",
       "      <td>0.344684</td>\n",
       "      <td>0.360502</td>\n",
       "    </tr>\n",
       "    <tr>\n",
       "      <td>400</td>\n",
       "      <td>0.544800</td>\n",
       "      <td>0.816149</td>\n",
       "      <td>0.423005</td>\n",
       "      <td>0.393190</td>\n",
       "      <td>0.394306</td>\n",
       "    </tr>\n",
       "    <tr>\n",
       "      <td>450</td>\n",
       "      <td>0.515600</td>\n",
       "      <td>0.863293</td>\n",
       "      <td>0.417941</td>\n",
       "      <td>0.359320</td>\n",
       "      <td>0.368626</td>\n",
       "    </tr>\n",
       "    <tr>\n",
       "      <td>500</td>\n",
       "      <td>0.461500</td>\n",
       "      <td>0.905719</td>\n",
       "      <td>0.428793</td>\n",
       "      <td>0.361061</td>\n",
       "      <td>0.370305</td>\n",
       "    </tr>\n",
       "    <tr>\n",
       "      <td>550</td>\n",
       "      <td>0.461700</td>\n",
       "      <td>0.906696</td>\n",
       "      <td>0.446259</td>\n",
       "      <td>0.355556</td>\n",
       "      <td>0.368338</td>\n",
       "    </tr>\n",
       "    <tr>\n",
       "      <td>600</td>\n",
       "      <td>0.460600</td>\n",
       "      <td>0.901446</td>\n",
       "      <td>0.433030</td>\n",
       "      <td>0.365449</td>\n",
       "      <td>0.373041</td>\n",
       "    </tr>\n",
       "  </tbody>\n",
       "</table><p>"
      ],
      "text/plain": [
       "<IPython.core.display.HTML object>"
      ]
     },
     "metadata": {},
     "output_type": "display_data"
    },
    {
     "name": "stderr",
     "output_type": "stream",
     "text": [
      "The following columns in the evaluation set  don't have a corresponding argument in `RobertaForSequenceClassification.forward` and have been ignored: topic, __index_level_0__, input_txt, Conclusion, Validity-Confidence, Novelty-Confidence, Validity, row_num, Premise, Novelty. If topic, __index_level_0__, input_txt, Conclusion, Validity-Confidence, Novelty-Confidence, Validity, row_num, Premise, Novelty are not expected by `RobertaForSequenceClassification.forward`,  you can safely ignore this message.\n",
      "***** Running Evaluation *****\n",
      "  Num examples = 200\n",
      "  Batch size = 8\n",
      "/usr/local/lib/python3.8/dist-packages/sklearn/metrics/_classification.py:1327: UndefinedMetricWarning: Precision and F-score are ill-defined and being set to 0.0 in labels with no predicted samples. Use `zero_division` parameter to control this behavior.\n",
      "  _warn_prf(average, modifier, msg_start, len(result))\n",
      "Saving model checkpoint to ../../data-ceph/arguana/argmining22-sharedtask/models//novelty/roberta/checkpoint-50\n",
      "Configuration saved in ../../data-ceph/arguana/argmining22-sharedtask/models//novelty/roberta/checkpoint-50/config.json\n",
      "Model weights saved in ../../data-ceph/arguana/argmining22-sharedtask/models//novelty/roberta/checkpoint-50/pytorch_model.bin\n",
      "The following columns in the evaluation set  don't have a corresponding argument in `RobertaForSequenceClassification.forward` and have been ignored: topic, __index_level_0__, input_txt, Conclusion, Validity-Confidence, Novelty-Confidence, Validity, row_num, Premise, Novelty. If topic, __index_level_0__, input_txt, Conclusion, Validity-Confidence, Novelty-Confidence, Validity, row_num, Premise, Novelty are not expected by `RobertaForSequenceClassification.forward`,  you can safely ignore this message.\n",
      "***** Running Evaluation *****\n",
      "  Num examples = 200\n",
      "  Batch size = 8\n",
      "Saving model checkpoint to ../../data-ceph/arguana/argmining22-sharedtask/models//novelty/roberta/checkpoint-100\n",
      "Configuration saved in ../../data-ceph/arguana/argmining22-sharedtask/models//novelty/roberta/checkpoint-100/config.json\n",
      "Model weights saved in ../../data-ceph/arguana/argmining22-sharedtask/models//novelty/roberta/checkpoint-100/pytorch_model.bin\n",
      "The following columns in the evaluation set  don't have a corresponding argument in `RobertaForSequenceClassification.forward` and have been ignored: topic, __index_level_0__, input_txt, Conclusion, Validity-Confidence, Novelty-Confidence, Validity, row_num, Premise, Novelty. If topic, __index_level_0__, input_txt, Conclusion, Validity-Confidence, Novelty-Confidence, Validity, row_num, Premise, Novelty are not expected by `RobertaForSequenceClassification.forward`,  you can safely ignore this message.\n",
      "***** Running Evaluation *****\n",
      "  Num examples = 200\n",
      "  Batch size = 8\n",
      "Saving model checkpoint to ../../data-ceph/arguana/argmining22-sharedtask/models//novelty/roberta/checkpoint-150\n",
      "Configuration saved in ../../data-ceph/arguana/argmining22-sharedtask/models//novelty/roberta/checkpoint-150/config.json\n",
      "Model weights saved in ../../data-ceph/arguana/argmining22-sharedtask/models//novelty/roberta/checkpoint-150/pytorch_model.bin\n",
      "The following columns in the evaluation set  don't have a corresponding argument in `RobertaForSequenceClassification.forward` and have been ignored: topic, __index_level_0__, input_txt, Conclusion, Validity-Confidence, Novelty-Confidence, Validity, row_num, Premise, Novelty. If topic, __index_level_0__, input_txt, Conclusion, Validity-Confidence, Novelty-Confidence, Validity, row_num, Premise, Novelty are not expected by `RobertaForSequenceClassification.forward`,  you can safely ignore this message.\n",
      "***** Running Evaluation *****\n",
      "  Num examples = 200\n",
      "  Batch size = 8\n",
      "/usr/local/lib/python3.8/dist-packages/sklearn/metrics/_classification.py:1327: UndefinedMetricWarning: Precision and F-score are ill-defined and being set to 0.0 in labels with no predicted samples. Use `zero_division` parameter to control this behavior.\n",
      "  _warn_prf(average, modifier, msg_start, len(result))\n",
      "Saving model checkpoint to ../../data-ceph/arguana/argmining22-sharedtask/models//novelty/roberta/checkpoint-200\n",
      "Configuration saved in ../../data-ceph/arguana/argmining22-sharedtask/models//novelty/roberta/checkpoint-200/config.json\n",
      "Model weights saved in ../../data-ceph/arguana/argmining22-sharedtask/models//novelty/roberta/checkpoint-200/pytorch_model.bin\n",
      "The following columns in the evaluation set  don't have a corresponding argument in `RobertaForSequenceClassification.forward` and have been ignored: topic, __index_level_0__, input_txt, Conclusion, Validity-Confidence, Novelty-Confidence, Validity, row_num, Premise, Novelty. If topic, __index_level_0__, input_txt, Conclusion, Validity-Confidence, Novelty-Confidence, Validity, row_num, Premise, Novelty are not expected by `RobertaForSequenceClassification.forward`,  you can safely ignore this message.\n",
      "***** Running Evaluation *****\n",
      "  Num examples = 200\n",
      "  Batch size = 8\n",
      "Saving model checkpoint to ../../data-ceph/arguana/argmining22-sharedtask/models//novelty/roberta/checkpoint-250\n",
      "Configuration saved in ../../data-ceph/arguana/argmining22-sharedtask/models//novelty/roberta/checkpoint-250/config.json\n",
      "Model weights saved in ../../data-ceph/arguana/argmining22-sharedtask/models//novelty/roberta/checkpoint-250/pytorch_model.bin\n",
      "The following columns in the evaluation set  don't have a corresponding argument in `RobertaForSequenceClassification.forward` and have been ignored: topic, __index_level_0__, input_txt, Conclusion, Validity-Confidence, Novelty-Confidence, Validity, row_num, Premise, Novelty. If topic, __index_level_0__, input_txt, Conclusion, Validity-Confidence, Novelty-Confidence, Validity, row_num, Premise, Novelty are not expected by `RobertaForSequenceClassification.forward`,  you can safely ignore this message.\n",
      "***** Running Evaluation *****\n",
      "  Num examples = 200\n",
      "  Batch size = 8\n",
      "Saving model checkpoint to ../../data-ceph/arguana/argmining22-sharedtask/models//novelty/roberta/checkpoint-300\n",
      "Configuration saved in ../../data-ceph/arguana/argmining22-sharedtask/models//novelty/roberta/checkpoint-300/config.json\n",
      "Model weights saved in ../../data-ceph/arguana/argmining22-sharedtask/models//novelty/roberta/checkpoint-300/pytorch_model.bin\n",
      "The following columns in the evaluation set  don't have a corresponding argument in `RobertaForSequenceClassification.forward` and have been ignored: topic, __index_level_0__, input_txt, Conclusion, Validity-Confidence, Novelty-Confidence, Validity, row_num, Premise, Novelty. If topic, __index_level_0__, input_txt, Conclusion, Validity-Confidence, Novelty-Confidence, Validity, row_num, Premise, Novelty are not expected by `RobertaForSequenceClassification.forward`,  you can safely ignore this message.\n",
      "***** Running Evaluation *****\n",
      "  Num examples = 200\n",
      "  Batch size = 8\n",
      "Saving model checkpoint to ../../data-ceph/arguana/argmining22-sharedtask/models//novelty/roberta/checkpoint-350\n",
      "Configuration saved in ../../data-ceph/arguana/argmining22-sharedtask/models//novelty/roberta/checkpoint-350/config.json\n",
      "Model weights saved in ../../data-ceph/arguana/argmining22-sharedtask/models//novelty/roberta/checkpoint-350/pytorch_model.bin\n",
      "The following columns in the evaluation set  don't have a corresponding argument in `RobertaForSequenceClassification.forward` and have been ignored: topic, __index_level_0__, input_txt, Conclusion, Validity-Confidence, Novelty-Confidence, Validity, row_num, Premise, Novelty. If topic, __index_level_0__, input_txt, Conclusion, Validity-Confidence, Novelty-Confidence, Validity, row_num, Premise, Novelty are not expected by `RobertaForSequenceClassification.forward`,  you can safely ignore this message.\n",
      "***** Running Evaluation *****\n",
      "  Num examples = 200\n",
      "  Batch size = 8\n",
      "Saving model checkpoint to ../../data-ceph/arguana/argmining22-sharedtask/models//novelty/roberta/checkpoint-400\n",
      "Configuration saved in ../../data-ceph/arguana/argmining22-sharedtask/models//novelty/roberta/checkpoint-400/config.json\n",
      "Model weights saved in ../../data-ceph/arguana/argmining22-sharedtask/models//novelty/roberta/checkpoint-400/pytorch_model.bin\n",
      "The following columns in the evaluation set  don't have a corresponding argument in `RobertaForSequenceClassification.forward` and have been ignored: topic, __index_level_0__, input_txt, Conclusion, Validity-Confidence, Novelty-Confidence, Validity, row_num, Premise, Novelty. If topic, __index_level_0__, input_txt, Conclusion, Validity-Confidence, Novelty-Confidence, Validity, row_num, Premise, Novelty are not expected by `RobertaForSequenceClassification.forward`,  you can safely ignore this message.\n",
      "***** Running Evaluation *****\n",
      "  Num examples = 200\n",
      "  Batch size = 8\n",
      "Saving model checkpoint to ../../data-ceph/arguana/argmining22-sharedtask/models//novelty/roberta/checkpoint-450\n",
      "Configuration saved in ../../data-ceph/arguana/argmining22-sharedtask/models//novelty/roberta/checkpoint-450/config.json\n",
      "Model weights saved in ../../data-ceph/arguana/argmining22-sharedtask/models//novelty/roberta/checkpoint-450/pytorch_model.bin\n",
      "The following columns in the evaluation set  don't have a corresponding argument in `RobertaForSequenceClassification.forward` and have been ignored: topic, __index_level_0__, input_txt, Conclusion, Validity-Confidence, Novelty-Confidence, Validity, row_num, Premise, Novelty. If topic, __index_level_0__, input_txt, Conclusion, Validity-Confidence, Novelty-Confidence, Validity, row_num, Premise, Novelty are not expected by `RobertaForSequenceClassification.forward`,  you can safely ignore this message.\n",
      "***** Running Evaluation *****\n",
      "  Num examples = 200\n",
      "  Batch size = 8\n",
      "Saving model checkpoint to ../../data-ceph/arguana/argmining22-sharedtask/models//novelty/roberta/checkpoint-500\n",
      "Configuration saved in ../../data-ceph/arguana/argmining22-sharedtask/models//novelty/roberta/checkpoint-500/config.json\n",
      "Model weights saved in ../../data-ceph/arguana/argmining22-sharedtask/models//novelty/roberta/checkpoint-500/pytorch_model.bin\n",
      "The following columns in the evaluation set  don't have a corresponding argument in `RobertaForSequenceClassification.forward` and have been ignored: topic, __index_level_0__, input_txt, Conclusion, Validity-Confidence, Novelty-Confidence, Validity, row_num, Premise, Novelty. If topic, __index_level_0__, input_txt, Conclusion, Validity-Confidence, Novelty-Confidence, Validity, row_num, Premise, Novelty are not expected by `RobertaForSequenceClassification.forward`,  you can safely ignore this message.\n",
      "***** Running Evaluation *****\n",
      "  Num examples = 200\n",
      "  Batch size = 8\n",
      "Saving model checkpoint to ../../data-ceph/arguana/argmining22-sharedtask/models//novelty/roberta/checkpoint-550\n",
      "Configuration saved in ../../data-ceph/arguana/argmining22-sharedtask/models//novelty/roberta/checkpoint-550/config.json\n",
      "Model weights saved in ../../data-ceph/arguana/argmining22-sharedtask/models//novelty/roberta/checkpoint-550/pytorch_model.bin\n",
      "The following columns in the evaluation set  don't have a corresponding argument in `RobertaForSequenceClassification.forward` and have been ignored: topic, __index_level_0__, input_txt, Conclusion, Validity-Confidence, Novelty-Confidence, Validity, row_num, Premise, Novelty. If topic, __index_level_0__, input_txt, Conclusion, Validity-Confidence, Novelty-Confidence, Validity, row_num, Premise, Novelty are not expected by `RobertaForSequenceClassification.forward`,  you can safely ignore this message.\n",
      "***** Running Evaluation *****\n",
      "  Num examples = 200\n",
      "  Batch size = 8\n",
      "Saving model checkpoint to ../../data-ceph/arguana/argmining22-sharedtask/models//novelty/roberta/checkpoint-600\n",
      "Configuration saved in ../../data-ceph/arguana/argmining22-sharedtask/models//novelty/roberta/checkpoint-600/config.json\n",
      "Model weights saved in ../../data-ceph/arguana/argmining22-sharedtask/models//novelty/roberta/checkpoint-600/pytorch_model.bin\n",
      "\n",
      "\n",
      "Training completed. Do not forget to share your model on huggingface.co/models =)\n",
      "\n",
      "\n",
      "Loading best model from ../../data-ceph/arguana/argmining22-sharedtask/models//novelty/roberta/checkpoint-400 (score: 0.39430648092065423).\n"
     ]
    },
    {
     "data": {
      "text/plain": [
       "TrainOutput(global_step=600, training_loss=0.5922914218902587, metrics={'train_runtime': 67.715, 'train_samples_per_second': 70.885, 'train_steps_per_second': 8.861, 'total_flos': 305356824186240.0, 'train_loss': 0.5922914218902587, 'epoch': 4.03})"
      ]
     },
     "execution_count": 15,
     "metadata": {},
     "output_type": "execute_result"
    }
   ],
   "source": [
    "trainer.train()"
   ]
  },
  {
   "cell_type": "code",
   "execution_count": 16,
   "metadata": {},
   "outputs": [
    {
     "name": "stderr",
     "output_type": "stream",
     "text": [
      "The following columns in the evaluation set  don't have a corresponding argument in `RobertaForSequenceClassification.forward` and have been ignored: topic, __index_level_0__, input_txt, Conclusion, Validity-Confidence, Novelty-Confidence, Validity, row_num, Premise, Novelty, Topic-in-dev-split. If topic, __index_level_0__, input_txt, Conclusion, Validity-Confidence, Novelty-Confidence, Validity, row_num, Premise, Novelty, Topic-in-dev-split are not expected by `RobertaForSequenceClassification.forward`,  you can safely ignore this message.\n",
      "***** Running Evaluation *****\n",
      "  Num examples = 520\n",
      "  Batch size = 8\n"
     ]
    },
    {
     "data": {
      "text/html": [
       "\n",
       "    <div>\n",
       "      \n",
       "      <progress value='130' max='65' style='width:300px; height:20px; vertical-align: middle;'></progress>\n",
       "      [65/65 00:01]\n",
       "    </div>\n",
       "    "
      ],
      "text/plain": [
       "<IPython.core.display.HTML object>"
      ]
     },
     "metadata": {},
     "output_type": "display_data"
    },
    {
     "data": {
      "text/plain": [
       "{'eval_loss': 0.7623319625854492,\n",
       " 'eval_recall': 0.5196857504063572,\n",
       " 'eval_precision': 0.5211568322981367,\n",
       " 'eval_f1': 0.5168408826945412,\n",
       " 'eval_runtime': 0.6987,\n",
       " 'eval_samples_per_second': 744.215,\n",
       " 'eval_steps_per_second': 93.027,\n",
       " 'epoch': 4.03}"
      ]
     },
     "execution_count": 16,
     "metadata": {},
     "output_type": "execute_result"
    }
   ],
   "source": [
    "trainer.evaluate(test_dataset)"
   ]
  },
  {
   "cell_type": "code",
   "execution_count": 17,
   "metadata": {},
   "outputs": [
    {
     "name": "stderr",
     "output_type": "stream",
     "text": [
      "The following columns in the test set  don't have a corresponding argument in `RobertaForSequenceClassification.forward` and have been ignored: topic, __index_level_0__, input_txt, Conclusion, Validity-Confidence, Novelty-Confidence, Validity, row_num, Premise, Novelty, Topic-in-dev-split. If topic, __index_level_0__, input_txt, Conclusion, Validity-Confidence, Novelty-Confidence, Validity, row_num, Premise, Novelty, Topic-in-dev-split are not expected by `RobertaForSequenceClassification.forward`,  you can safely ignore this message.\n",
      "***** Running Prediction *****\n",
      "  Num examples = 520\n",
      "  Batch size = 8\n"
     ]
    }
   ],
   "source": [
    "results = trainer.predict(test_dataset)"
   ]
  },
  {
   "cell_type": "code",
   "execution_count": 19,
   "metadata": {},
   "outputs": [],
   "source": [
    "taska_test_df['predicted novelty']  = [1 if np.argmax(x) == 1 else -1 for x in results.predictions]"
   ]
  },
  {
   "cell_type": "markdown",
   "metadata": {},
   "source": [
    "## Fine-tune simple RoBERTa model on the training data for Validity:"
   ]
  },
  {
   "cell_type": "code",
   "execution_count": 20,
   "metadata": {},
   "outputs": [],
   "source": [
    "train_dataset = Dataset.from_pandas(taska_validity_train_df)\n",
    "eval_dataset = Dataset.from_pandas(taska_validity_valid_df)\n",
    "test_dataset = Dataset.from_pandas(taska_validity_test_df)"
   ]
  },
  {
   "cell_type": "code",
   "execution_count": 21,
   "metadata": {},
   "outputs": [
    {
     "data": {
      "application/vnd.jupyter.widget-view+json": {
       "model_id": "78d3ad09fefb4cf4a46ee5ce9b1c1ce9",
       "version_major": 2,
       "version_minor": 0
      },
      "text/plain": [
       "  0%|          | 0/1 [00:00<?, ?ba/s]"
      ]
     },
     "metadata": {},
     "output_type": "display_data"
    },
    {
     "data": {
      "application/vnd.jupyter.widget-view+json": {
       "model_id": "e9ff62c04e054360b3c4fbd0ddaf7242",
       "version_major": 2,
       "version_minor": 0
      },
      "text/plain": [
       "  0%|          | 0/1 [00:00<?, ?ba/s]"
      ]
     },
     "metadata": {},
     "output_type": "display_data"
    },
    {
     "data": {
      "application/vnd.jupyter.widget-view+json": {
       "model_id": "def4602431bc45cc8df13e08ab7e8590",
       "version_major": 2,
       "version_minor": 0
      },
      "text/plain": [
       "  0%|          | 0/1 [00:00<?, ?ba/s]"
      ]
     },
     "metadata": {},
     "output_type": "display_data"
    }
   ],
   "source": [
    "validity_map = dict([ # avoid negative labels\n",
    "    (\"valid\", 1), \n",
    "    (\"invalid\", 0)\n",
    "])\n",
    "\n",
    "train_dataset = train_dataset.map(preprocess, batched=True)\n",
    "eval_dataset = eval_dataset.map(preprocess, batched=True)\n",
    "test_dataset = test_dataset.map(preprocess, batched=True)"
   ]
  },
  {
   "cell_type": "code",
   "execution_count": 22,
   "metadata": {},
   "outputs": [
    {
     "data": {
      "text/plain": [
       "valid      401\n",
       "invalid    320\n",
       "Name: label, dtype: int64"
      ]
     },
     "execution_count": 22,
     "metadata": {},
     "output_type": "execute_result"
    }
   ],
   "source": [
    "taska_validity_train_df.label.value_counts()"
   ]
  },
  {
   "cell_type": "code",
   "execution_count": 23,
   "metadata": {
    "scrolled": true,
    "tags": []
   },
   "outputs": [
    {
     "name": "stderr",
     "output_type": "stream",
     "text": [
      "loading configuration file https://huggingface.co/roberta-base/resolve/main/config.json from cache at /mnt/ceph/storage/data-tmp/current//sile2804/.cache/huggingface/transformers/733bade19e5f0ce98e6531021dd5180994bb2f7b8bd7e80c7968805834ba351e.35205c6cfc956461d8515139f0f8dd5d207a2f336c0c3a83b4bc8dca3518e37b\n",
      "Model config RobertaConfig {\n",
      "  \"_name_or_path\": \"roberta-base\",\n",
      "  \"architectures\": [\n",
      "    \"RobertaForMaskedLM\"\n",
      "  ],\n",
      "  \"attention_probs_dropout_prob\": 0.1,\n",
      "  \"bos_token_id\": 0,\n",
      "  \"classifier_dropout\": null,\n",
      "  \"eos_token_id\": 2,\n",
      "  \"hidden_act\": \"gelu\",\n",
      "  \"hidden_dropout_prob\": 0.1,\n",
      "  \"hidden_size\": 768,\n",
      "  \"initializer_range\": 0.02,\n",
      "  \"intermediate_size\": 3072,\n",
      "  \"layer_norm_eps\": 1e-05,\n",
      "  \"max_position_embeddings\": 514,\n",
      "  \"model_type\": \"roberta\",\n",
      "  \"num_attention_heads\": 12,\n",
      "  \"num_hidden_layers\": 12,\n",
      "  \"pad_token_id\": 1,\n",
      "  \"position_embedding_type\": \"absolute\",\n",
      "  \"transformers_version\": \"4.18.0\",\n",
      "  \"type_vocab_size\": 1,\n",
      "  \"use_cache\": true,\n",
      "  \"vocab_size\": 50265\n",
      "}\n",
      "\n",
      "loading weights file https://huggingface.co/roberta-base/resolve/main/pytorch_model.bin from cache at /mnt/ceph/storage/data-tmp/current//sile2804/.cache/huggingface/transformers/51ba668f7ff34e7cdfa9561e8361747738113878850a7d717dbc69de8683aaad.c7efaa30a0d80b2958b876969faa180e485944a849deee4ad482332de65365a7\n",
      "Some weights of the model checkpoint at roberta-base were not used when initializing RobertaForSequenceClassification: ['roberta.pooler.dense.bias', 'lm_head.layer_norm.weight', 'roberta.pooler.dense.weight', 'lm_head.dense.bias', 'lm_head.bias', 'lm_head.layer_norm.bias', 'lm_head.dense.weight', 'lm_head.decoder.weight']\n",
      "- This IS expected if you are initializing RobertaForSequenceClassification from the checkpoint of a model trained on another task or with another architecture (e.g. initializing a BertForSequenceClassification model from a BertForPreTraining model).\n",
      "- This IS NOT expected if you are initializing RobertaForSequenceClassification from the checkpoint of a model that you expect to be exactly identical (initializing a BertForSequenceClassification model from a BertForSequenceClassification model).\n",
      "Some weights of RobertaForSequenceClassification were not initialized from the model checkpoint at roberta-base and are newly initialized: ['classifier.out_proj.weight', 'classifier.dense.bias', 'classifier.dense.weight', 'classifier.out_proj.bias']\n",
      "You should probably TRAIN this model on a down-stream task to be able to use it for predictions and inference.\n",
      "PyTorch: setting up devices\n",
      "The default value for the training argument `--report_to` will change in v5 (from all installed integrations to none). In v5, you will need to use `--report_to all` to get the same behavior as now. You should start updating your code and make this info disappear :-).\n",
      "max_steps is given, it will override any value given in num_train_epochs\n"
     ]
    }
   ],
   "source": [
    "bert_model     = AutoModelForSequenceClassification.from_pretrained('roberta-base', num_labels=2)\n",
    "\n",
    "training_args = TrainingArguments(\n",
    "    output_dir= output_path + \"/validity/roberta\", \n",
    "    #report_to=\"wandb\",\n",
    "    logging_dir='/var/argmining-sharedtask/roberta-baseline-validity',\n",
    "    overwrite_output_dir=True,\n",
    "    metric_for_best_model = 'f1',\n",
    "    evaluation_strategy = 'steps',          # check evaluation metrics at each epoch\n",
    "    learning_rate = 5e-6,                   # we can customize learning rate\n",
    "    max_steps = 600,\n",
    "    logging_steps = 50,                    # we will log every 50 steps which is an epoch given the 700 examples and 16 batch size\n",
    "    eval_steps = 50,                      # we will perform evaluation every 500 steps\n",
    "    save_steps = 50,\n",
    "    load_best_model_at_end = True,\n",
    ")\n",
    "\n",
    "trainer = Trainer(\n",
    "    model=bert_model,\n",
    "    args=training_args,\n",
    "    train_dataset=train_dataset,\n",
    "    eval_dataset=eval_dataset,\n",
    "    compute_metrics=lambda x: compute_metrics(x, average='macro')\n",
    ")"
   ]
  },
  {
   "cell_type": "code",
   "execution_count": 24,
   "metadata": {
    "scrolled": true,
    "tags": []
   },
   "outputs": [
    {
     "name": "stderr",
     "output_type": "stream",
     "text": [
      "The following columns in the training set  don't have a corresponding argument in `RobertaForSequenceClassification.forward` and have been ignored: topic, __index_level_0__, input_txt, Conclusion, Validity-Confidence, Novelty-Confidence, Validity, row_num, Premise, Novelty. If topic, __index_level_0__, input_txt, Conclusion, Validity-Confidence, Novelty-Confidence, Validity, row_num, Premise, Novelty are not expected by `RobertaForSequenceClassification.forward`,  you can safely ignore this message.\n",
      "/usr/local/lib/python3.8/dist-packages/transformers/optimization.py:306: FutureWarning: This implementation of AdamW is deprecated and will be removed in a future version. Use the PyTorch implementation torch.optim.AdamW instead, or set `no_deprecation_warning=True` to disable this warning\n",
      "  warnings.warn(\n",
      "***** Running training *****\n",
      "  Num examples = 721\n",
      "  Num Epochs = 7\n",
      "  Instantaneous batch size per device = 8\n",
      "  Total train batch size (w. parallel, distributed & accumulation) = 8\n",
      "  Gradient Accumulation steps = 1\n",
      "  Total optimization steps = 600\n",
      "Automatic Weights & Biases logging enabled, to disable set os.environ[\"WANDB_DISABLED\"] = \"true\"\n"
     ]
    },
    {
     "data": {
      "text/html": [
       "\n",
       "    <div>\n",
       "      \n",
       "      <progress value='600' max='600' style='width:300px; height:20px; vertical-align: middle;'></progress>\n",
       "      [600/600 00:56, Epoch 6/7]\n",
       "    </div>\n",
       "    <table border=\"1\" class=\"dataframe\">\n",
       "  <thead>\n",
       " <tr style=\"text-align: left;\">\n",
       "      <th>Step</th>\n",
       "      <th>Training Loss</th>\n",
       "      <th>Validation Loss</th>\n",
       "      <th>Recall</th>\n",
       "      <th>Precision</th>\n",
       "      <th>F1</th>\n",
       "    </tr>\n",
       "  </thead>\n",
       "  <tbody>\n",
       "    <tr>\n",
       "      <td>50</td>\n",
       "      <td>0.683800</td>\n",
       "      <td>0.667877</td>\n",
       "      <td>0.500000</td>\n",
       "      <td>0.314070</td>\n",
       "      <td>0.385802</td>\n",
       "    </tr>\n",
       "    <tr>\n",
       "      <td>100</td>\n",
       "      <td>0.691200</td>\n",
       "      <td>0.673957</td>\n",
       "      <td>0.500000</td>\n",
       "      <td>0.314070</td>\n",
       "      <td>0.385802</td>\n",
       "    </tr>\n",
       "    <tr>\n",
       "      <td>150</td>\n",
       "      <td>0.694300</td>\n",
       "      <td>0.675512</td>\n",
       "      <td>0.500000</td>\n",
       "      <td>0.314070</td>\n",
       "      <td>0.385802</td>\n",
       "    </tr>\n",
       "    <tr>\n",
       "      <td>200</td>\n",
       "      <td>0.686300</td>\n",
       "      <td>0.666249</td>\n",
       "      <td>0.500000</td>\n",
       "      <td>0.314070</td>\n",
       "      <td>0.385802</td>\n",
       "    </tr>\n",
       "    <tr>\n",
       "      <td>250</td>\n",
       "      <td>0.667600</td>\n",
       "      <td>0.631072</td>\n",
       "      <td>0.500000</td>\n",
       "      <td>0.314070</td>\n",
       "      <td>0.385802</td>\n",
       "    </tr>\n",
       "    <tr>\n",
       "      <td>300</td>\n",
       "      <td>0.609800</td>\n",
       "      <td>0.561435</td>\n",
       "      <td>0.659946</td>\n",
       "      <td>0.741827</td>\n",
       "      <td>0.664523</td>\n",
       "    </tr>\n",
       "    <tr>\n",
       "      <td>350</td>\n",
       "      <td>0.461200</td>\n",
       "      <td>0.615632</td>\n",
       "      <td>0.661189</td>\n",
       "      <td>0.759756</td>\n",
       "      <td>0.665185</td>\n",
       "    </tr>\n",
       "    <tr>\n",
       "      <td>400</td>\n",
       "      <td>0.483000</td>\n",
       "      <td>0.590081</td>\n",
       "      <td>0.670703</td>\n",
       "      <td>0.758091</td>\n",
       "      <td>0.676948</td>\n",
       "    </tr>\n",
       "    <tr>\n",
       "      <td>450</td>\n",
       "      <td>0.396400</td>\n",
       "      <td>0.614422</td>\n",
       "      <td>0.674703</td>\n",
       "      <td>0.769603</td>\n",
       "      <td>0.681420</td>\n",
       "    </tr>\n",
       "    <tr>\n",
       "      <td>500</td>\n",
       "      <td>0.449100</td>\n",
       "      <td>0.650877</td>\n",
       "      <td>0.638162</td>\n",
       "      <td>0.752071</td>\n",
       "      <td>0.635531</td>\n",
       "    </tr>\n",
       "    <tr>\n",
       "      <td>550</td>\n",
       "      <td>0.389100</td>\n",
       "      <td>0.672491</td>\n",
       "      <td>0.638162</td>\n",
       "      <td>0.752071</td>\n",
       "      <td>0.635531</td>\n",
       "    </tr>\n",
       "    <tr>\n",
       "      <td>600</td>\n",
       "      <td>0.427300</td>\n",
       "      <td>0.684299</td>\n",
       "      <td>0.628649</td>\n",
       "      <td>0.756245</td>\n",
       "      <td>0.621862</td>\n",
       "    </tr>\n",
       "  </tbody>\n",
       "</table><p>"
      ],
      "text/plain": [
       "<IPython.core.display.HTML object>"
      ]
     },
     "metadata": {},
     "output_type": "display_data"
    },
    {
     "name": "stderr",
     "output_type": "stream",
     "text": [
      "The following columns in the evaluation set  don't have a corresponding argument in `RobertaForSequenceClassification.forward` and have been ignored: topic, __index_level_0__, input_txt, Conclusion, Validity-Confidence, Novelty-Confidence, Validity, row_num, Premise, Novelty. If topic, __index_level_0__, input_txt, Conclusion, Validity-Confidence, Novelty-Confidence, Validity, row_num, Premise, Novelty are not expected by `RobertaForSequenceClassification.forward`,  you can safely ignore this message.\n",
      "***** Running Evaluation *****\n",
      "  Num examples = 199\n",
      "  Batch size = 8\n",
      "/usr/local/lib/python3.8/dist-packages/sklearn/metrics/_classification.py:1327: UndefinedMetricWarning: Precision and F-score are ill-defined and being set to 0.0 in labels with no predicted samples. Use `zero_division` parameter to control this behavior.\n",
      "  _warn_prf(average, modifier, msg_start, len(result))\n",
      "Saving model checkpoint to ../../data-ceph/arguana/argmining22-sharedtask/models//validity/roberta/checkpoint-50\n",
      "Configuration saved in ../../data-ceph/arguana/argmining22-sharedtask/models//validity/roberta/checkpoint-50/config.json\n",
      "Model weights saved in ../../data-ceph/arguana/argmining22-sharedtask/models//validity/roberta/checkpoint-50/pytorch_model.bin\n",
      "The following columns in the evaluation set  don't have a corresponding argument in `RobertaForSequenceClassification.forward` and have been ignored: topic, __index_level_0__, input_txt, Conclusion, Validity-Confidence, Novelty-Confidence, Validity, row_num, Premise, Novelty. If topic, __index_level_0__, input_txt, Conclusion, Validity-Confidence, Novelty-Confidence, Validity, row_num, Premise, Novelty are not expected by `RobertaForSequenceClassification.forward`,  you can safely ignore this message.\n",
      "***** Running Evaluation *****\n",
      "  Num examples = 199\n",
      "  Batch size = 8\n",
      "/usr/local/lib/python3.8/dist-packages/sklearn/metrics/_classification.py:1327: UndefinedMetricWarning: Precision and F-score are ill-defined and being set to 0.0 in labels with no predicted samples. Use `zero_division` parameter to control this behavior.\n",
      "  _warn_prf(average, modifier, msg_start, len(result))\n",
      "Saving model checkpoint to ../../data-ceph/arguana/argmining22-sharedtask/models//validity/roberta/checkpoint-100\n",
      "Configuration saved in ../../data-ceph/arguana/argmining22-sharedtask/models//validity/roberta/checkpoint-100/config.json\n",
      "Model weights saved in ../../data-ceph/arguana/argmining22-sharedtask/models//validity/roberta/checkpoint-100/pytorch_model.bin\n",
      "The following columns in the evaluation set  don't have a corresponding argument in `RobertaForSequenceClassification.forward` and have been ignored: topic, __index_level_0__, input_txt, Conclusion, Validity-Confidence, Novelty-Confidence, Validity, row_num, Premise, Novelty. If topic, __index_level_0__, input_txt, Conclusion, Validity-Confidence, Novelty-Confidence, Validity, row_num, Premise, Novelty are not expected by `RobertaForSequenceClassification.forward`,  you can safely ignore this message.\n",
      "***** Running Evaluation *****\n",
      "  Num examples = 199\n",
      "  Batch size = 8\n",
      "/usr/local/lib/python3.8/dist-packages/sklearn/metrics/_classification.py:1327: UndefinedMetricWarning: Precision and F-score are ill-defined and being set to 0.0 in labels with no predicted samples. Use `zero_division` parameter to control this behavior.\n",
      "  _warn_prf(average, modifier, msg_start, len(result))\n",
      "Saving model checkpoint to ../../data-ceph/arguana/argmining22-sharedtask/models//validity/roberta/checkpoint-150\n",
      "Configuration saved in ../../data-ceph/arguana/argmining22-sharedtask/models//validity/roberta/checkpoint-150/config.json\n",
      "Model weights saved in ../../data-ceph/arguana/argmining22-sharedtask/models//validity/roberta/checkpoint-150/pytorch_model.bin\n",
      "The following columns in the evaluation set  don't have a corresponding argument in `RobertaForSequenceClassification.forward` and have been ignored: topic, __index_level_0__, input_txt, Conclusion, Validity-Confidence, Novelty-Confidence, Validity, row_num, Premise, Novelty. If topic, __index_level_0__, input_txt, Conclusion, Validity-Confidence, Novelty-Confidence, Validity, row_num, Premise, Novelty are not expected by `RobertaForSequenceClassification.forward`,  you can safely ignore this message.\n",
      "***** Running Evaluation *****\n",
      "  Num examples = 199\n",
      "  Batch size = 8\n",
      "/usr/local/lib/python3.8/dist-packages/sklearn/metrics/_classification.py:1327: UndefinedMetricWarning: Precision and F-score are ill-defined and being set to 0.0 in labels with no predicted samples. Use `zero_division` parameter to control this behavior.\n",
      "  _warn_prf(average, modifier, msg_start, len(result))\n",
      "Saving model checkpoint to ../../data-ceph/arguana/argmining22-sharedtask/models//validity/roberta/checkpoint-200\n",
      "Configuration saved in ../../data-ceph/arguana/argmining22-sharedtask/models//validity/roberta/checkpoint-200/config.json\n",
      "Model weights saved in ../../data-ceph/arguana/argmining22-sharedtask/models//validity/roberta/checkpoint-200/pytorch_model.bin\n",
      "The following columns in the evaluation set  don't have a corresponding argument in `RobertaForSequenceClassification.forward` and have been ignored: topic, __index_level_0__, input_txt, Conclusion, Validity-Confidence, Novelty-Confidence, Validity, row_num, Premise, Novelty. If topic, __index_level_0__, input_txt, Conclusion, Validity-Confidence, Novelty-Confidence, Validity, row_num, Premise, Novelty are not expected by `RobertaForSequenceClassification.forward`,  you can safely ignore this message.\n",
      "***** Running Evaluation *****\n",
      "  Num examples = 199\n",
      "  Batch size = 8\n",
      "/usr/local/lib/python3.8/dist-packages/sklearn/metrics/_classification.py:1327: UndefinedMetricWarning: Precision and F-score are ill-defined and being set to 0.0 in labels with no predicted samples. Use `zero_division` parameter to control this behavior.\n",
      "  _warn_prf(average, modifier, msg_start, len(result))\n",
      "Saving model checkpoint to ../../data-ceph/arguana/argmining22-sharedtask/models//validity/roberta/checkpoint-250\n",
      "Configuration saved in ../../data-ceph/arguana/argmining22-sharedtask/models//validity/roberta/checkpoint-250/config.json\n",
      "Model weights saved in ../../data-ceph/arguana/argmining22-sharedtask/models//validity/roberta/checkpoint-250/pytorch_model.bin\n",
      "The following columns in the evaluation set  don't have a corresponding argument in `RobertaForSequenceClassification.forward` and have been ignored: topic, __index_level_0__, input_txt, Conclusion, Validity-Confidence, Novelty-Confidence, Validity, row_num, Premise, Novelty. If topic, __index_level_0__, input_txt, Conclusion, Validity-Confidence, Novelty-Confidence, Validity, row_num, Premise, Novelty are not expected by `RobertaForSequenceClassification.forward`,  you can safely ignore this message.\n",
      "***** Running Evaluation *****\n",
      "  Num examples = 199\n",
      "  Batch size = 8\n",
      "Saving model checkpoint to ../../data-ceph/arguana/argmining22-sharedtask/models//validity/roberta/checkpoint-300\n",
      "Configuration saved in ../../data-ceph/arguana/argmining22-sharedtask/models//validity/roberta/checkpoint-300/config.json\n",
      "Model weights saved in ../../data-ceph/arguana/argmining22-sharedtask/models//validity/roberta/checkpoint-300/pytorch_model.bin\n",
      "The following columns in the evaluation set  don't have a corresponding argument in `RobertaForSequenceClassification.forward` and have been ignored: topic, __index_level_0__, input_txt, Conclusion, Validity-Confidence, Novelty-Confidence, Validity, row_num, Premise, Novelty. If topic, __index_level_0__, input_txt, Conclusion, Validity-Confidence, Novelty-Confidence, Validity, row_num, Premise, Novelty are not expected by `RobertaForSequenceClassification.forward`,  you can safely ignore this message.\n",
      "***** Running Evaluation *****\n",
      "  Num examples = 199\n",
      "  Batch size = 8\n",
      "Saving model checkpoint to ../../data-ceph/arguana/argmining22-sharedtask/models//validity/roberta/checkpoint-350\n",
      "Configuration saved in ../../data-ceph/arguana/argmining22-sharedtask/models//validity/roberta/checkpoint-350/config.json\n",
      "Model weights saved in ../../data-ceph/arguana/argmining22-sharedtask/models//validity/roberta/checkpoint-350/pytorch_model.bin\n",
      "The following columns in the evaluation set  don't have a corresponding argument in `RobertaForSequenceClassification.forward` and have been ignored: topic, __index_level_0__, input_txt, Conclusion, Validity-Confidence, Novelty-Confidence, Validity, row_num, Premise, Novelty. If topic, __index_level_0__, input_txt, Conclusion, Validity-Confidence, Novelty-Confidence, Validity, row_num, Premise, Novelty are not expected by `RobertaForSequenceClassification.forward`,  you can safely ignore this message.\n",
      "***** Running Evaluation *****\n",
      "  Num examples = 199\n",
      "  Batch size = 8\n",
      "Saving model checkpoint to ../../data-ceph/arguana/argmining22-sharedtask/models//validity/roberta/checkpoint-400\n",
      "Configuration saved in ../../data-ceph/arguana/argmining22-sharedtask/models//validity/roberta/checkpoint-400/config.json\n",
      "Model weights saved in ../../data-ceph/arguana/argmining22-sharedtask/models//validity/roberta/checkpoint-400/pytorch_model.bin\n",
      "The following columns in the evaluation set  don't have a corresponding argument in `RobertaForSequenceClassification.forward` and have been ignored: topic, __index_level_0__, input_txt, Conclusion, Validity-Confidence, Novelty-Confidence, Validity, row_num, Premise, Novelty. If topic, __index_level_0__, input_txt, Conclusion, Validity-Confidence, Novelty-Confidence, Validity, row_num, Premise, Novelty are not expected by `RobertaForSequenceClassification.forward`,  you can safely ignore this message.\n",
      "***** Running Evaluation *****\n",
      "  Num examples = 199\n",
      "  Batch size = 8\n",
      "Saving model checkpoint to ../../data-ceph/arguana/argmining22-sharedtask/models//validity/roberta/checkpoint-450\n",
      "Configuration saved in ../../data-ceph/arguana/argmining22-sharedtask/models//validity/roberta/checkpoint-450/config.json\n",
      "Model weights saved in ../../data-ceph/arguana/argmining22-sharedtask/models//validity/roberta/checkpoint-450/pytorch_model.bin\n",
      "The following columns in the evaluation set  don't have a corresponding argument in `RobertaForSequenceClassification.forward` and have been ignored: topic, __index_level_0__, input_txt, Conclusion, Validity-Confidence, Novelty-Confidence, Validity, row_num, Premise, Novelty. If topic, __index_level_0__, input_txt, Conclusion, Validity-Confidence, Novelty-Confidence, Validity, row_num, Premise, Novelty are not expected by `RobertaForSequenceClassification.forward`,  you can safely ignore this message.\n",
      "***** Running Evaluation *****\n",
      "  Num examples = 199\n",
      "  Batch size = 8\n",
      "Saving model checkpoint to ../../data-ceph/arguana/argmining22-sharedtask/models//validity/roberta/checkpoint-500\n",
      "Configuration saved in ../../data-ceph/arguana/argmining22-sharedtask/models//validity/roberta/checkpoint-500/config.json\n",
      "Model weights saved in ../../data-ceph/arguana/argmining22-sharedtask/models//validity/roberta/checkpoint-500/pytorch_model.bin\n",
      "The following columns in the evaluation set  don't have a corresponding argument in `RobertaForSequenceClassification.forward` and have been ignored: topic, __index_level_0__, input_txt, Conclusion, Validity-Confidence, Novelty-Confidence, Validity, row_num, Premise, Novelty. If topic, __index_level_0__, input_txt, Conclusion, Validity-Confidence, Novelty-Confidence, Validity, row_num, Premise, Novelty are not expected by `RobertaForSequenceClassification.forward`,  you can safely ignore this message.\n",
      "***** Running Evaluation *****\n",
      "  Num examples = 199\n",
      "  Batch size = 8\n",
      "Saving model checkpoint to ../../data-ceph/arguana/argmining22-sharedtask/models//validity/roberta/checkpoint-550\n",
      "Configuration saved in ../../data-ceph/arguana/argmining22-sharedtask/models//validity/roberta/checkpoint-550/config.json\n",
      "Model weights saved in ../../data-ceph/arguana/argmining22-sharedtask/models//validity/roberta/checkpoint-550/pytorch_model.bin\n",
      "The following columns in the evaluation set  don't have a corresponding argument in `RobertaForSequenceClassification.forward` and have been ignored: topic, __index_level_0__, input_txt, Conclusion, Validity-Confidence, Novelty-Confidence, Validity, row_num, Premise, Novelty. If topic, __index_level_0__, input_txt, Conclusion, Validity-Confidence, Novelty-Confidence, Validity, row_num, Premise, Novelty are not expected by `RobertaForSequenceClassification.forward`,  you can safely ignore this message.\n",
      "***** Running Evaluation *****\n",
      "  Num examples = 199\n",
      "  Batch size = 8\n",
      "Saving model checkpoint to ../../data-ceph/arguana/argmining22-sharedtask/models//validity/roberta/checkpoint-600\n",
      "Configuration saved in ../../data-ceph/arguana/argmining22-sharedtask/models//validity/roberta/checkpoint-600/config.json\n",
      "Model weights saved in ../../data-ceph/arguana/argmining22-sharedtask/models//validity/roberta/checkpoint-600/pytorch_model.bin\n",
      "\n",
      "\n",
      "Training completed. Do not forget to share your model on huggingface.co/models =)\n",
      "\n",
      "\n",
      "Loading best model from ../../data-ceph/arguana/argmining22-sharedtask/models//validity/roberta/checkpoint-450 (score: 0.6814200960542425).\n"
     ]
    },
    {
     "data": {
      "text/plain": [
       "TrainOutput(global_step=600, training_loss=0.5532616901397706, metrics={'train_runtime': 56.2433, 'train_samples_per_second': 85.343, 'train_steps_per_second': 10.668, 'total_flos': 303190269089760.0, 'train_loss': 0.5532616901397706, 'epoch': 6.59})"
      ]
     },
     "execution_count": 24,
     "metadata": {},
     "output_type": "execute_result"
    }
   ],
   "source": [
    "trainer.train()"
   ]
  },
  {
   "cell_type": "code",
   "execution_count": 25,
   "metadata": {},
   "outputs": [
    {
     "name": "stderr",
     "output_type": "stream",
     "text": [
      "The following columns in the evaluation set  don't have a corresponding argument in `RobertaForSequenceClassification.forward` and have been ignored: topic, __index_level_0__, input_txt, Conclusion, Validity-Confidence, Novelty-Confidence, Validity, row_num, Premise, Novelty, Topic-in-dev-split. If topic, __index_level_0__, input_txt, Conclusion, Validity-Confidence, Novelty-Confidence, Validity, row_num, Premise, Novelty, Topic-in-dev-split are not expected by `RobertaForSequenceClassification.forward`,  you can safely ignore this message.\n",
      "***** Running Evaluation *****\n",
      "  Num examples = 520\n",
      "  Batch size = 8\n"
     ]
    },
    {
     "data": {
      "text/html": [
       "\n",
       "    <div>\n",
       "      \n",
       "      <progress value='130' max='65' style='width:300px; height:20px; vertical-align: middle;'></progress>\n",
       "      [65/65 00:01]\n",
       "    </div>\n",
       "    "
      ],
      "text/plain": [
       "<IPython.core.display.HTML object>"
      ]
     },
     "metadata": {},
     "output_type": "display_data"
    },
    {
     "data": {
      "text/plain": [
       "{'eval_loss': 0.7923006415367126,\n",
       " 'eval_recall': 0.6069661740152125,\n",
       " 'eval_precision': 0.6565703423774072,\n",
       " 'eval_f1': 0.6000896502322556,\n",
       " 'eval_runtime': 0.7187,\n",
       " 'eval_samples_per_second': 723.568,\n",
       " 'eval_steps_per_second': 90.446,\n",
       " 'epoch': 6.59}"
      ]
     },
     "execution_count": 25,
     "metadata": {},
     "output_type": "execute_result"
    }
   ],
   "source": [
    "trainer.evaluate(test_dataset)"
   ]
  },
  {
   "cell_type": "code",
   "execution_count": 26,
   "metadata": {},
   "outputs": [
    {
     "name": "stderr",
     "output_type": "stream",
     "text": [
      "The following columns in the test set  don't have a corresponding argument in `RobertaForSequenceClassification.forward` and have been ignored: topic, __index_level_0__, input_txt, Conclusion, Validity-Confidence, Novelty-Confidence, Validity, row_num, Premise, Novelty, Topic-in-dev-split. If topic, __index_level_0__, input_txt, Conclusion, Validity-Confidence, Novelty-Confidence, Validity, row_num, Premise, Novelty, Topic-in-dev-split are not expected by `RobertaForSequenceClassification.forward`,  you can safely ignore this message.\n",
      "***** Running Prediction *****\n",
      "  Num examples = 520\n",
      "  Batch size = 8\n"
     ]
    }
   ],
   "source": [
    "results = trainer.predict(test_dataset)\n",
    "taska_test_df['predicted validity']  = [1 if np.argmax(x) == 1 else -1 for x in results.label_ids]"
   ]
  },
  {
   "cell_type": "code",
   "execution_count": 27,
   "metadata": {},
   "outputs": [],
   "source": [
    "#taska_test_df[['row_num', 'topic', 'Premise', 'Conclusion', 'predicted validity', 'predicted novelty']].to_csv('../data/output/roberta_single_predictions.csv')\n",
    "taska_test_df[['row_num', 'topic', 'Premise', 'Conclusion', 'predicted validity', 'predicted novelty']].to_csv('../data/output/balanced_roberta_single_predictions.csv')"
   ]
  }
 ],
 "metadata": {
  "kernelspec": {
   "display_name": "Python 3",
   "language": "python",
   "name": "python3"
  },
  "language_info": {
   "codemirror_mode": {
    "name": "ipython",
    "version": 3
   },
   "file_extension": ".py",
   "mimetype": "text/x-python",
   "name": "python",
   "nbconvert_exporter": "python",
   "pygments_lexer": "ipython3",
   "version": "3.8.10"
  }
 },
 "nbformat": 4,
 "nbformat_minor": 4
}
