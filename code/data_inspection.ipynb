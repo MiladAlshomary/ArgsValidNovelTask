{
 "cells": [
  {
   "cell_type": "code",
   "execution_count": 1,
   "metadata": {},
   "outputs": [],
   "source": [
    "import json\n",
    "import pandas as pd\n",
    "import numpy as np\n",
    "\n",
    "pd.set_option('display.max_colwidth', None)"
   ]
  },
  {
   "cell_type": "code",
   "execution_count": 9,
   "metadata": {},
   "outputs": [],
   "source": [
    "taska_training_df = pd.read_csv('./TaskA_train.csv')\n",
    "taskb_training_df = pd.read_csv('./TaskB_train.csv')"
   ]
  },
  {
   "cell_type": "code",
   "execution_count": 5,
   "metadata": {},
   "outputs": [
    {
     "data": {
      "text/plain": [
       "750"
      ]
     },
     "execution_count": 5,
     "metadata": {},
     "output_type": "execute_result"
    }
   ],
   "source": [
    "len(taska_training_df)"
   ]
  },
  {
   "cell_type": "code",
   "execution_count": 10,
   "metadata": {
    "scrolled": true,
    "tags": []
   },
   "outputs": [
    {
     "data": {
      "text/plain": [
       "Trying 9/11 terror suspects in NYC courts             90\n",
       "Trying terrorist suspects in civilian courts          85\n",
       "US health care reform                                 80\n",
       "US offshore oil drilling                              70\n",
       "US and NATO intervention in Libya                     45\n",
       "Torture                                               45\n",
       "US-Indian nuclear deal                                35\n",
       "Two-state solution to Israeli-Palestinian conflict    35\n",
       "Turkey EU membership                                  30\n",
       "United Nations Standing Army                          30\n",
       "UN Security Council veto                              25\n",
       "Unilateral US military strike inside Pakistan         25\n",
       "Using sanctions to end child labor                    20\n",
       "US debt ceiling deal                                  20\n",
       "Twin Towers reconstruction                            20\n",
       "United Nations No Growth Budgets                      15\n",
       "US electoral college                                  15\n",
       "Underground nuclear waste storage                     15\n",
       "TV viewing is harmful to children                     15\n",
       "Two-party system                                      15\n",
       "U.S. Withdrawal From the United Nations               10\n",
       "Trade vs aid                                          10\n",
       "Name: topic, dtype: int64"
      ]
     },
     "execution_count": 10,
     "metadata": {},
     "output_type": "execute_result"
    }
   ],
   "source": [
    "taska_training_df.topic.value_counts()"
   ]
  },
  {
   "cell_type": "code",
   "execution_count": 11,
   "metadata": {
    "scrolled": true,
    "tags": []
   },
   "outputs": [
    {
     "data": {
      "text/html": [
       "<div>\n",
       "<style scoped>\n",
       "    .dataframe tbody tr th:only-of-type {\n",
       "        vertical-align: middle;\n",
       "    }\n",
       "\n",
       "    .dataframe tbody tr th {\n",
       "        vertical-align: top;\n",
       "    }\n",
       "\n",
       "    .dataframe thead th {\n",
       "        text-align: right;\n",
       "    }\n",
       "</style>\n",
       "<table border=\"1\" class=\"dataframe\">\n",
       "  <thead>\n",
       "    <tr style=\"text-align: right;\">\n",
       "      <th></th>\n",
       "      <th>topic</th>\n",
       "      <th>Premise</th>\n",
       "      <th>Conclusion</th>\n",
       "      <th>Validity</th>\n",
       "      <th>Validity-Confidence</th>\n",
       "      <th>Novelty</th>\n",
       "      <th>Novelty-Confidence</th>\n",
       "    </tr>\n",
       "  </thead>\n",
       "  <tbody>\n",
       "    <tr>\n",
       "      <th>0</th>\n",
       "      <td>TV viewing is harmful to children</td>\n",
       "      <td>The popularity of TV watching is among the reasons of this phenomenon. Violence, aggression, crimes and wars are broadcast through the daily news as well as in movies, showing dark pictures that encourage psychological tension, pessimism and negative emotions.</td>\n",
       "      <td>Depression is a well-known psychological problem of modern society that is partly caused by TV watching:</td>\n",
       "      <td>1</td>\n",
       "      <td>confident</td>\n",
       "      <td>1</td>\n",
       "      <td>confident</td>\n",
       "    </tr>\n",
       "    <tr>\n",
       "      <th>1</th>\n",
       "      <td>TV viewing is harmful to children</td>\n",
       "      <td>The popularity of TV watching is among the reasons of this phenomenon. Violence, aggression, crimes and wars are broadcast through the daily news as well as in movies, showing dark pictures that encourage psychological tension, pessimism and negative emotions.</td>\n",
       "      <td>Children's TV viewing fosters negative emotions</td>\n",
       "      <td>1</td>\n",
       "      <td>very confident</td>\n",
       "      <td>-1</td>\n",
       "      <td>majority</td>\n",
       "    </tr>\n",
       "    <tr>\n",
       "      <th>2</th>\n",
       "      <td>TV viewing is harmful to children</td>\n",
       "      <td>The popularity of TV watching is among the reasons of this phenomenon. Violence, aggression, crimes and wars are broadcast through the daily news as well as in movies, showing dark pictures that encourage psychological tension, pessimism and negative emotions.</td>\n",
       "      <td>Popularity of TV is harmful to children</td>\n",
       "      <td>1</td>\n",
       "      <td>very confident</td>\n",
       "      <td>1</td>\n",
       "      <td>majority</td>\n",
       "    </tr>\n",
       "    <tr>\n",
       "      <th>3</th>\n",
       "      <td>TV viewing is harmful to children</td>\n",
       "      <td>The popularity of TV watching is among the reasons of this phenomenon. Violence, aggression, crimes and wars are broadcast through the daily news as well as in movies, showing dark pictures that encourage psychological tension, pessimism and negative emotions.</td>\n",
       "      <td>Violence on TV and in movies encourages psychological stress</td>\n",
       "      <td>1</td>\n",
       "      <td>very confident</td>\n",
       "      <td>1</td>\n",
       "      <td>majority</td>\n",
       "    </tr>\n",
       "    <tr>\n",
       "      <th>4</th>\n",
       "      <td>TV viewing is harmful to children</td>\n",
       "      <td>The popularity of TV watching is among the reasons of this phenomenon. Violence, aggression, crimes and wars are broadcast through the daily news as well as in movies, showing dark pictures that encourage psychological tension, pessimism and negative emotions.</td>\n",
       "      <td>US-India deal does not cap or limit Indian fissile material production.</td>\n",
       "      <td>-1</td>\n",
       "      <td>very confident</td>\n",
       "      <td>-1</td>\n",
       "      <td>very confident</td>\n",
       "    </tr>\n",
       "  </tbody>\n",
       "</table>\n",
       "</div>"
      ],
      "text/plain": [
       "                               topic  \\\n",
       "0  TV viewing is harmful to children   \n",
       "1  TV viewing is harmful to children   \n",
       "2  TV viewing is harmful to children   \n",
       "3  TV viewing is harmful to children   \n",
       "4  TV viewing is harmful to children   \n",
       "\n",
       "                                                                                                                                                                                                                                                                Premise  \\\n",
       "0  The popularity of TV watching is among the reasons of this phenomenon. Violence, aggression, crimes and wars are broadcast through the daily news as well as in movies, showing dark pictures that encourage psychological tension, pessimism and negative emotions.   \n",
       "1  The popularity of TV watching is among the reasons of this phenomenon. Violence, aggression, crimes and wars are broadcast through the daily news as well as in movies, showing dark pictures that encourage psychological tension, pessimism and negative emotions.   \n",
       "2  The popularity of TV watching is among the reasons of this phenomenon. Violence, aggression, crimes and wars are broadcast through the daily news as well as in movies, showing dark pictures that encourage psychological tension, pessimism and negative emotions.   \n",
       "3  The popularity of TV watching is among the reasons of this phenomenon. Violence, aggression, crimes and wars are broadcast through the daily news as well as in movies, showing dark pictures that encourage psychological tension, pessimism and negative emotions.   \n",
       "4  The popularity of TV watching is among the reasons of this phenomenon. Violence, aggression, crimes and wars are broadcast through the daily news as well as in movies, showing dark pictures that encourage psychological tension, pessimism and negative emotions.   \n",
       "\n",
       "                                                                                                 Conclusion  \\\n",
       "0  Depression is a well-known psychological problem of modern society that is partly caused by TV watching:   \n",
       "1                                                           Children's TV viewing fosters negative emotions   \n",
       "2                                                                   Popularity of TV is harmful to children   \n",
       "3                                              Violence on TV and in movies encourages psychological stress   \n",
       "4                                   US-India deal does not cap or limit Indian fissile material production.   \n",
       "\n",
       "   Validity Validity-Confidence  Novelty Novelty-Confidence  \n",
       "0         1           confident        1          confident  \n",
       "1         1      very confident       -1           majority  \n",
       "2         1      very confident        1           majority  \n",
       "3         1      very confident        1           majority  \n",
       "4        -1      very confident       -1     very confident  "
      ]
     },
     "execution_count": 11,
     "metadata": {},
     "output_type": "execute_result"
    }
   ],
   "source": [
    "taska_training_df.head()"
   ]
  },
  {
   "cell_type": "code",
   "execution_count": null,
   "metadata": {},
   "outputs": [],
   "source": []
  },
  {
   "cell_type": "markdown",
   "metadata": {},
   "source": [
    "----------"
   ]
  },
  {
   "cell_type": "code",
   "execution_count": 13,
   "metadata": {},
   "outputs": [
    {
     "data": {
      "text/plain": [
       "600"
      ]
     },
     "execution_count": 13,
     "metadata": {},
     "output_type": "execute_result"
    }
   ],
   "source": [
    "len(taskb_training_df)"
   ]
  },
  {
   "cell_type": "code",
   "execution_count": 17,
   "metadata": {
    "scrolled": true,
    "tags": []
   },
   "outputs": [
    {
     "data": {
      "text/plain": [
       "Trying 9/11 terror suspects in NYC courts             72\n",
       "Trying terrorist suspects in civilian courts          68\n",
       "US health care reform                                 64\n",
       "US offshore oil drilling                              56\n",
       "Torture                                               36\n",
       "US and NATO intervention in Libya                     36\n",
       "US-Indian nuclear deal                                28\n",
       "Two-state solution to Israeli-Palestinian conflict    28\n",
       "United Nations Standing Army                          24\n",
       "Turkey EU membership                                  24\n",
       "Unilateral US military strike inside Pakistan         20\n",
       "UN Security Council veto                              20\n",
       "Using sanctions to end child labor                    16\n",
       "Twin Towers reconstruction                            16\n",
       "US debt ceiling deal                                  16\n",
       "Underground nuclear waste storage                     12\n",
       "Two-party system                                      12\n",
       "US electoral college                                  12\n",
       "United Nations No Growth Budgets                      12\n",
       "TV viewing is harmful to children                     12\n",
       "U.S. Withdrawal From the United Nations                8\n",
       "Trade vs aid                                           8\n",
       "Name: topic, dtype: int64"
      ]
     },
     "execution_count": 17,
     "metadata": {},
     "output_type": "execute_result"
    }
   ],
   "source": [
    "taskb_training_df.topic.value_counts()"
   ]
  },
  {
   "cell_type": "code",
   "execution_count": 12,
   "metadata": {},
   "outputs": [
    {
     "data": {
      "text/html": [
       "<div>\n",
       "<style scoped>\n",
       "    .dataframe tbody tr th:only-of-type {\n",
       "        vertical-align: middle;\n",
       "    }\n",
       "\n",
       "    .dataframe tbody tr th {\n",
       "        vertical-align: top;\n",
       "    }\n",
       "\n",
       "    .dataframe thead th {\n",
       "        text-align: right;\n",
       "    }\n",
       "</style>\n",
       "<table border=\"1\" class=\"dataframe\">\n",
       "  <thead>\n",
       "    <tr style=\"text-align: right;\">\n",
       "      <th></th>\n",
       "      <th>topic</th>\n",
       "      <th>Premise</th>\n",
       "      <th>Conclusion 1</th>\n",
       "      <th>Conclusion 2</th>\n",
       "      <th>Validity</th>\n",
       "      <th>Votes_Concl1IsMoreValid</th>\n",
       "      <th>Votes_ValidTie</th>\n",
       "      <th>Votes_Concl2IsMoreValid</th>\n",
       "      <th>Novelity</th>\n",
       "      <th>Votes_Concl1IsMoreNovel</th>\n",
       "      <th>Votes_NovelTie</th>\n",
       "      <th>Votes_Concl2IsMoreNovel</th>\n",
       "    </tr>\n",
       "  </thead>\n",
       "  <tbody>\n",
       "    <tr>\n",
       "      <th>0</th>\n",
       "      <td>TV viewing is harmful to children</td>\n",
       "      <td>The popularity of TV watching is among the reasons of this phenomenon. Violence, aggression, crimes and wars are broadcast through the daily news as well as in movies, showing dark pictures that encourage psychological tension, pessimism and negative emotions.</td>\n",
       "      <td>Violence on TV and in movies encourages psychological stress</td>\n",
       "      <td>Popularity of TV is harmful to children</td>\n",
       "      <td>0</td>\n",
       "      <td>1</td>\n",
       "      <td>1</td>\n",
       "      <td>1</td>\n",
       "      <td>1</td>\n",
       "      <td>1</td>\n",
       "      <td>0</td>\n",
       "      <td>2</td>\n",
       "    </tr>\n",
       "    <tr>\n",
       "      <th>1</th>\n",
       "      <td>TV viewing is harmful to children</td>\n",
       "      <td>The popularity of TV watching is among the reasons of this phenomenon. Violence, aggression, crimes and wars are broadcast through the daily news as well as in movies, showing dark pictures that encourage psychological tension, pessimism and negative emotions.</td>\n",
       "      <td>Children's TV viewing fosters negative emotions</td>\n",
       "      <td>Depression is a well-known psychological problem of modern society that is partly caused by TV watching:</td>\n",
       "      <td>-1</td>\n",
       "      <td>2</td>\n",
       "      <td>1</td>\n",
       "      <td>0</td>\n",
       "      <td>1</td>\n",
       "      <td>1</td>\n",
       "      <td>0</td>\n",
       "      <td>2</td>\n",
       "    </tr>\n",
       "    <tr>\n",
       "      <th>2</th>\n",
       "      <td>TV viewing is harmful to children</td>\n",
       "      <td>The popularity of TV watching is among the reasons of this phenomenon. Violence, aggression, crimes and wars are broadcast through the daily news as well as in movies, showing dark pictures that encourage psychological tension, pessimism and negative emotions.</td>\n",
       "      <td>Children's TV viewing fosters negative emotions</td>\n",
       "      <td>US-India deal does not cap or limit Indian fissile material production.</td>\n",
       "      <td>-1</td>\n",
       "      <td>3</td>\n",
       "      <td>0</td>\n",
       "      <td>0</td>\n",
       "      <td>-1</td>\n",
       "      <td>2</td>\n",
       "      <td>1</td>\n",
       "      <td>0</td>\n",
       "    </tr>\n",
       "    <tr>\n",
       "      <th>3</th>\n",
       "      <td>TV viewing is harmful to children</td>\n",
       "      <td>The popularity of TV watching is among the reasons of this phenomenon. Violence, aggression, crimes and wars are broadcast through the daily news as well as in movies, showing dark pictures that encourage psychological tension, pessimism and negative emotions.</td>\n",
       "      <td>Depression is a well-known psychological problem of modern society that is partly caused by TV watching:</td>\n",
       "      <td>US-India deal does not cap or limit Indian fissile material production.</td>\n",
       "      <td>-1</td>\n",
       "      <td>3</td>\n",
       "      <td>0</td>\n",
       "      <td>0</td>\n",
       "      <td>-1</td>\n",
       "      <td>3</td>\n",
       "      <td>0</td>\n",
       "      <td>0</td>\n",
       "    </tr>\n",
       "    <tr>\n",
       "      <th>4</th>\n",
       "      <td>TV viewing is harmful to children</td>\n",
       "      <td>There are various educational TV shows for children that were proven to teach children basic literacy skills or helped them think creatively. These include Sesame Street, Blue's Clues, Reading Rainbow, and many more. Moreover, they were also popular among children.</td>\n",
       "      <td>Educational TV shows are beneficial for children.</td>\n",
       "      <td>Educational TV shows.</td>\n",
       "      <td>-1</td>\n",
       "      <td>3</td>\n",
       "      <td>0</td>\n",
       "      <td>0</td>\n",
       "      <td>-1</td>\n",
       "      <td>3</td>\n",
       "      <td>0</td>\n",
       "      <td>0</td>\n",
       "    </tr>\n",
       "  </tbody>\n",
       "</table>\n",
       "</div>"
      ],
      "text/plain": [
       "                               topic  \\\n",
       "0  TV viewing is harmful to children   \n",
       "1  TV viewing is harmful to children   \n",
       "2  TV viewing is harmful to children   \n",
       "3  TV viewing is harmful to children   \n",
       "4  TV viewing is harmful to children   \n",
       "\n",
       "                                                                                                                                                                                                                                                                     Premise  \\\n",
       "0       The popularity of TV watching is among the reasons of this phenomenon. Violence, aggression, crimes and wars are broadcast through the daily news as well as in movies, showing dark pictures that encourage psychological tension, pessimism and negative emotions.   \n",
       "1       The popularity of TV watching is among the reasons of this phenomenon. Violence, aggression, crimes and wars are broadcast through the daily news as well as in movies, showing dark pictures that encourage psychological tension, pessimism and negative emotions.   \n",
       "2       The popularity of TV watching is among the reasons of this phenomenon. Violence, aggression, crimes and wars are broadcast through the daily news as well as in movies, showing dark pictures that encourage psychological tension, pessimism and negative emotions.   \n",
       "3       The popularity of TV watching is among the reasons of this phenomenon. Violence, aggression, crimes and wars are broadcast through the daily news as well as in movies, showing dark pictures that encourage psychological tension, pessimism and negative emotions.   \n",
       "4  There are various educational TV shows for children that were proven to teach children basic literacy skills or helped them think creatively. These include Sesame Street, Blue's Clues, Reading Rainbow, and many more. Moreover, they were also popular among children.   \n",
       "\n",
       "                                                                                               Conclusion 1  \\\n",
       "0                                              Violence on TV and in movies encourages psychological stress   \n",
       "1                                                           Children's TV viewing fosters negative emotions   \n",
       "2                                                           Children's TV viewing fosters negative emotions   \n",
       "3  Depression is a well-known psychological problem of modern society that is partly caused by TV watching:   \n",
       "4                                                         Educational TV shows are beneficial for children.   \n",
       "\n",
       "                                                                                               Conclusion 2  \\\n",
       "0                                                                   Popularity of TV is harmful to children   \n",
       "1  Depression is a well-known psychological problem of modern society that is partly caused by TV watching:   \n",
       "2                                   US-India deal does not cap or limit Indian fissile material production.   \n",
       "3                                   US-India deal does not cap or limit Indian fissile material production.   \n",
       "4                                                                                     Educational TV shows.   \n",
       "\n",
       "   Validity  Votes_Concl1IsMoreValid  Votes_ValidTie  Votes_Concl2IsMoreValid  \\\n",
       "0         0                        1               1                        1   \n",
       "1        -1                        2               1                        0   \n",
       "2        -1                        3               0                        0   \n",
       "3        -1                        3               0                        0   \n",
       "4        -1                        3               0                        0   \n",
       "\n",
       "   Novelity  Votes_Concl1IsMoreNovel  Votes_NovelTie  Votes_Concl2IsMoreNovel  \n",
       "0         1                        1               0                        2  \n",
       "1         1                        1               0                        2  \n",
       "2        -1                        2               1                        0  \n",
       "3        -1                        3               0                        0  \n",
       "4        -1                        3               0                        0  "
      ]
     },
     "execution_count": 12,
     "metadata": {},
     "output_type": "execute_result"
    }
   ],
   "source": [
    "taskb_training_df.head()"
   ]
  },
  {
   "cell_type": "code",
   "execution_count": null,
   "metadata": {},
   "outputs": [],
   "source": []
  }
 ],
 "metadata": {
  "kernelspec": {
   "display_name": "Python 3",
   "language": "python",
   "name": "python3"
  },
  "language_info": {
   "codemirror_mode": {
    "name": "ipython",
    "version": 3
   },
   "file_extension": ".py",
   "mimetype": "text/x-python",
   "name": "python",
   "nbconvert_exporter": "python",
   "pygments_lexer": "ipython3",
   "version": "3.8.10"
  }
 },
 "nbformat": 4,
 "nbformat_minor": 4
}
